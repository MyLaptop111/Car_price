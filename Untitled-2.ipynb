{
 "cells": [
  {
   "cell_type": "code",
   "execution_count": 1,
   "metadata": {},
   "outputs": [],
   "source": [
    "import pandas as pd\n",
    "import numpy as np\n",
    "import matplotlib.pyplot as plt\n",
    "import seaborn as sns\n",
    "import plotly.express as px"
   ]
  },
  {
   "cell_type": "markdown",
   "metadata": {},
   "source": [
    "\n",
    "# Load Dataset"
   ]
  },
  {
   "cell_type": "code",
   "execution_count": 2,
   "metadata": {},
   "outputs": [],
   "source": [
    "# df = pd.read_excel(\"test.xlsx\" , sheet_name = None)\n",
    "# df.keys()\n",
    "df = pd.read_csv(\"CarPrice_Assignment.csv\")"
   ]
  },
  {
   "cell_type": "markdown",
   "metadata": {},
   "source": [
    "# EDA"
   ]
  },
  {
   "cell_type": "code",
   "execution_count": 3,
   "metadata": {},
   "outputs": [
    {
     "data": {
      "application/vnd.microsoft.datawrangler.viewer.v0+json": {
       "columns": [
        {
         "name": "index",
         "rawType": "int64",
         "type": "integer"
        },
        {
         "name": "car_ID",
         "rawType": "int64",
         "type": "integer"
        },
        {
         "name": "symboling",
         "rawType": "int64",
         "type": "integer"
        },
        {
         "name": "CarName",
         "rawType": "object",
         "type": "string"
        },
        {
         "name": "fueltype",
         "rawType": "object",
         "type": "string"
        },
        {
         "name": "aspiration",
         "rawType": "object",
         "type": "string"
        },
        {
         "name": "doornumber",
         "rawType": "object",
         "type": "string"
        },
        {
         "name": "carbody",
         "rawType": "object",
         "type": "string"
        },
        {
         "name": "drivewheel",
         "rawType": "object",
         "type": "string"
        },
        {
         "name": "enginelocation",
         "rawType": "object",
         "type": "string"
        },
        {
         "name": "wheelbase",
         "rawType": "float64",
         "type": "float"
        },
        {
         "name": "carlength",
         "rawType": "float64",
         "type": "float"
        },
        {
         "name": "carwidth",
         "rawType": "float64",
         "type": "float"
        },
        {
         "name": "carheight",
         "rawType": "float64",
         "type": "float"
        },
        {
         "name": "curbweight",
         "rawType": "int64",
         "type": "integer"
        },
        {
         "name": "enginetype",
         "rawType": "object",
         "type": "string"
        },
        {
         "name": "cylindernumber",
         "rawType": "object",
         "type": "string"
        },
        {
         "name": "enginesize",
         "rawType": "int64",
         "type": "integer"
        },
        {
         "name": "fuelsystem",
         "rawType": "object",
         "type": "string"
        },
        {
         "name": "boreratio",
         "rawType": "float64",
         "type": "float"
        },
        {
         "name": "stroke",
         "rawType": "float64",
         "type": "float"
        },
        {
         "name": "compressionratio",
         "rawType": "float64",
         "type": "float"
        },
        {
         "name": "horsepower",
         "rawType": "int64",
         "type": "integer"
        },
        {
         "name": "peakrpm",
         "rawType": "int64",
         "type": "integer"
        },
        {
         "name": "citympg",
         "rawType": "int64",
         "type": "integer"
        },
        {
         "name": "highwaympg",
         "rawType": "int64",
         "type": "integer"
        },
        {
         "name": "price",
         "rawType": "float64",
         "type": "float"
        },
        {
         "name": "highwaympg.1",
         "rawType": "int64",
         "type": "integer"
        }
       ],
       "conversionMethod": "pd.DataFrame",
       "ref": "03ed73a7-8309-4e9a-9725-26c2cb3c1ec0",
       "rows": [
        [
         "0",
         "1",
         "3",
         "alfa-romero giulia",
         "gas",
         "std",
         "two",
         "convertible",
         "rwd",
         "front",
         "88.6",
         "168.8",
         "64.1",
         "48.8",
         "2548",
         "dohc",
         "four",
         "130",
         "mpfi",
         "3.47",
         "2.68",
         "9.0",
         "111",
         "5000",
         "21",
         "27",
         "13495.0",
         "27"
        ],
        [
         "1",
         "2",
         "3",
         "alfa-romero stelvio",
         "gas",
         "std",
         "two",
         "convertible",
         "rwd",
         "front",
         "88.6",
         "168.8",
         "64.1",
         "48.8",
         "2548",
         "dohc",
         "four",
         "130",
         "mpfi",
         "3.47",
         "2.68",
         "9.0",
         "111",
         "5000",
         "21",
         "27",
         "16500.0",
         "27"
        ],
        [
         "2",
         "3",
         "1",
         "alfa-romero Quadrifoglio",
         "gas",
         "std",
         "two",
         "hatchback",
         "rwd",
         "front",
         "94.5",
         "171.2",
         "65.5",
         "52.4",
         "2823",
         "ohcv",
         "six",
         "152",
         "mpfi",
         "2.68",
         "3.47",
         "9.0",
         "154",
         "5000",
         "19",
         "26",
         "16500.0",
         "26"
        ],
        [
         "3",
         "4",
         "2",
         "audi 100 ls",
         "gas",
         "std",
         "four",
         "sedan",
         "fwd",
         "front",
         "99.8",
         "176.6",
         "66.2",
         "54.3",
         "2337",
         "ohc",
         "four",
         "109",
         "mpfi",
         "3.19",
         "3.4",
         "10.0",
         "102",
         "5500",
         "24",
         "30",
         "13950.0",
         "30"
        ],
        [
         "4",
         "5",
         "2",
         "audi 100ls",
         "gas",
         "std",
         "four",
         "sedan",
         "4wd",
         "front",
         "99.4",
         "176.6",
         "66.4",
         "54.3",
         "2824",
         "ohc",
         "five",
         "136",
         "mpfi",
         "3.19",
         "3.4",
         "8.0",
         "115",
         "5500",
         "18",
         "22",
         "17450.0",
         "22"
        ],
        [
         "5",
         "6",
         "2",
         "audi fox",
         "gas",
         "std",
         "two",
         "sedan",
         "fwd",
         "front",
         "99.8",
         "177.3",
         "66.3",
         "53.1",
         "2507",
         "ohc",
         "five",
         "136",
         "mpfi",
         "3.19",
         "3.4",
         "8.5",
         "110",
         "5500",
         "19",
         "25",
         "15250.0",
         "25"
        ],
        [
         "6",
         "7",
         "1",
         "audi 100ls",
         "gas",
         "std",
         "four",
         "sedan",
         "fwd",
         "front",
         "105.8",
         "192.7",
         "71.4",
         "55.7",
         "2844",
         "ohc",
         "five",
         "136",
         "mpfi",
         "3.19",
         "3.4",
         "8.5",
         "110",
         "5500",
         "19",
         "25",
         "17710.0",
         "25"
        ],
        [
         "7",
         "8",
         "1",
         "audi 5000",
         "gas",
         "std",
         "four",
         "wagon",
         "fwd",
         "front",
         "105.8",
         "192.7",
         "71.4",
         "55.7",
         "2954",
         "ohc",
         "five",
         "136",
         "mpfi",
         "3.19",
         "3.4",
         "8.5",
         "110",
         "5500",
         "19",
         "25",
         "18920.0",
         "25"
        ],
        [
         "8",
         "9",
         "1",
         "audi 4000",
         "gas",
         "turbo",
         "four",
         "sedan",
         "fwd",
         "front",
         "105.8",
         "192.7",
         "71.4",
         "55.9",
         "3086",
         "ohc",
         "five",
         "131",
         "mpfi",
         "3.13",
         "3.4",
         "8.3",
         "140",
         "5500",
         "17",
         "20",
         "23875.0",
         "20"
        ],
        [
         "9",
         "10",
         "0",
         "audi 5000s (diesel)",
         "gas",
         "turbo",
         "two",
         "hatchback",
         "4wd",
         "front",
         "99.5",
         "178.2",
         "67.9",
         "52.0",
         "3053",
         "ohc",
         "five",
         "131",
         "mpfi",
         "3.13",
         "3.4",
         "7.0",
         "160",
         "5500",
         "16",
         "22",
         "17859.167",
         "22"
        ],
        [
         "10",
         "11",
         "2",
         "bmw 320i",
         "gas",
         "std",
         "two",
         "sedan",
         "rwd",
         "front",
         "101.2",
         "176.8",
         "64.8",
         "54.3",
         "2395",
         "ohc",
         "four",
         "108",
         "mpfi",
         "3.5",
         "2.8",
         "8.8",
         "101",
         "5800",
         "23",
         "29",
         "16430.0",
         "29"
        ],
        [
         "11",
         "12",
         "0",
         "bmw 320i",
         "gas",
         "std",
         "four",
         "sedan",
         "rwd",
         "front",
         "101.2",
         "176.8",
         "64.8",
         "54.3",
         "2395",
         "ohc",
         "four",
         "108",
         "mpfi",
         "3.5",
         "2.8",
         "8.8",
         "101",
         "5800",
         "23",
         "29",
         "16925.0",
         "29"
        ],
        [
         "12",
         "13",
         "0",
         "bmw x1",
         "gas",
         "std",
         "two",
         "sedan",
         "rwd",
         "front",
         "101.2",
         "176.8",
         "64.8",
         "54.3",
         "2710",
         "ohc",
         "six",
         "164",
         "mpfi",
         "3.31",
         "3.19",
         "9.0",
         "121",
         "4250",
         "21",
         "28",
         "20970.0",
         "28"
        ],
        [
         "13",
         "14",
         "0",
         "bmw x3",
         "gas",
         "std",
         "four",
         "sedan",
         "rwd",
         "front",
         "101.2",
         "176.8",
         "64.8",
         "54.3",
         "2765",
         "ohc",
         "six",
         "164",
         "mpfi",
         "3.31",
         "3.19",
         "9.0",
         "121",
         "4250",
         "21",
         "28",
         "21105.0",
         "28"
        ],
        [
         "14",
         "15",
         "1",
         "bmw z4",
         "gas",
         "std",
         "four",
         "sedan",
         "rwd",
         "front",
         "103.5",
         "189.0",
         "66.9",
         "55.7",
         "3055",
         "ohc",
         "six",
         "164",
         "mpfi",
         "3.31",
         "3.19",
         "9.0",
         "121",
         "4250",
         "20",
         "25",
         "24565.0",
         "25"
        ],
        [
         "15",
         "16",
         "0",
         "bmw x4",
         "gas",
         "std",
         "four",
         "sedan",
         "rwd",
         "front",
         "103.5",
         "189.0",
         "66.9",
         "55.7",
         "3230",
         "ohc",
         "six",
         "209",
         "mpfi",
         "3.62",
         "3.39",
         "8.0",
         "182",
         "5400",
         "16",
         "22",
         "30760.0",
         "22"
        ],
        [
         "16",
         "17",
         "0",
         "bmw x5",
         "gas",
         "std",
         "two",
         "sedan",
         "rwd",
         "front",
         "103.5",
         "193.8",
         "67.9",
         "53.7",
         "3380",
         "ohc",
         "six",
         "209",
         "mpfi",
         "3.62",
         "3.39",
         "8.0",
         "182",
         "5400",
         "16",
         "22",
         "41315.0",
         "22"
        ],
        [
         "17",
         "18",
         "0",
         "bmw x3",
         "gas",
         "std",
         "four",
         "sedan",
         "rwd",
         "front",
         "110.0",
         "197.0",
         "70.9",
         "56.3",
         "3505",
         "ohc",
         "six",
         "209",
         "mpfi",
         "3.62",
         "3.39",
         "8.0",
         "182",
         "5400",
         "15",
         "20",
         "36880.0",
         "20"
        ],
        [
         "18",
         "19",
         "2",
         "chevrolet impala",
         "gas",
         "std",
         "two",
         "hatchback",
         "fwd",
         "front",
         "88.4",
         "141.1",
         "60.3",
         "53.2",
         "1488",
         "l",
         "three",
         "61",
         "2bbl",
         "2.91",
         "3.03",
         "9.5",
         "48",
         "5100",
         "47",
         "53",
         "5151.0",
         "53"
        ],
        [
         "19",
         "20",
         "1",
         "chevrolet monte carlo",
         "gas",
         "std",
         "two",
         "hatchback",
         "fwd",
         "front",
         "94.5",
         "155.9",
         "63.6",
         "52.0",
         "1874",
         "ohc",
         "four",
         "90",
         "2bbl",
         "3.03",
         "3.11",
         "9.6",
         "70",
         "5400",
         "38",
         "43",
         "6295.0",
         "43"
        ],
        [
         "20",
         "21",
         "0",
         "chevrolet vega 2300",
         "gas",
         "std",
         "four",
         "sedan",
         "fwd",
         "front",
         "94.5",
         "158.8",
         "63.6",
         "52.0",
         "1909",
         "ohc",
         "four",
         "90",
         "2bbl",
         "3.03",
         "3.11",
         "9.6",
         "70",
         "5400",
         "38",
         "43",
         "6575.0",
         "43"
        ],
        [
         "21",
         "22",
         "1",
         "dodge rampage",
         "gas",
         "std",
         "two",
         "hatchback",
         "fwd",
         "front",
         "93.7",
         "157.3",
         "63.8",
         "50.8",
         "1876",
         "ohc",
         "four",
         "90",
         "2bbl",
         "2.97",
         "3.23",
         "9.41",
         "68",
         "5500",
         "37",
         "41",
         "5572.0",
         "41"
        ],
        [
         "22",
         "23",
         "1",
         "dodge challenger se",
         "gas",
         "std",
         "two",
         "hatchback",
         "fwd",
         "front",
         "93.7",
         "157.3",
         "63.8",
         "50.8",
         "1876",
         "ohc",
         "four",
         "90",
         "2bbl",
         "2.97",
         "3.23",
         "9.4",
         "68",
         "5500",
         "31",
         "38",
         "6377.0",
         "38"
        ],
        [
         "23",
         "24",
         "1",
         "dodge d200",
         "gas",
         "turbo",
         "two",
         "hatchback",
         "fwd",
         "front",
         "93.7",
         "157.3",
         "63.8",
         "50.8",
         "2128",
         "ohc",
         "four",
         "98",
         "mpfi",
         "3.03",
         "3.39",
         "7.6",
         "102",
         "5500",
         "24",
         "30",
         "7957.0",
         "30"
        ],
        [
         "24",
         "25",
         "1",
         "dodge monaco (sw)",
         "gas",
         "std",
         "four",
         "hatchback",
         "fwd",
         "front",
         "93.7",
         "157.3",
         "63.8",
         "50.6",
         "1967",
         "ohc",
         "four",
         "90",
         "2bbl",
         "2.97",
         "3.23",
         "9.4",
         "68",
         "5500",
         "31",
         "38",
         "6229.0",
         "38"
        ],
        [
         "25",
         "26",
         "1",
         "dodge colt hardtop",
         "gas",
         "std",
         "four",
         "sedan",
         "fwd",
         "front",
         "93.7",
         "157.3",
         "63.8",
         "50.6",
         "1989",
         "ohc",
         "four",
         "90",
         "2bbl",
         "2.97",
         "3.23",
         "9.4",
         "68",
         "5500",
         "31",
         "38",
         "6692.0",
         "38"
        ],
        [
         "26",
         "27",
         "1",
         "dodge colt (sw)",
         "gas",
         "std",
         "four",
         "sedan",
         "fwd",
         "front",
         "93.7",
         "157.3",
         "63.8",
         "50.6",
         "1989",
         "ohc",
         "four",
         "90",
         "2bbl",
         "2.97",
         "3.23",
         "9.4",
         "68",
         "5500",
         "31",
         "38",
         "7609.0",
         "38"
        ],
        [
         "27",
         "28",
         "1",
         "dodge coronet custom",
         "gas",
         "turbo",
         "two",
         "sedan",
         "fwd",
         "front",
         "93.7",
         "157.3",
         "63.8",
         "50.6",
         "2191",
         "ohc",
         "four",
         "98",
         "mpfi",
         "3.03",
         "3.39",
         "7.6",
         "102",
         "5500",
         "24",
         "30",
         "8558.0",
         "30"
        ],
        [
         "28",
         "29",
         "-1",
         "dodge dart custom",
         "gas",
         "std",
         "four",
         "wagon",
         "fwd",
         "front",
         "103.3",
         "174.6",
         "64.6",
         "59.8",
         "2535",
         "ohc",
         "four",
         "122",
         "2bbl",
         "3.34",
         "3.46",
         "8.5",
         "88",
         "5000",
         "24",
         "30",
         "8921.0",
         "30"
        ],
        [
         "29",
         "30",
         "3",
         "dodge coronet custom (sw)",
         "gas",
         "turbo",
         "two",
         "hatchback",
         "fwd",
         "front",
         "95.9",
         "173.2",
         "66.3",
         "50.2",
         "2811",
         "ohc",
         "four",
         "156",
         "mfi",
         "3.6",
         "3.9",
         "7.0",
         "145",
         "5000",
         "19",
         "24",
         "12964.0",
         "24"
        ],
        [
         "30",
         "31",
         "2",
         "honda civic",
         "gas",
         "std",
         "two",
         "hatchback",
         "fwd",
         "front",
         "86.6",
         "144.6",
         "63.9",
         "50.8",
         "1713",
         "ohc",
         "four",
         "92",
         "1bbl",
         "2.91",
         "3.41",
         "9.6",
         "58",
         "4800",
         "49",
         "54",
         "6479.0",
         "54"
        ],
        [
         "31",
         "32",
         "2",
         "honda civic cvcc",
         "gas",
         "std",
         "two",
         "hatchback",
         "fwd",
         "front",
         "86.6",
         "144.6",
         "63.9",
         "50.8",
         "1819",
         "ohc",
         "four",
         "92",
         "1bbl",
         "2.91",
         "3.41",
         "9.2",
         "76",
         "6000",
         "31",
         "38",
         "6855.0",
         "38"
        ],
        [
         "32",
         "33",
         "1",
         "honda civic",
         "gas",
         "std",
         "two",
         "hatchback",
         "fwd",
         "front",
         "93.7",
         "150.0",
         "64.0",
         "52.6",
         "1837",
         "ohc",
         "four",
         "79",
         "1bbl",
         "2.91",
         "3.07",
         "10.1",
         "60",
         "5500",
         "38",
         "42",
         "5399.0",
         "42"
        ],
        [
         "33",
         "34",
         "1",
         "honda accord cvcc",
         "gas",
         "std",
         "two",
         "hatchback",
         "fwd",
         "front",
         "93.7",
         "150.0",
         "64.0",
         "52.6",
         "1940",
         "ohc",
         "four",
         "92",
         "1bbl",
         "2.91",
         "3.41",
         "9.2",
         "76",
         "6000",
         "30",
         "34",
         "6529.0",
         "34"
        ],
        [
         "34",
         "35",
         "1",
         "honda civic cvcc",
         "gas",
         "std",
         "two",
         "hatchback",
         "fwd",
         "front",
         "93.7",
         "150.0",
         "64.0",
         "52.6",
         "1956",
         "ohc",
         "four",
         "92",
         "1bbl",
         "2.91",
         "3.41",
         "9.2",
         "76",
         "6000",
         "30",
         "34",
         "7129.0",
         "34"
        ],
        [
         "35",
         "36",
         "0",
         "honda accord lx",
         "gas",
         "std",
         "four",
         "sedan",
         "fwd",
         "front",
         "96.5",
         "163.4",
         "64.0",
         "54.5",
         "2010",
         "ohc",
         "four",
         "92",
         "1bbl",
         "2.91",
         "3.41",
         "9.2",
         "76",
         "6000",
         "30",
         "34",
         "7295.0",
         "34"
        ],
        [
         "36",
         "37",
         "0",
         "honda civic 1500 gl",
         "gas",
         "std",
         "four",
         "wagon",
         "fwd",
         "front",
         "96.5",
         "157.1",
         "63.9",
         "58.3",
         "2024",
         "ohc",
         "four",
         "92",
         "1bbl",
         "2.92",
         "3.41",
         "9.2",
         "76",
         "6000",
         "30",
         "34",
         "7295.0",
         "34"
        ],
        [
         "37",
         "38",
         "0",
         "honda accord",
         "gas",
         "std",
         "two",
         "hatchback",
         "fwd",
         "front",
         "96.5",
         "167.5",
         "65.2",
         "53.3",
         "2236",
         "ohc",
         "four",
         "110",
         "1bbl",
         "3.15",
         "3.58",
         "9.0",
         "86",
         "5800",
         "27",
         "33",
         "7895.0",
         "33"
        ],
        [
         "38",
         "39",
         "0",
         "honda civic 1300",
         "gas",
         "std",
         "two",
         "hatchback",
         "fwd",
         "front",
         "96.5",
         "167.5",
         "65.2",
         "53.3",
         "2289",
         "ohc",
         "four",
         "110",
         "1bbl",
         "3.15",
         "3.58",
         "9.0",
         "86",
         "5800",
         "27",
         "33",
         "9095.0",
         "33"
        ],
        [
         "39",
         "40",
         "0",
         "honda prelude",
         "gas",
         "std",
         "four",
         "sedan",
         "fwd",
         "front",
         "96.5",
         "175.4",
         "65.2",
         "54.1",
         "2304",
         "ohc",
         "four",
         "110",
         "1bbl",
         "3.15",
         "3.58",
         "9.0",
         "86",
         "5800",
         "27",
         "33",
         "8845.0",
         "33"
        ],
        [
         "40",
         "41",
         "0",
         "honda accord",
         "gas",
         "std",
         "four",
         "sedan",
         "fwd",
         "front",
         "96.5",
         "175.4",
         "62.5",
         "54.1",
         "2372",
         "ohc",
         "four",
         "110",
         "1bbl",
         "3.15",
         "3.58",
         "9.0",
         "86",
         "5800",
         "27",
         "33",
         "10295.0",
         "33"
        ],
        [
         "41",
         "42",
         "0",
         "honda civic",
         "gas",
         "std",
         "four",
         "sedan",
         "fwd",
         "front",
         "96.5",
         "175.4",
         "65.2",
         "54.1",
         "2465",
         "ohc",
         "four",
         "110",
         "mpfi",
         "3.15",
         "3.58",
         "9.0",
         "101",
         "5800",
         "24",
         "28",
         "12945.0",
         "28"
        ],
        [
         "42",
         "43",
         "1",
         "honda civic (auto)",
         "gas",
         "std",
         "two",
         "sedan",
         "fwd",
         "front",
         "96.5",
         "169.1",
         "66.0",
         "51.0",
         "2293",
         "ohc",
         "four",
         "110",
         "2bbl",
         "3.15",
         "3.58",
         "9.1",
         "100",
         "5500",
         "25",
         "31",
         "10345.0",
         "31"
        ],
        [
         "43",
         "44",
         "0",
         "isuzu MU-X",
         "gas",
         "std",
         "four",
         "sedan",
         "rwd",
         "front",
         "94.3",
         "170.7",
         "61.8",
         "53.5",
         "2337",
         "ohc",
         "four",
         "111",
         "2bbl",
         "3.31",
         "3.23",
         "8.5",
         "78",
         "4800",
         "24",
         "29",
         "6785.0",
         "29"
        ],
        [
         "44",
         "45",
         "1",
         "isuzu D-Max ",
         "gas",
         "std",
         "two",
         "sedan",
         "fwd",
         "front",
         "94.5",
         "155.9",
         "63.6",
         "52.0",
         "1874",
         "ohc",
         "four",
         "90",
         "2bbl",
         "3.03",
         "3.11",
         "9.6",
         "70",
         "5400",
         "38",
         "43",
         "8916.5",
         "43"
        ],
        [
         "45",
         "46",
         "0",
         "isuzu D-Max V-Cross",
         "gas",
         "std",
         "four",
         "sedan",
         "fwd",
         "front",
         "94.5",
         "155.9",
         "63.6",
         "52.0",
         "1909",
         "ohc",
         "four",
         "90",
         "2bbl",
         "3.03",
         "3.11",
         "9.6",
         "70",
         "5400",
         "38",
         "43",
         "8916.5",
         "43"
        ],
        [
         "46",
         "47",
         "2",
         "isuzu D-Max ",
         "gas",
         "std",
         "two",
         "hatchback",
         "rwd",
         "front",
         "96.0",
         "172.6",
         "65.2",
         "51.4",
         "2734",
         "ohc",
         "four",
         "119",
         "spfi",
         "3.43",
         "3.23",
         "9.2",
         "90",
         "5000",
         "24",
         "29",
         "11048.0",
         "29"
        ],
        [
         "47",
         "48",
         "0",
         "jaguar xj",
         "gas",
         "std",
         "four",
         "sedan",
         "rwd",
         "front",
         "113.0",
         "199.6",
         "69.6",
         "52.8",
         "4066",
         "dohc",
         "six",
         "258",
         "mpfi",
         "3.63",
         "4.17",
         "8.1",
         "176",
         "4750",
         "15",
         "19",
         "32250.0",
         "19"
        ],
        [
         "48",
         "49",
         "0",
         "jaguar xf",
         "gas",
         "std",
         "four",
         "sedan",
         "rwd",
         "front",
         "113.0",
         "199.6",
         "69.6",
         "52.8",
         "4066",
         "dohc",
         "six",
         "258",
         "mpfi",
         "3.63",
         "4.17",
         "8.1",
         "176",
         "4750",
         "15",
         "19",
         "35550.0",
         "19"
        ],
        [
         "49",
         "50",
         "0",
         "jaguar xk",
         "gas",
         "std",
         "two",
         "sedan",
         "rwd",
         "front",
         "102.0",
         "191.7",
         "70.6",
         "47.8",
         "3950",
         "ohcv",
         "twelve",
         "326",
         "mpfi",
         "3.54",
         "2.76",
         "11.5",
         "262",
         "5000",
         "13",
         "17",
         "36000.0",
         "17"
        ]
       ],
       "shape": {
        "columns": 27,
        "rows": 205
       }
      },
      "text/html": [
       "<div>\n",
       "<style scoped>\n",
       "    .dataframe tbody tr th:only-of-type {\n",
       "        vertical-align: middle;\n",
       "    }\n",
       "\n",
       "    .dataframe tbody tr th {\n",
       "        vertical-align: top;\n",
       "    }\n",
       "\n",
       "    .dataframe thead th {\n",
       "        text-align: right;\n",
       "    }\n",
       "</style>\n",
       "<table border=\"1\" class=\"dataframe\">\n",
       "  <thead>\n",
       "    <tr style=\"text-align: right;\">\n",
       "      <th></th>\n",
       "      <th>car_ID</th>\n",
       "      <th>symboling</th>\n",
       "      <th>CarName</th>\n",
       "      <th>fueltype</th>\n",
       "      <th>aspiration</th>\n",
       "      <th>doornumber</th>\n",
       "      <th>carbody</th>\n",
       "      <th>drivewheel</th>\n",
       "      <th>enginelocation</th>\n",
       "      <th>wheelbase</th>\n",
       "      <th>...</th>\n",
       "      <th>fuelsystem</th>\n",
       "      <th>boreratio</th>\n",
       "      <th>stroke</th>\n",
       "      <th>compressionratio</th>\n",
       "      <th>horsepower</th>\n",
       "      <th>peakrpm</th>\n",
       "      <th>citympg</th>\n",
       "      <th>highwaympg</th>\n",
       "      <th>price</th>\n",
       "      <th>highwaympg.1</th>\n",
       "    </tr>\n",
       "  </thead>\n",
       "  <tbody>\n",
       "    <tr>\n",
       "      <th>0</th>\n",
       "      <td>1</td>\n",
       "      <td>3</td>\n",
       "      <td>alfa-romero giulia</td>\n",
       "      <td>gas</td>\n",
       "      <td>std</td>\n",
       "      <td>two</td>\n",
       "      <td>convertible</td>\n",
       "      <td>rwd</td>\n",
       "      <td>front</td>\n",
       "      <td>88.6</td>\n",
       "      <td>...</td>\n",
       "      <td>mpfi</td>\n",
       "      <td>3.47</td>\n",
       "      <td>2.68</td>\n",
       "      <td>9.0</td>\n",
       "      <td>111</td>\n",
       "      <td>5000</td>\n",
       "      <td>21</td>\n",
       "      <td>27</td>\n",
       "      <td>13495.0</td>\n",
       "      <td>27</td>\n",
       "    </tr>\n",
       "    <tr>\n",
       "      <th>1</th>\n",
       "      <td>2</td>\n",
       "      <td>3</td>\n",
       "      <td>alfa-romero stelvio</td>\n",
       "      <td>gas</td>\n",
       "      <td>std</td>\n",
       "      <td>two</td>\n",
       "      <td>convertible</td>\n",
       "      <td>rwd</td>\n",
       "      <td>front</td>\n",
       "      <td>88.6</td>\n",
       "      <td>...</td>\n",
       "      <td>mpfi</td>\n",
       "      <td>3.47</td>\n",
       "      <td>2.68</td>\n",
       "      <td>9.0</td>\n",
       "      <td>111</td>\n",
       "      <td>5000</td>\n",
       "      <td>21</td>\n",
       "      <td>27</td>\n",
       "      <td>16500.0</td>\n",
       "      <td>27</td>\n",
       "    </tr>\n",
       "    <tr>\n",
       "      <th>2</th>\n",
       "      <td>3</td>\n",
       "      <td>1</td>\n",
       "      <td>alfa-romero Quadrifoglio</td>\n",
       "      <td>gas</td>\n",
       "      <td>std</td>\n",
       "      <td>two</td>\n",
       "      <td>hatchback</td>\n",
       "      <td>rwd</td>\n",
       "      <td>front</td>\n",
       "      <td>94.5</td>\n",
       "      <td>...</td>\n",
       "      <td>mpfi</td>\n",
       "      <td>2.68</td>\n",
       "      <td>3.47</td>\n",
       "      <td>9.0</td>\n",
       "      <td>154</td>\n",
       "      <td>5000</td>\n",
       "      <td>19</td>\n",
       "      <td>26</td>\n",
       "      <td>16500.0</td>\n",
       "      <td>26</td>\n",
       "    </tr>\n",
       "    <tr>\n",
       "      <th>3</th>\n",
       "      <td>4</td>\n",
       "      <td>2</td>\n",
       "      <td>audi 100 ls</td>\n",
       "      <td>gas</td>\n",
       "      <td>std</td>\n",
       "      <td>four</td>\n",
       "      <td>sedan</td>\n",
       "      <td>fwd</td>\n",
       "      <td>front</td>\n",
       "      <td>99.8</td>\n",
       "      <td>...</td>\n",
       "      <td>mpfi</td>\n",
       "      <td>3.19</td>\n",
       "      <td>3.40</td>\n",
       "      <td>10.0</td>\n",
       "      <td>102</td>\n",
       "      <td>5500</td>\n",
       "      <td>24</td>\n",
       "      <td>30</td>\n",
       "      <td>13950.0</td>\n",
       "      <td>30</td>\n",
       "    </tr>\n",
       "    <tr>\n",
       "      <th>4</th>\n",
       "      <td>5</td>\n",
       "      <td>2</td>\n",
       "      <td>audi 100ls</td>\n",
       "      <td>gas</td>\n",
       "      <td>std</td>\n",
       "      <td>four</td>\n",
       "      <td>sedan</td>\n",
       "      <td>4wd</td>\n",
       "      <td>front</td>\n",
       "      <td>99.4</td>\n",
       "      <td>...</td>\n",
       "      <td>mpfi</td>\n",
       "      <td>3.19</td>\n",
       "      <td>3.40</td>\n",
       "      <td>8.0</td>\n",
       "      <td>115</td>\n",
       "      <td>5500</td>\n",
       "      <td>18</td>\n",
       "      <td>22</td>\n",
       "      <td>17450.0</td>\n",
       "      <td>22</td>\n",
       "    </tr>\n",
       "    <tr>\n",
       "      <th>...</th>\n",
       "      <td>...</td>\n",
       "      <td>...</td>\n",
       "      <td>...</td>\n",
       "      <td>...</td>\n",
       "      <td>...</td>\n",
       "      <td>...</td>\n",
       "      <td>...</td>\n",
       "      <td>...</td>\n",
       "      <td>...</td>\n",
       "      <td>...</td>\n",
       "      <td>...</td>\n",
       "      <td>...</td>\n",
       "      <td>...</td>\n",
       "      <td>...</td>\n",
       "      <td>...</td>\n",
       "      <td>...</td>\n",
       "      <td>...</td>\n",
       "      <td>...</td>\n",
       "      <td>...</td>\n",
       "      <td>...</td>\n",
       "      <td>...</td>\n",
       "    </tr>\n",
       "    <tr>\n",
       "      <th>200</th>\n",
       "      <td>201</td>\n",
       "      <td>-1</td>\n",
       "      <td>volvo 145e (sw)</td>\n",
       "      <td>gas</td>\n",
       "      <td>std</td>\n",
       "      <td>four</td>\n",
       "      <td>sedan</td>\n",
       "      <td>rwd</td>\n",
       "      <td>front</td>\n",
       "      <td>109.1</td>\n",
       "      <td>...</td>\n",
       "      <td>mpfi</td>\n",
       "      <td>3.78</td>\n",
       "      <td>3.15</td>\n",
       "      <td>9.5</td>\n",
       "      <td>114</td>\n",
       "      <td>5400</td>\n",
       "      <td>23</td>\n",
       "      <td>28</td>\n",
       "      <td>16845.0</td>\n",
       "      <td>28</td>\n",
       "    </tr>\n",
       "    <tr>\n",
       "      <th>201</th>\n",
       "      <td>202</td>\n",
       "      <td>-1</td>\n",
       "      <td>volvo 144ea</td>\n",
       "      <td>gas</td>\n",
       "      <td>turbo</td>\n",
       "      <td>four</td>\n",
       "      <td>sedan</td>\n",
       "      <td>rwd</td>\n",
       "      <td>front</td>\n",
       "      <td>109.1</td>\n",
       "      <td>...</td>\n",
       "      <td>mpfi</td>\n",
       "      <td>3.78</td>\n",
       "      <td>3.15</td>\n",
       "      <td>8.7</td>\n",
       "      <td>160</td>\n",
       "      <td>5300</td>\n",
       "      <td>19</td>\n",
       "      <td>25</td>\n",
       "      <td>19045.0</td>\n",
       "      <td>25</td>\n",
       "    </tr>\n",
       "    <tr>\n",
       "      <th>202</th>\n",
       "      <td>203</td>\n",
       "      <td>-1</td>\n",
       "      <td>volvo 244dl</td>\n",
       "      <td>gas</td>\n",
       "      <td>std</td>\n",
       "      <td>four</td>\n",
       "      <td>sedan</td>\n",
       "      <td>rwd</td>\n",
       "      <td>front</td>\n",
       "      <td>109.1</td>\n",
       "      <td>...</td>\n",
       "      <td>mpfi</td>\n",
       "      <td>3.58</td>\n",
       "      <td>2.87</td>\n",
       "      <td>8.8</td>\n",
       "      <td>134</td>\n",
       "      <td>5500</td>\n",
       "      <td>18</td>\n",
       "      <td>23</td>\n",
       "      <td>21485.0</td>\n",
       "      <td>23</td>\n",
       "    </tr>\n",
       "    <tr>\n",
       "      <th>203</th>\n",
       "      <td>204</td>\n",
       "      <td>-1</td>\n",
       "      <td>volvo 246</td>\n",
       "      <td>diesel</td>\n",
       "      <td>turbo</td>\n",
       "      <td>four</td>\n",
       "      <td>sedan</td>\n",
       "      <td>rwd</td>\n",
       "      <td>front</td>\n",
       "      <td>109.1</td>\n",
       "      <td>...</td>\n",
       "      <td>idi</td>\n",
       "      <td>3.01</td>\n",
       "      <td>3.40</td>\n",
       "      <td>23.0</td>\n",
       "      <td>106</td>\n",
       "      <td>4800</td>\n",
       "      <td>26</td>\n",
       "      <td>27</td>\n",
       "      <td>22470.0</td>\n",
       "      <td>27</td>\n",
       "    </tr>\n",
       "    <tr>\n",
       "      <th>204</th>\n",
       "      <td>205</td>\n",
       "      <td>-1</td>\n",
       "      <td>volvo 264gl</td>\n",
       "      <td>gas</td>\n",
       "      <td>turbo</td>\n",
       "      <td>four</td>\n",
       "      <td>sedan</td>\n",
       "      <td>rwd</td>\n",
       "      <td>front</td>\n",
       "      <td>109.1</td>\n",
       "      <td>...</td>\n",
       "      <td>mpfi</td>\n",
       "      <td>3.78</td>\n",
       "      <td>3.15</td>\n",
       "      <td>9.5</td>\n",
       "      <td>114</td>\n",
       "      <td>5400</td>\n",
       "      <td>19</td>\n",
       "      <td>25</td>\n",
       "      <td>22625.0</td>\n",
       "      <td>25</td>\n",
       "    </tr>\n",
       "  </tbody>\n",
       "</table>\n",
       "<p>205 rows × 27 columns</p>\n",
       "</div>"
      ],
      "text/plain": [
       "     car_ID  symboling                   CarName fueltype aspiration  \\\n",
       "0         1          3        alfa-romero giulia      gas        std   \n",
       "1         2          3       alfa-romero stelvio      gas        std   \n",
       "2         3          1  alfa-romero Quadrifoglio      gas        std   \n",
       "3         4          2               audi 100 ls      gas        std   \n",
       "4         5          2                audi 100ls      gas        std   \n",
       "..      ...        ...                       ...      ...        ...   \n",
       "200     201         -1           volvo 145e (sw)      gas        std   \n",
       "201     202         -1               volvo 144ea      gas      turbo   \n",
       "202     203         -1               volvo 244dl      gas        std   \n",
       "203     204         -1                 volvo 246   diesel      turbo   \n",
       "204     205         -1               volvo 264gl      gas      turbo   \n",
       "\n",
       "    doornumber      carbody drivewheel enginelocation  wheelbase  ...  \\\n",
       "0          two  convertible        rwd          front       88.6  ...   \n",
       "1          two  convertible        rwd          front       88.6  ...   \n",
       "2          two    hatchback        rwd          front       94.5  ...   \n",
       "3         four        sedan        fwd          front       99.8  ...   \n",
       "4         four        sedan        4wd          front       99.4  ...   \n",
       "..         ...          ...        ...            ...        ...  ...   \n",
       "200       four        sedan        rwd          front      109.1  ...   \n",
       "201       four        sedan        rwd          front      109.1  ...   \n",
       "202       four        sedan        rwd          front      109.1  ...   \n",
       "203       four        sedan        rwd          front      109.1  ...   \n",
       "204       four        sedan        rwd          front      109.1  ...   \n",
       "\n",
       "     fuelsystem  boreratio  stroke  compressionratio horsepower peakrpm  \\\n",
       "0          mpfi       3.47    2.68               9.0        111    5000   \n",
       "1          mpfi       3.47    2.68               9.0        111    5000   \n",
       "2          mpfi       2.68    3.47               9.0        154    5000   \n",
       "3          mpfi       3.19    3.40              10.0        102    5500   \n",
       "4          mpfi       3.19    3.40               8.0        115    5500   \n",
       "..          ...        ...     ...               ...        ...     ...   \n",
       "200        mpfi       3.78    3.15               9.5        114    5400   \n",
       "201        mpfi       3.78    3.15               8.7        160    5300   \n",
       "202        mpfi       3.58    2.87               8.8        134    5500   \n",
       "203         idi       3.01    3.40              23.0        106    4800   \n",
       "204        mpfi       3.78    3.15               9.5        114    5400   \n",
       "\n",
       "     citympg highwaympg    price  highwaympg.1  \n",
       "0         21         27  13495.0            27  \n",
       "1         21         27  16500.0            27  \n",
       "2         19         26  16500.0            26  \n",
       "3         24         30  13950.0            30  \n",
       "4         18         22  17450.0            22  \n",
       "..       ...        ...      ...           ...  \n",
       "200       23         28  16845.0            28  \n",
       "201       19         25  19045.0            25  \n",
       "202       18         23  21485.0            23  \n",
       "203       26         27  22470.0            27  \n",
       "204       19         25  22625.0            25  \n",
       "\n",
       "[205 rows x 27 columns]"
      ]
     },
     "execution_count": 3,
     "metadata": {},
     "output_type": "execute_result"
    }
   ],
   "source": [
    "df"
   ]
  },
  {
   "cell_type": "code",
   "execution_count": 4,
   "metadata": {},
   "outputs": [
    {
     "data": {
      "application/vnd.microsoft.datawrangler.viewer.v0+json": {
       "columns": [
        {
         "name": "index",
         "rawType": "int64",
         "type": "integer"
        },
        {
         "name": "car_ID",
         "rawType": "int64",
         "type": "integer"
        },
        {
         "name": "symboling",
         "rawType": "int64",
         "type": "integer"
        },
        {
         "name": "CarName",
         "rawType": "object",
         "type": "string"
        },
        {
         "name": "fueltype",
         "rawType": "object",
         "type": "string"
        },
        {
         "name": "aspiration",
         "rawType": "object",
         "type": "string"
        },
        {
         "name": "doornumber",
         "rawType": "object",
         "type": "string"
        },
        {
         "name": "carbody",
         "rawType": "object",
         "type": "string"
        },
        {
         "name": "drivewheel",
         "rawType": "object",
         "type": "string"
        },
        {
         "name": "enginelocation",
         "rawType": "object",
         "type": "string"
        },
        {
         "name": "wheelbase",
         "rawType": "float64",
         "type": "float"
        },
        {
         "name": "carlength",
         "rawType": "float64",
         "type": "float"
        },
        {
         "name": "carwidth",
         "rawType": "float64",
         "type": "float"
        },
        {
         "name": "carheight",
         "rawType": "float64",
         "type": "float"
        },
        {
         "name": "curbweight",
         "rawType": "int64",
         "type": "integer"
        },
        {
         "name": "enginetype",
         "rawType": "object",
         "type": "string"
        },
        {
         "name": "cylindernumber",
         "rawType": "object",
         "type": "string"
        },
        {
         "name": "enginesize",
         "rawType": "int64",
         "type": "integer"
        },
        {
         "name": "fuelsystem",
         "rawType": "object",
         "type": "string"
        },
        {
         "name": "boreratio",
         "rawType": "float64",
         "type": "float"
        },
        {
         "name": "stroke",
         "rawType": "float64",
         "type": "float"
        },
        {
         "name": "compressionratio",
         "rawType": "float64",
         "type": "float"
        },
        {
         "name": "horsepower",
         "rawType": "int64",
         "type": "integer"
        },
        {
         "name": "peakrpm",
         "rawType": "int64",
         "type": "integer"
        },
        {
         "name": "citympg",
         "rawType": "int64",
         "type": "integer"
        },
        {
         "name": "highwaympg",
         "rawType": "int64",
         "type": "integer"
        },
        {
         "name": "price",
         "rawType": "float64",
         "type": "float"
        },
        {
         "name": "highwaympg.1",
         "rawType": "int64",
         "type": "integer"
        }
       ],
       "conversionMethod": "pd.DataFrame",
       "ref": "4354a6f9-c611-4692-bb68-3be92345fd89",
       "rows": [
        [
         "0",
         "1",
         "3",
         "alfa-romero giulia",
         "gas",
         "std",
         "two",
         "convertible",
         "rwd",
         "front",
         "88.6",
         "168.8",
         "64.1",
         "48.8",
         "2548",
         "dohc",
         "four",
         "130",
         "mpfi",
         "3.47",
         "2.68",
         "9.0",
         "111",
         "5000",
         "21",
         "27",
         "13495.0",
         "27"
        ],
        [
         "1",
         "2",
         "3",
         "alfa-romero stelvio",
         "gas",
         "std",
         "two",
         "convertible",
         "rwd",
         "front",
         "88.6",
         "168.8",
         "64.1",
         "48.8",
         "2548",
         "dohc",
         "four",
         "130",
         "mpfi",
         "3.47",
         "2.68",
         "9.0",
         "111",
         "5000",
         "21",
         "27",
         "16500.0",
         "27"
        ],
        [
         "2",
         "3",
         "1",
         "alfa-romero Quadrifoglio",
         "gas",
         "std",
         "two",
         "hatchback",
         "rwd",
         "front",
         "94.5",
         "171.2",
         "65.5",
         "52.4",
         "2823",
         "ohcv",
         "six",
         "152",
         "mpfi",
         "2.68",
         "3.47",
         "9.0",
         "154",
         "5000",
         "19",
         "26",
         "16500.0",
         "26"
        ],
        [
         "3",
         "4",
         "2",
         "audi 100 ls",
         "gas",
         "std",
         "four",
         "sedan",
         "fwd",
         "front",
         "99.8",
         "176.6",
         "66.2",
         "54.3",
         "2337",
         "ohc",
         "four",
         "109",
         "mpfi",
         "3.19",
         "3.4",
         "10.0",
         "102",
         "5500",
         "24",
         "30",
         "13950.0",
         "30"
        ],
        [
         "4",
         "5",
         "2",
         "audi 100ls",
         "gas",
         "std",
         "four",
         "sedan",
         "4wd",
         "front",
         "99.4",
         "176.6",
         "66.4",
         "54.3",
         "2824",
         "ohc",
         "five",
         "136",
         "mpfi",
         "3.19",
         "3.4",
         "8.0",
         "115",
         "5500",
         "18",
         "22",
         "17450.0",
         "22"
        ]
       ],
       "shape": {
        "columns": 27,
        "rows": 5
       }
      },
      "text/html": [
       "<div>\n",
       "<style scoped>\n",
       "    .dataframe tbody tr th:only-of-type {\n",
       "        vertical-align: middle;\n",
       "    }\n",
       "\n",
       "    .dataframe tbody tr th {\n",
       "        vertical-align: top;\n",
       "    }\n",
       "\n",
       "    .dataframe thead th {\n",
       "        text-align: right;\n",
       "    }\n",
       "</style>\n",
       "<table border=\"1\" class=\"dataframe\">\n",
       "  <thead>\n",
       "    <tr style=\"text-align: right;\">\n",
       "      <th></th>\n",
       "      <th>car_ID</th>\n",
       "      <th>symboling</th>\n",
       "      <th>CarName</th>\n",
       "      <th>fueltype</th>\n",
       "      <th>aspiration</th>\n",
       "      <th>doornumber</th>\n",
       "      <th>carbody</th>\n",
       "      <th>drivewheel</th>\n",
       "      <th>enginelocation</th>\n",
       "      <th>wheelbase</th>\n",
       "      <th>...</th>\n",
       "      <th>fuelsystem</th>\n",
       "      <th>boreratio</th>\n",
       "      <th>stroke</th>\n",
       "      <th>compressionratio</th>\n",
       "      <th>horsepower</th>\n",
       "      <th>peakrpm</th>\n",
       "      <th>citympg</th>\n",
       "      <th>highwaympg</th>\n",
       "      <th>price</th>\n",
       "      <th>highwaympg.1</th>\n",
       "    </tr>\n",
       "  </thead>\n",
       "  <tbody>\n",
       "    <tr>\n",
       "      <th>0</th>\n",
       "      <td>1</td>\n",
       "      <td>3</td>\n",
       "      <td>alfa-romero giulia</td>\n",
       "      <td>gas</td>\n",
       "      <td>std</td>\n",
       "      <td>two</td>\n",
       "      <td>convertible</td>\n",
       "      <td>rwd</td>\n",
       "      <td>front</td>\n",
       "      <td>88.6</td>\n",
       "      <td>...</td>\n",
       "      <td>mpfi</td>\n",
       "      <td>3.47</td>\n",
       "      <td>2.68</td>\n",
       "      <td>9.0</td>\n",
       "      <td>111</td>\n",
       "      <td>5000</td>\n",
       "      <td>21</td>\n",
       "      <td>27</td>\n",
       "      <td>13495.0</td>\n",
       "      <td>27</td>\n",
       "    </tr>\n",
       "    <tr>\n",
       "      <th>1</th>\n",
       "      <td>2</td>\n",
       "      <td>3</td>\n",
       "      <td>alfa-romero stelvio</td>\n",
       "      <td>gas</td>\n",
       "      <td>std</td>\n",
       "      <td>two</td>\n",
       "      <td>convertible</td>\n",
       "      <td>rwd</td>\n",
       "      <td>front</td>\n",
       "      <td>88.6</td>\n",
       "      <td>...</td>\n",
       "      <td>mpfi</td>\n",
       "      <td>3.47</td>\n",
       "      <td>2.68</td>\n",
       "      <td>9.0</td>\n",
       "      <td>111</td>\n",
       "      <td>5000</td>\n",
       "      <td>21</td>\n",
       "      <td>27</td>\n",
       "      <td>16500.0</td>\n",
       "      <td>27</td>\n",
       "    </tr>\n",
       "    <tr>\n",
       "      <th>2</th>\n",
       "      <td>3</td>\n",
       "      <td>1</td>\n",
       "      <td>alfa-romero Quadrifoglio</td>\n",
       "      <td>gas</td>\n",
       "      <td>std</td>\n",
       "      <td>two</td>\n",
       "      <td>hatchback</td>\n",
       "      <td>rwd</td>\n",
       "      <td>front</td>\n",
       "      <td>94.5</td>\n",
       "      <td>...</td>\n",
       "      <td>mpfi</td>\n",
       "      <td>2.68</td>\n",
       "      <td>3.47</td>\n",
       "      <td>9.0</td>\n",
       "      <td>154</td>\n",
       "      <td>5000</td>\n",
       "      <td>19</td>\n",
       "      <td>26</td>\n",
       "      <td>16500.0</td>\n",
       "      <td>26</td>\n",
       "    </tr>\n",
       "    <tr>\n",
       "      <th>3</th>\n",
       "      <td>4</td>\n",
       "      <td>2</td>\n",
       "      <td>audi 100 ls</td>\n",
       "      <td>gas</td>\n",
       "      <td>std</td>\n",
       "      <td>four</td>\n",
       "      <td>sedan</td>\n",
       "      <td>fwd</td>\n",
       "      <td>front</td>\n",
       "      <td>99.8</td>\n",
       "      <td>...</td>\n",
       "      <td>mpfi</td>\n",
       "      <td>3.19</td>\n",
       "      <td>3.40</td>\n",
       "      <td>10.0</td>\n",
       "      <td>102</td>\n",
       "      <td>5500</td>\n",
       "      <td>24</td>\n",
       "      <td>30</td>\n",
       "      <td>13950.0</td>\n",
       "      <td>30</td>\n",
       "    </tr>\n",
       "    <tr>\n",
       "      <th>4</th>\n",
       "      <td>5</td>\n",
       "      <td>2</td>\n",
       "      <td>audi 100ls</td>\n",
       "      <td>gas</td>\n",
       "      <td>std</td>\n",
       "      <td>four</td>\n",
       "      <td>sedan</td>\n",
       "      <td>4wd</td>\n",
       "      <td>front</td>\n",
       "      <td>99.4</td>\n",
       "      <td>...</td>\n",
       "      <td>mpfi</td>\n",
       "      <td>3.19</td>\n",
       "      <td>3.40</td>\n",
       "      <td>8.0</td>\n",
       "      <td>115</td>\n",
       "      <td>5500</td>\n",
       "      <td>18</td>\n",
       "      <td>22</td>\n",
       "      <td>17450.0</td>\n",
       "      <td>22</td>\n",
       "    </tr>\n",
       "  </tbody>\n",
       "</table>\n",
       "<p>5 rows × 27 columns</p>\n",
       "</div>"
      ],
      "text/plain": [
       "   car_ID  symboling                   CarName fueltype aspiration doornumber  \\\n",
       "0       1          3        alfa-romero giulia      gas        std        two   \n",
       "1       2          3       alfa-romero stelvio      gas        std        two   \n",
       "2       3          1  alfa-romero Quadrifoglio      gas        std        two   \n",
       "3       4          2               audi 100 ls      gas        std       four   \n",
       "4       5          2                audi 100ls      gas        std       four   \n",
       "\n",
       "       carbody drivewheel enginelocation  wheelbase  ...  fuelsystem  \\\n",
       "0  convertible        rwd          front       88.6  ...        mpfi   \n",
       "1  convertible        rwd          front       88.6  ...        mpfi   \n",
       "2    hatchback        rwd          front       94.5  ...        mpfi   \n",
       "3        sedan        fwd          front       99.8  ...        mpfi   \n",
       "4        sedan        4wd          front       99.4  ...        mpfi   \n",
       "\n",
       "   boreratio  stroke  compressionratio horsepower peakrpm  citympg highwaympg  \\\n",
       "0       3.47    2.68               9.0        111    5000       21         27   \n",
       "1       3.47    2.68               9.0        111    5000       21         27   \n",
       "2       2.68    3.47               9.0        154    5000       19         26   \n",
       "3       3.19    3.40              10.0        102    5500       24         30   \n",
       "4       3.19    3.40               8.0        115    5500       18         22   \n",
       "\n",
       "     price  highwaympg.1  \n",
       "0  13495.0            27  \n",
       "1  16500.0            27  \n",
       "2  16500.0            26  \n",
       "3  13950.0            30  \n",
       "4  17450.0            22  \n",
       "\n",
       "[5 rows x 27 columns]"
      ]
     },
     "execution_count": 4,
     "metadata": {},
     "output_type": "execute_result"
    }
   ],
   "source": [
    "df.head()"
   ]
  },
  {
   "cell_type": "code",
   "execution_count": 5,
   "metadata": {},
   "outputs": [],
   "source": [
    "df[\"CarName\"] = df[\"CarName\"].str.split().apply(lambda x : x[0])"
   ]
  },
  {
   "cell_type": "code",
   "execution_count": 6,
   "metadata": {},
   "outputs": [
    {
     "name": "stderr",
     "output_type": "stream",
     "text": [
      "C:\\Users\\desou\\AppData\\Local\\Temp\\ipykernel_9628\\1319046964.py:4: FutureWarning: A value is trying to be set on a copy of a DataFrame or Series through chained assignment using an inplace method.\n",
      "The behavior will change in pandas 3.0. This inplace method will never work because the intermediate object on which we are setting values always behaves as a copy.\n",
      "\n",
      "For example, when doing 'df[col].method(value, inplace=True)', try using 'df.method({col: value}, inplace=True)' or df[col] = df[col].method(value) instead, to perform the operation inplace on the original object.\n",
      "\n",
      "\n",
      "  df[\"CarName\"].replace(d , inplace = True)\n"
     ]
    }
   ],
   "source": [
    "d = {\"maxda\" : \"mazda\" ,\"toyouta\" : \"toyota\" ,\n",
    "     'vokswagen':\"volkswagen\", 'vw':\"volkswagen\" ,\n",
    "     \"porcshce\" : \"porsche\"}\n",
    "df[\"CarName\"].replace(d , inplace = True)\n",
    "d = {\"maxda\" : \"mazda\" ,\"toyouta\" : \"toyota\" ,\n",
    "     'vokswagen':\"volkswagen\", 'vw':\"volkswagen\" ,\n",
    "     \"porcshce\" : \"porsche\"}\n",
    "df[\"CarName\"].replace(d , inplace = True)"
   ]
  },
  {
   "cell_type": "code",
   "execution_count": 7,
   "metadata": {},
   "outputs": [
    {
     "data": {
      "text/plain": [
       "CarName\n",
       "toyota         32\n",
       "mazda          17\n",
       "nissan         17\n",
       "mitsubishi     13\n",
       "honda          13\n",
       "volkswagen     12\n",
       "subaru         12\n",
       "volvo          11\n",
       "peugeot        11\n",
       "dodge           9\n",
       "buick           8\n",
       "bmw             8\n",
       "plymouth        7\n",
       "audi            7\n",
       "saab            6\n",
       "porsche         5\n",
       "isuzu           4\n",
       "chevrolet       3\n",
       "alfa-romero     3\n",
       "jaguar          3\n",
       "renault         2\n",
       "Nissan          1\n",
       "mercury         1\n",
       "Name: count, dtype: int64"
      ]
     },
     "execution_count": 7,
     "metadata": {},
     "output_type": "execute_result"
    }
   ],
   "source": [
    "df[\"CarName\"].value_counts()"
   ]
  },
  {
   "cell_type": "code",
   "execution_count": 8,
   "metadata": {},
   "outputs": [],
   "source": [
    "carname_price = df.groupby(\"CarName\")[\"price\"].agg([\"mean\" , \"min\" , \"max\" , \"count\"]).reset_index()"
   ]
  },
  {
   "cell_type": "code",
   "execution_count": 9,
   "metadata": {},
   "outputs": [
    {
     "data": {
      "application/vnd.microsoft.datawrangler.viewer.v0+json": {
       "columns": [
        {
         "name": "index",
         "rawType": "int64",
         "type": "integer"
        },
        {
         "name": "CarName",
         "rawType": "object",
         "type": "string"
        },
        {
         "name": "mean",
         "rawType": "float64",
         "type": "float"
        },
        {
         "name": "min",
         "rawType": "float64",
         "type": "float"
        },
        {
         "name": "max",
         "rawType": "float64",
         "type": "float"
        },
        {
         "name": "count",
         "rawType": "int64",
         "type": "integer"
        }
       ],
       "conversionMethod": "pd.DataFrame",
       "ref": "38112402-920d-4b7f-b7b4-695db0ba1f76",
       "rows": [
        [
         "0",
         "Nissan",
         "5499.0",
         "5499.0",
         "5499.0",
         "1"
        ],
        [
         "1",
         "alfa-romero",
         "15498.333333333334",
         "13495.0",
         "16500.0",
         "3"
        ],
        [
         "2",
         "audi",
         "17859.166714285715",
         "13950.0",
         "23875.0",
         "7"
        ],
        [
         "3",
         "bmw",
         "26118.75",
         "16430.0",
         "41315.0",
         "8"
        ],
        [
         "4",
         "buick",
         "33647.0",
         "25552.0",
         "45400.0",
         "8"
        ],
        [
         "5",
         "chevrolet",
         "6007.0",
         "5151.0",
         "6575.0",
         "3"
        ],
        [
         "6",
         "dodge",
         "7875.444444444444",
         "5572.0",
         "12964.0",
         "9"
        ],
        [
         "7",
         "honda",
         "8184.692307692308",
         "5399.0",
         "12945.0",
         "13"
        ],
        [
         "8",
         "isuzu",
         "8916.5",
         "6785.0",
         "11048.0",
         "4"
        ],
        [
         "9",
         "jaguar",
         "34600.0",
         "32250.0",
         "36000.0",
         "3"
        ],
        [
         "10",
         "mazda",
         "10652.882352941177",
         "5195.0",
         "18344.0",
         "17"
        ],
        [
         "11",
         "mercury",
         "16503.0",
         "16503.0",
         "16503.0",
         "1"
        ],
        [
         "12",
         "mitsubishi",
         "9239.76923076923",
         "5389.0",
         "14869.0",
         "13"
        ],
        [
         "13",
         "nissan",
         "10704.882352941177",
         "6649.0",
         "19699.0",
         "17"
        ],
        [
         "14",
         "peugeot",
         "15489.09090909091",
         "11900.0",
         "18150.0",
         "11"
        ],
        [
         "15",
         "plymouth",
         "7963.428571428572",
         "5572.0",
         "12764.0",
         "7"
        ],
        [
         "16",
         "porsche",
         "31400.5",
         "22018.0",
         "37028.0",
         "5"
        ],
        [
         "17",
         "renault",
         "9595.0",
         "9295.0",
         "9895.0",
         "2"
        ],
        [
         "18",
         "saab",
         "15223.333333333334",
         "11850.0",
         "18620.0",
         "6"
        ],
        [
         "19",
         "subaru",
         "8541.25",
         "5118.0",
         "11694.0",
         "12"
        ],
        [
         "20",
         "toyota",
         "9885.8125",
         "5348.0",
         "17669.0",
         "32"
        ],
        [
         "21",
         "volkswagen",
         "10077.5",
         "7775.0",
         "13845.0",
         "12"
        ],
        [
         "22",
         "volvo",
         "18063.18181818182",
         "12940.0",
         "22625.0",
         "11"
        ]
       ],
       "shape": {
        "columns": 5,
        "rows": 23
       }
      },
      "text/html": [
       "<div>\n",
       "<style scoped>\n",
       "    .dataframe tbody tr th:only-of-type {\n",
       "        vertical-align: middle;\n",
       "    }\n",
       "\n",
       "    .dataframe tbody tr th {\n",
       "        vertical-align: top;\n",
       "    }\n",
       "\n",
       "    .dataframe thead th {\n",
       "        text-align: right;\n",
       "    }\n",
       "</style>\n",
       "<table border=\"1\" class=\"dataframe\">\n",
       "  <thead>\n",
       "    <tr style=\"text-align: right;\">\n",
       "      <th></th>\n",
       "      <th>CarName</th>\n",
       "      <th>mean</th>\n",
       "      <th>min</th>\n",
       "      <th>max</th>\n",
       "      <th>count</th>\n",
       "    </tr>\n",
       "  </thead>\n",
       "  <tbody>\n",
       "    <tr>\n",
       "      <th>0</th>\n",
       "      <td>Nissan</td>\n",
       "      <td>5499.000000</td>\n",
       "      <td>5499.0</td>\n",
       "      <td>5499.0</td>\n",
       "      <td>1</td>\n",
       "    </tr>\n",
       "    <tr>\n",
       "      <th>1</th>\n",
       "      <td>alfa-romero</td>\n",
       "      <td>15498.333333</td>\n",
       "      <td>13495.0</td>\n",
       "      <td>16500.0</td>\n",
       "      <td>3</td>\n",
       "    </tr>\n",
       "    <tr>\n",
       "      <th>2</th>\n",
       "      <td>audi</td>\n",
       "      <td>17859.166714</td>\n",
       "      <td>13950.0</td>\n",
       "      <td>23875.0</td>\n",
       "      <td>7</td>\n",
       "    </tr>\n",
       "    <tr>\n",
       "      <th>3</th>\n",
       "      <td>bmw</td>\n",
       "      <td>26118.750000</td>\n",
       "      <td>16430.0</td>\n",
       "      <td>41315.0</td>\n",
       "      <td>8</td>\n",
       "    </tr>\n",
       "    <tr>\n",
       "      <th>4</th>\n",
       "      <td>buick</td>\n",
       "      <td>33647.000000</td>\n",
       "      <td>25552.0</td>\n",
       "      <td>45400.0</td>\n",
       "      <td>8</td>\n",
       "    </tr>\n",
       "    <tr>\n",
       "      <th>5</th>\n",
       "      <td>chevrolet</td>\n",
       "      <td>6007.000000</td>\n",
       "      <td>5151.0</td>\n",
       "      <td>6575.0</td>\n",
       "      <td>3</td>\n",
       "    </tr>\n",
       "    <tr>\n",
       "      <th>6</th>\n",
       "      <td>dodge</td>\n",
       "      <td>7875.444444</td>\n",
       "      <td>5572.0</td>\n",
       "      <td>12964.0</td>\n",
       "      <td>9</td>\n",
       "    </tr>\n",
       "    <tr>\n",
       "      <th>7</th>\n",
       "      <td>honda</td>\n",
       "      <td>8184.692308</td>\n",
       "      <td>5399.0</td>\n",
       "      <td>12945.0</td>\n",
       "      <td>13</td>\n",
       "    </tr>\n",
       "    <tr>\n",
       "      <th>8</th>\n",
       "      <td>isuzu</td>\n",
       "      <td>8916.500000</td>\n",
       "      <td>6785.0</td>\n",
       "      <td>11048.0</td>\n",
       "      <td>4</td>\n",
       "    </tr>\n",
       "    <tr>\n",
       "      <th>9</th>\n",
       "      <td>jaguar</td>\n",
       "      <td>34600.000000</td>\n",
       "      <td>32250.0</td>\n",
       "      <td>36000.0</td>\n",
       "      <td>3</td>\n",
       "    </tr>\n",
       "    <tr>\n",
       "      <th>10</th>\n",
       "      <td>mazda</td>\n",
       "      <td>10652.882353</td>\n",
       "      <td>5195.0</td>\n",
       "      <td>18344.0</td>\n",
       "      <td>17</td>\n",
       "    </tr>\n",
       "    <tr>\n",
       "      <th>11</th>\n",
       "      <td>mercury</td>\n",
       "      <td>16503.000000</td>\n",
       "      <td>16503.0</td>\n",
       "      <td>16503.0</td>\n",
       "      <td>1</td>\n",
       "    </tr>\n",
       "    <tr>\n",
       "      <th>12</th>\n",
       "      <td>mitsubishi</td>\n",
       "      <td>9239.769231</td>\n",
       "      <td>5389.0</td>\n",
       "      <td>14869.0</td>\n",
       "      <td>13</td>\n",
       "    </tr>\n",
       "    <tr>\n",
       "      <th>13</th>\n",
       "      <td>nissan</td>\n",
       "      <td>10704.882353</td>\n",
       "      <td>6649.0</td>\n",
       "      <td>19699.0</td>\n",
       "      <td>17</td>\n",
       "    </tr>\n",
       "    <tr>\n",
       "      <th>14</th>\n",
       "      <td>peugeot</td>\n",
       "      <td>15489.090909</td>\n",
       "      <td>11900.0</td>\n",
       "      <td>18150.0</td>\n",
       "      <td>11</td>\n",
       "    </tr>\n",
       "    <tr>\n",
       "      <th>15</th>\n",
       "      <td>plymouth</td>\n",
       "      <td>7963.428571</td>\n",
       "      <td>5572.0</td>\n",
       "      <td>12764.0</td>\n",
       "      <td>7</td>\n",
       "    </tr>\n",
       "    <tr>\n",
       "      <th>16</th>\n",
       "      <td>porsche</td>\n",
       "      <td>31400.500000</td>\n",
       "      <td>22018.0</td>\n",
       "      <td>37028.0</td>\n",
       "      <td>5</td>\n",
       "    </tr>\n",
       "    <tr>\n",
       "      <th>17</th>\n",
       "      <td>renault</td>\n",
       "      <td>9595.000000</td>\n",
       "      <td>9295.0</td>\n",
       "      <td>9895.0</td>\n",
       "      <td>2</td>\n",
       "    </tr>\n",
       "    <tr>\n",
       "      <th>18</th>\n",
       "      <td>saab</td>\n",
       "      <td>15223.333333</td>\n",
       "      <td>11850.0</td>\n",
       "      <td>18620.0</td>\n",
       "      <td>6</td>\n",
       "    </tr>\n",
       "    <tr>\n",
       "      <th>19</th>\n",
       "      <td>subaru</td>\n",
       "      <td>8541.250000</td>\n",
       "      <td>5118.0</td>\n",
       "      <td>11694.0</td>\n",
       "      <td>12</td>\n",
       "    </tr>\n",
       "    <tr>\n",
       "      <th>20</th>\n",
       "      <td>toyota</td>\n",
       "      <td>9885.812500</td>\n",
       "      <td>5348.0</td>\n",
       "      <td>17669.0</td>\n",
       "      <td>32</td>\n",
       "    </tr>\n",
       "    <tr>\n",
       "      <th>21</th>\n",
       "      <td>volkswagen</td>\n",
       "      <td>10077.500000</td>\n",
       "      <td>7775.0</td>\n",
       "      <td>13845.0</td>\n",
       "      <td>12</td>\n",
       "    </tr>\n",
       "    <tr>\n",
       "      <th>22</th>\n",
       "      <td>volvo</td>\n",
       "      <td>18063.181818</td>\n",
       "      <td>12940.0</td>\n",
       "      <td>22625.0</td>\n",
       "      <td>11</td>\n",
       "    </tr>\n",
       "  </tbody>\n",
       "</table>\n",
       "</div>"
      ],
      "text/plain": [
       "        CarName          mean      min      max  count\n",
       "0        Nissan   5499.000000   5499.0   5499.0      1\n",
       "1   alfa-romero  15498.333333  13495.0  16500.0      3\n",
       "2          audi  17859.166714  13950.0  23875.0      7\n",
       "3           bmw  26118.750000  16430.0  41315.0      8\n",
       "4         buick  33647.000000  25552.0  45400.0      8\n",
       "5     chevrolet   6007.000000   5151.0   6575.0      3\n",
       "6         dodge   7875.444444   5572.0  12964.0      9\n",
       "7         honda   8184.692308   5399.0  12945.0     13\n",
       "8         isuzu   8916.500000   6785.0  11048.0      4\n",
       "9        jaguar  34600.000000  32250.0  36000.0      3\n",
       "10        mazda  10652.882353   5195.0  18344.0     17\n",
       "11      mercury  16503.000000  16503.0  16503.0      1\n",
       "12   mitsubishi   9239.769231   5389.0  14869.0     13\n",
       "13       nissan  10704.882353   6649.0  19699.0     17\n",
       "14      peugeot  15489.090909  11900.0  18150.0     11\n",
       "15     plymouth   7963.428571   5572.0  12764.0      7\n",
       "16      porsche  31400.500000  22018.0  37028.0      5\n",
       "17      renault   9595.000000   9295.0   9895.0      2\n",
       "18         saab  15223.333333  11850.0  18620.0      6\n",
       "19       subaru   8541.250000   5118.0  11694.0     12\n",
       "20       toyota   9885.812500   5348.0  17669.0     32\n",
       "21   volkswagen  10077.500000   7775.0  13845.0     12\n",
       "22        volvo  18063.181818  12940.0  22625.0     11"
      ]
     },
     "execution_count": 9,
     "metadata": {},
     "output_type": "execute_result"
    }
   ],
   "source": [
    "carname_price"
   ]
  },
  {
   "cell_type": "code",
   "execution_count": 10,
   "metadata": {},
   "outputs": [
    {
     "data": {
      "text/plain": [
       "array(['alfa-romero', 'audi', 'bmw', 'chevrolet', 'dodge', 'honda',\n",
       "       'isuzu', 'jaguar', 'mazda', 'buick', 'mercury', 'mitsubishi',\n",
       "       'Nissan', 'nissan', 'peugeot', 'plymouth', 'porsche', 'renault',\n",
       "       'saab', 'subaru', 'toyota', 'volkswagen', 'volvo'], dtype=object)"
      ]
     },
     "execution_count": 10,
     "metadata": {},
     "output_type": "execute_result"
    }
   ],
   "source": [
    "df[\"CarName\"].unique()"
   ]
  },
  {
   "cell_type": "code",
   "execution_count": 11,
   "metadata": {},
   "outputs": [],
   "source": [
    "df[\"CarName\"] = df[\"CarName\"].apply(str.lower)"
   ]
  },
  {
   "cell_type": "code",
   "execution_count": 12,
   "metadata": {},
   "outputs": [
    {
     "name": "stdout",
     "output_type": "stream",
     "text": [
      "<class 'pandas.core.frame.DataFrame'>\n",
      "RangeIndex: 205 entries, 0 to 204\n",
      "Data columns (total 27 columns):\n",
      " #   Column            Non-Null Count  Dtype  \n",
      "---  ------            --------------  -----  \n",
      " 0   car_ID            205 non-null    int64  \n",
      " 1   symboling         205 non-null    int64  \n",
      " 2   CarName           205 non-null    object \n",
      " 3   fueltype          205 non-null    object \n",
      " 4   aspiration        205 non-null    object \n",
      " 5   doornumber        205 non-null    object \n",
      " 6   carbody           205 non-null    object \n",
      " 7   drivewheel        205 non-null    object \n",
      " 8   enginelocation    205 non-null    object \n",
      " 9   wheelbase         205 non-null    float64\n",
      " 10  carlength         205 non-null    float64\n",
      " 11  carwidth          205 non-null    float64\n",
      " 12  carheight         205 non-null    float64\n",
      " 13  curbweight        205 non-null    int64  \n",
      " 14  enginetype        205 non-null    object \n",
      " 15  cylindernumber    205 non-null    object \n",
      " 16  enginesize        205 non-null    int64  \n",
      " 17  fuelsystem        205 non-null    object \n",
      " 18  boreratio         205 non-null    float64\n",
      " 19  stroke            205 non-null    float64\n",
      " 20  compressionratio  205 non-null    float64\n",
      " 21  horsepower        205 non-null    int64  \n",
      " 22  peakrpm           205 non-null    int64  \n",
      " 23  citympg           205 non-null    int64  \n",
      " 24  highwaympg        205 non-null    int64  \n",
      " 25  price             205 non-null    float64\n",
      " 26  highwaympg.1      205 non-null    int64  \n",
      "dtypes: float64(8), int64(9), object(10)\n",
      "memory usage: 43.4+ KB\n"
     ]
    }
   ],
   "source": [
    "df.info()"
   ]
  },
  {
   "cell_type": "code",
   "execution_count": 13,
   "metadata": {},
   "outputs": [
    {
     "data": {
      "text/plain": [
       "Index(['car_ID', 'symboling', 'CarName', 'fueltype', 'aspiration',\n",
       "       'doornumber', 'carbody', 'drivewheel', 'enginelocation', 'wheelbase',\n",
       "       'carlength', 'carwidth', 'carheight', 'curbweight', 'enginetype',\n",
       "       'cylindernumber', 'enginesize', 'fuelsystem', 'boreratio', 'stroke',\n",
       "       'compressionratio', 'horsepower', 'peakrpm', 'citympg', 'highwaympg',\n",
       "       'price', 'highwaympg.1'],\n",
       "      dtype='object')"
      ]
     },
     "execution_count": 13,
     "metadata": {},
     "output_type": "execute_result"
    }
   ],
   "source": [
    "df.columns"
   ]
  },
  {
   "cell_type": "code",
   "execution_count": 14,
   "metadata": {},
   "outputs": [
    {
     "data": {
      "text/plain": [
       "Index(['car_id', 'symboling', 'carname', 'fueltype', 'aspiration',\n",
       "       'doornumber', 'carbody', 'drivewheel', 'enginelocation', 'wheelbase',\n",
       "       'carlength', 'carwidth', 'carheight', 'curbweight', 'enginetype',\n",
       "       'cylindernumber', 'enginesize', 'fuelsystem', 'boreratio', 'stroke',\n",
       "       'compressionratio', 'horsepower', 'peakrpm', 'citympg', 'highwaympg',\n",
       "       'price', 'highwaympg.1'],\n",
       "      dtype='object')"
      ]
     },
     "execution_count": 14,
     "metadata": {},
     "output_type": "execute_result"
    }
   ],
   "source": [
    "df.columns.str.lower().str.replace(' ', '_')"
   ]
  },
  {
   "cell_type": "code",
   "execution_count": 15,
   "metadata": {},
   "outputs": [
    {
     "data": {
      "text/plain": [
       "RangeIndex(start=0, stop=205, step=1)"
      ]
     },
     "execution_count": 15,
     "metadata": {},
     "output_type": "execute_result"
    }
   ],
   "source": [
    "df.index"
   ]
  },
  {
   "cell_type": "code",
   "execution_count": 16,
   "metadata": {},
   "outputs": [
    {
     "data": {
      "application/vnd.microsoft.datawrangler.viewer.v0+json": {
       "columns": [
        {
         "name": "index",
         "rawType": "object",
         "type": "string"
        },
        {
         "name": "car_ID",
         "rawType": "float64",
         "type": "float"
        },
        {
         "name": "symboling",
         "rawType": "float64",
         "type": "float"
        },
        {
         "name": "wheelbase",
         "rawType": "float64",
         "type": "float"
        },
        {
         "name": "carlength",
         "rawType": "float64",
         "type": "float"
        },
        {
         "name": "carwidth",
         "rawType": "float64",
         "type": "float"
        },
        {
         "name": "carheight",
         "rawType": "float64",
         "type": "float"
        },
        {
         "name": "curbweight",
         "rawType": "float64",
         "type": "float"
        },
        {
         "name": "enginesize",
         "rawType": "float64",
         "type": "float"
        },
        {
         "name": "boreratio",
         "rawType": "float64",
         "type": "float"
        },
        {
         "name": "stroke",
         "rawType": "float64",
         "type": "float"
        },
        {
         "name": "compressionratio",
         "rawType": "float64",
         "type": "float"
        },
        {
         "name": "horsepower",
         "rawType": "float64",
         "type": "float"
        },
        {
         "name": "peakrpm",
         "rawType": "float64",
         "type": "float"
        },
        {
         "name": "citympg",
         "rawType": "float64",
         "type": "float"
        },
        {
         "name": "highwaympg",
         "rawType": "float64",
         "type": "float"
        },
        {
         "name": "price",
         "rawType": "float64",
         "type": "float"
        },
        {
         "name": "highwaympg.1",
         "rawType": "float64",
         "type": "float"
        }
       ],
       "conversionMethod": "pd.DataFrame",
       "ref": "50de429d-d972-4e61-9398-1d95676d6651",
       "rows": [
        [
         "count",
         "205.0",
         "205.0",
         "205.0",
         "205.0",
         "205.0",
         "205.0",
         "205.0",
         "205.0",
         "205.0",
         "205.0",
         "205.0",
         "205.0",
         "205.0",
         "205.0",
         "205.0",
         "205.0",
         "205.0"
        ],
        [
         "mean",
         "103.0",
         "1.0",
         "99.0",
         "174.0",
         "66.0",
         "54.0",
         "2556.0",
         "127.0",
         "3.0",
         "3.0",
         "10.0",
         "104.0",
         "5125.0",
         "25.0",
         "31.0",
         "13277.0",
         "31.0"
        ],
        [
         "std",
         "59.0",
         "1.0",
         "6.0",
         "12.0",
         "2.0",
         "2.0",
         "521.0",
         "42.0",
         "0.0",
         "0.0",
         "4.0",
         "40.0",
         "477.0",
         "7.0",
         "7.0",
         "7989.0",
         "7.0"
        ],
        [
         "min",
         "1.0",
         "-2.0",
         "87.0",
         "141.0",
         "60.0",
         "48.0",
         "1488.0",
         "61.0",
         "3.0",
         "2.0",
         "7.0",
         "48.0",
         "4150.0",
         "13.0",
         "16.0",
         "5118.0",
         "16.0"
        ],
        [
         "25%",
         "52.0",
         "0.0",
         "94.0",
         "166.0",
         "64.0",
         "52.0",
         "2145.0",
         "97.0",
         "3.0",
         "3.0",
         "9.0",
         "70.0",
         "4800.0",
         "19.0",
         "25.0",
         "7788.0",
         "25.0"
        ],
        [
         "50%",
         "103.0",
         "1.0",
         "97.0",
         "173.0",
         "66.0",
         "54.0",
         "2414.0",
         "120.0",
         "3.0",
         "3.0",
         "9.0",
         "95.0",
         "5200.0",
         "24.0",
         "30.0",
         "10295.0",
         "30.0"
        ],
        [
         "75%",
         "154.0",
         "2.0",
         "102.0",
         "183.0",
         "67.0",
         "56.0",
         "2935.0",
         "141.0",
         "4.0",
         "3.0",
         "9.0",
         "116.0",
         "5500.0",
         "30.0",
         "34.0",
         "16503.0",
         "34.0"
        ],
        [
         "max",
         "205.0",
         "3.0",
         "121.0",
         "208.0",
         "72.0",
         "60.0",
         "4066.0",
         "326.0",
         "4.0",
         "4.0",
         "23.0",
         "288.0",
         "6600.0",
         "49.0",
         "54.0",
         "45400.0",
         "54.0"
        ]
       ],
       "shape": {
        "columns": 17,
        "rows": 8
       }
      },
      "text/html": [
       "<div>\n",
       "<style scoped>\n",
       "    .dataframe tbody tr th:only-of-type {\n",
       "        vertical-align: middle;\n",
       "    }\n",
       "\n",
       "    .dataframe tbody tr th {\n",
       "        vertical-align: top;\n",
       "    }\n",
       "\n",
       "    .dataframe thead th {\n",
       "        text-align: right;\n",
       "    }\n",
       "</style>\n",
       "<table border=\"1\" class=\"dataframe\">\n",
       "  <thead>\n",
       "    <tr style=\"text-align: right;\">\n",
       "      <th></th>\n",
       "      <th>car_ID</th>\n",
       "      <th>symboling</th>\n",
       "      <th>wheelbase</th>\n",
       "      <th>carlength</th>\n",
       "      <th>carwidth</th>\n",
       "      <th>carheight</th>\n",
       "      <th>curbweight</th>\n",
       "      <th>enginesize</th>\n",
       "      <th>boreratio</th>\n",
       "      <th>stroke</th>\n",
       "      <th>compressionratio</th>\n",
       "      <th>horsepower</th>\n",
       "      <th>peakrpm</th>\n",
       "      <th>citympg</th>\n",
       "      <th>highwaympg</th>\n",
       "      <th>price</th>\n",
       "      <th>highwaympg.1</th>\n",
       "    </tr>\n",
       "  </thead>\n",
       "  <tbody>\n",
       "    <tr>\n",
       "      <th>count</th>\n",
       "      <td>205.0</td>\n",
       "      <td>205.0</td>\n",
       "      <td>205.0</td>\n",
       "      <td>205.0</td>\n",
       "      <td>205.0</td>\n",
       "      <td>205.0</td>\n",
       "      <td>205.0</td>\n",
       "      <td>205.0</td>\n",
       "      <td>205.0</td>\n",
       "      <td>205.0</td>\n",
       "      <td>205.0</td>\n",
       "      <td>205.0</td>\n",
       "      <td>205.0</td>\n",
       "      <td>205.0</td>\n",
       "      <td>205.0</td>\n",
       "      <td>205.0</td>\n",
       "      <td>205.0</td>\n",
       "    </tr>\n",
       "    <tr>\n",
       "      <th>mean</th>\n",
       "      <td>103.0</td>\n",
       "      <td>1.0</td>\n",
       "      <td>99.0</td>\n",
       "      <td>174.0</td>\n",
       "      <td>66.0</td>\n",
       "      <td>54.0</td>\n",
       "      <td>2556.0</td>\n",
       "      <td>127.0</td>\n",
       "      <td>3.0</td>\n",
       "      <td>3.0</td>\n",
       "      <td>10.0</td>\n",
       "      <td>104.0</td>\n",
       "      <td>5125.0</td>\n",
       "      <td>25.0</td>\n",
       "      <td>31.0</td>\n",
       "      <td>13277.0</td>\n",
       "      <td>31.0</td>\n",
       "    </tr>\n",
       "    <tr>\n",
       "      <th>std</th>\n",
       "      <td>59.0</td>\n",
       "      <td>1.0</td>\n",
       "      <td>6.0</td>\n",
       "      <td>12.0</td>\n",
       "      <td>2.0</td>\n",
       "      <td>2.0</td>\n",
       "      <td>521.0</td>\n",
       "      <td>42.0</td>\n",
       "      <td>0.0</td>\n",
       "      <td>0.0</td>\n",
       "      <td>4.0</td>\n",
       "      <td>40.0</td>\n",
       "      <td>477.0</td>\n",
       "      <td>7.0</td>\n",
       "      <td>7.0</td>\n",
       "      <td>7989.0</td>\n",
       "      <td>7.0</td>\n",
       "    </tr>\n",
       "    <tr>\n",
       "      <th>min</th>\n",
       "      <td>1.0</td>\n",
       "      <td>-2.0</td>\n",
       "      <td>87.0</td>\n",
       "      <td>141.0</td>\n",
       "      <td>60.0</td>\n",
       "      <td>48.0</td>\n",
       "      <td>1488.0</td>\n",
       "      <td>61.0</td>\n",
       "      <td>3.0</td>\n",
       "      <td>2.0</td>\n",
       "      <td>7.0</td>\n",
       "      <td>48.0</td>\n",
       "      <td>4150.0</td>\n",
       "      <td>13.0</td>\n",
       "      <td>16.0</td>\n",
       "      <td>5118.0</td>\n",
       "      <td>16.0</td>\n",
       "    </tr>\n",
       "    <tr>\n",
       "      <th>25%</th>\n",
       "      <td>52.0</td>\n",
       "      <td>0.0</td>\n",
       "      <td>94.0</td>\n",
       "      <td>166.0</td>\n",
       "      <td>64.0</td>\n",
       "      <td>52.0</td>\n",
       "      <td>2145.0</td>\n",
       "      <td>97.0</td>\n",
       "      <td>3.0</td>\n",
       "      <td>3.0</td>\n",
       "      <td>9.0</td>\n",
       "      <td>70.0</td>\n",
       "      <td>4800.0</td>\n",
       "      <td>19.0</td>\n",
       "      <td>25.0</td>\n",
       "      <td>7788.0</td>\n",
       "      <td>25.0</td>\n",
       "    </tr>\n",
       "    <tr>\n",
       "      <th>50%</th>\n",
       "      <td>103.0</td>\n",
       "      <td>1.0</td>\n",
       "      <td>97.0</td>\n",
       "      <td>173.0</td>\n",
       "      <td>66.0</td>\n",
       "      <td>54.0</td>\n",
       "      <td>2414.0</td>\n",
       "      <td>120.0</td>\n",
       "      <td>3.0</td>\n",
       "      <td>3.0</td>\n",
       "      <td>9.0</td>\n",
       "      <td>95.0</td>\n",
       "      <td>5200.0</td>\n",
       "      <td>24.0</td>\n",
       "      <td>30.0</td>\n",
       "      <td>10295.0</td>\n",
       "      <td>30.0</td>\n",
       "    </tr>\n",
       "    <tr>\n",
       "      <th>75%</th>\n",
       "      <td>154.0</td>\n",
       "      <td>2.0</td>\n",
       "      <td>102.0</td>\n",
       "      <td>183.0</td>\n",
       "      <td>67.0</td>\n",
       "      <td>56.0</td>\n",
       "      <td>2935.0</td>\n",
       "      <td>141.0</td>\n",
       "      <td>4.0</td>\n",
       "      <td>3.0</td>\n",
       "      <td>9.0</td>\n",
       "      <td>116.0</td>\n",
       "      <td>5500.0</td>\n",
       "      <td>30.0</td>\n",
       "      <td>34.0</td>\n",
       "      <td>16503.0</td>\n",
       "      <td>34.0</td>\n",
       "    </tr>\n",
       "    <tr>\n",
       "      <th>max</th>\n",
       "      <td>205.0</td>\n",
       "      <td>3.0</td>\n",
       "      <td>121.0</td>\n",
       "      <td>208.0</td>\n",
       "      <td>72.0</td>\n",
       "      <td>60.0</td>\n",
       "      <td>4066.0</td>\n",
       "      <td>326.0</td>\n",
       "      <td>4.0</td>\n",
       "      <td>4.0</td>\n",
       "      <td>23.0</td>\n",
       "      <td>288.0</td>\n",
       "      <td>6600.0</td>\n",
       "      <td>49.0</td>\n",
       "      <td>54.0</td>\n",
       "      <td>45400.0</td>\n",
       "      <td>54.0</td>\n",
       "    </tr>\n",
       "  </tbody>\n",
       "</table>\n",
       "</div>"
      ],
      "text/plain": [
       "       car_ID  symboling  wheelbase  carlength  carwidth  carheight  \\\n",
       "count   205.0      205.0      205.0      205.0     205.0      205.0   \n",
       "mean    103.0        1.0       99.0      174.0      66.0       54.0   \n",
       "std      59.0        1.0        6.0       12.0       2.0        2.0   \n",
       "min       1.0       -2.0       87.0      141.0      60.0       48.0   \n",
       "25%      52.0        0.0       94.0      166.0      64.0       52.0   \n",
       "50%     103.0        1.0       97.0      173.0      66.0       54.0   \n",
       "75%     154.0        2.0      102.0      183.0      67.0       56.0   \n",
       "max     205.0        3.0      121.0      208.0      72.0       60.0   \n",
       "\n",
       "       curbweight  enginesize  boreratio  stroke  compressionratio  \\\n",
       "count       205.0       205.0      205.0   205.0             205.0   \n",
       "mean       2556.0       127.0        3.0     3.0              10.0   \n",
       "std         521.0        42.0        0.0     0.0               4.0   \n",
       "min        1488.0        61.0        3.0     2.0               7.0   \n",
       "25%        2145.0        97.0        3.0     3.0               9.0   \n",
       "50%        2414.0       120.0        3.0     3.0               9.0   \n",
       "75%        2935.0       141.0        4.0     3.0               9.0   \n",
       "max        4066.0       326.0        4.0     4.0              23.0   \n",
       "\n",
       "       horsepower  peakrpm  citympg  highwaympg    price  highwaympg.1  \n",
       "count       205.0    205.0    205.0       205.0    205.0         205.0  \n",
       "mean        104.0   5125.0     25.0        31.0  13277.0          31.0  \n",
       "std          40.0    477.0      7.0         7.0   7989.0           7.0  \n",
       "min          48.0   4150.0     13.0        16.0   5118.0          16.0  \n",
       "25%          70.0   4800.0     19.0        25.0   7788.0          25.0  \n",
       "50%          95.0   5200.0     24.0        30.0  10295.0          30.0  \n",
       "75%         116.0   5500.0     30.0        34.0  16503.0          34.0  \n",
       "max         288.0   6600.0     49.0        54.0  45400.0          54.0  "
      ]
     },
     "execution_count": 16,
     "metadata": {},
     "output_type": "execute_result"
    }
   ],
   "source": [
    "round(df.describe())"
   ]
  },
  {
   "cell_type": "code",
   "execution_count": 17,
   "metadata": {},
   "outputs": [
    {
     "data": {
      "application/vnd.microsoft.datawrangler.viewer.v0+json": {
       "columns": [
        {
         "name": "index",
         "rawType": "object",
         "type": "string"
        },
        {
         "name": "CarName",
         "rawType": "object",
         "type": "unknown"
        },
        {
         "name": "fueltype",
         "rawType": "object",
         "type": "unknown"
        },
        {
         "name": "aspiration",
         "rawType": "object",
         "type": "unknown"
        },
        {
         "name": "doornumber",
         "rawType": "object",
         "type": "unknown"
        },
        {
         "name": "carbody",
         "rawType": "object",
         "type": "unknown"
        },
        {
         "name": "drivewheel",
         "rawType": "object",
         "type": "unknown"
        },
        {
         "name": "enginelocation",
         "rawType": "object",
         "type": "unknown"
        },
        {
         "name": "enginetype",
         "rawType": "object",
         "type": "unknown"
        },
        {
         "name": "cylindernumber",
         "rawType": "object",
         "type": "unknown"
        },
        {
         "name": "fuelsystem",
         "rawType": "object",
         "type": "unknown"
        }
       ],
       "conversionMethod": "pd.DataFrame",
       "ref": "dee39bf1-8bb1-487f-924c-5537f18c5cfb",
       "rows": [
        [
         "count",
         "205",
         "205",
         "205",
         "205",
         "205",
         "205",
         "205",
         "205",
         "205",
         "205"
        ],
        [
         "unique",
         "22",
         "2",
         "2",
         "2",
         "5",
         "3",
         "2",
         "7",
         "7",
         "8"
        ],
        [
         "top",
         "toyota",
         "gas",
         "std",
         "four",
         "sedan",
         "fwd",
         "front",
         "ohc",
         "four",
         "mpfi"
        ],
        [
         "freq",
         "32",
         "185",
         "168",
         "115",
         "96",
         "120",
         "202",
         "148",
         "159",
         "94"
        ]
       ],
       "shape": {
        "columns": 10,
        "rows": 4
       }
      },
      "text/html": [
       "<div>\n",
       "<style scoped>\n",
       "    .dataframe tbody tr th:only-of-type {\n",
       "        vertical-align: middle;\n",
       "    }\n",
       "\n",
       "    .dataframe tbody tr th {\n",
       "        vertical-align: top;\n",
       "    }\n",
       "\n",
       "    .dataframe thead th {\n",
       "        text-align: right;\n",
       "    }\n",
       "</style>\n",
       "<table border=\"1\" class=\"dataframe\">\n",
       "  <thead>\n",
       "    <tr style=\"text-align: right;\">\n",
       "      <th></th>\n",
       "      <th>CarName</th>\n",
       "      <th>fueltype</th>\n",
       "      <th>aspiration</th>\n",
       "      <th>doornumber</th>\n",
       "      <th>carbody</th>\n",
       "      <th>drivewheel</th>\n",
       "      <th>enginelocation</th>\n",
       "      <th>enginetype</th>\n",
       "      <th>cylindernumber</th>\n",
       "      <th>fuelsystem</th>\n",
       "    </tr>\n",
       "  </thead>\n",
       "  <tbody>\n",
       "    <tr>\n",
       "      <th>count</th>\n",
       "      <td>205</td>\n",
       "      <td>205</td>\n",
       "      <td>205</td>\n",
       "      <td>205</td>\n",
       "      <td>205</td>\n",
       "      <td>205</td>\n",
       "      <td>205</td>\n",
       "      <td>205</td>\n",
       "      <td>205</td>\n",
       "      <td>205</td>\n",
       "    </tr>\n",
       "    <tr>\n",
       "      <th>unique</th>\n",
       "      <td>22</td>\n",
       "      <td>2</td>\n",
       "      <td>2</td>\n",
       "      <td>2</td>\n",
       "      <td>5</td>\n",
       "      <td>3</td>\n",
       "      <td>2</td>\n",
       "      <td>7</td>\n",
       "      <td>7</td>\n",
       "      <td>8</td>\n",
       "    </tr>\n",
       "    <tr>\n",
       "      <th>top</th>\n",
       "      <td>toyota</td>\n",
       "      <td>gas</td>\n",
       "      <td>std</td>\n",
       "      <td>four</td>\n",
       "      <td>sedan</td>\n",
       "      <td>fwd</td>\n",
       "      <td>front</td>\n",
       "      <td>ohc</td>\n",
       "      <td>four</td>\n",
       "      <td>mpfi</td>\n",
       "    </tr>\n",
       "    <tr>\n",
       "      <th>freq</th>\n",
       "      <td>32</td>\n",
       "      <td>185</td>\n",
       "      <td>168</td>\n",
       "      <td>115</td>\n",
       "      <td>96</td>\n",
       "      <td>120</td>\n",
       "      <td>202</td>\n",
       "      <td>148</td>\n",
       "      <td>159</td>\n",
       "      <td>94</td>\n",
       "    </tr>\n",
       "  </tbody>\n",
       "</table>\n",
       "</div>"
      ],
      "text/plain": [
       "       CarName fueltype aspiration doornumber carbody drivewheel  \\\n",
       "count      205      205        205        205     205        205   \n",
       "unique      22        2          2          2       5          3   \n",
       "top     toyota      gas        std       four   sedan        fwd   \n",
       "freq        32      185        168        115      96        120   \n",
       "\n",
       "       enginelocation enginetype cylindernumber fuelsystem  \n",
       "count             205        205            205        205  \n",
       "unique              2          7              7          8  \n",
       "top             front        ohc           four       mpfi  \n",
       "freq              202        148            159         94  "
      ]
     },
     "execution_count": 17,
     "metadata": {},
     "output_type": "execute_result"
    }
   ],
   "source": [
    "#df.describe(include='all')\n",
    "df.describe(include='object')"
   ]
  },
  {
   "cell_type": "code",
   "execution_count": 18,
   "metadata": {},
   "outputs": [
    {
     "data": {
      "text/plain": [
       "Index(['CarName', 'fueltype', 'aspiration', 'doornumber', 'carbody',\n",
       "       'drivewheel', 'enginelocation', 'enginetype', 'cylindernumber',\n",
       "       'fuelsystem'],\n",
       "      dtype='object')"
      ]
     },
     "execution_count": 18,
     "metadata": {},
     "output_type": "execute_result"
    }
   ],
   "source": [
    "df.select_dtypes(include='object').columns"
   ]
  },
  {
   "cell_type": "code",
   "execution_count": 19,
   "metadata": {},
   "outputs": [
    {
     "data": {
      "text/plain": [
       "car_ID              0\n",
       "symboling           0\n",
       "CarName             0\n",
       "fueltype            0\n",
       "aspiration          0\n",
       "doornumber          0\n",
       "carbody             0\n",
       "drivewheel          0\n",
       "enginelocation      0\n",
       "wheelbase           0\n",
       "carlength           0\n",
       "carwidth            0\n",
       "carheight           0\n",
       "curbweight          0\n",
       "enginetype          0\n",
       "cylindernumber      0\n",
       "enginesize          0\n",
       "fuelsystem          0\n",
       "boreratio           0\n",
       "stroke              0\n",
       "compressionratio    0\n",
       "horsepower          0\n",
       "peakrpm             0\n",
       "citympg             0\n",
       "highwaympg          0\n",
       "price               0\n",
       "highwaympg.1        0\n",
       "dtype: int64"
      ]
     },
     "execution_count": 19,
     "metadata": {},
     "output_type": "execute_result"
    }
   ],
   "source": [
    "df.isnull().sum()"
   ]
  },
  {
   "cell_type": "code",
   "execution_count": 20,
   "metadata": {},
   "outputs": [
    {
     "data": {
      "text/plain": [
       "np.int64(0)"
      ]
     },
     "execution_count": 20,
     "metadata": {},
     "output_type": "execute_result"
    }
   ],
   "source": [
    "df.duplicated().sum()"
   ]
  },
  {
   "cell_type": "code",
   "execution_count": 21,
   "metadata": {},
   "outputs": [
    {
     "data": {
      "text/plain": [
       "array(['gas', 'diesel'], dtype=object)"
      ]
     },
     "execution_count": 21,
     "metadata": {},
     "output_type": "execute_result"
    }
   ],
   "source": [
    "df[\"fueltype\"].unique()\n",
    "#df.fueltype"
   ]
  },
  {
   "cell_type": "code",
   "execution_count": 22,
   "metadata": {},
   "outputs": [
    {
     "data": {
      "text/plain": [
       "2"
      ]
     },
     "execution_count": 22,
     "metadata": {},
     "output_type": "execute_result"
    }
   ],
   "source": [
    "len(df[\"fueltype\"].unique())"
   ]
  },
  {
   "cell_type": "code",
   "execution_count": 23,
   "metadata": {},
   "outputs": [
    {
     "data": {
      "text/plain": [
       "2"
      ]
     },
     "execution_count": 23,
     "metadata": {},
     "output_type": "execute_result"
    }
   ],
   "source": [
    "df[\"fueltype\"].nunique()"
   ]
  },
  {
   "cell_type": "code",
   "execution_count": 24,
   "metadata": {},
   "outputs": [
    {
     "data": {
      "text/plain": [
       "np.int64(205)"
      ]
     },
     "execution_count": 24,
     "metadata": {},
     "output_type": "execute_result"
    }
   ],
   "source": [
    "df[\"fueltype\"].count()"
   ]
  },
  {
   "cell_type": "code",
   "execution_count": 25,
   "metadata": {},
   "outputs": [
    {
     "data": {
      "text/plain": [
       "'def data_info(data):\\n    return pd.DataFrame({\"Data Type\":data.dtypes, \"No of Unique Data\":data.nunique(), \"No of Missing Data\":data.isnull().sum(), \"No of Duplicate Data\":data.duplicated().sum()})'"
      ]
     },
     "execution_count": 25,
     "metadata": {},
     "output_type": "execute_result"
    }
   ],
   "source": [
    "\"\"\"def data_info(data):\n",
    "    return pd.DataFrame({\"Data Type\":data.dtypes, \"No of Unique Data\":data.nunique(), \"No of Missing Data\":data.isnull().sum(), \"No of Duplicate Data\":data.duplicated().sum()})\"\"\""
   ]
  },
  {
   "cell_type": "code",
   "execution_count": 26,
   "metadata": {},
   "outputs": [
    {
     "data": {
      "text/plain": [
       "'def data_info(data):\\n    for col in data.columns:\\n        print(\"Data Type: \", data.dtypes)\\n        print(\"No of Unique Data: \", data.nunique())\\n        print(\"No of Missing Data: \", data.isnull().sum())\\n        print(\"No of Duplicate Data: \", data.duplicated().sum())'"
      ]
     },
     "execution_count": 26,
     "metadata": {},
     "output_type": "execute_result"
    }
   ],
   "source": [
    "\"\"\"def data_info(data):\n",
    "    for col in data.columns:\n",
    "        print(\"Data Type: \", data.dtypes)\n",
    "        print(\"No of Unique Data: \", data.nunique())\n",
    "        print(\"No of Missing Data: \", data.isnull().sum())\n",
    "        print(\"No of Duplicate Data: \", data.duplicated().sum())\"\"\""
   ]
  },
  {
   "cell_type": "code",
   "execution_count": 27,
   "metadata": {},
   "outputs": [],
   "source": [
    "def data_info(data):\n",
    "  try:\n",
    "    col_name = []\n",
    "    col_count = []\n",
    "    missing = []\n",
    "    n_unique = []\n",
    "    unique = []\n",
    "    for col in data.columns:\n",
    "      col_name.append(col)\n",
    "      col_count.append(data[col].count())\n",
    "      missing.append(data[col].isna().sum())\n",
    "      n_unique.append(data[col].nunique())\n",
    "      unique.append(data[col].unique())\n",
    "    return pd.DataFrame({\"Column Name\":col_name, \"Column Count\":col_count, \"Missing Data\":missing, \"No of Unique Data\":n_unique, \"Unique Data\":unique})\n",
    "  except Exception as e:\n",
    "    print(e) \n",
    "  "
   ]
  },
  {
   "cell_type": "code",
   "execution_count": 28,
   "metadata": {},
   "outputs": [],
   "source": [
    "import module as md"
   ]
  },
  {
   "cell_type": "code",
   "execution_count": 29,
   "metadata": {},
   "outputs": [
    {
     "name": "stdout",
     "output_type": "stream",
     "text": [
      "'list' object has no attribute 'columns'\n"
     ]
    }
   ],
   "source": [
    "md.data_info([1,2,3,4,5])"
   ]
  },
  {
   "cell_type": "code",
   "execution_count": 30,
   "metadata": {},
   "outputs": [
    {
     "name": "stdout",
     "output_type": "stream",
     "text": [
      "'dict' object has no attribute 'columns'\n"
     ]
    }
   ],
   "source": [
    "md.data_info({1: \"data=\",2:\"data=\",3:\"data=\",4:\"data=\",5:\"data=\"})"
   ]
  },
  {
   "cell_type": "code",
   "execution_count": 31,
   "metadata": {},
   "outputs": [
    {
     "data": {
      "application/vnd.microsoft.datawrangler.viewer.v0+json": {
       "columns": [
        {
         "name": "index",
         "rawType": "int64",
         "type": "integer"
        },
        {
         "name": "Column Name",
         "rawType": "object",
         "type": "string"
        },
        {
         "name": "Column Count",
         "rawType": "int64",
         "type": "integer"
        },
        {
         "name": "Missing Data",
         "rawType": "int64",
         "type": "integer"
        },
        {
         "name": "No of Unique Data",
         "rawType": "int64",
         "type": "integer"
        },
        {
         "name": "Unique Data",
         "rawType": "object",
         "type": "unknown"
        }
       ],
       "conversionMethod": "pd.DataFrame",
       "ref": "6623acd2-05c7-47a8-8176-a4a106000389",
       "rows": [
        [
         "0",
         "car_ID",
         "205",
         "0",
         "205",
         "[  1   2   3   4   5   6   7   8   9  10  11  12  13  14  15  16  17  18\n  19  20  21  22  23  24  25  26  27  28  29  30  31  32  33  34  35  36\n  37  38  39  40  41  42  43  44  45  46  47  48  49  50  51  52  53  54\n  55  56  57  58  59  60  61  62  63  64  65  66  67  68  69  70  71  72\n  73  74  75  76  77  78  79  80  81  82  83  84  85  86  87  88  89  90\n  91  92  93  94  95  96  97  98  99 100 101 102 103 104 105 106 107 108\n 109 110 111 112 113 114 115 116 117 118 119 120 121 122 123 124 125 126\n 127 128 129 130 131 132 133 134 135 136 137 138 139 140 141 142 143 144\n 145 146 147 148 149 150 151 152 153 154 155 156 157 158 159 160 161 162\n 163 164 165 166 167 168 169 170 171 172 173 174 175 176 177 178 179 180\n 181 182 183 184 185 186 187 188 189 190 191 192 193 194 195 196 197 198\n 199 200 201 202 203 204 205]"
        ],
        [
         "1",
         "symboling",
         "205",
         "0",
         "6",
         "[ 3  1  2  0 -1 -2]"
        ],
        [
         "2",
         "CarName",
         "205",
         "0",
         "22",
         "['alfa-romero' 'audi' 'bmw' 'chevrolet' 'dodge' 'honda' 'isuzu' 'jaguar'\n 'mazda' 'buick' 'mercury' 'mitsubishi' 'nissan' 'peugeot' 'plymouth'\n 'porsche' 'renault' 'saab' 'subaru' 'toyota' 'volkswagen' 'volvo']"
        ],
        [
         "3",
         "fueltype",
         "205",
         "0",
         "2",
         "['gas' 'diesel']"
        ],
        [
         "4",
         "aspiration",
         "205",
         "0",
         "2",
         "['std' 'turbo']"
        ],
        [
         "5",
         "doornumber",
         "205",
         "0",
         "2",
         "['two' 'four']"
        ],
        [
         "6",
         "carbody",
         "205",
         "0",
         "5",
         "['convertible' 'hatchback' 'sedan' 'wagon' 'hardtop']"
        ],
        [
         "7",
         "drivewheel",
         "205",
         "0",
         "3",
         "['rwd' 'fwd' '4wd']"
        ],
        [
         "8",
         "enginelocation",
         "205",
         "0",
         "2",
         "['front' 'rear']"
        ],
        [
         "9",
         "wheelbase",
         "205",
         "0",
         "53",
         "[ 88.6  94.5  99.8  99.4 105.8  99.5 101.2 103.5 110.   88.4  93.7 103.3\n  95.9  86.6  96.5  94.3  96.  113.  102.   93.1  95.3  98.8 104.9 106.7\n 115.6  96.6 120.9 112.  102.7  93.   96.3  95.1  97.2 100.4  91.3  99.2\n 107.9 114.2 108.   89.5  98.4  96.1  99.1  93.3  97.   96.9  95.7 102.4\n 102.9 104.5  97.3 104.3 109.1]"
        ],
        [
         "10",
         "carlength",
         "205",
         "0",
         "75",
         "[168.8 171.2 176.6 177.3 192.7 178.2 176.8 189.  193.8 197.  141.1 155.9\n 158.8 157.3 174.6 173.2 144.6 150.  163.4 157.1 167.5 175.4 169.1 170.7\n 172.6 199.6 191.7 159.1 166.8 169.  177.8 175.  190.9 187.5 202.6 180.3\n 208.1 199.2 178.4 173.  172.4 165.3 170.2 165.6 162.4 173.4 181.7 184.6\n 178.5 186.7 198.9 167.3 168.9 175.7 181.5 186.6 156.9 157.9 172.  173.5\n 173.6 158.7 169.7 166.3 168.7 176.2 175.6 183.5 187.8 171.7 159.3 165.7\n 180.2 183.1 188.8]"
        ],
        [
         "11",
         "carwidth",
         "205",
         "0",
         "44",
         "[64.1 65.5 66.2 66.4 66.3 71.4 67.9 64.8 66.9 70.9 60.3 63.6 63.8 64.6\n 63.9 64.  65.2 62.5 66.  61.8 69.6 70.6 64.2 65.7 66.5 66.1 70.3 71.7\n 70.5 72.  68.  64.4 65.4 68.4 68.3 65.  72.3 66.6 63.4 65.6 67.7 67.2\n 68.9 68.8]"
        ],
        [
         "12",
         "carheight",
         "205",
         "0",
         "49",
         "[48.8 52.4 54.3 53.1 55.7 55.9 52.  53.7 56.3 53.2 50.8 50.6 59.8 50.2\n 52.6 54.5 58.3 53.3 54.1 51.  53.5 51.4 52.8 47.8 49.6 55.5 54.4 56.5\n 58.7 54.9 56.7 55.4 54.8 49.4 51.6 54.7 55.1 56.1 49.7 56.  50.5 55.2\n 52.5 53.  59.1 53.9 55.6 56.2 57.5]"
        ],
        [
         "13",
         "curbweight",
         "205",
         "0",
         "171",
         "[2548 2823 2337 2824 2507 2844 2954 3086 3053 2395 2710 2765 3055 3230\n 3380 3505 1488 1874 1909 1876 2128 1967 1989 2191 2535 2811 1713 1819\n 1837 1940 1956 2010 2024 2236 2289 2304 2372 2465 2293 2734 4066 3950\n 1890 1900 1905 1945 1950 2380 2385 2500 2410 2443 2425 2670 2700 3515\n 3750 3495 3770 3740 3685 3900 3715 2910 1918 1944 2004 2145 2370 2328\n 2833 2921 2926 2365 2405 2403 1889 2017 1938 1951 2028 1971 2037 2008\n 2324 2302 3095 3296 3060 3071 3139 3020 3197 3430 3075 3252 3285 3485\n 3130 2818 2778 2756 2800 3366 2579 2460 2658 2695 2707 2758 2808 2847\n 2050 2120 2240 2190 2340 2510 2290 2455 2420 2650 1985 2040 2015 2280\n 3110 2081 2109 2275 2094 2122 2140 2169 2204 2265 2300 2540 2536 2551\n 2679 2714 2975 2326 2480 2414 2458 2976 3016 3131 3151 2261 2209 2264\n 2212 2319 2254 2221 2661 2563 2912 3034 2935 3042 3045 3157 2952 3049\n 3012 3217 3062]"
        ],
        [
         "14",
         "enginetype",
         "205",
         "0",
         "7",
         "['dohc' 'ohcv' 'ohc' 'l' 'rotor' 'ohcf' 'dohcv']"
        ],
        [
         "15",
         "cylindernumber",
         "205",
         "0",
         "7",
         "['four' 'six' 'five' 'three' 'twelve' 'two' 'eight']"
        ],
        [
         "16",
         "enginesize",
         "205",
         "0",
         "44",
         "[130 152 109 136 131 108 164 209  61  90  98 122 156  92  79 110 111 119\n 258 326  91  70  80 140 134 183 234 308 304  97 103 120 181 151 194 203\n 132 121 146 171 161 141 173 145]"
        ],
        [
         "17",
         "fuelsystem",
         "205",
         "0",
         "8",
         "['mpfi' '2bbl' 'mfi' '1bbl' 'spfi' '4bbl' 'idi' 'spdi']"
        ],
        [
         "18",
         "boreratio",
         "205",
         "0",
         "38",
         "[3.47 2.68 3.19 3.13 3.5  3.31 3.62 2.91 3.03 2.97 3.34 3.6  2.92 3.15\n 3.43 3.63 3.54 3.08 3.33 3.39 3.76 3.58 3.46 3.8  3.78 3.17 3.35 3.59\n 2.99 3.7  3.61 3.94 3.74 2.54 3.05 3.27 3.24 3.01]"
        ],
        [
         "19",
         "stroke",
         "205",
         "0",
         "37",
         "[2.68  3.47  3.4   2.8   3.19  3.39  3.03  3.11  3.23  3.46  3.9   3.41\n 3.07  3.58  4.17  2.76  3.15  3.255 3.16  3.64  3.1   3.35  3.12  3.86\n 3.29  3.27  3.52  2.19  3.21  2.9   2.07  2.36  2.64  3.08  3.5   3.54\n 2.87 ]"
        ],
        [
         "20",
         "compressionratio",
         "205",
         "0",
         "32",
         "[ 9.   10.    8.    8.5   8.3   7.    8.8   9.5   9.6   9.41  9.4   7.6\n  9.2  10.1   9.1   8.1  11.5   8.6  22.7  22.   21.5   7.5  21.9   7.8\n  8.4  21.    8.7   9.31  9.3   7.7  22.5  23.  ]"
        ],
        [
         "21",
         "horsepower",
         "205",
         "0",
         "59",
         "[111 154 102 115 110 140 160 101 121 182  48  70  68  88 145  58  76  60\n  86 100  78  90 176 262 135  84  64 120  72 123 155 184 175 116  69  55\n  97 152 200  95 142 143 207 288  73  82  94  62  56 112  92 161 156  52\n  85 114 162 134 106]"
        ],
        [
         "22",
         "peakrpm",
         "205",
         "0",
         "23",
         "[5000 5500 5800 4250 5400 5100 4800 6000 4750 4650 4200 4350 4500 5200\n 4150 5600 5900 5750 5250 4900 4400 6600 5300]"
        ],
        [
         "23",
         "citympg",
         "205",
         "0",
         "29",
         "[21 19 24 18 17 16 23 20 15 47 38 37 31 49 30 27 25 13 26 36 22 14 45 28\n 32 35 34 29 33]"
        ],
        [
         "24",
         "highwaympg",
         "205",
         "0",
         "30",
         "[27 26 30 22 25 20 29 28 53 43 41 38 24 54 42 34 33 31 19 17 23 32 39 18\n 16 37 50 36 47 46]"
        ],
        [
         "25",
         "price",
         "205",
         "0",
         "189",
         "[13495.    16500.    13950.    17450.    15250.    17710.    18920.\n 23875.    17859.167 16430.    16925.    20970.    21105.    24565.\n 30760.    41315.    36880.     5151.     6295.     6575.     5572.\n  6377.     7957.     6229.     6692.     7609.     8558.     8921.\n 12964.     6479.     6855.     5399.     6529.     7129.     7295.\n  7895.     9095.     8845.    10295.    12945.    10345.     6785.\n  8916.5   11048.    32250.    35550.    36000.     5195.     6095.\n  6795.     6695.     7395.    10945.    11845.    13645.    15645.\n  8495.    10595.    10245.    10795.    11245.    18280.    18344.\n 25552.    28248.    28176.    31600.    34184.    35056.    40960.\n 45400.    16503.     5389.     6189.     6669.     7689.     9959.\n  8499.    12629.    14869.    14489.     6989.     8189.     9279.\n  5499.     7099.     6649.     6849.     7349.     7299.     7799.\n  7499.     7999.     8249.     8949.     9549.    13499.    14399.\n 17199.    19699.    18399.    11900.    13200.    12440.    13860.\n 15580.    16900.    16695.    17075.    16630.    17950.    18150.\n 12764.    22018.    32528.    34028.    37028.    31400.5    9295.\n  9895.    11850.    12170.    15040.    15510.    18620.     5118.\n  7053.     7603.     7126.     7775.     9960.     9233.    11259.\n  7463.    10198.     8013.    11694.     5348.     6338.     6488.\n  6918.     7898.     8778.     6938.     7198.     7788.     7738.\n  8358.     9258.     8058.     8238.     9298.     9538.     8449.\n  9639.     9989.    11199.    11549.    17669.     8948.    10698.\n  9988.    10898.    11248.    16558.    15998.    15690.    15750.\n  7975.     7995.     8195.     9495.     9995.    11595.     9980.\n 13295.    13845.    12290.    12940.    13415.    15985.    16515.\n 18420.    18950.    16845.    19045.    21485.    22470.    22625.   ]"
        ],
        [
         "26",
         "highwaympg.1",
         "205",
         "0",
         "30",
         "[27 26 30 22 25 20 29 28 53 43 41 38 24 54 42 34 33 31 19 17 23 32 39 18\n 16 37 50 36 47 46]"
        ]
       ],
       "shape": {
        "columns": 5,
        "rows": 27
       }
      },
      "text/html": [
       "<div>\n",
       "<style scoped>\n",
       "    .dataframe tbody tr th:only-of-type {\n",
       "        vertical-align: middle;\n",
       "    }\n",
       "\n",
       "    .dataframe tbody tr th {\n",
       "        vertical-align: top;\n",
       "    }\n",
       "\n",
       "    .dataframe thead th {\n",
       "        text-align: right;\n",
       "    }\n",
       "</style>\n",
       "<table border=\"1\" class=\"dataframe\">\n",
       "  <thead>\n",
       "    <tr style=\"text-align: right;\">\n",
       "      <th></th>\n",
       "      <th>Column Name</th>\n",
       "      <th>Column Count</th>\n",
       "      <th>Missing Data</th>\n",
       "      <th>No of Unique Data</th>\n",
       "      <th>Unique Data</th>\n",
       "    </tr>\n",
       "  </thead>\n",
       "  <tbody>\n",
       "    <tr>\n",
       "      <th>0</th>\n",
       "      <td>car_ID</td>\n",
       "      <td>205</td>\n",
       "      <td>0</td>\n",
       "      <td>205</td>\n",
       "      <td>[1, 2, 3, 4, 5, 6, 7, 8, 9, 10, 11, 12, 13, 14...</td>\n",
       "    </tr>\n",
       "    <tr>\n",
       "      <th>1</th>\n",
       "      <td>symboling</td>\n",
       "      <td>205</td>\n",
       "      <td>0</td>\n",
       "      <td>6</td>\n",
       "      <td>[3, 1, 2, 0, -1, -2]</td>\n",
       "    </tr>\n",
       "    <tr>\n",
       "      <th>2</th>\n",
       "      <td>CarName</td>\n",
       "      <td>205</td>\n",
       "      <td>0</td>\n",
       "      <td>22</td>\n",
       "      <td>[alfa-romero, audi, bmw, chevrolet, dodge, hon...</td>\n",
       "    </tr>\n",
       "    <tr>\n",
       "      <th>3</th>\n",
       "      <td>fueltype</td>\n",
       "      <td>205</td>\n",
       "      <td>0</td>\n",
       "      <td>2</td>\n",
       "      <td>[gas, diesel]</td>\n",
       "    </tr>\n",
       "    <tr>\n",
       "      <th>4</th>\n",
       "      <td>aspiration</td>\n",
       "      <td>205</td>\n",
       "      <td>0</td>\n",
       "      <td>2</td>\n",
       "      <td>[std, turbo]</td>\n",
       "    </tr>\n",
       "    <tr>\n",
       "      <th>5</th>\n",
       "      <td>doornumber</td>\n",
       "      <td>205</td>\n",
       "      <td>0</td>\n",
       "      <td>2</td>\n",
       "      <td>[two, four]</td>\n",
       "    </tr>\n",
       "    <tr>\n",
       "      <th>6</th>\n",
       "      <td>carbody</td>\n",
       "      <td>205</td>\n",
       "      <td>0</td>\n",
       "      <td>5</td>\n",
       "      <td>[convertible, hatchback, sedan, wagon, hardtop]</td>\n",
       "    </tr>\n",
       "    <tr>\n",
       "      <th>7</th>\n",
       "      <td>drivewheel</td>\n",
       "      <td>205</td>\n",
       "      <td>0</td>\n",
       "      <td>3</td>\n",
       "      <td>[rwd, fwd, 4wd]</td>\n",
       "    </tr>\n",
       "    <tr>\n",
       "      <th>8</th>\n",
       "      <td>enginelocation</td>\n",
       "      <td>205</td>\n",
       "      <td>0</td>\n",
       "      <td>2</td>\n",
       "      <td>[front, rear]</td>\n",
       "    </tr>\n",
       "    <tr>\n",
       "      <th>9</th>\n",
       "      <td>wheelbase</td>\n",
       "      <td>205</td>\n",
       "      <td>0</td>\n",
       "      <td>53</td>\n",
       "      <td>[88.6, 94.5, 99.8, 99.4, 105.8, 99.5, 101.2, 1...</td>\n",
       "    </tr>\n",
       "    <tr>\n",
       "      <th>10</th>\n",
       "      <td>carlength</td>\n",
       "      <td>205</td>\n",
       "      <td>0</td>\n",
       "      <td>75</td>\n",
       "      <td>[168.8, 171.2, 176.6, 177.3, 192.7, 178.2, 176...</td>\n",
       "    </tr>\n",
       "    <tr>\n",
       "      <th>11</th>\n",
       "      <td>carwidth</td>\n",
       "      <td>205</td>\n",
       "      <td>0</td>\n",
       "      <td>44</td>\n",
       "      <td>[64.1, 65.5, 66.2, 66.4, 66.3, 71.4, 67.9, 64....</td>\n",
       "    </tr>\n",
       "    <tr>\n",
       "      <th>12</th>\n",
       "      <td>carheight</td>\n",
       "      <td>205</td>\n",
       "      <td>0</td>\n",
       "      <td>49</td>\n",
       "      <td>[48.8, 52.4, 54.3, 53.1, 55.7, 55.9, 52.0, 53....</td>\n",
       "    </tr>\n",
       "    <tr>\n",
       "      <th>13</th>\n",
       "      <td>curbweight</td>\n",
       "      <td>205</td>\n",
       "      <td>0</td>\n",
       "      <td>171</td>\n",
       "      <td>[2548, 2823, 2337, 2824, 2507, 2844, 2954, 308...</td>\n",
       "    </tr>\n",
       "    <tr>\n",
       "      <th>14</th>\n",
       "      <td>enginetype</td>\n",
       "      <td>205</td>\n",
       "      <td>0</td>\n",
       "      <td>7</td>\n",
       "      <td>[dohc, ohcv, ohc, l, rotor, ohcf, dohcv]</td>\n",
       "    </tr>\n",
       "    <tr>\n",
       "      <th>15</th>\n",
       "      <td>cylindernumber</td>\n",
       "      <td>205</td>\n",
       "      <td>0</td>\n",
       "      <td>7</td>\n",
       "      <td>[four, six, five, three, twelve, two, eight]</td>\n",
       "    </tr>\n",
       "    <tr>\n",
       "      <th>16</th>\n",
       "      <td>enginesize</td>\n",
       "      <td>205</td>\n",
       "      <td>0</td>\n",
       "      <td>44</td>\n",
       "      <td>[130, 152, 109, 136, 131, 108, 164, 209, 61, 9...</td>\n",
       "    </tr>\n",
       "    <tr>\n",
       "      <th>17</th>\n",
       "      <td>fuelsystem</td>\n",
       "      <td>205</td>\n",
       "      <td>0</td>\n",
       "      <td>8</td>\n",
       "      <td>[mpfi, 2bbl, mfi, 1bbl, spfi, 4bbl, idi, spdi]</td>\n",
       "    </tr>\n",
       "    <tr>\n",
       "      <th>18</th>\n",
       "      <td>boreratio</td>\n",
       "      <td>205</td>\n",
       "      <td>0</td>\n",
       "      <td>38</td>\n",
       "      <td>[3.47, 2.68, 3.19, 3.13, 3.5, 3.31, 3.62, 2.91...</td>\n",
       "    </tr>\n",
       "    <tr>\n",
       "      <th>19</th>\n",
       "      <td>stroke</td>\n",
       "      <td>205</td>\n",
       "      <td>0</td>\n",
       "      <td>37</td>\n",
       "      <td>[2.68, 3.47, 3.4, 2.8, 3.19, 3.39, 3.03, 3.11,...</td>\n",
       "    </tr>\n",
       "    <tr>\n",
       "      <th>20</th>\n",
       "      <td>compressionratio</td>\n",
       "      <td>205</td>\n",
       "      <td>0</td>\n",
       "      <td>32</td>\n",
       "      <td>[9.0, 10.0, 8.0, 8.5, 8.3, 7.0, 8.8, 9.5, 9.6,...</td>\n",
       "    </tr>\n",
       "    <tr>\n",
       "      <th>21</th>\n",
       "      <td>horsepower</td>\n",
       "      <td>205</td>\n",
       "      <td>0</td>\n",
       "      <td>59</td>\n",
       "      <td>[111, 154, 102, 115, 110, 140, 160, 101, 121, ...</td>\n",
       "    </tr>\n",
       "    <tr>\n",
       "      <th>22</th>\n",
       "      <td>peakrpm</td>\n",
       "      <td>205</td>\n",
       "      <td>0</td>\n",
       "      <td>23</td>\n",
       "      <td>[5000, 5500, 5800, 4250, 5400, 5100, 4800, 600...</td>\n",
       "    </tr>\n",
       "    <tr>\n",
       "      <th>23</th>\n",
       "      <td>citympg</td>\n",
       "      <td>205</td>\n",
       "      <td>0</td>\n",
       "      <td>29</td>\n",
       "      <td>[21, 19, 24, 18, 17, 16, 23, 20, 15, 47, 38, 3...</td>\n",
       "    </tr>\n",
       "    <tr>\n",
       "      <th>24</th>\n",
       "      <td>highwaympg</td>\n",
       "      <td>205</td>\n",
       "      <td>0</td>\n",
       "      <td>30</td>\n",
       "      <td>[27, 26, 30, 22, 25, 20, 29, 28, 53, 43, 41, 3...</td>\n",
       "    </tr>\n",
       "    <tr>\n",
       "      <th>25</th>\n",
       "      <td>price</td>\n",
       "      <td>205</td>\n",
       "      <td>0</td>\n",
       "      <td>189</td>\n",
       "      <td>[13495.0, 16500.0, 13950.0, 17450.0, 15250.0, ...</td>\n",
       "    </tr>\n",
       "    <tr>\n",
       "      <th>26</th>\n",
       "      <td>highwaympg.1</td>\n",
       "      <td>205</td>\n",
       "      <td>0</td>\n",
       "      <td>30</td>\n",
       "      <td>[27, 26, 30, 22, 25, 20, 29, 28, 53, 43, 41, 3...</td>\n",
       "    </tr>\n",
       "  </tbody>\n",
       "</table>\n",
       "</div>"
      ],
      "text/plain": [
       "         Column Name  Column Count  Missing Data  No of Unique Data  \\\n",
       "0             car_ID           205             0                205   \n",
       "1          symboling           205             0                  6   \n",
       "2            CarName           205             0                 22   \n",
       "3           fueltype           205             0                  2   \n",
       "4         aspiration           205             0                  2   \n",
       "5         doornumber           205             0                  2   \n",
       "6            carbody           205             0                  5   \n",
       "7         drivewheel           205             0                  3   \n",
       "8     enginelocation           205             0                  2   \n",
       "9          wheelbase           205             0                 53   \n",
       "10         carlength           205             0                 75   \n",
       "11          carwidth           205             0                 44   \n",
       "12         carheight           205             0                 49   \n",
       "13        curbweight           205             0                171   \n",
       "14        enginetype           205             0                  7   \n",
       "15    cylindernumber           205             0                  7   \n",
       "16        enginesize           205             0                 44   \n",
       "17        fuelsystem           205             0                  8   \n",
       "18         boreratio           205             0                 38   \n",
       "19            stroke           205             0                 37   \n",
       "20  compressionratio           205             0                 32   \n",
       "21        horsepower           205             0                 59   \n",
       "22           peakrpm           205             0                 23   \n",
       "23           citympg           205             0                 29   \n",
       "24        highwaympg           205             0                 30   \n",
       "25             price           205             0                189   \n",
       "26      highwaympg.1           205             0                 30   \n",
       "\n",
       "                                          Unique Data  \n",
       "0   [1, 2, 3, 4, 5, 6, 7, 8, 9, 10, 11, 12, 13, 14...  \n",
       "1                                [3, 1, 2, 0, -1, -2]  \n",
       "2   [alfa-romero, audi, bmw, chevrolet, dodge, hon...  \n",
       "3                                       [gas, diesel]  \n",
       "4                                        [std, turbo]  \n",
       "5                                         [two, four]  \n",
       "6     [convertible, hatchback, sedan, wagon, hardtop]  \n",
       "7                                     [rwd, fwd, 4wd]  \n",
       "8                                       [front, rear]  \n",
       "9   [88.6, 94.5, 99.8, 99.4, 105.8, 99.5, 101.2, 1...  \n",
       "10  [168.8, 171.2, 176.6, 177.3, 192.7, 178.2, 176...  \n",
       "11  [64.1, 65.5, 66.2, 66.4, 66.3, 71.4, 67.9, 64....  \n",
       "12  [48.8, 52.4, 54.3, 53.1, 55.7, 55.9, 52.0, 53....  \n",
       "13  [2548, 2823, 2337, 2824, 2507, 2844, 2954, 308...  \n",
       "14           [dohc, ohcv, ohc, l, rotor, ohcf, dohcv]  \n",
       "15       [four, six, five, three, twelve, two, eight]  \n",
       "16  [130, 152, 109, 136, 131, 108, 164, 209, 61, 9...  \n",
       "17     [mpfi, 2bbl, mfi, 1bbl, spfi, 4bbl, idi, spdi]  \n",
       "18  [3.47, 2.68, 3.19, 3.13, 3.5, 3.31, 3.62, 2.91...  \n",
       "19  [2.68, 3.47, 3.4, 2.8, 3.19, 3.39, 3.03, 3.11,...  \n",
       "20  [9.0, 10.0, 8.0, 8.5, 8.3, 7.0, 8.8, 9.5, 9.6,...  \n",
       "21  [111, 154, 102, 115, 110, 140, 160, 101, 121, ...  \n",
       "22  [5000, 5500, 5800, 4250, 5400, 5100, 4800, 600...  \n",
       "23  [21, 19, 24, 18, 17, 16, 23, 20, 15, 47, 38, 3...  \n",
       "24  [27, 26, 30, 22, 25, 20, 29, 28, 53, 43, 41, 3...  \n",
       "25  [13495.0, 16500.0, 13950.0, 17450.0, 15250.0, ...  \n",
       "26  [27, 26, 30, 22, 25, 20, 29, 28, 53, 43, 41, 3...  "
      ]
     },
     "execution_count": 31,
     "metadata": {},
     "output_type": "execute_result"
    }
   ],
   "source": [
    "md.data_info(df)"
   ]
  },
  {
   "cell_type": "code",
   "execution_count": 32,
   "metadata": {},
   "outputs": [
    {
     "data": {
      "text/plain": [
       "doornumber\n",
       "four    115\n",
       "two      90\n",
       "Name: count, dtype: int64"
      ]
     },
     "execution_count": 32,
     "metadata": {},
     "output_type": "execute_result"
    }
   ],
   "source": [
    "df[\"doornumber\"].value_counts()"
   ]
  },
  {
   "cell_type": "code",
   "execution_count": 33,
   "metadata": {},
   "outputs": [
    {
     "name": "stderr",
     "output_type": "stream",
     "text": [
      "C:\\Users\\desou\\AppData\\Local\\Temp\\ipykernel_9628\\2821592583.py:3: FutureWarning: A value is trying to be set on a copy of a DataFrame or Series through chained assignment using an inplace method.\n",
      "The behavior will change in pandas 3.0. This inplace method will never work because the intermediate object on which we are setting values always behaves as a copy.\n",
      "\n",
      "For example, when doing 'df[col].method(value, inplace=True)', try using 'df.method({col: value}, inplace=True)' or df[col] = df[col].method(value) instead, to perform the operation inplace on the original object.\n",
      "\n",
      "\n",
      "  df[\"doornumber\"].replace({\"two\":2, \"four\":4}, inplace=True)\n",
      "C:\\Users\\desou\\AppData\\Local\\Temp\\ipykernel_9628\\2821592583.py:3: FutureWarning: Downcasting behavior in `replace` is deprecated and will be removed in a future version. To retain the old behavior, explicitly call `result.infer_objects(copy=False)`. To opt-in to the future behavior, set `pd.set_option('future.no_silent_downcasting', True)`\n",
      "  df[\"doornumber\"].replace({\"two\":2, \"four\":4}, inplace=True)\n"
     ]
    }
   ],
   "source": [
    "# df[\"doornumber\"].replace(\"two\" , 2 , inplace=True)\n",
    "# df[\"doornumber\"].replace(\"four\" , 4 , inplace=True)\n",
    "df[\"doornumber\"].replace({\"two\":2, \"four\":4}, inplace=True)"
   ]
  },
  {
   "cell_type": "code",
   "execution_count": 34,
   "metadata": {},
   "outputs": [
    {
     "data": {
      "text/plain": [
       "doornumber\n",
       "4    0.560976\n",
       "2    0.439024\n",
       "Name: proportion, dtype: float64"
      ]
     },
     "execution_count": 34,
     "metadata": {},
     "output_type": "execute_result"
    }
   ],
   "source": [
    "#df[\"doornumber\"].value_counts()\n",
    "df[\"doornumber\"].value_counts(normalize=True)"
   ]
  },
  {
   "cell_type": "code",
   "execution_count": 35,
   "metadata": {},
   "outputs": [],
   "source": [
    "import word2number as w2n # type: ignore\n",
    "from word2number import w2n # type: ignore"
   ]
  },
  {
   "cell_type": "code",
   "execution_count": 36,
   "metadata": {},
   "outputs": [
    {
     "data": {
      "text/plain": [
       "2003984"
      ]
     },
     "execution_count": 36,
     "metadata": {},
     "output_type": "execute_result"
    }
   ],
   "source": [
    "w2n.word_to_num(\"two million three thousand nine hundred and eighty four\")  "
   ]
  },
  {
   "cell_type": "code",
   "execution_count": 37,
   "metadata": {},
   "outputs": [],
   "source": [
    "#df[\"cylindernumber\"] = df[\"cylindernumber\"].apply(lambda x: w2n.word_to_num(x))\n",
    "#  #df[\"cylindernumber\"].apply(w2n.word_to_num)\n",
    "try:\n",
    "  df[\"cylindernumber\"] = df[\"cylindernumber\"].apply(w2n.word_to_num)\n",
    "except Exception as e:\n",
    "  print(\"Error:\" , e)"
   ]
  },
  {
   "cell_type": "code",
   "execution_count": 38,
   "metadata": {},
   "outputs": [],
   "source": [
    "try:\n",
    "  df.set_index(\"car_ID\" , inplace = True )\n",
    "except Exception as e:\n",
    "  print(\"Error:\" , e)"
   ]
  },
  {
   "cell_type": "code",
   "execution_count": 39,
   "metadata": {},
   "outputs": [],
   "source": [
    "df[\"CarName\"] = df[\"CarName\"].str.split( expand = True )[0]"
   ]
  },
  {
   "cell_type": "code",
   "execution_count": 40,
   "metadata": {},
   "outputs": [
    {
     "data": {
      "text/plain": [
       "CarName\n",
       "toyota         32\n",
       "nissan         18\n",
       "mazda          17\n",
       "mitsubishi     13\n",
       "honda          13\n",
       "subaru         12\n",
       "volkswagen     12\n",
       "volvo          11\n",
       "peugeot        11\n",
       "dodge           9\n",
       "buick           8\n",
       "bmw             8\n",
       "audi            7\n",
       "plymouth        7\n",
       "saab            6\n",
       "porsche         5\n",
       "isuzu           4\n",
       "alfa-romero     3\n",
       "chevrolet       3\n",
       "jaguar          3\n",
       "renault         2\n",
       "mercury         1\n",
       "Name: count, dtype: int64"
      ]
     },
     "execution_count": 40,
     "metadata": {},
     "output_type": "execute_result"
    }
   ],
   "source": [
    "df[\"CarName\"].value_counts()"
   ]
  },
  {
   "cell_type": "code",
   "execution_count": 41,
   "metadata": {},
   "outputs": [
    {
     "data": {
      "application/vnd.microsoft.datawrangler.viewer.v0+json": {
       "columns": [
        {
         "name": "index",
         "rawType": "int64",
         "type": "integer"
        },
        {
         "name": "carbody",
         "rawType": "object",
         "type": "string"
        },
        {
         "name": "min",
         "rawType": "float64",
         "type": "float"
        },
        {
         "name": "max",
         "rawType": "float64",
         "type": "float"
        },
        {
         "name": "mean",
         "rawType": "float64",
         "type": "float"
        },
        {
         "name": "median",
         "rawType": "float64",
         "type": "float"
        },
        {
         "name": "count",
         "rawType": "int64",
         "type": "integer"
        },
        {
         "name": "sum",
         "rawType": "float64",
         "type": "float"
        }
       ],
       "conversionMethod": "pd.DataFrame",
       "ref": "b43d1b05-0a9f-4d7d-8414-ec6226e62e6c",
       "rows": [
        [
         "3",
         "sedan",
         "5499.0",
         "41315.0",
         "14344.270833333334",
         "10846.5",
         "96",
         "1377050.0"
        ],
        [
         "2",
         "hatchback",
         "5118.0",
         "31400.5",
         "10376.652385714286",
         "8897.0",
         "70",
         "726365.667"
        ],
        [
         "4",
         "wagon",
         "6918.0",
         "28248.0",
         "12371.96",
         "11694.0",
         "25",
         "309299.0"
        ],
        [
         "1",
         "hardtop",
         "8249.0",
         "45400.0",
         "22208.5",
         "19687.5",
         "8",
         "177668.0"
        ],
        [
         "0",
         "convertible",
         "11595.0",
         "37028.0",
         "21890.5",
         "17084.5",
         "6",
         "131343.0"
        ]
       ],
       "shape": {
        "columns": 7,
        "rows": 5
       }
      },
      "text/html": [
       "<div>\n",
       "<style scoped>\n",
       "    .dataframe tbody tr th:only-of-type {\n",
       "        vertical-align: middle;\n",
       "    }\n",
       "\n",
       "    .dataframe tbody tr th {\n",
       "        vertical-align: top;\n",
       "    }\n",
       "\n",
       "    .dataframe thead th {\n",
       "        text-align: right;\n",
       "    }\n",
       "</style>\n",
       "<table border=\"1\" class=\"dataframe\">\n",
       "  <thead>\n",
       "    <tr style=\"text-align: right;\">\n",
       "      <th></th>\n",
       "      <th>carbody</th>\n",
       "      <th>min</th>\n",
       "      <th>max</th>\n",
       "      <th>mean</th>\n",
       "      <th>median</th>\n",
       "      <th>count</th>\n",
       "      <th>sum</th>\n",
       "    </tr>\n",
       "  </thead>\n",
       "  <tbody>\n",
       "    <tr>\n",
       "      <th>3</th>\n",
       "      <td>sedan</td>\n",
       "      <td>5499.0</td>\n",
       "      <td>41315.0</td>\n",
       "      <td>14344.270833</td>\n",
       "      <td>10846.5</td>\n",
       "      <td>96</td>\n",
       "      <td>1377050.000</td>\n",
       "    </tr>\n",
       "    <tr>\n",
       "      <th>2</th>\n",
       "      <td>hatchback</td>\n",
       "      <td>5118.0</td>\n",
       "      <td>31400.5</td>\n",
       "      <td>10376.652386</td>\n",
       "      <td>8897.0</td>\n",
       "      <td>70</td>\n",
       "      <td>726365.667</td>\n",
       "    </tr>\n",
       "    <tr>\n",
       "      <th>4</th>\n",
       "      <td>wagon</td>\n",
       "      <td>6918.0</td>\n",
       "      <td>28248.0</td>\n",
       "      <td>12371.960000</td>\n",
       "      <td>11694.0</td>\n",
       "      <td>25</td>\n",
       "      <td>309299.000</td>\n",
       "    </tr>\n",
       "    <tr>\n",
       "      <th>1</th>\n",
       "      <td>hardtop</td>\n",
       "      <td>8249.0</td>\n",
       "      <td>45400.0</td>\n",
       "      <td>22208.500000</td>\n",
       "      <td>19687.5</td>\n",
       "      <td>8</td>\n",
       "      <td>177668.000</td>\n",
       "    </tr>\n",
       "    <tr>\n",
       "      <th>0</th>\n",
       "      <td>convertible</td>\n",
       "      <td>11595.0</td>\n",
       "      <td>37028.0</td>\n",
       "      <td>21890.500000</td>\n",
       "      <td>17084.5</td>\n",
       "      <td>6</td>\n",
       "      <td>131343.000</td>\n",
       "    </tr>\n",
       "  </tbody>\n",
       "</table>\n",
       "</div>"
      ],
      "text/plain": [
       "       carbody      min      max          mean   median  count          sum\n",
       "3        sedan   5499.0  41315.0  14344.270833  10846.5     96  1377050.000\n",
       "2    hatchback   5118.0  31400.5  10376.652386   8897.0     70   726365.667\n",
       "4        wagon   6918.0  28248.0  12371.960000  11694.0     25   309299.000\n",
       "1      hardtop   8249.0  45400.0  22208.500000  19687.5      8   177668.000\n",
       "0  convertible  11595.0  37028.0  21890.500000  17084.5      6   131343.000"
      ]
     },
     "execution_count": 41,
     "metadata": {},
     "output_type": "execute_result"
    }
   ],
   "source": [
    "df.groupby(\"carbody\")[\"price\"].agg([ \"min\" , \"max\" , \"mean\" , \"median\" , \"count\" , \"sum\"]).reset_index().sort_values(\"count\" , ascending=False)"
   ]
  },
  {
   "cell_type": "code",
   "execution_count": 42,
   "metadata": {},
   "outputs": [
    {
     "data": {
      "application/vnd.microsoft.datawrangler.viewer.v0+json": {
       "columns": [
        {
         "name": "fueltype",
         "rawType": "object",
         "type": "string"
        },
        {
         "name": "count",
         "rawType": "float64",
         "type": "float"
        },
        {
         "name": "mean",
         "rawType": "float64",
         "type": "float"
        },
        {
         "name": "std",
         "rawType": "float64",
         "type": "float"
        },
        {
         "name": "min",
         "rawType": "float64",
         "type": "float"
        },
        {
         "name": "25%",
         "rawType": "float64",
         "type": "float"
        },
        {
         "name": "50%",
         "rawType": "float64",
         "type": "float"
        },
        {
         "name": "75%",
         "rawType": "float64",
         "type": "float"
        },
        {
         "name": "max",
         "rawType": "float64",
         "type": "float"
        }
       ],
       "conversionMethod": "pd.DataFrame",
       "ref": "b346a185-98e5-41ba-a67f-180a8e980399",
       "rows": [
        [
         "diesel",
         "20.0",
         "15838.15",
         "7759.8437129880385",
         "7099.0",
         "9120.0",
         "13852.5",
         "19375.5",
         "31600.0"
        ],
        [
         "gas",
         "185.0",
         "12999.7982",
         "7984.409306494864",
         "5118.0",
         "7689.0",
         "9989.0",
         "15998.0",
         "45400.0"
        ]
       ],
       "shape": {
        "columns": 8,
        "rows": 2
       }
      },
      "text/html": [
       "<div>\n",
       "<style scoped>\n",
       "    .dataframe tbody tr th:only-of-type {\n",
       "        vertical-align: middle;\n",
       "    }\n",
       "\n",
       "    .dataframe tbody tr th {\n",
       "        vertical-align: top;\n",
       "    }\n",
       "\n",
       "    .dataframe thead th {\n",
       "        text-align: right;\n",
       "    }\n",
       "</style>\n",
       "<table border=\"1\" class=\"dataframe\">\n",
       "  <thead>\n",
       "    <tr style=\"text-align: right;\">\n",
       "      <th></th>\n",
       "      <th>count</th>\n",
       "      <th>mean</th>\n",
       "      <th>std</th>\n",
       "      <th>min</th>\n",
       "      <th>25%</th>\n",
       "      <th>50%</th>\n",
       "      <th>75%</th>\n",
       "      <th>max</th>\n",
       "    </tr>\n",
       "    <tr>\n",
       "      <th>fueltype</th>\n",
       "      <th></th>\n",
       "      <th></th>\n",
       "      <th></th>\n",
       "      <th></th>\n",
       "      <th></th>\n",
       "      <th></th>\n",
       "      <th></th>\n",
       "      <th></th>\n",
       "    </tr>\n",
       "  </thead>\n",
       "  <tbody>\n",
       "    <tr>\n",
       "      <th>diesel</th>\n",
       "      <td>20.0</td>\n",
       "      <td>15838.1500</td>\n",
       "      <td>7759.843713</td>\n",
       "      <td>7099.0</td>\n",
       "      <td>9120.0</td>\n",
       "      <td>13852.5</td>\n",
       "      <td>19375.5</td>\n",
       "      <td>31600.0</td>\n",
       "    </tr>\n",
       "    <tr>\n",
       "      <th>gas</th>\n",
       "      <td>185.0</td>\n",
       "      <td>12999.7982</td>\n",
       "      <td>7984.409306</td>\n",
       "      <td>5118.0</td>\n",
       "      <td>7689.0</td>\n",
       "      <td>9989.0</td>\n",
       "      <td>15998.0</td>\n",
       "      <td>45400.0</td>\n",
       "    </tr>\n",
       "  </tbody>\n",
       "</table>\n",
       "</div>"
      ],
      "text/plain": [
       "          count        mean          std     min     25%      50%      75%  \\\n",
       "fueltype                                                                     \n",
       "diesel     20.0  15838.1500  7759.843713  7099.0  9120.0  13852.5  19375.5   \n",
       "gas       185.0  12999.7982  7984.409306  5118.0  7689.0   9989.0  15998.0   \n",
       "\n",
       "              max  \n",
       "fueltype           \n",
       "diesel    31600.0  \n",
       "gas       45400.0  "
      ]
     },
     "execution_count": 42,
     "metadata": {},
     "output_type": "execute_result"
    }
   ],
   "source": [
    "df.groupby(\"fueltype\")[\"price\"].describe()"
   ]
  },
  {
   "cell_type": "code",
   "execution_count": 43,
   "metadata": {},
   "outputs": [
    {
     "data": {
      "application/vnd.microsoft.datawrangler.viewer.v0+json": {
       "columns": [
        {
         "name": "fueltype",
         "rawType": "object",
         "type": "string"
        },
        {
         "name": "('price', 'count')",
         "rawType": "float64",
         "type": "float"
        },
        {
         "name": "('price', 'mean')",
         "rawType": "float64",
         "type": "float"
        },
        {
         "name": "('price', 'std')",
         "rawType": "float64",
         "type": "float"
        },
        {
         "name": "('price', 'min')",
         "rawType": "float64",
         "type": "float"
        },
        {
         "name": "('price', '25%')",
         "rawType": "float64",
         "type": "float"
        },
        {
         "name": "('price', '50%')",
         "rawType": "float64",
         "type": "float"
        },
        {
         "name": "('price', '75%')",
         "rawType": "float64",
         "type": "float"
        },
        {
         "name": "('price', 'max')",
         "rawType": "float64",
         "type": "float"
        }
       ],
       "conversionMethod": "pd.DataFrame",
       "ref": "1aae02b8-7ce3-43e4-8f51-cf4528f88d1b",
       "rows": [
        [
         "diesel",
         "20.0",
         "15838.15",
         "7759.8437129880385",
         "7099.0",
         "9120.0",
         "13852.5",
         "19375.5",
         "31600.0"
        ],
        [
         "gas",
         "185.0",
         "12999.7982",
         "7984.409306494864",
         "5118.0",
         "7689.0",
         "9989.0",
         "15998.0",
         "45400.0"
        ]
       ],
       "shape": {
        "columns": 8,
        "rows": 2
       }
      },
      "text/html": [
       "<div>\n",
       "<style scoped>\n",
       "    .dataframe tbody tr th:only-of-type {\n",
       "        vertical-align: middle;\n",
       "    }\n",
       "\n",
       "    .dataframe tbody tr th {\n",
       "        vertical-align: top;\n",
       "    }\n",
       "\n",
       "    .dataframe thead tr th {\n",
       "        text-align: left;\n",
       "    }\n",
       "\n",
       "    .dataframe thead tr:last-of-type th {\n",
       "        text-align: right;\n",
       "    }\n",
       "</style>\n",
       "<table border=\"1\" class=\"dataframe\">\n",
       "  <thead>\n",
       "    <tr>\n",
       "      <th></th>\n",
       "      <th colspan=\"8\" halign=\"left\">price</th>\n",
       "    </tr>\n",
       "    <tr>\n",
       "      <th></th>\n",
       "      <th>count</th>\n",
       "      <th>mean</th>\n",
       "      <th>std</th>\n",
       "      <th>min</th>\n",
       "      <th>25%</th>\n",
       "      <th>50%</th>\n",
       "      <th>75%</th>\n",
       "      <th>max</th>\n",
       "    </tr>\n",
       "    <tr>\n",
       "      <th>fueltype</th>\n",
       "      <th></th>\n",
       "      <th></th>\n",
       "      <th></th>\n",
       "      <th></th>\n",
       "      <th></th>\n",
       "      <th></th>\n",
       "      <th></th>\n",
       "      <th></th>\n",
       "    </tr>\n",
       "  </thead>\n",
       "  <tbody>\n",
       "    <tr>\n",
       "      <th>diesel</th>\n",
       "      <td>20.0</td>\n",
       "      <td>15838.1500</td>\n",
       "      <td>7759.843713</td>\n",
       "      <td>7099.0</td>\n",
       "      <td>9120.0</td>\n",
       "      <td>13852.5</td>\n",
       "      <td>19375.5</td>\n",
       "      <td>31600.0</td>\n",
       "    </tr>\n",
       "    <tr>\n",
       "      <th>gas</th>\n",
       "      <td>185.0</td>\n",
       "      <td>12999.7982</td>\n",
       "      <td>7984.409306</td>\n",
       "      <td>5118.0</td>\n",
       "      <td>7689.0</td>\n",
       "      <td>9989.0</td>\n",
       "      <td>15998.0</td>\n",
       "      <td>45400.0</td>\n",
       "    </tr>\n",
       "  </tbody>\n",
       "</table>\n",
       "</div>"
      ],
      "text/plain": [
       "          price                                                             \\\n",
       "          count        mean          std     min     25%      50%      75%   \n",
       "fueltype                                                                     \n",
       "diesel     20.0  15838.1500  7759.843713  7099.0  9120.0  13852.5  19375.5   \n",
       "gas       185.0  12999.7982  7984.409306  5118.0  7689.0   9989.0  15998.0   \n",
       "\n",
       "                   \n",
       "              max  \n",
       "fueltype           \n",
       "diesel    31600.0  \n",
       "gas       45400.0  "
      ]
     },
     "execution_count": 43,
     "metadata": {},
     "output_type": "execute_result"
    }
   ],
   "source": [
    "df[[\"fueltype\" , \"price\"]].groupby(\"fueltype\").describe()"
   ]
  },
  {
   "cell_type": "code",
   "execution_count": 44,
   "metadata": {},
   "outputs": [
    {
     "data": {
      "application/vnd.microsoft.datawrangler.viewer.v0+json": {
       "columns": [
        {
         "name": "index",
         "rawType": "int64",
         "type": "integer"
        },
        {
         "name": "fueltype",
         "rawType": "object",
         "type": "string"
        },
        {
         "name": "min",
         "rawType": "float64",
         "type": "float"
        },
        {
         "name": "max",
         "rawType": "float64",
         "type": "float"
        },
        {
         "name": "mean",
         "rawType": "float64",
         "type": "float"
        },
        {
         "name": "median",
         "rawType": "float64",
         "type": "float"
        },
        {
         "name": "count",
         "rawType": "int64",
         "type": "integer"
        }
       ],
       "conversionMethod": "pd.DataFrame",
       "ref": "360be08b-22b7-4065-a16a-5365ef7fc40a",
       "rows": [
        [
         "0",
         "diesel",
         "7099.0",
         "31600.0",
         "15838.15",
         "13852.5",
         "20"
        ],
        [
         "1",
         "gas",
         "5118.0",
         "45400.0",
         "12999.7982",
         "9989.0",
         "185"
        ]
       ],
       "shape": {
        "columns": 6,
        "rows": 2
       }
      },
      "text/html": [
       "<div>\n",
       "<style scoped>\n",
       "    .dataframe tbody tr th:only-of-type {\n",
       "        vertical-align: middle;\n",
       "    }\n",
       "\n",
       "    .dataframe tbody tr th {\n",
       "        vertical-align: top;\n",
       "    }\n",
       "\n",
       "    .dataframe thead th {\n",
       "        text-align: right;\n",
       "    }\n",
       "</style>\n",
       "<table border=\"1\" class=\"dataframe\">\n",
       "  <thead>\n",
       "    <tr style=\"text-align: right;\">\n",
       "      <th></th>\n",
       "      <th>fueltype</th>\n",
       "      <th>min</th>\n",
       "      <th>max</th>\n",
       "      <th>mean</th>\n",
       "      <th>median</th>\n",
       "      <th>count</th>\n",
       "    </tr>\n",
       "  </thead>\n",
       "  <tbody>\n",
       "    <tr>\n",
       "      <th>0</th>\n",
       "      <td>diesel</td>\n",
       "      <td>7099.0</td>\n",
       "      <td>31600.0</td>\n",
       "      <td>15838.1500</td>\n",
       "      <td>13852.5</td>\n",
       "      <td>20</td>\n",
       "    </tr>\n",
       "    <tr>\n",
       "      <th>1</th>\n",
       "      <td>gas</td>\n",
       "      <td>5118.0</td>\n",
       "      <td>45400.0</td>\n",
       "      <td>12999.7982</td>\n",
       "      <td>9989.0</td>\n",
       "      <td>185</td>\n",
       "    </tr>\n",
       "  </tbody>\n",
       "</table>\n",
       "</div>"
      ],
      "text/plain": [
       "  fueltype     min      max        mean   median  count\n",
       "0   diesel  7099.0  31600.0  15838.1500  13852.5     20\n",
       "1      gas  5118.0  45400.0  12999.7982   9989.0    185"
      ]
     },
     "execution_count": 44,
     "metadata": {},
     "output_type": "execute_result"
    }
   ],
   "source": [
    "df.groupby(\"fueltype\")[\"price\"].agg([ \"min\" , \"max\" , \"mean\" , \"median\" , \"count\"]).reset_index()"
   ]
  },
  {
   "cell_type": "markdown",
   "metadata": {},
   "source": [
    "# Visualization"
   ]
  },
  {
   "cell_type": "markdown",
   "metadata": {},
   "source": [
    "plt.bar(carname_price[\"CarName\"] , carname_price[\"mean\"])\n",
    "plt.xlabel(\"Car Name\")\n",
    "plt.ylabel(\"PriceMean\")\n",
    "plt.title(\"Car Name Vs Price\")\n",
    "plt.xticks(rotation = 90)\n",
    "plt.show()"
   ]
  },
  {
   "cell_type": "code",
   "execution_count": 45,
   "metadata": {},
   "outputs": [
    {
     "data": {
      "image/png": "[encoded data removed]",
      "text/plain": [
       "<Figure size 640x480 with 1 Axes>"
      ]
     },
     "metadata": {},
     "output_type": "display_data"
    }
   ],
   "source": [
    "sns.barplot(data = carname_price , x = \"CarName\" , y = \"mean\")\n",
    "plt.xticks(rotation = 90)\n",
    "plt.show()"
   ]
  },
  {
   "cell_type": "code",
   "execution_count": 46,
   "metadata": {},
   "outputs": [
    {
     "data": {
      "application/vnd.microsoft.datawrangler.viewer.v0+json": {
       "columns": [
        {
         "name": "car_ID",
         "rawType": "int64",
         "type": "integer"
        },
        {
         "name": "symboling",
         "rawType": "int64",
         "type": "integer"
        },
        {
         "name": "CarName",
         "rawType": "object",
         "type": "string"
        },
        {
         "name": "fueltype",
         "rawType": "object",
         "type": "string"
        },
        {
         "name": "aspiration",
         "rawType": "object",
         "type": "string"
        },
        {
         "name": "doornumber",
         "rawType": "int64",
         "type": "integer"
        },
        {
         "name": "carbody",
         "rawType": "object",
         "type": "string"
        },
        {
         "name": "drivewheel",
         "rawType": "object",
         "type": "string"
        },
        {
         "name": "enginelocation",
         "rawType": "object",
         "type": "string"
        },
        {
         "name": "wheelbase",
         "rawType": "float64",
         "type": "float"
        },
        {
         "name": "carlength",
         "rawType": "float64",
         "type": "float"
        },
        {
         "name": "carwidth",
         "rawType": "float64",
         "type": "float"
        },
        {
         "name": "carheight",
         "rawType": "float64",
         "type": "float"
        },
        {
         "name": "curbweight",
         "rawType": "int64",
         "type": "integer"
        },
        {
         "name": "enginetype",
         "rawType": "object",
         "type": "string"
        },
        {
         "name": "cylindernumber",
         "rawType": "int64",
         "type": "integer"
        },
        {
         "name": "enginesize",
         "rawType": "int64",
         "type": "integer"
        },
        {
         "name": "fuelsystem",
         "rawType": "object",
         "type": "string"
        },
        {
         "name": "boreratio",
         "rawType": "float64",
         "type": "float"
        },
        {
         "name": "stroke",
         "rawType": "float64",
         "type": "float"
        },
        {
         "name": "compressionratio",
         "rawType": "float64",
         "type": "float"
        },
        {
         "name": "horsepower",
         "rawType": "int64",
         "type": "integer"
        },
        {
         "name": "peakrpm",
         "rawType": "int64",
         "type": "integer"
        },
        {
         "name": "citympg",
         "rawType": "int64",
         "type": "integer"
        },
        {
         "name": "highwaympg",
         "rawType": "int64",
         "type": "integer"
        },
        {
         "name": "price",
         "rawType": "float64",
         "type": "float"
        },
        {
         "name": "highwaympg.1",
         "rawType": "int64",
         "type": "integer"
        }
       ],
       "conversionMethod": "pd.DataFrame",
       "ref": "15a85113-0a57-44f1-9539-7b8301b09354",
       "rows": [
        [
         "1",
         "3",
         "alfa-romero",
         "gas",
         "std",
         "2",
         "convertible",
         "rwd",
         "front",
         "88.6",
         "168.8",
         "64.1",
         "48.8",
         "2548",
         "dohc",
         "4",
         "130",
         "mpfi",
         "3.47",
         "2.68",
         "9.0",
         "111",
         "5000",
         "21",
         "27",
         "13495.0",
         "27"
        ],
        [
         "2",
         "3",
         "alfa-romero",
         "gas",
         "std",
         "2",
         "convertible",
         "rwd",
         "front",
         "88.6",
         "168.8",
         "64.1",
         "48.8",
         "2548",
         "dohc",
         "4",
         "130",
         "mpfi",
         "3.47",
         "2.68",
         "9.0",
         "111",
         "5000",
         "21",
         "27",
         "16500.0",
         "27"
        ],
        [
         "3",
         "1",
         "alfa-romero",
         "gas",
         "std",
         "2",
         "hatchback",
         "rwd",
         "front",
         "94.5",
         "171.2",
         "65.5",
         "52.4",
         "2823",
         "ohcv",
         "6",
         "152",
         "mpfi",
         "2.68",
         "3.47",
         "9.0",
         "154",
         "5000",
         "19",
         "26",
         "16500.0",
         "26"
        ],
        [
         "4",
         "2",
         "audi",
         "gas",
         "std",
         "4",
         "sedan",
         "fwd",
         "front",
         "99.8",
         "176.6",
         "66.2",
         "54.3",
         "2337",
         "ohc",
         "4",
         "109",
         "mpfi",
         "3.19",
         "3.4",
         "10.0",
         "102",
         "5500",
         "24",
         "30",
         "13950.0",
         "30"
        ],
        [
         "5",
         "2",
         "audi",
         "gas",
         "std",
         "4",
         "sedan",
         "4wd",
         "front",
         "99.4",
         "176.6",
         "66.4",
         "54.3",
         "2824",
         "ohc",
         "5",
         "136",
         "mpfi",
         "3.19",
         "3.4",
         "8.0",
         "115",
         "5500",
         "18",
         "22",
         "17450.0",
         "22"
        ],
        [
         "6",
         "2",
         "audi",
         "gas",
         "std",
         "2",
         "sedan",
         "fwd",
         "front",
         "99.8",
         "177.3",
         "66.3",
         "53.1",
         "2507",
         "ohc",
         "5",
         "136",
         "mpfi",
         "3.19",
         "3.4",
         "8.5",
         "110",
         "5500",
         "19",
         "25",
         "15250.0",
         "25"
        ],
        [
         "7",
         "1",
         "audi",
         "gas",
         "std",
         "4",
         "sedan",
         "fwd",
         "front",
         "105.8",
         "192.7",
         "71.4",
         "55.7",
         "2844",
         "ohc",
         "5",
         "136",
         "mpfi",
         "3.19",
         "3.4",
         "8.5",
         "110",
         "5500",
         "19",
         "25",
         "17710.0",
         "25"
        ],
        [
         "8",
         "1",
         "audi",
         "gas",
         "std",
         "4",
         "wagon",
         "fwd",
         "front",
         "105.8",
         "192.7",
         "71.4",
         "55.7",
         "2954",
         "ohc",
         "5",
         "136",
         "mpfi",
         "3.19",
         "3.4",
         "8.5",
         "110",
         "5500",
         "19",
         "25",
         "18920.0",
         "25"
        ],
        [
         "9",
         "1",
         "audi",
         "gas",
         "turbo",
         "4",
         "sedan",
         "fwd",
         "front",
         "105.8",
         "192.7",
         "71.4",
         "55.9",
         "3086",
         "ohc",
         "5",
         "131",
         "mpfi",
         "3.13",
         "3.4",
         "8.3",
         "140",
         "5500",
         "17",
         "20",
         "23875.0",
         "20"
        ],
        [
         "10",
         "0",
         "audi",
         "gas",
         "turbo",
         "2",
         "hatchback",
         "4wd",
         "front",
         "99.5",
         "178.2",
         "67.9",
         "52.0",
         "3053",
         "ohc",
         "5",
         "131",
         "mpfi",
         "3.13",
         "3.4",
         "7.0",
         "160",
         "5500",
         "16",
         "22",
         "17859.167",
         "22"
        ],
        [
         "11",
         "2",
         "bmw",
         "gas",
         "std",
         "2",
         "sedan",
         "rwd",
         "front",
         "101.2",
         "176.8",
         "64.8",
         "54.3",
         "2395",
         "ohc",
         "4",
         "108",
         "mpfi",
         "3.5",
         "2.8",
         "8.8",
         "101",
         "5800",
         "23",
         "29",
         "16430.0",
         "29"
        ],
        [
         "12",
         "0",
         "bmw",
         "gas",
         "std",
         "4",
         "sedan",
         "rwd",
         "front",
         "101.2",
         "176.8",
         "64.8",
         "54.3",
         "2395",
         "ohc",
         "4",
         "108",
         "mpfi",
         "3.5",
         "2.8",
         "8.8",
         "101",
         "5800",
         "23",
         "29",
         "16925.0",
         "29"
        ],
        [
         "13",
         "0",
         "bmw",
         "gas",
         "std",
         "2",
         "sedan",
         "rwd",
         "front",
         "101.2",
         "176.8",
         "64.8",
         "54.3",
         "2710",
         "ohc",
         "6",
         "164",
         "mpfi",
         "3.31",
         "3.19",
         "9.0",
         "121",
         "4250",
         "21",
         "28",
         "20970.0",
         "28"
        ],
        [
         "14",
         "0",
         "bmw",
         "gas",
         "std",
         "4",
         "sedan",
         "rwd",
         "front",
         "101.2",
         "176.8",
         "64.8",
         "54.3",
         "2765",
         "ohc",
         "6",
         "164",
         "mpfi",
         "3.31",
         "3.19",
         "9.0",
         "121",
         "4250",
         "21",
         "28",
         "21105.0",
         "28"
        ],
        [
         "15",
         "1",
         "bmw",
         "gas",
         "std",
         "4",
         "sedan",
         "rwd",
         "front",
         "103.5",
         "189.0",
         "66.9",
         "55.7",
         "3055",
         "ohc",
         "6",
         "164",
         "mpfi",
         "3.31",
         "3.19",
         "9.0",
         "121",
         "4250",
         "20",
         "25",
         "24565.0",
         "25"
        ],
        [
         "16",
         "0",
         "bmw",
         "gas",
         "std",
         "4",
         "sedan",
         "rwd",
         "front",
         "103.5",
         "189.0",
         "66.9",
         "55.7",
         "3230",
         "ohc",
         "6",
         "209",
         "mpfi",
         "3.62",
         "3.39",
         "8.0",
         "182",
         "5400",
         "16",
         "22",
         "30760.0",
         "22"
        ],
        [
         "17",
         "0",
         "bmw",
         "gas",
         "std",
         "2",
         "sedan",
         "rwd",
         "front",
         "103.5",
         "193.8",
         "67.9",
         "53.7",
         "3380",
         "ohc",
         "6",
         "209",
         "mpfi",
         "3.62",
         "3.39",
         "8.0",
         "182",
         "5400",
         "16",
         "22",
         "41315.0",
         "22"
        ],
        [
         "18",
         "0",
         "bmw",
         "gas",
         "std",
         "4",
         "sedan",
         "rwd",
         "front",
         "110.0",
         "197.0",
         "70.9",
         "56.3",
         "3505",
         "ohc",
         "6",
         "209",
         "mpfi",
         "3.62",
         "3.39",
         "8.0",
         "182",
         "5400",
         "15",
         "20",
         "36880.0",
         "20"
        ],
        [
         "19",
         "2",
         "chevrolet",
         "gas",
         "std",
         "2",
         "hatchback",
         "fwd",
         "front",
         "88.4",
         "141.1",
         "60.3",
         "53.2",
         "1488",
         "l",
         "3",
         "61",
         "2bbl",
         "2.91",
         "3.03",
         "9.5",
         "48",
         "5100",
         "47",
         "53",
         "5151.0",
         "53"
        ],
        [
         "20",
         "1",
         "chevrolet",
         "gas",
         "std",
         "2",
         "hatchback",
         "fwd",
         "front",
         "94.5",
         "155.9",
         "63.6",
         "52.0",
         "1874",
         "ohc",
         "4",
         "90",
         "2bbl",
         "3.03",
         "3.11",
         "9.6",
         "70",
         "5400",
         "38",
         "43",
         "6295.0",
         "43"
        ],
        [
         "21",
         "0",
         "chevrolet",
         "gas",
         "std",
         "4",
         "sedan",
         "fwd",
         "front",
         "94.5",
         "158.8",
         "63.6",
         "52.0",
         "1909",
         "ohc",
         "4",
         "90",
         "2bbl",
         "3.03",
         "3.11",
         "9.6",
         "70",
         "5400",
         "38",
         "43",
         "6575.0",
         "43"
        ],
        [
         "22",
         "1",
         "dodge",
         "gas",
         "std",
         "2",
         "hatchback",
         "fwd",
         "front",
         "93.7",
         "157.3",
         "63.8",
         "50.8",
         "1876",
         "ohc",
         "4",
         "90",
         "2bbl",
         "2.97",
         "3.23",
         "9.41",
         "68",
         "5500",
         "37",
         "41",
         "5572.0",
         "41"
        ],
        [
         "23",
         "1",
         "dodge",
         "gas",
         "std",
         "2",
         "hatchback",
         "fwd",
         "front",
         "93.7",
         "157.3",
         "63.8",
         "50.8",
         "1876",
         "ohc",
         "4",
         "90",
         "2bbl",
         "2.97",
         "3.23",
         "9.4",
         "68",
         "5500",
         "31",
         "38",
         "6377.0",
         "38"
        ],
        [
         "24",
         "1",
         "dodge",
         "gas",
         "turbo",
         "2",
         "hatchback",
         "fwd",
         "front",
         "93.7",
         "157.3",
         "63.8",
         "50.8",
         "2128",
         "ohc",
         "4",
         "98",
         "mpfi",
         "3.03",
         "3.39",
         "7.6",
         "102",
         "5500",
         "24",
         "30",
         "7957.0",
         "30"
        ],
        [
         "25",
         "1",
         "dodge",
         "gas",
         "std",
         "4",
         "hatchback",
         "fwd",
         "front",
         "93.7",
         "157.3",
         "63.8",
         "50.6",
         "1967",
         "ohc",
         "4",
         "90",
         "2bbl",
         "2.97",
         "3.23",
         "9.4",
         "68",
         "5500",
         "31",
         "38",
         "6229.0",
         "38"
        ],
        [
         "26",
         "1",
         "dodge",
         "gas",
         "std",
         "4",
         "sedan",
         "fwd",
         "front",
         "93.7",
         "157.3",
         "63.8",
         "50.6",
         "1989",
         "ohc",
         "4",
         "90",
         "2bbl",
         "2.97",
         "3.23",
         "9.4",
         "68",
         "5500",
         "31",
         "38",
         "6692.0",
         "38"
        ],
        [
         "27",
         "1",
         "dodge",
         "gas",
         "std",
         "4",
         "sedan",
         "fwd",
         "front",
         "93.7",
         "157.3",
         "63.8",
         "50.6",
         "1989",
         "ohc",
         "4",
         "90",
         "2bbl",
         "2.97",
         "3.23",
         "9.4",
         "68",
         "5500",
         "31",
         "38",
         "7609.0",
         "38"
        ],
        [
         "28",
         "1",
         "dodge",
         "gas",
         "turbo",
         "2",
         "sedan",
         "fwd",
         "front",
         "93.7",
         "157.3",
         "63.8",
         "50.6",
         "2191",
         "ohc",
         "4",
         "98",
         "mpfi",
         "3.03",
         "3.39",
         "7.6",
         "102",
         "5500",
         "24",
         "30",
         "8558.0",
         "30"
        ],
        [
         "29",
         "-1",
         "dodge",
         "gas",
         "std",
         "4",
         "wagon",
         "fwd",
         "front",
         "103.3",
         "174.6",
         "64.6",
         "59.8",
         "2535",
         "ohc",
         "4",
         "122",
         "2bbl",
         "3.34",
         "3.46",
         "8.5",
         "88",
         "5000",
         "24",
         "30",
         "8921.0",
         "30"
        ],
        [
         "30",
         "3",
         "dodge",
         "gas",
         "turbo",
         "2",
         "hatchback",
         "fwd",
         "front",
         "95.9",
         "173.2",
         "66.3",
         "50.2",
         "2811",
         "ohc",
         "4",
         "156",
         "mfi",
         "3.6",
         "3.9",
         "7.0",
         "145",
         "5000",
         "19",
         "24",
         "12964.0",
         "24"
        ],
        [
         "31",
         "2",
         "honda",
         "gas",
         "std",
         "2",
         "hatchback",
         "fwd",
         "front",
         "86.6",
         "144.6",
         "63.9",
         "50.8",
         "1713",
         "ohc",
         "4",
         "92",
         "1bbl",
         "2.91",
         "3.41",
         "9.6",
         "58",
         "4800",
         "49",
         "54",
         "6479.0",
         "54"
        ],
        [
         "32",
         "2",
         "honda",
         "gas",
         "std",
         "2",
         "hatchback",
         "fwd",
         "front",
         "86.6",
         "144.6",
         "63.9",
         "50.8",
         "1819",
         "ohc",
         "4",
         "92",
         "1bbl",
         "2.91",
         "3.41",
         "9.2",
         "76",
         "6000",
         "31",
         "38",
         "6855.0",
         "38"
        ],
        [
         "33",
         "1",
         "honda",
         "gas",
         "std",
         "2",
         "hatchback",
         "fwd",
         "front",
         "93.7",
         "150.0",
         "64.0",
         "52.6",
         "1837",
         "ohc",
         "4",
         "79",
         "1bbl",
         "2.91",
         "3.07",
         "10.1",
         "60",
         "5500",
         "38",
         "42",
         "5399.0",
         "42"
        ],
        [
         "34",
         "1",
         "honda",
         "gas",
         "std",
         "2",
         "hatchback",
         "fwd",
         "front",
         "93.7",
         "150.0",
         "64.0",
         "52.6",
         "1940",
         "ohc",
         "4",
         "92",
         "1bbl",
         "2.91",
         "3.41",
         "9.2",
         "76",
         "6000",
         "30",
         "34",
         "6529.0",
         "34"
        ],
        [
         "35",
         "1",
         "honda",
         "gas",
         "std",
         "2",
         "hatchback",
         "fwd",
         "front",
         "93.7",
         "150.0",
         "64.0",
         "52.6",
         "1956",
         "ohc",
         "4",
         "92",
         "1bbl",
         "2.91",
         "3.41",
         "9.2",
         "76",
         "6000",
         "30",
         "34",
         "7129.0",
         "34"
        ],
        [
         "36",
         "0",
         "honda",
         "gas",
         "std",
         "4",
         "sedan",
         "fwd",
         "front",
         "96.5",
         "163.4",
         "64.0",
         "54.5",
         "2010",
         "ohc",
         "4",
         "92",
         "1bbl",
         "2.91",
         "3.41",
         "9.2",
         "76",
         "6000",
         "30",
         "34",
         "7295.0",
         "34"
        ],
        [
         "37",
         "0",
         "honda",
         "gas",
         "std",
         "4",
         "wagon",
         "fwd",
         "front",
         "96.5",
         "157.1",
         "63.9",
         "58.3",
         "2024",
         "ohc",
         "4",
         "92",
         "1bbl",
         "2.92",
         "3.41",
         "9.2",
         "76",
         "6000",
         "30",
         "34",
         "7295.0",
         "34"
        ],
        [
         "38",
         "0",
         "honda",
         "gas",
         "std",
         "2",
         "hatchback",
         "fwd",
         "front",
         "96.5",
         "167.5",
         "65.2",
         "53.3",
         "2236",
         "ohc",
         "4",
         "110",
         "1bbl",
         "3.15",
         "3.58",
         "9.0",
         "86",
         "5800",
         "27",
         "33",
         "7895.0",
         "33"
        ],
        [
         "39",
         "0",
         "honda",
         "gas",
         "std",
         "2",
         "hatchback",
         "fwd",
         "front",
         "96.5",
         "167.5",
         "65.2",
         "53.3",
         "2289",
         "ohc",
         "4",
         "110",
         "1bbl",
         "3.15",
         "3.58",
         "9.0",
         "86",
         "5800",
         "27",
         "33",
         "9095.0",
         "33"
        ],
        [
         "40",
         "0",
         "honda",
         "gas",
         "std",
         "4",
         "sedan",
         "fwd",
         "front",
         "96.5",
         "175.4",
         "65.2",
         "54.1",
         "2304",
         "ohc",
         "4",
         "110",
         "1bbl",
         "3.15",
         "3.58",
         "9.0",
         "86",
         "5800",
         "27",
         "33",
         "8845.0",
         "33"
        ],
        [
         "41",
         "0",
         "honda",
         "gas",
         "std",
         "4",
         "sedan",
         "fwd",
         "front",
         "96.5",
         "175.4",
         "62.5",
         "54.1",
         "2372",
         "ohc",
         "4",
         "110",
         "1bbl",
         "3.15",
         "3.58",
         "9.0",
         "86",
         "5800",
         "27",
         "33",
         "10295.0",
         "33"
        ],
        [
         "42",
         "0",
         "honda",
         "gas",
         "std",
         "4",
         "sedan",
         "fwd",
         "front",
         "96.5",
         "175.4",
         "65.2",
         "54.1",
         "2465",
         "ohc",
         "4",
         "110",
         "mpfi",
         "3.15",
         "3.58",
         "9.0",
         "101",
         "5800",
         "24",
         "28",
         "12945.0",
         "28"
        ],
        [
         "43",
         "1",
         "honda",
         "gas",
         "std",
         "2",
         "sedan",
         "fwd",
         "front",
         "96.5",
         "169.1",
         "66.0",
         "51.0",
         "2293",
         "ohc",
         "4",
         "110",
         "2bbl",
         "3.15",
         "3.58",
         "9.1",
         "100",
         "5500",
         "25",
         "31",
         "10345.0",
         "31"
        ],
        [
         "44",
         "0",
         "isuzu",
         "gas",
         "std",
         "4",
         "sedan",
         "rwd",
         "front",
         "94.3",
         "170.7",
         "61.8",
         "53.5",
         "2337",
         "ohc",
         "4",
         "111",
         "2bbl",
         "3.31",
         "3.23",
         "8.5",
         "78",
         "4800",
         "24",
         "29",
         "6785.0",
         "29"
        ],
        [
         "45",
         "1",
         "isuzu",
         "gas",
         "std",
         "2",
         "sedan",
         "fwd",
         "front",
         "94.5",
         "155.9",
         "63.6",
         "52.0",
         "1874",
         "ohc",
         "4",
         "90",
         "2bbl",
         "3.03",
         "3.11",
         "9.6",
         "70",
         "5400",
         "38",
         "43",
         "8916.5",
         "43"
        ],
        [
         "46",
         "0",
         "isuzu",
         "gas",
         "std",
         "4",
         "sedan",
         "fwd",
         "front",
         "94.5",
         "155.9",
         "63.6",
         "52.0",
         "1909",
         "ohc",
         "4",
         "90",
         "2bbl",
         "3.03",
         "3.11",
         "9.6",
         "70",
         "5400",
         "38",
         "43",
         "8916.5",
         "43"
        ],
        [
         "47",
         "2",
         "isuzu",
         "gas",
         "std",
         "2",
         "hatchback",
         "rwd",
         "front",
         "96.0",
         "172.6",
         "65.2",
         "51.4",
         "2734",
         "ohc",
         "4",
         "119",
         "spfi",
         "3.43",
         "3.23",
         "9.2",
         "90",
         "5000",
         "24",
         "29",
         "11048.0",
         "29"
        ],
        [
         "48",
         "0",
         "jaguar",
         "gas",
         "std",
         "4",
         "sedan",
         "rwd",
         "front",
         "113.0",
         "199.6",
         "69.6",
         "52.8",
         "4066",
         "dohc",
         "6",
         "258",
         "mpfi",
         "3.63",
         "4.17",
         "8.1",
         "176",
         "4750",
         "15",
         "19",
         "32250.0",
         "19"
        ],
        [
         "49",
         "0",
         "jaguar",
         "gas",
         "std",
         "4",
         "sedan",
         "rwd",
         "front",
         "113.0",
         "199.6",
         "69.6",
         "52.8",
         "4066",
         "dohc",
         "6",
         "258",
         "mpfi",
         "3.63",
         "4.17",
         "8.1",
         "176",
         "4750",
         "15",
         "19",
         "35550.0",
         "19"
        ],
        [
         "50",
         "0",
         "jaguar",
         "gas",
         "std",
         "2",
         "sedan",
         "rwd",
         "front",
         "102.0",
         "191.7",
         "70.6",
         "47.8",
         "3950",
         "ohcv",
         "12",
         "326",
         "mpfi",
         "3.54",
         "2.76",
         "11.5",
         "262",
         "5000",
         "13",
         "17",
         "36000.0",
         "17"
        ]
       ],
       "shape": {
        "columns": 26,
        "rows": 205
       }
      },
      "text/html": [
       "<div>\n",
       "<style scoped>\n",
       "    .dataframe tbody tr th:only-of-type {\n",
       "        vertical-align: middle;\n",
       "    }\n",
       "\n",
       "    .dataframe tbody tr th {\n",
       "        vertical-align: top;\n",
       "    }\n",
       "\n",
       "    .dataframe thead th {\n",
       "        text-align: right;\n",
       "    }\n",
       "</style>\n",
       "<table border=\"1\" class=\"dataframe\">\n",
       "  <thead>\n",
       "    <tr style=\"text-align: right;\">\n",
       "      <th></th>\n",
       "      <th>symboling</th>\n",
       "      <th>CarName</th>\n",
       "      <th>fueltype</th>\n",
       "      <th>aspiration</th>\n",
       "      <th>doornumber</th>\n",
       "      <th>carbody</th>\n",
       "      <th>drivewheel</th>\n",
       "      <th>enginelocation</th>\n",
       "      <th>wheelbase</th>\n",
       "      <th>carlength</th>\n",
       "      <th>...</th>\n",
       "      <th>fuelsystem</th>\n",
       "      <th>boreratio</th>\n",
       "      <th>stroke</th>\n",
       "      <th>compressionratio</th>\n",
       "      <th>horsepower</th>\n",
       "      <th>peakrpm</th>\n",
       "      <th>citympg</th>\n",
       "      <th>highwaympg</th>\n",
       "      <th>price</th>\n",
       "      <th>highwaympg.1</th>\n",
       "    </tr>\n",
       "    <tr>\n",
       "      <th>car_ID</th>\n",
       "      <th></th>\n",
       "      <th></th>\n",
       "      <th></th>\n",
       "      <th></th>\n",
       "      <th></th>\n",
       "      <th></th>\n",
       "      <th></th>\n",
       "      <th></th>\n",
       "      <th></th>\n",
       "      <th></th>\n",
       "      <th></th>\n",
       "      <th></th>\n",
       "      <th></th>\n",
       "      <th></th>\n",
       "      <th></th>\n",
       "      <th></th>\n",
       "      <th></th>\n",
       "      <th></th>\n",
       "      <th></th>\n",
       "      <th></th>\n",
       "      <th></th>\n",
       "    </tr>\n",
       "  </thead>\n",
       "  <tbody>\n",
       "    <tr>\n",
       "      <th>1</th>\n",
       "      <td>3</td>\n",
       "      <td>alfa-romero</td>\n",
       "      <td>gas</td>\n",
       "      <td>std</td>\n",
       "      <td>2</td>\n",
       "      <td>convertible</td>\n",
       "      <td>rwd</td>\n",
       "      <td>front</td>\n",
       "      <td>88.6</td>\n",
       "      <td>168.8</td>\n",
       "      <td>...</td>\n",
       "      <td>mpfi</td>\n",
       "      <td>3.47</td>\n",
       "      <td>2.68</td>\n",
       "      <td>9.0</td>\n",
       "      <td>111</td>\n",
       "      <td>5000</td>\n",
       "      <td>21</td>\n",
       "      <td>27</td>\n",
       "      <td>13495.0</td>\n",
       "      <td>27</td>\n",
       "    </tr>\n",
       "    <tr>\n",
       "      <th>2</th>\n",
       "      <td>3</td>\n",
       "      <td>alfa-romero</td>\n",
       "      <td>gas</td>\n",
       "      <td>std</td>\n",
       "      <td>2</td>\n",
       "      <td>convertible</td>\n",
       "      <td>rwd</td>\n",
       "      <td>front</td>\n",
       "      <td>88.6</td>\n",
       "      <td>168.8</td>\n",
       "      <td>...</td>\n",
       "      <td>mpfi</td>\n",
       "      <td>3.47</td>\n",
       "      <td>2.68</td>\n",
       "      <td>9.0</td>\n",
       "      <td>111</td>\n",
       "      <td>5000</td>\n",
       "      <td>21</td>\n",
       "      <td>27</td>\n",
       "      <td>16500.0</td>\n",
       "      <td>27</td>\n",
       "    </tr>\n",
       "    <tr>\n",
       "      <th>3</th>\n",
       "      <td>1</td>\n",
       "      <td>alfa-romero</td>\n",
       "      <td>gas</td>\n",
       "      <td>std</td>\n",
       "      <td>2</td>\n",
       "      <td>hatchback</td>\n",
       "      <td>rwd</td>\n",
       "      <td>front</td>\n",
       "      <td>94.5</td>\n",
       "      <td>171.2</td>\n",
       "      <td>...</td>\n",
       "      <td>mpfi</td>\n",
       "      <td>2.68</td>\n",
       "      <td>3.47</td>\n",
       "      <td>9.0</td>\n",
       "      <td>154</td>\n",
       "      <td>5000</td>\n",
       "      <td>19</td>\n",
       "      <td>26</td>\n",
       "      <td>16500.0</td>\n",
       "      <td>26</td>\n",
       "    </tr>\n",
       "    <tr>\n",
       "      <th>4</th>\n",
       "      <td>2</td>\n",
       "      <td>audi</td>\n",
       "      <td>gas</td>\n",
       "      <td>std</td>\n",
       "      <td>4</td>\n",
       "      <td>sedan</td>\n",
       "      <td>fwd</td>\n",
       "      <td>front</td>\n",
       "      <td>99.8</td>\n",
       "      <td>176.6</td>\n",
       "      <td>...</td>\n",
       "      <td>mpfi</td>\n",
       "      <td>3.19</td>\n",
       "      <td>3.40</td>\n",
       "      <td>10.0</td>\n",
       "      <td>102</td>\n",
       "      <td>5500</td>\n",
       "      <td>24</td>\n",
       "      <td>30</td>\n",
       "      <td>13950.0</td>\n",
       "      <td>30</td>\n",
       "    </tr>\n",
       "    <tr>\n",
       "      <th>5</th>\n",
       "      <td>2</td>\n",
       "      <td>audi</td>\n",
       "      <td>gas</td>\n",
       "      <td>std</td>\n",
       "      <td>4</td>\n",
       "      <td>sedan</td>\n",
       "      <td>4wd</td>\n",
       "      <td>front</td>\n",
       "      <td>99.4</td>\n",
       "      <td>176.6</td>\n",
       "      <td>...</td>\n",
       "      <td>mpfi</td>\n",
       "      <td>3.19</td>\n",
       "      <td>3.40</td>\n",
       "      <td>8.0</td>\n",
       "      <td>115</td>\n",
       "      <td>5500</td>\n",
       "      <td>18</td>\n",
       "      <td>22</td>\n",
       "      <td>17450.0</td>\n",
       "      <td>22</td>\n",
       "    </tr>\n",
       "    <tr>\n",
       "      <th>...</th>\n",
       "      <td>...</td>\n",
       "      <td>...</td>\n",
       "      <td>...</td>\n",
       "      <td>...</td>\n",
       "      <td>...</td>\n",
       "      <td>...</td>\n",
       "      <td>...</td>\n",
       "      <td>...</td>\n",
       "      <td>...</td>\n",
       "      <td>...</td>\n",
       "      <td>...</td>\n",
       "      <td>...</td>\n",
       "      <td>...</td>\n",
       "      <td>...</td>\n",
       "      <td>...</td>\n",
       "      <td>...</td>\n",
       "      <td>...</td>\n",
       "      <td>...</td>\n",
       "      <td>...</td>\n",
       "      <td>...</td>\n",
       "      <td>...</td>\n",
       "    </tr>\n",
       "    <tr>\n",
       "      <th>201</th>\n",
       "      <td>-1</td>\n",
       "      <td>volvo</td>\n",
       "      <td>gas</td>\n",
       "      <td>std</td>\n",
       "      <td>4</td>\n",
       "      <td>sedan</td>\n",
       "      <td>rwd</td>\n",
       "      <td>front</td>\n",
       "      <td>109.1</td>\n",
       "      <td>188.8</td>\n",
       "      <td>...</td>\n",
       "      <td>mpfi</td>\n",
       "      <td>3.78</td>\n",
       "      <td>3.15</td>\n",
       "      <td>9.5</td>\n",
       "      <td>114</td>\n",
       "      <td>5400</td>\n",
       "      <td>23</td>\n",
       "      <td>28</td>\n",
       "      <td>16845.0</td>\n",
       "      <td>28</td>\n",
       "    </tr>\n",
       "    <tr>\n",
       "      <th>202</th>\n",
       "      <td>-1</td>\n",
       "      <td>volvo</td>\n",
       "      <td>gas</td>\n",
       "      <td>turbo</td>\n",
       "      <td>4</td>\n",
       "      <td>sedan</td>\n",
       "      <td>rwd</td>\n",
       "      <td>front</td>\n",
       "      <td>109.1</td>\n",
       "      <td>188.8</td>\n",
       "      <td>...</td>\n",
       "      <td>mpfi</td>\n",
       "      <td>3.78</td>\n",
       "      <td>3.15</td>\n",
       "      <td>8.7</td>\n",
       "      <td>160</td>\n",
       "      <td>5300</td>\n",
       "      <td>19</td>\n",
       "      <td>25</td>\n",
       "      <td>19045.0</td>\n",
       "      <td>25</td>\n",
       "    </tr>\n",
       "    <tr>\n",
       "      <th>203</th>\n",
       "      <td>-1</td>\n",
       "      <td>volvo</td>\n",
       "      <td>gas</td>\n",
       "      <td>std</td>\n",
       "      <td>4</td>\n",
       "      <td>sedan</td>\n",
       "      <td>rwd</td>\n",
       "      <td>front</td>\n",
       "      <td>109.1</td>\n",
       "      <td>188.8</td>\n",
       "      <td>...</td>\n",
       "      <td>mpfi</td>\n",
       "      <td>3.58</td>\n",
       "      <td>2.87</td>\n",
       "      <td>8.8</td>\n",
       "      <td>134</td>\n",
       "      <td>5500</td>\n",
       "      <td>18</td>\n",
       "      <td>23</td>\n",
       "      <td>21485.0</td>\n",
       "      <td>23</td>\n",
       "    </tr>\n",
       "    <tr>\n",
       "      <th>204</th>\n",
       "      <td>-1</td>\n",
       "      <td>volvo</td>\n",
       "      <td>diesel</td>\n",
       "      <td>turbo</td>\n",
       "      <td>4</td>\n",
       "      <td>sedan</td>\n",
       "      <td>rwd</td>\n",
       "      <td>front</td>\n",
       "      <td>109.1</td>\n",
       "      <td>188.8</td>\n",
       "      <td>...</td>\n",
       "      <td>idi</td>\n",
       "      <td>3.01</td>\n",
       "      <td>3.40</td>\n",
       "      <td>23.0</td>\n",
       "      <td>106</td>\n",
       "      <td>4800</td>\n",
       "      <td>26</td>\n",
       "      <td>27</td>\n",
       "      <td>22470.0</td>\n",
       "      <td>27</td>\n",
       "    </tr>\n",
       "    <tr>\n",
       "      <th>205</th>\n",
       "      <td>-1</td>\n",
       "      <td>volvo</td>\n",
       "      <td>gas</td>\n",
       "      <td>turbo</td>\n",
       "      <td>4</td>\n",
       "      <td>sedan</td>\n",
       "      <td>rwd</td>\n",
       "      <td>front</td>\n",
       "      <td>109.1</td>\n",
       "      <td>188.8</td>\n",
       "      <td>...</td>\n",
       "      <td>mpfi</td>\n",
       "      <td>3.78</td>\n",
       "      <td>3.15</td>\n",
       "      <td>9.5</td>\n",
       "      <td>114</td>\n",
       "      <td>5400</td>\n",
       "      <td>19</td>\n",
       "      <td>25</td>\n",
       "      <td>22625.0</td>\n",
       "      <td>25</td>\n",
       "    </tr>\n",
       "  </tbody>\n",
       "</table>\n",
       "<p>205 rows × 26 columns</p>\n",
       "</div>"
      ],
      "text/plain": [
       "        symboling      CarName fueltype aspiration  doornumber      carbody  \\\n",
       "car_ID                                                                        \n",
       "1               3  alfa-romero      gas        std           2  convertible   \n",
       "2               3  alfa-romero      gas        std           2  convertible   \n",
       "3               1  alfa-romero      gas        std           2    hatchback   \n",
       "4               2         audi      gas        std           4        sedan   \n",
       "5               2         audi      gas        std           4        sedan   \n",
       "...           ...          ...      ...        ...         ...          ...   \n",
       "201            -1        volvo      gas        std           4        sedan   \n",
       "202            -1        volvo      gas      turbo           4        sedan   \n",
       "203            -1        volvo      gas        std           4        sedan   \n",
       "204            -1        volvo   diesel      turbo           4        sedan   \n",
       "205            -1        volvo      gas      turbo           4        sedan   \n",
       "\n",
       "       drivewheel enginelocation  wheelbase  carlength  ...  fuelsystem  \\\n",
       "car_ID                                                  ...               \n",
       "1             rwd          front       88.6      168.8  ...        mpfi   \n",
       "2             rwd          front       88.6      168.8  ...        mpfi   \n",
       "3             rwd          front       94.5      171.2  ...        mpfi   \n",
       "4             fwd          front       99.8      176.6  ...        mpfi   \n",
       "5             4wd          front       99.4      176.6  ...        mpfi   \n",
       "...           ...            ...        ...        ...  ...         ...   \n",
       "201           rwd          front      109.1      188.8  ...        mpfi   \n",
       "202           rwd          front      109.1      188.8  ...        mpfi   \n",
       "203           rwd          front      109.1      188.8  ...        mpfi   \n",
       "204           rwd          front      109.1      188.8  ...         idi   \n",
       "205           rwd          front      109.1      188.8  ...        mpfi   \n",
       "\n",
       "        boreratio  stroke compressionratio  horsepower  peakrpm citympg  \\\n",
       "car_ID                                                                    \n",
       "1            3.47    2.68              9.0         111     5000      21   \n",
       "2            3.47    2.68              9.0         111     5000      21   \n",
       "3            2.68    3.47              9.0         154     5000      19   \n",
       "4            3.19    3.40             10.0         102     5500      24   \n",
       "5            3.19    3.40              8.0         115     5500      18   \n",
       "...           ...     ...              ...         ...      ...     ...   \n",
       "201          3.78    3.15              9.5         114     5400      23   \n",
       "202          3.78    3.15              8.7         160     5300      19   \n",
       "203          3.58    2.87              8.8         134     5500      18   \n",
       "204          3.01    3.40             23.0         106     4800      26   \n",
       "205          3.78    3.15              9.5         114     5400      19   \n",
       "\n",
       "        highwaympg    price  highwaympg.1  \n",
       "car_ID                                     \n",
       "1               27  13495.0            27  \n",
       "2               27  16500.0            27  \n",
       "3               26  16500.0            26  \n",
       "4               30  13950.0            30  \n",
       "5               22  17450.0            22  \n",
       "...            ...      ...           ...  \n",
       "201             28  16845.0            28  \n",
       "202             25  19045.0            25  \n",
       "203             23  21485.0            23  \n",
       "204             27  22470.0            27  \n",
       "205             25  22625.0            25  \n",
       "\n",
       "[205 rows x 26 columns]"
      ]
     },
     "execution_count": 46,
     "metadata": {},
     "output_type": "execute_result"
    }
   ],
   "source": [
    "df"
   ]
  },
  {
   "cell_type": "code",
   "execution_count": 47,
   "metadata": {},
   "outputs": [
    {
     "data": {
      "image/png": "[encoded data removed]",
      "text/plain": [
       "<Figure size 640x480 with 1 Axes>"
      ]
     },
     "metadata": {},
     "output_type": "display_data"
    }
   ],
   "source": [
    "sns.barplot(data = df , x = \"CarName\" , y = \"price\" , estimator=\"mean\" , hue = \"fueltype\")\n",
    "plt.xticks(rotation = 90)\n",
    "plt.show()"
   ]
  },
  {
   "cell_type": "code",
   "execution_count": 48,
   "metadata": {},
   "outputs": [
    {
     "ename": "ValueError",
     "evalue": "Mime type rendering requires nbformat>=4.2.0 but it is not installed",
     "output_type": "error",
     "traceback": [
      "\u001b[1;31m---------------------------------------------------------------------------\u001b[0m",
      "\u001b[1;31mValueError\u001b[0m                                Traceback (most recent call last)",
      "File \u001b[1;32m~\\AppData\\Local\\Packages\\PythonSoftwareFoundation.Python.3.12_qbz5n2kfra8p0\\LocalCache\\local-packages\\Python312\\site-packages\\IPython\\core\\formatters.py:984\u001b[0m, in \u001b[0;36mIPythonDisplayFormatter.__call__\u001b[1;34m(self, obj)\u001b[0m\n\u001b[0;32m    982\u001b[0m method \u001b[38;5;241m=\u001b[39m get_real_method(obj, \u001b[38;5;28mself\u001b[39m\u001b[38;5;241m.\u001b[39mprint_method)\n\u001b[0;32m    983\u001b[0m \u001b[38;5;28;01mif\u001b[39;00m method \u001b[38;5;129;01mis\u001b[39;00m \u001b[38;5;129;01mnot\u001b[39;00m \u001b[38;5;28;01mNone\u001b[39;00m:\n\u001b[1;32m--> 984\u001b[0m     \u001b[43mmethod\u001b[49m\u001b[43m(\u001b[49m\u001b[43m)\u001b[49m\n\u001b[0;32m    985\u001b[0m     \u001b[38;5;28;01mreturn\u001b[39;00m \u001b[38;5;28;01mTrue\u001b[39;00m\n",
      "File \u001b[1;32m~\\AppData\\Local\\Packages\\PythonSoftwareFoundation.Python.3.12_qbz5n2kfra8p0\\LocalCache\\local-packages\\Python312\\site-packages\\plotly\\basedatatypes.py:833\u001b[0m, in \u001b[0;36mBaseFigure._ipython_display_\u001b[1;34m(self)\u001b[0m\n\u001b[0;32m    830\u001b[0m \u001b[38;5;28;01mimport\u001b[39;00m\u001b[38;5;250m \u001b[39m\u001b[38;5;21;01mplotly\u001b[39;00m\u001b[38;5;21;01m.\u001b[39;00m\u001b[38;5;21;01mio\u001b[39;00m\u001b[38;5;250m \u001b[39m\u001b[38;5;28;01mas\u001b[39;00m\u001b[38;5;250m \u001b[39m\u001b[38;5;21;01mpio\u001b[39;00m\n\u001b[0;32m    832\u001b[0m \u001b[38;5;28;01mif\u001b[39;00m pio\u001b[38;5;241m.\u001b[39mrenderers\u001b[38;5;241m.\u001b[39mrender_on_display \u001b[38;5;129;01mand\u001b[39;00m pio\u001b[38;5;241m.\u001b[39mrenderers\u001b[38;5;241m.\u001b[39mdefault:\n\u001b[1;32m--> 833\u001b[0m     \u001b[43mpio\u001b[49m\u001b[38;5;241;43m.\u001b[39;49m\u001b[43mshow\u001b[49m\u001b[43m(\u001b[49m\u001b[38;5;28;43mself\u001b[39;49m\u001b[43m)\u001b[49m\n\u001b[0;32m    834\u001b[0m \u001b[38;5;28;01melse\u001b[39;00m:\n\u001b[0;32m    835\u001b[0m     \u001b[38;5;28mprint\u001b[39m(\u001b[38;5;28mrepr\u001b[39m(\u001b[38;5;28mself\u001b[39m))\n",
      "File \u001b[1;32m~\\AppData\\Local\\Packages\\PythonSoftwareFoundation.Python.3.12_qbz5n2kfra8p0\\LocalCache\\local-packages\\Python312\\site-packages\\plotly\\io\\_renderers.py:425\u001b[0m, in \u001b[0;36mshow\u001b[1;34m(fig, renderer, validate, **kwargs)\u001b[0m\n\u001b[0;32m    420\u001b[0m     \u001b[38;5;28;01mraise\u001b[39;00m \u001b[38;5;167;01mValueError\u001b[39;00m(\n\u001b[0;32m    421\u001b[0m         \u001b[38;5;124m\"\u001b[39m\u001b[38;5;124mMime type rendering requires ipython but it is not installed\u001b[39m\u001b[38;5;124m\"\u001b[39m\n\u001b[0;32m    422\u001b[0m     )\n\u001b[0;32m    424\u001b[0m \u001b[38;5;28;01mif\u001b[39;00m \u001b[38;5;129;01mnot\u001b[39;00m nbformat \u001b[38;5;129;01mor\u001b[39;00m Version(nbformat\u001b[38;5;241m.\u001b[39m__version__) \u001b[38;5;241m<\u001b[39m Version(\u001b[38;5;124m\"\u001b[39m\u001b[38;5;124m4.2.0\u001b[39m\u001b[38;5;124m\"\u001b[39m):\n\u001b[1;32m--> 425\u001b[0m     \u001b[38;5;28;01mraise\u001b[39;00m \u001b[38;5;167;01mValueError\u001b[39;00m(\n\u001b[0;32m    426\u001b[0m         \u001b[38;5;124m\"\u001b[39m\u001b[38;5;124mMime type rendering requires nbformat>=4.2.0 but it is not installed\u001b[39m\u001b[38;5;124m\"\u001b[39m\n\u001b[0;32m    427\u001b[0m     )\n\u001b[0;32m    429\u001b[0m display_jupyter_version_warnings()\n\u001b[0;32m    431\u001b[0m ipython_display\u001b[38;5;241m.\u001b[39mdisplay(bundle, raw\u001b[38;5;241m=\u001b[39m\u001b[38;5;28;01mTrue\u001b[39;00m)\n",
      "\u001b[1;31mValueError\u001b[0m: Mime type rendering requires nbformat>=4.2.0 but it is not installed"
     ]
    },
    {
     "data": {
      "application/vnd.plotly.v1+json": {
       "config": {
        "plotlyServerURL": "https://plot.ly"
       },
       "data": [
        {
         "hovertemplate": "CarName=%{x}<br>mean=%{marker.color}<extra></extra>",
         "legendgroup": "",
         "marker": {
          "color": {
           "bdata": "AAAAAAB7tUCrqqqqKkXOQDtlcqvKcNFAAAAAALCB2UAAAAAA4G3gQAAAAAAAd7dAx3Ecx3HDvkA7sRM7sfi/QAAAAABAasFAAAAAAADl4EDx8PDwcM7EQAAAAADAHdBAdmInduILwkDx8PDwcOjEQC+66KKLQM5At23btm0bv0AAAAAAIKreQAAAAACAvcJAq6qqqqq7zUAAAAAAoK7AQAAAAADoTsNAAAAAAMCuw0Avuuiiy6PRQA==",
           "dtype": "f8"
          },
          "coloraxis": "coloraxis",
          "pattern": {
           "shape": ""
          }
         },
         "name": "",
         "orientation": "v",
         "showlegend": false,
         "textposition": "auto",
         "type": "bar",
         "x": [
          "Nissan",
          "alfa-romero",
          "audi",
          "bmw",
          "buick",
          "chevrolet",
          "dodge",
          "honda",
          "isuzu",
          "jaguar",
          "mazda",
          "mercury",
          "mitsubishi",
          "nissan",
          "peugeot",
          "plymouth",
          "porsche",
          "renault",
          "saab",
          "subaru",
          "toyota",
          "volkswagen",
          "volvo"
         ],
         "xaxis": "x",
         "y": {
          "bdata": "AAAAAAB7tUCrqqqqKkXOQDtlcqvKcNFAAAAAALCB2UAAAAAA4G3gQAAAAAAAd7dAx3Ecx3HDvkA7sRM7sfi/QAAAAABAasFAAAAAAADl4EDx8PDwcM7EQAAAAADAHdBAdmInduILwkDx8PDwcOjEQC+66KKLQM5At23btm0bv0AAAAAAIKreQAAAAACAvcJAq6qqqqq7zUAAAAAAoK7AQAAAAADoTsNAAAAAAMCuw0Avuuiiy6PRQA==",
          "dtype": "f8"
         },
         "yaxis": "y"
        }
       ],
       "layout": {
        "barmode": "relative",
        "coloraxis": {
         "colorbar": {
          "title": {
           "text": "mean"
          }
         },
         "colorscale": [
          [
           0,
           "#0d0887"
          ],
          [
           0.1111111111111111,
           "#46039f"
          ],
          [
           0.2222222222222222,
           "#7201a8"
          ],
          [
           0.3333333333333333,
           "#9c179e"
          ],
          [
           0.4444444444444444,
           "#bd3786"
          ],
          [
           0.5555555555555556,
           "#d8576b"
          ],
          [
           0.6666666666666666,
           "#ed7953"
          ],
          [
           0.7777777777777778,
           "#fb9f3a"
          ],
          [
           0.8888888888888888,
           "#fdca26"
          ],
          [
           1,
           "#f0f921"
          ]
         ]
        },
        "legend": {
         "tracegroupgap": 0
        },
        "margin": {
         "t": 60
        },
        "template": {
         "data": {
          "bar": [
           {
            "error_x": {
             "color": "#2a3f5f"
            },
            "error_y": {
             "color": "#2a3f5f"
            },
            "marker": {
             "line": {
              "color": "#E5ECF6",
              "width": 0.5
             },
             "pattern": {
              "fillmode": "overlay",
              "size": 10,
              "solidity": 0.2
             }
            },
            "type": "bar"
           }
          ],
          "barpolar": [
           {
            "marker": {
             "line": {
              "color": "#E5ECF6",
              "width": 0.5
             },
             "pattern": {
              "fillmode": "overlay",
              "size": 10,
              "solidity": 0.2
             }
            },
            "type": "barpolar"
           }
          ],
          "carpet": [
           {
            "aaxis": {
             "endlinecolor": "#2a3f5f",
             "gridcolor": "white",
             "linecolor": "white",
             "minorgridcolor": "white",
             "startlinecolor": "#2a3f5f"
            },
            "baxis": {
             "endlinecolor": "#2a3f5f",
             "gridcolor": "white",
             "linecolor": "white",
             "minorgridcolor": "white",
             "startlinecolor": "#2a3f5f"
            },
            "type": "carpet"
           }
          ],
          "choropleth": [
           {
            "colorbar": {
             "outlinewidth": 0,
             "ticks": ""
            },
            "type": "choropleth"
           }
          ],
          "contour": [
           {
            "colorbar": {
             "outlinewidth": 0,
             "ticks": ""
            },
            "colorscale": [
             [
              0,
              "#0d0887"
             ],
             [
              0.1111111111111111,
              "#46039f"
             ],
             [
              0.2222222222222222,
              "#7201a8"
             ],
             [
              0.3333333333333333,
              "#9c179e"
             ],
             [
              0.4444444444444444,
              "#bd3786"
             ],
             [
              0.5555555555555556,
              "#d8576b"
             ],
             [
              0.6666666666666666,
              "#ed7953"
             ],
             [
              0.7777777777777778,
              "#fb9f3a"
             ],
             [
              0.8888888888888888,
              "#fdca26"
             ],
             [
              1,
              "#f0f921"
             ]
            ],
            "type": "contour"
           }
          ],
          "contourcarpet": [
           {
            "colorbar": {
             "outlinewidth": 0,
             "ticks": ""
            },
            "type": "contourcarpet"
           }
          ],
          "heatmap": [
           {
            "colorbar": {
             "outlinewidth": 0,
             "ticks": ""
            },
            "colorscale": [
             [
              0,
              "#0d0887"
             ],
             [
              0.1111111111111111,
              "#46039f"
             ],
             [
              0.2222222222222222,
              "#7201a8"
             ],
             [
              0.3333333333333333,
              "#9c179e"
             ],
             [
              0.4444444444444444,
              "#bd3786"
             ],
             [
              0.5555555555555556,
              "#d8576b"
             ],
             [
              0.6666666666666666,
              "#ed7953"
             ],
             [
              0.7777777777777778,
              "#fb9f3a"
             ],
             [
              0.8888888888888888,
              "#fdca26"
             ],
             [
              1,
              "#f0f921"
             ]
            ],
            "type": "heatmap"
           }
          ],
          "histogram": [
           {
            "marker": {
             "pattern": {
              "fillmode": "overlay",
              "size": 10,
              "solidity": 0.2
             }
            },
            "type": "histogram"
           }
          ],
          "histogram2d": [
           {
            "colorbar": {
             "outlinewidth": 0,
             "ticks": ""
            },
            "colorscale": [
             [
              0,
              "#0d0887"
             ],
             [
              0.1111111111111111,
              "#46039f"
             ],
             [
              0.2222222222222222,
              "#7201a8"
             ],
             [
              0.3333333333333333,
              "#9c179e"
             ],
             [
              0.4444444444444444,
              "#bd3786"
             ],
             [
              0.5555555555555556,
              "#d8576b"
             ],
             [
              0.6666666666666666,
              "#ed7953"
             ],
             [
              0.7777777777777778,
              "#fb9f3a"
             ],
             [
              0.8888888888888888,
              "#fdca26"
             ],
             [
              1,
              "#f0f921"
             ]
            ],
            "type": "histogram2d"
           }
          ],
          "histogram2dcontour": [
           {
            "colorbar": {
             "outlinewidth": 0,
             "ticks": ""
            },
            "colorscale": [
             [
              0,
              "#0d0887"
             ],
             [
              0.1111111111111111,
              "#46039f"
             ],
             [
              0.2222222222222222,
              "#7201a8"
             ],
             [
              0.3333333333333333,
              "#9c179e"
             ],
             [
              0.4444444444444444,
              "#bd3786"
             ],
             [
              0.5555555555555556,
              "#d8576b"
             ],
             [
              0.6666666666666666,
              "#ed7953"
             ],
             [
              0.7777777777777778,
              "#fb9f3a"
             ],
             [
              0.8888888888888888,
              "#fdca26"
             ],
             [
              1,
              "#f0f921"
             ]
            ],
            "type": "histogram2dcontour"
           }
          ],
          "mesh3d": [
           {
            "colorbar": {
             "outlinewidth": 0,
             "ticks": ""
            },
            "type": "mesh3d"
           }
          ],
          "parcoords": [
           {
            "line": {
             "colorbar": {
              "outlinewidth": 0,
              "ticks": ""
             }
            },
            "type": "parcoords"
           }
          ],
          "pie": [
           {
            "automargin": true,
            "type": "pie"
           }
          ],
          "scatter": [
           {
            "fillpattern": {
             "fillmode": "overlay",
             "size": 10,
             "solidity": 0.2
            },
            "type": "scatter"
           }
          ],
          "scatter3d": [
           {
            "line": {
             "colorbar": {
              "outlinewidth": 0,
              "ticks": ""
             }
            },
            "marker": {
             "colorbar": {
              "outlinewidth": 0,
              "ticks": ""
             }
            },
            "type": "scatter3d"
           }
          ],
          "scattercarpet": [
           {
            "marker": {
             "colorbar": {
              "outlinewidth": 0,
              "ticks": ""
             }
            },
            "type": "scattercarpet"
           }
          ],
          "scattergeo": [
           {
            "marker": {
             "colorbar": {
              "outlinewidth": 0,
              "ticks": ""
             }
            },
            "type": "scattergeo"
           }
          ],
          "scattergl": [
           {
            "marker": {
             "colorbar": {
              "outlinewidth": 0,
              "ticks": ""
             }
            },
            "type": "scattergl"
           }
          ],
          "scattermap": [
           {
            "marker": {
             "colorbar": {
              "outlinewidth": 0,
              "ticks": ""
             }
            },
            "type": "scattermap"
           }
          ],
          "scattermapbox": [
           {
            "marker": {
             "colorbar": {
              "outlinewidth": 0,
              "ticks": ""
             }
            },
            "type": "scattermapbox"
           }
          ],
          "scatterpolar": [
           {
            "marker": {
             "colorbar": {
              "outlinewidth": 0,
              "ticks": ""
             }
            },
            "type": "scatterpolar"
           }
          ],
          "scatterpolargl": [
           {
            "marker": {
             "colorbar": {
              "outlinewidth": 0,
              "ticks": ""
             }
            },
            "type": "scatterpolargl"
           }
          ],
          "scatterternary": [
           {
            "marker": {
             "colorbar": {
              "outlinewidth": 0,
              "ticks": ""
             }
            },
            "type": "scatterternary"
           }
          ],
          "surface": [
           {
            "colorbar": {
             "outlinewidth": 0,
             "ticks": ""
            },
            "colorscale": [
             [
              0,
              "#0d0887"
             ],
             [
              0.1111111111111111,
              "#46039f"
             ],
             [
              0.2222222222222222,
              "#7201a8"
             ],
             [
              0.3333333333333333,
              "#9c179e"
             ],
             [
              0.4444444444444444,
              "#bd3786"
             ],
             [
              0.5555555555555556,
              "#d8576b"
             ],
             [
              0.6666666666666666,
              "#ed7953"
             ],
             [
              0.7777777777777778,
              "#fb9f3a"
             ],
             [
              0.8888888888888888,
              "#fdca26"
             ],
             [
              1,
              "#f0f921"
             ]
            ],
            "type": "surface"
           }
          ],
          "table": [
           {
            "cells": {
             "fill": {
              "color": "#EBF0F8"
             },
             "line": {
              "color": "white"
             }
            },
            "header": {
             "fill": {
              "color": "#C8D4E3"
             },
             "line": {
              "color": "white"
             }
            },
            "type": "table"
           }
          ]
         },
         "layout": {
          "annotationdefaults": {
           "arrowcolor": "#2a3f5f",
           "arrowhead": 0,
           "arrowwidth": 1
          },
          "autotypenumbers": "strict",
          "coloraxis": {
           "colorbar": {
            "outlinewidth": 0,
            "ticks": ""
           }
          },
          "colorscale": {
           "diverging": [
            [
             0,
             "#8e0152"
            ],
            [
             0.1,
             "#c51b7d"
            ],
            [
             0.2,
             "#de77ae"
            ],
            [
             0.3,
             "#f1b6da"
            ],
            [
             0.4,
             "#fde0ef"
            ],
            [
             0.5,
             "#f7f7f7"
            ],
            [
             0.6,
             "#e6f5d0"
            ],
            [
             0.7,
             "#b8e186"
            ],
            [
             0.8,
             "#7fbc41"
            ],
            [
             0.9,
             "#4d9221"
            ],
            [
             1,
             "#276419"
            ]
           ],
           "sequential": [
            [
             0,
             "#0d0887"
            ],
            [
             0.1111111111111111,
             "#46039f"
            ],
            [
             0.2222222222222222,
             "#7201a8"
            ],
            [
             0.3333333333333333,
             "#9c179e"
            ],
            [
             0.4444444444444444,
             "#bd3786"
            ],
            [
             0.5555555555555556,
             "#d8576b"
            ],
            [
             0.6666666666666666,
             "#ed7953"
            ],
            [
             0.7777777777777778,
             "#fb9f3a"
            ],
            [
             0.8888888888888888,
             "#fdca26"
            ],
            [
             1,
             "#f0f921"
            ]
           ],
           "sequentialminus": [
            [
             0,
             "#0d0887"
            ],
            [
             0.1111111111111111,
             "#46039f"
            ],
            [
             0.2222222222222222,
             "#7201a8"
            ],
            [
             0.3333333333333333,
             "#9c179e"
            ],
            [
             0.4444444444444444,
             "#bd3786"
            ],
            [
             0.5555555555555556,
             "#d8576b"
            ],
            [
             0.6666666666666666,
             "#ed7953"
            ],
            [
             0.7777777777777778,
             "#fb9f3a"
            ],
            [
             0.8888888888888888,
             "#fdca26"
            ],
            [
             1,
             "#f0f921"
            ]
           ]
          },
          "colorway": [
           "#636efa",
           "#EF553B",
           "#00cc96",
           "#ab63fa",
           "#FFA15A",
           "#19d3f3",
           "#FF6692",
           "#B6E880",
           "#FF97FF",
           "#FECB52"
          ],
          "font": {
           "color": "#2a3f5f"
          },
          "geo": {
           "bgcolor": "white",
           "lakecolor": "white",
           "landcolor": "#E5ECF6",
           "showlakes": true,
           "showland": true,
           "subunitcolor": "white"
          },
          "hoverlabel": {
           "align": "left"
          },
          "hovermode": "closest",
          "mapbox": {
           "style": "light"
          },
          "paper_bgcolor": "white",
          "plot_bgcolor": "#E5ECF6",
          "polar": {
           "angularaxis": {
            "gridcolor": "white",
            "linecolor": "white",
            "ticks": ""
           },
           "bgcolor": "#E5ECF6",
           "radialaxis": {
            "gridcolor": "white",
            "linecolor": "white",
            "ticks": ""
           }
          },
          "scene": {
           "xaxis": {
            "backgroundcolor": "#E5ECF6",
            "gridcolor": "white",
            "gridwidth": 2,
            "linecolor": "white",
            "showbackground": true,
            "ticks": "",
            "zerolinecolor": "white"
           },
           "yaxis": {
            "backgroundcolor": "#E5ECF6",
            "gridcolor": "white",
            "gridwidth": 2,
            "linecolor": "white",
            "showbackground": true,
            "ticks": "",
            "zerolinecolor": "white"
           },
           "zaxis": {
            "backgroundcolor": "#E5ECF6",
            "gridcolor": "white",
            "gridwidth": 2,
            "linecolor": "white",
            "showbackground": true,
            "ticks": "",
            "zerolinecolor": "white"
           }
          },
          "shapedefaults": {
           "line": {
            "color": "#2a3f5f"
           }
          },
          "ternary": {
           "aaxis": {
            "gridcolor": "white",
            "linecolor": "white",
            "ticks": ""
           },
           "baxis": {
            "gridcolor": "white",
            "linecolor": "white",
            "ticks": ""
           },
           "bgcolor": "#E5ECF6",
           "caxis": {
            "gridcolor": "white",
            "linecolor": "white",
            "ticks": ""
           }
          },
          "title": {
           "x": 0.05
          },
          "xaxis": {
           "automargin": true,
           "gridcolor": "white",
           "linecolor": "white",
           "ticks": "",
           "title": {
            "standoff": 15
           },
           "zerolinecolor": "white",
           "zerolinewidth": 2
          },
          "yaxis": {
           "automargin": true,
           "gridcolor": "white",
           "linecolor": "white",
           "ticks": "",
           "title": {
            "standoff": 15
           },
           "zerolinecolor": "white",
           "zerolinewidth": 2
          }
         }
        },
        "xaxis": {
         "anchor": "y",
         "domain": [
          0,
          1
         ],
         "title": {
          "text": "CarName"
         }
        },
        "yaxis": {
         "anchor": "x",
         "domain": [
          0,
          1
         ],
         "title": {
          "text": "mean"
         }
        }
       }
      },
      "text/html": [
       "<div>                        <script type=\"text/javascript\">window.PlotlyConfig = {MathJaxConfig: 'local'};</script>\n",
       "        <script charset=\"utf-8\" src=\"https://cdn.plot.ly/plotly-3.0.0.min.js\"></script>                <div id=\"a900f5a6-c346-41fe-87f0-3edecf23e0e0\" class=\"plotly-graph-div\" style=\"height:100%; width:100%;\"></div>            <script type=\"text/javascript\">                window.PLOTLYENV=window.PLOTLYENV || {};                                if (document.getElementById(\"a900f5a6-c346-41fe-87f0-3edecf23e0e0\")) {                    Plotly.newPlot(                        \"a900f5a6-c346-41fe-87f0-3edecf23e0e0\",                        [{\"hovertemplate\":\"CarName=%{x}\\u003cbr\\u003emean=%{marker.color}\\u003cextra\\u003e\\u003c\\u002fextra\\u003e\",\"legendgroup\":\"\",\"marker\":{\"color\":{\"dtype\":\"f8\",\"bdata\":\"AAAAAAB7tUCrqqqqKkXOQDtlcqvKcNFAAAAAALCB2UAAAAAA4G3gQAAAAAAAd7dAx3Ecx3HDvkA7sRM7sfi\\u002fQAAAAABAasFAAAAAAADl4EDx8PDwcM7EQAAAAADAHdBAdmInduILwkDx8PDwcOjEQC+66KKLQM5At23btm0bv0AAAAAAIKreQAAAAACAvcJAq6qqqqq7zUAAAAAAoK7AQAAAAADoTsNAAAAAAMCuw0Avuuiiy6PRQA==\"},\"coloraxis\":\"coloraxis\",\"pattern\":{\"shape\":\"\"}},\"name\":\"\",\"orientation\":\"v\",\"showlegend\":false,\"textposition\":\"auto\",\"x\":[\"Nissan\",\"alfa-romero\",\"audi\",\"bmw\",\"buick\",\"chevrolet\",\"dodge\",\"honda\",\"isuzu\",\"jaguar\",\"mazda\",\"mercury\",\"mitsubishi\",\"nissan\",\"peugeot\",\"plymouth\",\"porsche\",\"renault\",\"saab\",\"subaru\",\"toyota\",\"volkswagen\",\"volvo\"],\"xaxis\":\"x\",\"y\":{\"dtype\":\"f8\",\"bdata\":\"AAAAAAB7tUCrqqqqKkXOQDtlcqvKcNFAAAAAALCB2UAAAAAA4G3gQAAAAAAAd7dAx3Ecx3HDvkA7sRM7sfi\\u002fQAAAAABAasFAAAAAAADl4EDx8PDwcM7EQAAAAADAHdBAdmInduILwkDx8PDwcOjEQC+66KKLQM5At23btm0bv0AAAAAAIKreQAAAAACAvcJAq6qqqqq7zUAAAAAAoK7AQAAAAADoTsNAAAAAAMCuw0Avuuiiy6PRQA==\"},\"yaxis\":\"y\",\"type\":\"bar\"}],                        {\"template\":{\"data\":{\"histogram2dcontour\":[{\"type\":\"histogram2dcontour\",\"colorbar\":{\"outlinewidth\":0,\"ticks\":\"\"},\"colorscale\":[[0.0,\"#0d0887\"],[0.1111111111111111,\"#46039f\"],[0.2222222222222222,\"#7201a8\"],[0.3333333333333333,\"#9c179e\"],[0.4444444444444444,\"#bd3786\"],[0.5555555555555556,\"#d8576b\"],[0.6666666666666666,\"#ed7953\"],[0.7777777777777778,\"#fb9f3a\"],[0.8888888888888888,\"#fdca26\"],[1.0,\"#f0f921\"]]}],\"choropleth\":[{\"type\":\"choropleth\",\"colorbar\":{\"outlinewidth\":0,\"ticks\":\"\"}}],\"histogram2d\":[{\"type\":\"histogram2d\",\"colorbar\":{\"outlinewidth\":0,\"ticks\":\"\"},\"colorscale\":[[0.0,\"#0d0887\"],[0.1111111111111111,\"#46039f\"],[0.2222222222222222,\"#7201a8\"],[0.3333333333333333,\"#9c179e\"],[0.4444444444444444,\"#bd3786\"],[0.5555555555555556,\"#d8576b\"],[0.6666666666666666,\"#ed7953\"],[0.7777777777777778,\"#fb9f3a\"],[0.8888888888888888,\"#fdca26\"],[1.0,\"#f0f921\"]]}],\"heatmap\":[{\"type\":\"heatmap\",\"colorbar\":{\"outlinewidth\":0,\"ticks\":\"\"},\"colorscale\":[[0.0,\"#0d0887\"],[0.1111111111111111,\"#46039f\"],[0.2222222222222222,\"#7201a8\"],[0.3333333333333333,\"#9c179e\"],[0.4444444444444444,\"#bd3786\"],[0.5555555555555556,\"#d8576b\"],[0.6666666666666666,\"#ed7953\"],[0.7777777777777778,\"#fb9f3a\"],[0.8888888888888888,\"#fdca26\"],[1.0,\"#f0f921\"]]}],\"contourcarpet\":[{\"type\":\"contourcarpet\",\"colorbar\":{\"outlinewidth\":0,\"ticks\":\"\"}}],\"contour\":[{\"type\":\"contour\",\"colorbar\":{\"outlinewidth\":0,\"ticks\":\"\"},\"colorscale\":[[0.0,\"#0d0887\"],[0.1111111111111111,\"#46039f\"],[0.2222222222222222,\"#7201a8\"],[0.3333333333333333,\"#9c179e\"],[0.4444444444444444,\"#bd3786\"],[0.5555555555555556,\"#d8576b\"],[0.6666666666666666,\"#ed7953\"],[0.7777777777777778,\"#fb9f3a\"],[0.8888888888888888,\"#fdca26\"],[1.0,\"#f0f921\"]]}],\"surface\":[{\"type\":\"surface\",\"colorbar\":{\"outlinewidth\":0,\"ticks\":\"\"},\"colorscale\":[[0.0,\"#0d0887\"],[0.1111111111111111,\"#46039f\"],[0.2222222222222222,\"#7201a8\"],[0.3333333333333333,\"#9c179e\"],[0.4444444444444444,\"#bd3786\"],[0.5555555555555556,\"#d8576b\"],[0.6666666666666666,\"#ed7953\"],[0.7777777777777778,\"#fb9f3a\"],[0.8888888888888888,\"#fdca26\"],[1.0,\"#f0f921\"]]}],\"mesh3d\":[{\"type\":\"mesh3d\",\"colorbar\":{\"outlinewidth\":0,\"ticks\":\"\"}}],\"scatter\":[{\"fillpattern\":{\"fillmode\":\"overlay\",\"size\":10,\"solidity\":0.2},\"type\":\"scatter\"}],\"parcoords\":[{\"type\":\"parcoords\",\"line\":{\"colorbar\":{\"outlinewidth\":0,\"ticks\":\"\"}}}],\"scatterpolargl\":[{\"type\":\"scatterpolargl\",\"marker\":{\"colorbar\":{\"outlinewidth\":0,\"ticks\":\"\"}}}],\"bar\":[{\"error_x\":{\"color\":\"#2a3f5f\"},\"error_y\":{\"color\":\"#2a3f5f\"},\"marker\":{\"line\":{\"color\":\"#E5ECF6\",\"width\":0.5},\"pattern\":{\"fillmode\":\"overlay\",\"size\":10,\"solidity\":0.2}},\"type\":\"bar\"}],\"scattergeo\":[{\"type\":\"scattergeo\",\"marker\":{\"colorbar\":{\"outlinewidth\":0,\"ticks\":\"\"}}}],\"scatterpolar\":[{\"type\":\"scatterpolar\",\"marker\":{\"colorbar\":{\"outlinewidth\":0,\"ticks\":\"\"}}}],\"histogram\":[{\"marker\":{\"pattern\":{\"fillmode\":\"overlay\",\"size\":10,\"solidity\":0.2}},\"type\":\"histogram\"}],\"scattergl\":[{\"type\":\"scattergl\",\"marker\":{\"colorbar\":{\"outlinewidth\":0,\"ticks\":\"\"}}}],\"scatter3d\":[{\"type\":\"scatter3d\",\"line\":{\"colorbar\":{\"outlinewidth\":0,\"ticks\":\"\"}},\"marker\":{\"colorbar\":{\"outlinewidth\":0,\"ticks\":\"\"}}}],\"scattermap\":[{\"type\":\"scattermap\",\"marker\":{\"colorbar\":{\"outlinewidth\":0,\"ticks\":\"\"}}}],\"scattermapbox\":[{\"type\":\"scattermapbox\",\"marker\":{\"colorbar\":{\"outlinewidth\":0,\"ticks\":\"\"}}}],\"scatterternary\":[{\"type\":\"scatterternary\",\"marker\":{\"colorbar\":{\"outlinewidth\":0,\"ticks\":\"\"}}}],\"scattercarpet\":[{\"type\":\"scattercarpet\",\"marker\":{\"colorbar\":{\"outlinewidth\":0,\"ticks\":\"\"}}}],\"carpet\":[{\"aaxis\":{\"endlinecolor\":\"#2a3f5f\",\"gridcolor\":\"white\",\"linecolor\":\"white\",\"minorgridcolor\":\"white\",\"startlinecolor\":\"#2a3f5f\"},\"baxis\":{\"endlinecolor\":\"#2a3f5f\",\"gridcolor\":\"white\",\"linecolor\":\"white\",\"minorgridcolor\":\"white\",\"startlinecolor\":\"#2a3f5f\"},\"type\":\"carpet\"}],\"table\":[{\"cells\":{\"fill\":{\"color\":\"#EBF0F8\"},\"line\":{\"color\":\"white\"}},\"header\":{\"fill\":{\"color\":\"#C8D4E3\"},\"line\":{\"color\":\"white\"}},\"type\":\"table\"}],\"barpolar\":[{\"marker\":{\"line\":{\"color\":\"#E5ECF6\",\"width\":0.5},\"pattern\":{\"fillmode\":\"overlay\",\"size\":10,\"solidity\":0.2}},\"type\":\"barpolar\"}],\"pie\":[{\"automargin\":true,\"type\":\"pie\"}]},\"layout\":{\"autotypenumbers\":\"strict\",\"colorway\":[\"#636efa\",\"#EF553B\",\"#00cc96\",\"#ab63fa\",\"#FFA15A\",\"#19d3f3\",\"#FF6692\",\"#B6E880\",\"#FF97FF\",\"#FECB52\"],\"font\":{\"color\":\"#2a3f5f\"},\"hovermode\":\"closest\",\"hoverlabel\":{\"align\":\"left\"},\"paper_bgcolor\":\"white\",\"plot_bgcolor\":\"#E5ECF6\",\"polar\":{\"bgcolor\":\"#E5ECF6\",\"angularaxis\":{\"gridcolor\":\"white\",\"linecolor\":\"white\",\"ticks\":\"\"},\"radialaxis\":{\"gridcolor\":\"white\",\"linecolor\":\"white\",\"ticks\":\"\"}},\"ternary\":{\"bgcolor\":\"#E5ECF6\",\"aaxis\":{\"gridcolor\":\"white\",\"linecolor\":\"white\",\"ticks\":\"\"},\"baxis\":{\"gridcolor\":\"white\",\"linecolor\":\"white\",\"ticks\":\"\"},\"caxis\":{\"gridcolor\":\"white\",\"linecolor\":\"white\",\"ticks\":\"\"}},\"coloraxis\":{\"colorbar\":{\"outlinewidth\":0,\"ticks\":\"\"}},\"colorscale\":{\"sequential\":[[0.0,\"#0d0887\"],[0.1111111111111111,\"#46039f\"],[0.2222222222222222,\"#7201a8\"],[0.3333333333333333,\"#9c179e\"],[0.4444444444444444,\"#bd3786\"],[0.5555555555555556,\"#d8576b\"],[0.6666666666666666,\"#ed7953\"],[0.7777777777777778,\"#fb9f3a\"],[0.8888888888888888,\"#fdca26\"],[1.0,\"#f0f921\"]],\"sequentialminus\":[[0.0,\"#0d0887\"],[0.1111111111111111,\"#46039f\"],[0.2222222222222222,\"#7201a8\"],[0.3333333333333333,\"#9c179e\"],[0.4444444444444444,\"#bd3786\"],[0.5555555555555556,\"#d8576b\"],[0.6666666666666666,\"#ed7953\"],[0.7777777777777778,\"#fb9f3a\"],[0.8888888888888888,\"#fdca26\"],[1.0,\"#f0f921\"]],\"diverging\":[[0,\"#8e0152\"],[0.1,\"#c51b7d\"],[0.2,\"#de77ae\"],[0.3,\"#f1b6da\"],[0.4,\"#fde0ef\"],[0.5,\"#f7f7f7\"],[0.6,\"#e6f5d0\"],[0.7,\"#b8e186\"],[0.8,\"#7fbc41\"],[0.9,\"#4d9221\"],[1,\"#276419\"]]},\"xaxis\":{\"gridcolor\":\"white\",\"linecolor\":\"white\",\"ticks\":\"\",\"title\":{\"standoff\":15},\"zerolinecolor\":\"white\",\"automargin\":true,\"zerolinewidth\":2},\"yaxis\":{\"gridcolor\":\"white\",\"linecolor\":\"white\",\"ticks\":\"\",\"title\":{\"standoff\":15},\"zerolinecolor\":\"white\",\"automargin\":true,\"zerolinewidth\":2},\"scene\":{\"xaxis\":{\"backgroundcolor\":\"#E5ECF6\",\"gridcolor\":\"white\",\"linecolor\":\"white\",\"showbackground\":true,\"ticks\":\"\",\"zerolinecolor\":\"white\",\"gridwidth\":2},\"yaxis\":{\"backgroundcolor\":\"#E5ECF6\",\"gridcolor\":\"white\",\"linecolor\":\"white\",\"showbackground\":true,\"ticks\":\"\",\"zerolinecolor\":\"white\",\"gridwidth\":2},\"zaxis\":{\"backgroundcolor\":\"#E5ECF6\",\"gridcolor\":\"white\",\"linecolor\":\"white\",\"showbackground\":true,\"ticks\":\"\",\"zerolinecolor\":\"white\",\"gridwidth\":2}},\"shapedefaults\":{\"line\":{\"color\":\"#2a3f5f\"}},\"annotationdefaults\":{\"arrowcolor\":\"#2a3f5f\",\"arrowhead\":0,\"arrowwidth\":1},\"geo\":{\"bgcolor\":\"white\",\"landcolor\":\"#E5ECF6\",\"subunitcolor\":\"white\",\"showland\":true,\"showlakes\":true,\"lakecolor\":\"white\"},\"title\":{\"x\":0.05},\"mapbox\":{\"style\":\"light\"}}},\"xaxis\":{\"anchor\":\"y\",\"domain\":[0.0,1.0],\"title\":{\"text\":\"CarName\"}},\"yaxis\":{\"anchor\":\"x\",\"domain\":[0.0,1.0],\"title\":{\"text\":\"mean\"}},\"coloraxis\":{\"colorbar\":{\"title\":{\"text\":\"mean\"}},\"colorscale\":[[0.0,\"#0d0887\"],[0.1111111111111111,\"#46039f\"],[0.2222222222222222,\"#7201a8\"],[0.3333333333333333,\"#9c179e\"],[0.4444444444444444,\"#bd3786\"],[0.5555555555555556,\"#d8576b\"],[0.6666666666666666,\"#ed7953\"],[0.7777777777777778,\"#fb9f3a\"],[0.8888888888888888,\"#fdca26\"],[1.0,\"#f0f921\"]]},\"legend\":{\"tracegroupgap\":0},\"margin\":{\"t\":60},\"barmode\":\"relative\"},                        {\"responsive\": true}                    )                };            </script>        </div>"
      ],
      "text/plain": [
       "Figure({\n",
       "    'data': [{'hovertemplate': 'CarName=%{x}<br>mean=%{marker.color}<extra></extra>',\n",
       "              'legendgroup': '',\n",
       "              'marker': {'color': {'bdata': ('AAAAAAB7tUCrqqqqKkXOQDtlcqvKcN' ... 'DoTsNAAAAAAMCuw0Avuuiiy6PRQA=='),\n",
       "                                   'dtype': 'f8'},\n",
       "                         'coloraxis': 'coloraxis',\n",
       "                         'pattern': {'shape': ''}},\n",
       "              'name': '',\n",
       "              'orientation': 'v',\n",
       "              'showlegend': False,\n",
       "              'textposition': 'auto',\n",
       "              'type': 'bar',\n",
       "              'x': array(['Nissan', 'alfa-romero', 'audi', 'bmw', 'buick', 'chevrolet', 'dodge',\n",
       "                          'honda', 'isuzu', 'jaguar', 'mazda', 'mercury', 'mitsubishi', 'nissan',\n",
       "                          'peugeot', 'plymouth', 'porsche', 'renault', 'saab', 'subaru', 'toyota',\n",
       "                          'volkswagen', 'volvo'], dtype=object),\n",
       "              'xaxis': 'x',\n",
       "              'y': {'bdata': ('AAAAAAB7tUCrqqqqKkXOQDtlcqvKcN' ... 'DoTsNAAAAAAMCuw0Avuuiiy6PRQA=='),\n",
       "                    'dtype': 'f8'},\n",
       "              'yaxis': 'y'}],\n",
       "    'layout': {'barmode': 'relative',\n",
       "               'coloraxis': {'colorbar': {'title': {'text': 'mean'}},\n",
       "                             'colorscale': [[0.0, '#0d0887'], [0.1111111111111111,\n",
       "                                            '#46039f'], [0.2222222222222222,\n",
       "                                            '#7201a8'], [0.3333333333333333,\n",
       "                                            '#9c179e'], [0.4444444444444444,\n",
       "                                            '#bd3786'], [0.5555555555555556,\n",
       "                                            '#d8576b'], [0.6666666666666666,\n",
       "                                            '#ed7953'], [0.7777777777777778,\n",
       "                                            '#fb9f3a'], [0.8888888888888888,\n",
       "                                            '#fdca26'], [1.0, '#f0f921']]},\n",
       "               'legend': {'tracegroupgap': 0},\n",
       "               'margin': {'t': 60},\n",
       "               'template': '...',\n",
       "               'xaxis': {'anchor': 'y', 'domain': [0.0, 1.0], 'title': {'text': 'CarName'}},\n",
       "               'yaxis': {'anchor': 'x', 'domain': [0.0, 1.0], 'title': {'text': 'mean'}}}\n",
       "})"
      ]
     },
     "execution_count": 48,
     "metadata": {},
     "output_type": "execute_result"
    }
   ],
   "source": [
    "px.bar(data_frame = carname_price , x = \"CarName\" , y = \"mean\" , color=\"mean\" )"
   ]
  },
  {
   "cell_type": "code",
   "execution_count": 49,
   "metadata": {},
   "outputs": [
    {
     "data": {
      "text/plain": [
       "Index(['symboling', 'CarName', 'fueltype', 'aspiration', 'doornumber',\n",
       "       'carbody', 'drivewheel', 'enginelocation', 'wheelbase', 'carlength',\n",
       "       'carwidth', 'carheight', 'curbweight', 'enginetype', 'cylindernumber',\n",
       "       'enginesize', 'fuelsystem', 'boreratio', 'stroke', 'compressionratio',\n",
       "       'horsepower', 'peakrpm', 'citympg', 'highwaympg', 'price',\n",
       "       'highwaympg.1'],\n",
       "      dtype='object')"
      ]
     },
     "execution_count": 49,
     "metadata": {},
     "output_type": "execute_result"
    }
   ],
   "source": [
    "df.columns"
   ]
  },
  {
   "cell_type": "code",
   "execution_count": 50,
   "metadata": {},
   "outputs": [
    {
     "data": {
      "image/png": "[encoded data removed]",
      "text/plain": [
       "<Figure size 640x480 with 1 Axes>"
      ]
     },
     "metadata": {},
     "output_type": "display_data"
    }
   ],
   "source": [
    "plt.scatter(df[\"horsepower\"] , df[\"price\"] , alpha=.3)\n",
    "plt.show()"
   ]
  },
  {
   "cell_type": "code",
   "execution_count": 51,
   "metadata": {},
   "outputs": [
    {
     "data": {
      "image/png": "[encoded data removed]",
      "text/plain": [
       "<Figure size 640x480 with 1 Axes>"
      ]
     },
     "metadata": {},
     "output_type": "display_data"
    }
   ],
   "source": [
    "sns.scatterplot(data = df , x = \"horsepower\" , y = \"price\" , hue = \"fueltype\")\n",
    "plt.show()"
   ]
  },
  {
   "cell_type": "code",
   "execution_count": 52,
   "metadata": {},
   "outputs": [
    {
     "ename": "ValueError",
     "evalue": "Mime type rendering requires nbformat>=4.2.0 but it is not installed",
     "output_type": "error",
     "traceback": [
      "\u001b[1;31m---------------------------------------------------------------------------\u001b[0m",
      "\u001b[1;31mValueError\u001b[0m                                Traceback (most recent call last)",
      "File \u001b[1;32m~\\AppData\\Local\\Packages\\PythonSoftwareFoundation.Python.3.12_qbz5n2kfra8p0\\LocalCache\\local-packages\\Python312\\site-packages\\IPython\\core\\formatters.py:984\u001b[0m, in \u001b[0;36mIPythonDisplayFormatter.__call__\u001b[1;34m(self, obj)\u001b[0m\n\u001b[0;32m    982\u001b[0m method \u001b[38;5;241m=\u001b[39m get_real_method(obj, \u001b[38;5;28mself\u001b[39m\u001b[38;5;241m.\u001b[39mprint_method)\n\u001b[0;32m    983\u001b[0m \u001b[38;5;28;01mif\u001b[39;00m method \u001b[38;5;129;01mis\u001b[39;00m \u001b[38;5;129;01mnot\u001b[39;00m \u001b[38;5;28;01mNone\u001b[39;00m:\n\u001b[1;32m--> 984\u001b[0m     \u001b[43mmethod\u001b[49m\u001b[43m(\u001b[49m\u001b[43m)\u001b[49m\n\u001b[0;32m    985\u001b[0m     \u001b[38;5;28;01mreturn\u001b[39;00m \u001b[38;5;28;01mTrue\u001b[39;00m\n",
      "File \u001b[1;32m~\\AppData\\Local\\Packages\\PythonSoftwareFoundation.Python.3.12_qbz5n2kfra8p0\\LocalCache\\local-packages\\Python312\\site-packages\\plotly\\basedatatypes.py:833\u001b[0m, in \u001b[0;36mBaseFigure._ipython_display_\u001b[1;34m(self)\u001b[0m\n\u001b[0;32m    830\u001b[0m \u001b[38;5;28;01mimport\u001b[39;00m\u001b[38;5;250m \u001b[39m\u001b[38;5;21;01mplotly\u001b[39;00m\u001b[38;5;21;01m.\u001b[39;00m\u001b[38;5;21;01mio\u001b[39;00m\u001b[38;5;250m \u001b[39m\u001b[38;5;28;01mas\u001b[39;00m\u001b[38;5;250m \u001b[39m\u001b[38;5;21;01mpio\u001b[39;00m\n\u001b[0;32m    832\u001b[0m \u001b[38;5;28;01mif\u001b[39;00m pio\u001b[38;5;241m.\u001b[39mrenderers\u001b[38;5;241m.\u001b[39mrender_on_display \u001b[38;5;129;01mand\u001b[39;00m pio\u001b[38;5;241m.\u001b[39mrenderers\u001b[38;5;241m.\u001b[39mdefault:\n\u001b[1;32m--> 833\u001b[0m     \u001b[43mpio\u001b[49m\u001b[38;5;241;43m.\u001b[39;49m\u001b[43mshow\u001b[49m\u001b[43m(\u001b[49m\u001b[38;5;28;43mself\u001b[39;49m\u001b[43m)\u001b[49m\n\u001b[0;32m    834\u001b[0m \u001b[38;5;28;01melse\u001b[39;00m:\n\u001b[0;32m    835\u001b[0m     \u001b[38;5;28mprint\u001b[39m(\u001b[38;5;28mrepr\u001b[39m(\u001b[38;5;28mself\u001b[39m))\n",
      "File \u001b[1;32m~\\AppData\\Local\\Packages\\PythonSoftwareFoundation.Python.3.12_qbz5n2kfra8p0\\LocalCache\\local-packages\\Python312\\site-packages\\plotly\\io\\_renderers.py:425\u001b[0m, in \u001b[0;36mshow\u001b[1;34m(fig, renderer, validate, **kwargs)\u001b[0m\n\u001b[0;32m    420\u001b[0m     \u001b[38;5;28;01mraise\u001b[39;00m \u001b[38;5;167;01mValueError\u001b[39;00m(\n\u001b[0;32m    421\u001b[0m         \u001b[38;5;124m\"\u001b[39m\u001b[38;5;124mMime type rendering requires ipython but it is not installed\u001b[39m\u001b[38;5;124m\"\u001b[39m\n\u001b[0;32m    422\u001b[0m     )\n\u001b[0;32m    424\u001b[0m \u001b[38;5;28;01mif\u001b[39;00m \u001b[38;5;129;01mnot\u001b[39;00m nbformat \u001b[38;5;129;01mor\u001b[39;00m Version(nbformat\u001b[38;5;241m.\u001b[39m__version__) \u001b[38;5;241m<\u001b[39m Version(\u001b[38;5;124m\"\u001b[39m\u001b[38;5;124m4.2.0\u001b[39m\u001b[38;5;124m\"\u001b[39m):\n\u001b[1;32m--> 425\u001b[0m     \u001b[38;5;28;01mraise\u001b[39;00m \u001b[38;5;167;01mValueError\u001b[39;00m(\n\u001b[0;32m    426\u001b[0m         \u001b[38;5;124m\"\u001b[39m\u001b[38;5;124mMime type rendering requires nbformat>=4.2.0 but it is not installed\u001b[39m\u001b[38;5;124m\"\u001b[39m\n\u001b[0;32m    427\u001b[0m     )\n\u001b[0;32m    429\u001b[0m display_jupyter_version_warnings()\n\u001b[0;32m    431\u001b[0m ipython_display\u001b[38;5;241m.\u001b[39mdisplay(bundle, raw\u001b[38;5;241m=\u001b[39m\u001b[38;5;28;01mTrue\u001b[39;00m)\n",
      "\u001b[1;31mValueError\u001b[0m: Mime type rendering requires nbformat>=4.2.0 but it is not installed"
     ]
    },
    {
     "data": {
      "application/vnd.plotly.v1+json": {
       "config": {
        "plotlyServerURL": "https://plot.ly"
       },
       "data": [
        {
         "hovertemplate": "<b>%{hovertext}</b><br><br>carbody=convertible<br>horsepower=%{x}<br>price=%{marker.size}<extra></extra>",
         "hovertext": [
          "gas",
          "gas",
          "gas",
          "gas",
          "gas",
          "gas"
         ],
         "legendgroup": "convertible",
         "marker": {
          "color": "#636efa",
          "size": {
           "bdata": "AAAAAIBbykAAAAAAAB3QQAAAAAAAHuFAAAAAAIAU4kAAAAAAQEHRQAAAAACApcZA",
           "dtype": "f8"
          },
          "sizemode": "area",
          "sizeref": 454,
          "symbol": "circle"
         },
         "mode": "markers",
         "name": "convertible",
         "orientation": "v",
         "showlegend": true,
         "type": "scatter",
         "x": {
          "bdata": "bwBvAJsAzwB0AFoA",
          "dtype": "i2"
         },
         "xaxis": "x",
         "y": {
          "bdata": "AAAAAIBbykAAAAAAAB3QQAAAAAAAHuFAAAAAAIAU4kAAAAAAQEHRQAAAAACApcZA",
          "dtype": "f8"
         },
         "yaxis": "y"
        },
        {
         "hovertemplate": "<b>%{hovertext}</b><br><br>carbody=hatchback<br>horsepower=%{x}<br>price=%{marker.size}<extra></extra>",
         "hovertext": [
          "gas",
          "gas",
          "gas",
          "gas",
          "gas",
          "gas",
          "gas",
          "gas",
          "gas",
          "gas",
          "gas",
          "gas",
          "gas",
          "gas",
          "gas",
          "gas",
          "gas",
          "gas",
          "gas",
          "gas",
          "gas",
          "gas",
          "gas",
          "gas",
          "gas",
          "gas",
          "gas",
          "gas",
          "gas",
          "gas",
          "gas",
          "gas",
          "gas",
          "gas",
          "gas",
          "gas",
          "gas",
          "gas",
          "gas",
          "gas",
          "gas",
          "gas",
          "gas",
          "gas",
          "gas",
          "gas",
          "gas",
          "gas",
          "gas",
          "gas",
          "gas",
          "gas",
          "gas",
          "gas",
          "gas",
          "gas",
          "gas",
          "gas",
          "gas",
          "diesel",
          "gas",
          "gas",
          "gas",
          "gas",
          "gas",
          "gas",
          "gas",
          "gas",
          "gas",
          "gas"
         ],
         "legendgroup": "hatchback",
         "marker": {
          "color": "#EF553B",
          "size": {
           "bdata": "AAAAAAAd0ECcxCCwynDRQAAAAAAAH7RAAAAAAACXuEAAAAAAAMS1QAAAAAAA6bhAAAAAAAAVv0AAAAAAAFW4QAAAAAAAUslAAAAAAABPuUAAAAAAAMe6QAAAAAAAF7VAAAAAAACBuUAAAAAAANm7QAAAAAAA175AAAAAAIDDwUAAAAAAAJTFQAAAAAAAS7RAAAAAAADPt0AAAAAAAIu6QAAAAACAYMVAAAAAAIAix0AAAAAAgKbKQAAAAACAjs5AAAAAAIBGwUAAAAAAgLHEQAAAAACA9sVAAAAAAMAd0EAAAAAAAA21QAAAAAAALbhAAAAAAAANukAAAAAAAAm+QAAAAACAc8NAAAAAAICZwEAAAAAAgKrIQAAAAACACs1AAAAAAIBMzEAAAAAAAHe+QAAAAACAesFAAAAAAMDL0EAAAAAAwDzTQAAAAADA99FAAAAAAADEtUAAAAAAABW/QAAAAAAAVbhAAAAAAADuyEAAAAAAgIDVQAAAAAAgqt5AAAAAAIBTw0AAAAAAACXHQAAAAAAAYM1AAAAAAIC50UAAAAAAAP6zQAAAAAAAjbtAAAAAAACzvUAAAAAAAOS0QAAAAAAAwrhAAAAAAABYuUAAAAAAAB68QAAAAAAAbL5AAAAAAABTwEAAAAAAABfAQAAAAAAAocJAAAAAAICCw0AAAAAAgI7GQAAAAAAAgsNAAAAAAAD4xUAAAAAAgCvQQAAAAAAAP89AAAAAAAB+w0A=",
           "dtype": "f8"
          },
          "sizemode": "area",
          "sizeref": 454,
          "symbol": "circle"
         },
         "mode": "markers",
         "name": "hatchback",
         "orientation": "v",
         "showlegend": true,
         "type": "scatter",
         "x": {
          "bdata": "mgCgADAARgBEAEQAZgBEAJEAOgBMADwATABMAFYAVgBaAEQARABEAGUAZQBlAIcAVABUAFQArwBEAEQARABmAHQAWACRAJEAkQBFAGEAoADIAKAARABmAEQAkQCPACABWgBuAG4AoABFAEkASQA+AD4APgBGADgARgBGAHAAdAB0AFwAXAChAKEAWgA=",
          "dtype": "i2"
         },
         "xaxis": "x",
         "y": {
          "bdata": "AAAAAAAd0ECcxCCwynDRQAAAAAAAH7RAAAAAAACXuEAAAAAAAMS1QAAAAAAA6bhAAAAAAAAVv0AAAAAAAFW4QAAAAAAAUslAAAAAAABPuUAAAAAAAMe6QAAAAAAAF7VAAAAAAACBuUAAAAAAANm7QAAAAAAA175AAAAAAIDDwUAAAAAAAJTFQAAAAAAAS7RAAAAAAADPt0AAAAAAAIu6QAAAAACAYMVAAAAAAIAix0AAAAAAgKbKQAAAAACAjs5AAAAAAIBGwUAAAAAAgLHEQAAAAACA9sVAAAAAAMAd0EAAAAAAAA21QAAAAAAALbhAAAAAAAANukAAAAAAAAm+QAAAAACAc8NAAAAAAICZwEAAAAAAgKrIQAAAAACACs1AAAAAAIBMzEAAAAAAAHe+QAAAAACAesFAAAAAAMDL0EAAAAAAwDzTQAAAAADA99FAAAAAAADEtUAAAAAAABW/QAAAAAAAVbhAAAAAAADuyEAAAAAAgIDVQAAAAAAgqt5AAAAAAIBTw0AAAAAAACXHQAAAAAAAYM1AAAAAAIC50UAAAAAAAP6zQAAAAAAAjbtAAAAAAACzvUAAAAAAAOS0QAAAAAAAwrhAAAAAAABYuUAAAAAAAB68QAAAAAAAbL5AAAAAAABTwEAAAAAAABfAQAAAAAAAocJAAAAAAICCw0AAAAAAgI7GQAAAAAAAgsNAAAAAAAD4xUAAAAAAgCvQQAAAAAAAP89AAAAAAAB+w0A=",
          "dtype": "f8"
         },
         "yaxis": "y"
        },
        {
         "hovertemplate": "<b>%{hovertext}</b><br><br>carbody=sedan<br>horsepower=%{x}<br>price=%{marker.size}<extra></extra>",
         "hovertext": [
          "gas",
          "gas",
          "gas",
          "gas",
          "gas",
          "gas",
          "gas",
          "gas",
          "gas",
          "gas",
          "gas",
          "gas",
          "gas",
          "gas",
          "gas",
          "gas",
          "gas",
          "gas",
          "gas",
          "gas",
          "gas",
          "gas",
          "gas",
          "gas",
          "gas",
          "gas",
          "gas",
          "gas",
          "gas",
          "gas",
          "gas",
          "gas",
          "diesel",
          "gas",
          "diesel",
          "diesel",
          "diesel",
          "gas",
          "gas",
          "gas",
          "gas",
          "gas",
          "gas",
          "gas",
          "diesel",
          "gas",
          "gas",
          "gas",
          "gas",
          "gas",
          "gas",
          "gas",
          "gas",
          "diesel",
          "gas",
          "diesel",
          "gas",
          "diesel",
          "gas",
          "gas",
          "gas",
          "gas",
          "gas",
          "gas",
          "gas",
          "gas",
          "gas",
          "gas",
          "gas",
          "gas",
          "diesel",
          "gas",
          "gas",
          "gas",
          "gas",
          "gas",
          "diesel",
          "gas",
          "gas",
          "diesel",
          "gas",
          "diesel",
          "gas",
          "gas",
          "diesel",
          "gas",
          "gas",
          "diesel",
          "gas",
          "gas",
          "gas",
          "gas",
          "gas",
          "gas",
          "diesel",
          "gas"
         ],
         "legendgroup": "sedan",
         "marker": {
          "color": "#00cc96",
          "size": {
           "bdata": "AAAAAAA/y0AAAAAAgArRQAAAAAAAyc1AAAAAAIBL0UAAAAAAwFDXQAAAAACAC9BAAAAAAECH0EAAAAAAgHrUQAAAAABAnNRAAAAAAED910AAAAAAAAreQAAAAABgLORAAAAAAAAC4kAAAAAAAK+5QAAAAAAAJLpAAAAAAAC5vUAAAAAAALfAQAAAAAAAf7xAAAAAAIBGwUAAAAAAgBvEQAAAAACASMlAAAAAAIA0xEAAAAAAAIG6QAAAAABAasFAAAAAAEBqwUAAAAAAgH7fQAAAAADAW+FAAAAAAACU4UAAAAAAACe6QAAAAAAA47xAAAAAAICXwEAAAAAAgALEQAAAAACAFcVAAAAAAADa0UAAAAAAAOrRQAAAAAAA9NhAAAAAAADc3kAAAAAAALHgQAAAAAAAAORAAAAAAABNu0AAAAAAAP2/QAAAAACAH8JAAAAAAIAfwkAAAAAAAHu1QAAAAAAAu7tAAAAAAAD5uUAAAAAAAMG6QAAAAAAAg7xAAAAAAABLvUAAAAAAgKbCQAAAAACAXcpAAAAAAIBdykAAAAAAAD7HQAAAAAAAyMlAAAAAAABuzkAAAAAAAIHQQAAAAACAPdBAAAAAAICH0UAAAAAAgLnRQAAAAAAAJLpAAAAAAAC5vUAAAAAAAMXHQAAAAAAAS85AAAAAAAAv0kAAAAAAANa7QAAAAAAAX75AAAAAAAB0w0AAAAAAgAjCQAAAAACA/cVAAAAAAAAau0AAAAAAANq+QAAAAAAAOr5AAAAAAAAVwkAAAAAAAHq/QAAAAAAAKcJAAAAAAAB6wUAAAAAAAOXEQAAAAAAAScVAAAAAAAClzkAAAAAAAF++QAAAAAAAJ79AAAAAAAA7v0AAAAAAgAHAQAAAAACAl8BAAAAAAICLwkAAAAAAgIXDQAAAAACA98lAAAAAAIAKy0AAAAAAAEbJQAAAAACAOM9AAAAAAAD90UAAAAAAQHPQQAAAAABAmdJAAAAAAED71EAAAAAAgPHVQAAAAABAGNZA",
           "dtype": "f8"
          },
          "sizemode": "area",
          "sizeref": 454,
          "symbol": "circle"
         },
         "mode": "markers",
         "name": "sedan",
         "orientation": "v",
         "showlegend": true,
         "type": "scatter",
         "x": {
          "bdata": "ZgBzAG4AbgCMAGUAZQB5AHkAeQC2ALYAtgBGAEQARABmAEwAVgBWAGUAZABOAEYARgCwALAABgFEAEQAVABUAEAAeABIAHsAewCbALgAWABYAHQAdABFADcARQBFAEUARQBhAJgAmABhAF8AXwBfAGEAXwCOAEQARABuAG4AoABSAFIAXgBSAG8ARgA4AEYARgBGAHAAXABJAFwAnAA0AFUANABVAFUARABkAG4ARAByAHIAogByAKAAhgBqAHIA",
          "dtype": "i2"
         },
         "xaxis": "x",
         "y": {
          "bdata": "AAAAAAA/y0AAAAAAgArRQAAAAAAAyc1AAAAAAIBL0UAAAAAAwFDXQAAAAACAC9BAAAAAAECH0EAAAAAAgHrUQAAAAABAnNRAAAAAAED910AAAAAAAAreQAAAAABgLORAAAAAAAAC4kAAAAAAAK+5QAAAAAAAJLpAAAAAAAC5vUAAAAAAALfAQAAAAAAAf7xAAAAAAIBGwUAAAAAAgBvEQAAAAACASMlAAAAAAIA0xEAAAAAAAIG6QAAAAABAasFAAAAAAEBqwUAAAAAAgH7fQAAAAADAW+FAAAAAAACU4UAAAAAAACe6QAAAAAAA47xAAAAAAICXwEAAAAAAgALEQAAAAACAFcVAAAAAAADa0UAAAAAAAOrRQAAAAAAA9NhAAAAAAADc3kAAAAAAALHgQAAAAAAAAORAAAAAAABNu0AAAAAAAP2/QAAAAACAH8JAAAAAAIAfwkAAAAAAAHu1QAAAAAAAu7tAAAAAAAD5uUAAAAAAAMG6QAAAAAAAg7xAAAAAAABLvUAAAAAAgKbCQAAAAACAXcpAAAAAAIBdykAAAAAAAD7HQAAAAAAAyMlAAAAAAABuzkAAAAAAAIHQQAAAAACAPdBAAAAAAICH0UAAAAAAgLnRQAAAAAAAJLpAAAAAAAC5vUAAAAAAAMXHQAAAAAAAS85AAAAAAAAv0kAAAAAAANa7QAAAAAAAX75AAAAAAAB0w0AAAAAAgAjCQAAAAACA/cVAAAAAAAAau0AAAAAAANq+QAAAAAAAOr5AAAAAAAAVwkAAAAAAAHq/QAAAAAAAKcJAAAAAAAB6wUAAAAAAAOXEQAAAAAAAScVAAAAAAAClzkAAAAAAAF++QAAAAAAAJ79AAAAAAAA7v0AAAAAAgAHAQAAAAACAl8BAAAAAAICLwkAAAAAAgIXDQAAAAACA98lAAAAAAIAKy0AAAAAAAEbJQAAAAACAOM9AAAAAAAD90UAAAAAAQHPQQAAAAABAmdJAAAAAAED71EAAAAAAgPHVQAAAAABAGNZA",
          "dtype": "f8"
         },
         "yaxis": "y"
        },
        {
         "hovertemplate": "<b>%{hovertext}</b><br><br>carbody=wagon<br>horsepower=%{x}<br>price=%{marker.size}<extra></extra>",
         "hovertext": [
          "gas",
          "gas",
          "gas",
          "diesel",
          "gas",
          "gas",
          "gas",
          "gas",
          "diesel",
          "gas",
          "diesel",
          "gas",
          "gas",
          "gas",
          "gas",
          "gas",
          "gas",
          "gas",
          "gas",
          "gas",
          "gas",
          "gas",
          "gas",
          "gas",
          "gas"
         ],
         "legendgroup": "wagon",
         "marker": {
          "color": "#ab63fa",
          "size": {
           "bdata": "AAAAAAB60kAAAAAAgGzBQAAAAAAAf7xAAAAAAACW20AAAAAAALW8QAAAAAAAP79AAAAAAIAfzEAAAAAAAEzIQAAAAAAAEstAAAAAAMBN0EAAAAAAwKzQQAAAAACAbMFAAAAAAIAnwkAAAAAAACe9QAAAAAAA68NAAAAAAABNv0AAAAAAANfGQAAAAAAABrtAAAAAAADavkAAAAAAACXBQAAAAAAAw85AAAAAAAAByEAAAAAAgDPKQAAAAADAINBAAAAAAICB0kA=",
           "dtype": "f8"
          },
          "sizemode": "area",
          "sizeref": 454,
          "symbol": "circle"
         },
         "mode": "markers",
         "name": "wagon",
         "orientation": "v",
         "showlegend": true,
         "type": "scatter",
         "x": {
          "bdata": "bgBYAEwAewBFAEUAmABhAF8AXwBfAFgAWgBSAF4AUgBvAD4APgA+AJwAWAByAHIAogA=",
          "dtype": "i2"
         },
         "xaxis": "x",
         "y": {
          "bdata": "AAAAAAB60kAAAAAAgGzBQAAAAAAAf7xAAAAAAACW20AAAAAAALW8QAAAAAAAP79AAAAAAIAfzEAAAAAAAEzIQAAAAAAAEstAAAAAAMBN0EAAAAAAwKzQQAAAAACAbMFAAAAAAIAnwkAAAAAAACe9QAAAAAAA68NAAAAAAABNv0AAAAAAANfGQAAAAAAABrtAAAAAAADavkAAAAAAACXBQAAAAAAAw85AAAAAAAAByEAAAAAAgDPKQAAAAADAINBAAAAAAICB0kA=",
          "dtype": "f8"
         },
         "yaxis": "y"
        },
        {
         "hovertemplate": "<b>%{hovertext}</b><br><br>carbody=hardtop<br>horsepower=%{x}<br>price=%{marker.size}<extra></extra>",
         "hovertext": [
          "diesel",
          "gas",
          "gas",
          "gas",
          "gas",
          "gas",
          "gas",
          "gas"
         ],
         "legendgroup": "hardtop",
         "marker": {
          "color": "#FFA15A",
          "size": {
           "bdata": "AAAAAACE20AAAAAAACvmQAAAAACAHMBAAAAAAADE30AAAAAAgJ3gQAAAAACAgMBAAAAAAIDTwkAAAAAAgN/FQA==",
           "dtype": "f8"
          },
          "sizemode": "area",
          "sizeref": 454,
          "symbol": "circle"
         },
         "mode": "markers",
         "name": "hardtop",
         "orientation": "v",
         "showlegend": true,
         "type": "scatter",
         "x": {
          "bdata": "ewC4AEUAzwDPAHQAdAB0AA==",
          "dtype": "i2"
         },
         "xaxis": "x",
         "y": {
          "bdata": "AAAAAACE20AAAAAAACvmQAAAAACAHMBAAAAAAADE30AAAAAAgJ3gQAAAAACAgMBAAAAAAIDTwkAAAAAAgN/FQA==",
          "dtype": "f8"
         },
         "yaxis": "y"
        }
       ],
       "layout": {
        "legend": {
         "itemsizing": "constant",
         "title": {
          "text": "carbody"
         },
         "tracegroupgap": 0
        },
        "margin": {
         "t": 60
        },
        "template": {
         "data": {
          "bar": [
           {
            "error_x": {
             "color": "#2a3f5f"
            },
            "error_y": {
             "color": "#2a3f5f"
            },
            "marker": {
             "line": {
              "color": "#E5ECF6",
              "width": 0.5
             },
             "pattern": {
              "fillmode": "overlay",
              "size": 10,
              "solidity": 0.2
             }
            },
            "type": "bar"
           }
          ],
          "barpolar": [
           {
            "marker": {
             "line": {
              "color": "#E5ECF6",
              "width": 0.5
             },
             "pattern": {
              "fillmode": "overlay",
              "size": 10,
              "solidity": 0.2
             }
            },
            "type": "barpolar"
           }
          ],
          "carpet": [
           {
            "aaxis": {
             "endlinecolor": "#2a3f5f",
             "gridcolor": "white",
             "linecolor": "white",
             "minorgridcolor": "white",
             "startlinecolor": "#2a3f5f"
            },
            "baxis": {
             "endlinecolor": "#2a3f5f",
             "gridcolor": "white",
             "linecolor": "white",
             "minorgridcolor": "white",
             "startlinecolor": "#2a3f5f"
            },
            "type": "carpet"
           }
          ],
          "choropleth": [
           {
            "colorbar": {
             "outlinewidth": 0,
             "ticks": ""
            },
            "type": "choropleth"
           }
          ],
          "contour": [
           {
            "colorbar": {
             "outlinewidth": 0,
             "ticks": ""
            },
            "colorscale": [
             [
              0,
              "#0d0887"
             ],
             [
              0.1111111111111111,
              "#46039f"
             ],
             [
              0.2222222222222222,
              "#7201a8"
             ],
             [
              0.3333333333333333,
              "#9c179e"
             ],
             [
              0.4444444444444444,
              "#bd3786"
             ],
             [
              0.5555555555555556,
              "#d8576b"
             ],
             [
              0.6666666666666666,
              "#ed7953"
             ],
             [
              0.7777777777777778,
              "#fb9f3a"
             ],
             [
              0.8888888888888888,
              "#fdca26"
             ],
             [
              1,
              "#f0f921"
             ]
            ],
            "type": "contour"
           }
          ],
          "contourcarpet": [
           {
            "colorbar": {
             "outlinewidth": 0,
             "ticks": ""
            },
            "type": "contourcarpet"
           }
          ],
          "heatmap": [
           {
            "colorbar": {
             "outlinewidth": 0,
             "ticks": ""
            },
            "colorscale": [
             [
              0,
              "#0d0887"
             ],
             [
              0.1111111111111111,
              "#46039f"
             ],
             [
              0.2222222222222222,
              "#7201a8"
             ],
             [
              0.3333333333333333,
              "#9c179e"
             ],
             [
              0.4444444444444444,
              "#bd3786"
             ],
             [
              0.5555555555555556,
              "#d8576b"
             ],
             [
              0.6666666666666666,
              "#ed7953"
             ],
             [
              0.7777777777777778,
              "#fb9f3a"
             ],
             [
              0.8888888888888888,
              "#fdca26"
             ],
             [
              1,
              "#f0f921"
             ]
            ],
            "type": "heatmap"
           }
          ],
          "histogram": [
           {
            "marker": {
             "pattern": {
              "fillmode": "overlay",
              "size": 10,
              "solidity": 0.2
             }
            },
            "type": "histogram"
           }
          ],
          "histogram2d": [
           {
            "colorbar": {
             "outlinewidth": 0,
             "ticks": ""
            },
            "colorscale": [
             [
              0,
              "#0d0887"
             ],
             [
              0.1111111111111111,
              "#46039f"
             ],
             [
              0.2222222222222222,
              "#7201a8"
             ],
             [
              0.3333333333333333,
              "#9c179e"
             ],
             [
              0.4444444444444444,
              "#bd3786"
             ],
             [
              0.5555555555555556,
              "#d8576b"
             ],
             [
              0.6666666666666666,
              "#ed7953"
             ],
             [
              0.7777777777777778,
              "#fb9f3a"
             ],
             [
              0.8888888888888888,
              "#fdca26"
             ],
             [
              1,
              "#f0f921"
             ]
            ],
            "type": "histogram2d"
           }
          ],
          "histogram2dcontour": [
           {
            "colorbar": {
             "outlinewidth": 0,
             "ticks": ""
            },
            "colorscale": [
             [
              0,
              "#0d0887"
             ],
             [
              0.1111111111111111,
              "#46039f"
             ],
             [
              0.2222222222222222,
              "#7201a8"
             ],
             [
              0.3333333333333333,
              "#9c179e"
             ],
             [
              0.4444444444444444,
              "#bd3786"
             ],
             [
              0.5555555555555556,
              "#d8576b"
             ],
             [
              0.6666666666666666,
              "#ed7953"
             ],
             [
              0.7777777777777778,
              "#fb9f3a"
             ],
             [
              0.8888888888888888,
              "#fdca26"
             ],
             [
              1,
              "#f0f921"
             ]
            ],
            "type": "histogram2dcontour"
           }
          ],
          "mesh3d": [
           {
            "colorbar": {
             "outlinewidth": 0,
             "ticks": ""
            },
            "type": "mesh3d"
           }
          ],
          "parcoords": [
           {
            "line": {
             "colorbar": {
              "outlinewidth": 0,
              "ticks": ""
             }
            },
            "type": "parcoords"
           }
          ],
          "pie": [
           {
            "automargin": true,
            "type": "pie"
           }
          ],
          "scatter": [
           {
            "fillpattern": {
             "fillmode": "overlay",
             "size": 10,
             "solidity": 0.2
            },
            "type": "scatter"
           }
          ],
          "scatter3d": [
           {
            "line": {
             "colorbar": {
              "outlinewidth": 0,
              "ticks": ""
             }
            },
            "marker": {
             "colorbar": {
              "outlinewidth": 0,
              "ticks": ""
             }
            },
            "type": "scatter3d"
           }
          ],
          "scattercarpet": [
           {
            "marker": {
             "colorbar": {
              "outlinewidth": 0,
              "ticks": ""
             }
            },
            "type": "scattercarpet"
           }
          ],
          "scattergeo": [
           {
            "marker": {
             "colorbar": {
              "outlinewidth": 0,
              "ticks": ""
             }
            },
            "type": "scattergeo"
           }
          ],
          "scattergl": [
           {
            "marker": {
             "colorbar": {
              "outlinewidth": 0,
              "ticks": ""
             }
            },
            "type": "scattergl"
           }
          ],
          "scattermap": [
           {
            "marker": {
             "colorbar": {
              "outlinewidth": 0,
              "ticks": ""
             }
            },
            "type": "scattermap"
           }
          ],
          "scattermapbox": [
           {
            "marker": {
             "colorbar": {
              "outlinewidth": 0,
              "ticks": ""
             }
            },
            "type": "scattermapbox"
           }
          ],
          "scatterpolar": [
           {
            "marker": {
             "colorbar": {
              "outlinewidth": 0,
              "ticks": ""
             }
            },
            "type": "scatterpolar"
           }
          ],
          "scatterpolargl": [
           {
            "marker": {
             "colorbar": {
              "outlinewidth": 0,
              "ticks": ""
             }
            },
            "type": "scatterpolargl"
           }
          ],
          "scatterternary": [
           {
            "marker": {
             "colorbar": {
              "outlinewidth": 0,
              "ticks": ""
             }
            },
            "type": "scatterternary"
           }
          ],
          "surface": [
           {
            "colorbar": {
             "outlinewidth": 0,
             "ticks": ""
            },
            "colorscale": [
             [
              0,
              "#0d0887"
             ],
             [
              0.1111111111111111,
              "#46039f"
             ],
             [
              0.2222222222222222,
              "#7201a8"
             ],
             [
              0.3333333333333333,
              "#9c179e"
             ],
             [
              0.4444444444444444,
              "#bd3786"
             ],
             [
              0.5555555555555556,
              "#d8576b"
             ],
             [
              0.6666666666666666,
              "#ed7953"
             ],
             [
              0.7777777777777778,
              "#fb9f3a"
             ],
             [
              0.8888888888888888,
              "#fdca26"
             ],
             [
              1,
              "#f0f921"
             ]
            ],
            "type": "surface"
           }
          ],
          "table": [
           {
            "cells": {
             "fill": {
              "color": "#EBF0F8"
             },
             "line": {
              "color": "white"
             }
            },
            "header": {
             "fill": {
              "color": "#C8D4E3"
             },
             "line": {
              "color": "white"
             }
            },
            "type": "table"
           }
          ]
         },
         "layout": {
          "annotationdefaults": {
           "arrowcolor": "#2a3f5f",
           "arrowhead": 0,
           "arrowwidth": 1
          },
          "autotypenumbers": "strict",
          "coloraxis": {
           "colorbar": {
            "outlinewidth": 0,
            "ticks": ""
           }
          },
          "colorscale": {
           "diverging": [
            [
             0,
             "#8e0152"
            ],
            [
             0.1,
             "#c51b7d"
            ],
            [
             0.2,
             "#de77ae"
            ],
            [
             0.3,
             "#f1b6da"
            ],
            [
             0.4,
             "#fde0ef"
            ],
            [
             0.5,
             "#f7f7f7"
            ],
            [
             0.6,
             "#e6f5d0"
            ],
            [
             0.7,
             "#b8e186"
            ],
            [
             0.8,
             "#7fbc41"
            ],
            [
             0.9,
             "#4d9221"
            ],
            [
             1,
             "#276419"
            ]
           ],
           "sequential": [
            [
             0,
             "#0d0887"
            ],
            [
             0.1111111111111111,
             "#46039f"
            ],
            [
             0.2222222222222222,
             "#7201a8"
            ],
            [
             0.3333333333333333,
             "#9c179e"
            ],
            [
             0.4444444444444444,
             "#bd3786"
            ],
            [
             0.5555555555555556,
             "#d8576b"
            ],
            [
             0.6666666666666666,
             "#ed7953"
            ],
            [
             0.7777777777777778,
             "#fb9f3a"
            ],
            [
             0.8888888888888888,
             "#fdca26"
            ],
            [
             1,
             "#f0f921"
            ]
           ],
           "sequentialminus": [
            [
             0,
             "#0d0887"
            ],
            [
             0.1111111111111111,
             "#46039f"
            ],
            [
             0.2222222222222222,
             "#7201a8"
            ],
            [
             0.3333333333333333,
             "#9c179e"
            ],
            [
             0.4444444444444444,
             "#bd3786"
            ],
            [
             0.5555555555555556,
             "#d8576b"
            ],
            [
             0.6666666666666666,
             "#ed7953"
            ],
            [
             0.7777777777777778,
             "#fb9f3a"
            ],
            [
             0.8888888888888888,
             "#fdca26"
            ],
            [
             1,
             "#f0f921"
            ]
           ]
          },
          "colorway": [
           "#636efa",
           "#EF553B",
           "#00cc96",
           "#ab63fa",
           "#FFA15A",
           "#19d3f3",
           "#FF6692",
           "#B6E880",
           "#FF97FF",
           "#FECB52"
          ],
          "font": {
           "color": "#2a3f5f"
          },
          "geo": {
           "bgcolor": "white",
           "lakecolor": "white",
           "landcolor": "#E5ECF6",
           "showlakes": true,
           "showland": true,
           "subunitcolor": "white"
          },
          "hoverlabel": {
           "align": "left"
          },
          "hovermode": "closest",
          "mapbox": {
           "style": "light"
          },
          "paper_bgcolor": "white",
          "plot_bgcolor": "#E5ECF6",
          "polar": {
           "angularaxis": {
            "gridcolor": "white",
            "linecolor": "white",
            "ticks": ""
           },
           "bgcolor": "#E5ECF6",
           "radialaxis": {
            "gridcolor": "white",
            "linecolor": "white",
            "ticks": ""
           }
          },
          "scene": {
           "xaxis": {
            "backgroundcolor": "#E5ECF6",
            "gridcolor": "white",
            "gridwidth": 2,
            "linecolor": "white",
            "showbackground": true,
            "ticks": "",
            "zerolinecolor": "white"
           },
           "yaxis": {
            "backgroundcolor": "#E5ECF6",
            "gridcolor": "white",
            "gridwidth": 2,
            "linecolor": "white",
            "showbackground": true,
            "ticks": "",
            "zerolinecolor": "white"
           },
           "zaxis": {
            "backgroundcolor": "#E5ECF6",
            "gridcolor": "white",
            "gridwidth": 2,
            "linecolor": "white",
            "showbackground": true,
            "ticks": "",
            "zerolinecolor": "white"
           }
          },
          "shapedefaults": {
           "line": {
            "color": "#2a3f5f"
           }
          },
          "ternary": {
           "aaxis": {
            "gridcolor": "white",
            "linecolor": "white",
            "ticks": ""
           },
           "baxis": {
            "gridcolor": "white",
            "linecolor": "white",
            "ticks": ""
           },
           "bgcolor": "#E5ECF6",
           "caxis": {
            "gridcolor": "white",
            "linecolor": "white",
            "ticks": ""
           }
          },
          "title": {
           "x": 0.05
          },
          "xaxis": {
           "automargin": true,
           "gridcolor": "white",
           "linecolor": "white",
           "ticks": "",
           "title": {
            "standoff": 15
           },
           "zerolinecolor": "white",
           "zerolinewidth": 2
          },
          "yaxis": {
           "automargin": true,
           "gridcolor": "white",
           "linecolor": "white",
           "ticks": "",
           "title": {
            "standoff": 15
           },
           "zerolinecolor": "white",
           "zerolinewidth": 2
          }
         }
        },
        "xaxis": {
         "anchor": "y",
         "domain": [
          0,
          1
         ],
         "title": {
          "text": "horsepower"
         }
        },
        "yaxis": {
         "anchor": "x",
         "domain": [
          0,
          1
         ],
         "title": {
          "text": "price"
         }
        }
       }
      },
      "text/html": [
       "<div>                        <script type=\"text/javascript\">window.PlotlyConfig = {MathJaxConfig: 'local'};</script>\n",
       "        <script charset=\"utf-8\" src=\"https://cdn.plot.ly/plotly-3.0.0.min.js\"></script>                <div id=\"a3d57633-45d6-40a3-85e0-c0a62c1c7c2d\" class=\"plotly-graph-div\" style=\"height:100%; width:100%;\"></div>            <script type=\"text/javascript\">                window.PLOTLYENV=window.PLOTLYENV || {};                                if (document.getElementById(\"a3d57633-45d6-40a3-85e0-c0a62c1c7c2d\")) {                    Plotly.newPlot(                        \"a3d57633-45d6-40a3-85e0-c0a62c1c7c2d\",                        [{\"hovertemplate\":\"\\u003cb\\u003e%{hovertext}\\u003c\\u002fb\\u003e\\u003cbr\\u003e\\u003cbr\\u003ecarbody=convertible\\u003cbr\\u003ehorsepower=%{x}\\u003cbr\\u003eprice=%{marker.size}\\u003cextra\\u003e\\u003c\\u002fextra\\u003e\",\"hovertext\":[\"gas\",\"gas\",\"gas\",\"gas\",\"gas\",\"gas\"],\"legendgroup\":\"convertible\",\"marker\":{\"color\":\"#636efa\",\"size\":{\"dtype\":\"f8\",\"bdata\":\"AAAAAIBbykAAAAAAAB3QQAAAAAAAHuFAAAAAAIAU4kAAAAAAQEHRQAAAAACApcZA\"},\"sizemode\":\"area\",\"sizeref\":454.0,\"symbol\":\"circle\"},\"mode\":\"markers\",\"name\":\"convertible\",\"orientation\":\"v\",\"showlegend\":true,\"x\":{\"dtype\":\"i2\",\"bdata\":\"bwBvAJsAzwB0AFoA\"},\"xaxis\":\"x\",\"y\":{\"dtype\":\"f8\",\"bdata\":\"AAAAAIBbykAAAAAAAB3QQAAAAAAAHuFAAAAAAIAU4kAAAAAAQEHRQAAAAACApcZA\"},\"yaxis\":\"y\",\"type\":\"scatter\"},{\"hovertemplate\":\"\\u003cb\\u003e%{hovertext}\\u003c\\u002fb\\u003e\\u003cbr\\u003e\\u003cbr\\u003ecarbody=hatchback\\u003cbr\\u003ehorsepower=%{x}\\u003cbr\\u003eprice=%{marker.size}\\u003cextra\\u003e\\u003c\\u002fextra\\u003e\",\"hovertext\":[\"gas\",\"gas\",\"gas\",\"gas\",\"gas\",\"gas\",\"gas\",\"gas\",\"gas\",\"gas\",\"gas\",\"gas\",\"gas\",\"gas\",\"gas\",\"gas\",\"gas\",\"gas\",\"gas\",\"gas\",\"gas\",\"gas\",\"gas\",\"gas\",\"gas\",\"gas\",\"gas\",\"gas\",\"gas\",\"gas\",\"gas\",\"gas\",\"gas\",\"gas\",\"gas\",\"gas\",\"gas\",\"gas\",\"gas\",\"gas\",\"gas\",\"gas\",\"gas\",\"gas\",\"gas\",\"gas\",\"gas\",\"gas\",\"gas\",\"gas\",\"gas\",\"gas\",\"gas\",\"gas\",\"gas\",\"gas\",\"gas\",\"gas\",\"gas\",\"diesel\",\"gas\",\"gas\",\"gas\",\"gas\",\"gas\",\"gas\",\"gas\",\"gas\",\"gas\",\"gas\"],\"legendgroup\":\"hatchback\",\"marker\":{\"color\":\"#EF553B\",\"size\":{\"dtype\":\"f8\",\"bdata\":\"AAAAAAAd0ECcxCCwynDRQAAAAAAAH7RAAAAAAACXuEAAAAAAAMS1QAAAAAAA6bhAAAAAAAAVv0AAAAAAAFW4QAAAAAAAUslAAAAAAABPuUAAAAAAAMe6QAAAAAAAF7VAAAAAAACBuUAAAAAAANm7QAAAAAAA175AAAAAAIDDwUAAAAAAAJTFQAAAAAAAS7RAAAAAAADPt0AAAAAAAIu6QAAAAACAYMVAAAAAAIAix0AAAAAAgKbKQAAAAACAjs5AAAAAAIBGwUAAAAAAgLHEQAAAAACA9sVAAAAAAMAd0EAAAAAAAA21QAAAAAAALbhAAAAAAAANukAAAAAAAAm+QAAAAACAc8NAAAAAAICZwEAAAAAAgKrIQAAAAACACs1AAAAAAIBMzEAAAAAAAHe+QAAAAACAesFAAAAAAMDL0EAAAAAAwDzTQAAAAADA99FAAAAAAADEtUAAAAAAABW\\u002fQAAAAAAAVbhAAAAAAADuyEAAAAAAgIDVQAAAAAAgqt5AAAAAAIBTw0AAAAAAACXHQAAAAAAAYM1AAAAAAIC50UAAAAAAAP6zQAAAAAAAjbtAAAAAAACzvUAAAAAAAOS0QAAAAAAAwrhAAAAAAABYuUAAAAAAAB68QAAAAAAAbL5AAAAAAABTwEAAAAAAABfAQAAAAAAAocJAAAAAAICCw0AAAAAAgI7GQAAAAAAAgsNAAAAAAAD4xUAAAAAAgCvQQAAAAAAAP89AAAAAAAB+w0A=\"},\"sizemode\":\"area\",\"sizeref\":454.0,\"symbol\":\"circle\"},\"mode\":\"markers\",\"name\":\"hatchback\",\"orientation\":\"v\",\"showlegend\":true,\"x\":{\"dtype\":\"i2\",\"bdata\":\"mgCgADAARgBEAEQAZgBEAJEAOgBMADwATABMAFYAVgBaAEQARABEAGUAZQBlAIcAVABUAFQArwBEAEQARABmAHQAWACRAJEAkQBFAGEAoADIAKAARABmAEQAkQCPACABWgBuAG4AoABFAEkASQA+AD4APgBGADgARgBGAHAAdAB0AFwAXAChAKEAWgA=\"},\"xaxis\":\"x\",\"y\":{\"dtype\":\"f8\",\"bdata\":\"AAAAAAAd0ECcxCCwynDRQAAAAAAAH7RAAAAAAACXuEAAAAAAAMS1QAAAAAAA6bhAAAAAAAAVv0AAAAAAAFW4QAAAAAAAUslAAAAAAABPuUAAAAAAAMe6QAAAAAAAF7VAAAAAAACBuUAAAAAAANm7QAAAAAAA175AAAAAAIDDwUAAAAAAAJTFQAAAAAAAS7RAAAAAAADPt0AAAAAAAIu6QAAAAACAYMVAAAAAAIAix0AAAAAAgKbKQAAAAACAjs5AAAAAAIBGwUAAAAAAgLHEQAAAAACA9sVAAAAAAMAd0EAAAAAAAA21QAAAAAAALbhAAAAAAAANukAAAAAAAAm+QAAAAACAc8NAAAAAAICZwEAAAAAAgKrIQAAAAACACs1AAAAAAIBMzEAAAAAAAHe+QAAAAACAesFAAAAAAMDL0EAAAAAAwDzTQAAAAADA99FAAAAAAADEtUAAAAAAABW\\u002fQAAAAAAAVbhAAAAAAADuyEAAAAAAgIDVQAAAAAAgqt5AAAAAAIBTw0AAAAAAACXHQAAAAAAAYM1AAAAAAIC50UAAAAAAAP6zQAAAAAAAjbtAAAAAAACzvUAAAAAAAOS0QAAAAAAAwrhAAAAAAABYuUAAAAAAAB68QAAAAAAAbL5AAAAAAABTwEAAAAAAABfAQAAAAAAAocJAAAAAAICCw0AAAAAAgI7GQAAAAAAAgsNAAAAAAAD4xUAAAAAAgCvQQAAAAAAAP89AAAAAAAB+w0A=\"},\"yaxis\":\"y\",\"type\":\"scatter\"},{\"hovertemplate\":\"\\u003cb\\u003e%{hovertext}\\u003c\\u002fb\\u003e\\u003cbr\\u003e\\u003cbr\\u003ecarbody=sedan\\u003cbr\\u003ehorsepower=%{x}\\u003cbr\\u003eprice=%{marker.size}\\u003cextra\\u003e\\u003c\\u002fextra\\u003e\",\"hovertext\":[\"gas\",\"gas\",\"gas\",\"gas\",\"gas\",\"gas\",\"gas\",\"gas\",\"gas\",\"gas\",\"gas\",\"gas\",\"gas\",\"gas\",\"gas\",\"gas\",\"gas\",\"gas\",\"gas\",\"gas\",\"gas\",\"gas\",\"gas\",\"gas\",\"gas\",\"gas\",\"gas\",\"gas\",\"gas\",\"gas\",\"gas\",\"gas\",\"diesel\",\"gas\",\"diesel\",\"diesel\",\"diesel\",\"gas\",\"gas\",\"gas\",\"gas\",\"gas\",\"gas\",\"gas\",\"diesel\",\"gas\",\"gas\",\"gas\",\"gas\",\"gas\",\"gas\",\"gas\",\"gas\",\"diesel\",\"gas\",\"diesel\",\"gas\",\"diesel\",\"gas\",\"gas\",\"gas\",\"gas\",\"gas\",\"gas\",\"gas\",\"gas\",\"gas\",\"gas\",\"gas\",\"gas\",\"diesel\",\"gas\",\"gas\",\"gas\",\"gas\",\"gas\",\"diesel\",\"gas\",\"gas\",\"diesel\",\"gas\",\"diesel\",\"gas\",\"gas\",\"diesel\",\"gas\",\"gas\",\"diesel\",\"gas\",\"gas\",\"gas\",\"gas\",\"gas\",\"gas\",\"diesel\",\"gas\"],\"legendgroup\":\"sedan\",\"marker\":{\"color\":\"#00cc96\",\"size\":{\"dtype\":\"f8\",\"bdata\":\"AAAAAAA\\u002fy0AAAAAAgArRQAAAAAAAyc1AAAAAAIBL0UAAAAAAwFDXQAAAAACAC9BAAAAAAECH0EAAAAAAgHrUQAAAAABAnNRAAAAAAED910AAAAAAAAreQAAAAABgLORAAAAAAAAC4kAAAAAAAK+5QAAAAAAAJLpAAAAAAAC5vUAAAAAAALfAQAAAAAAAf7xAAAAAAIBGwUAAAAAAgBvEQAAAAACASMlAAAAAAIA0xEAAAAAAAIG6QAAAAABAasFAAAAAAEBqwUAAAAAAgH7fQAAAAADAW+FAAAAAAACU4UAAAAAAACe6QAAAAAAA47xAAAAAAICXwEAAAAAAgALEQAAAAACAFcVAAAAAAADa0UAAAAAAAOrRQAAAAAAA9NhAAAAAAADc3kAAAAAAALHgQAAAAAAAAORAAAAAAABNu0AAAAAAAP2\\u002fQAAAAACAH8JAAAAAAIAfwkAAAAAAAHu1QAAAAAAAu7tAAAAAAAD5uUAAAAAAAMG6QAAAAAAAg7xAAAAAAABLvUAAAAAAgKbCQAAAAACAXcpAAAAAAIBdykAAAAAAAD7HQAAAAAAAyMlAAAAAAABuzkAAAAAAAIHQQAAAAACAPdBAAAAAAICH0UAAAAAAgLnRQAAAAAAAJLpAAAAAAAC5vUAAAAAAAMXHQAAAAAAAS85AAAAAAAAv0kAAAAAAANa7QAAAAAAAX75AAAAAAAB0w0AAAAAAgAjCQAAAAACA\\u002fcVAAAAAAAAau0AAAAAAANq+QAAAAAAAOr5AAAAAAAAVwkAAAAAAAHq\\u002fQAAAAAAAKcJAAAAAAAB6wUAAAAAAAOXEQAAAAAAAScVAAAAAAAClzkAAAAAAAF++QAAAAAAAJ79AAAAAAAA7v0AAAAAAgAHAQAAAAACAl8BAAAAAAICLwkAAAAAAgIXDQAAAAACA98lAAAAAAIAKy0AAAAAAAEbJQAAAAACAOM9AAAAAAAD90UAAAAAAQHPQQAAAAABAmdJAAAAAAED71EAAAAAAgPHVQAAAAABAGNZA\"},\"sizemode\":\"area\",\"sizeref\":454.0,\"symbol\":\"circle\"},\"mode\":\"markers\",\"name\":\"sedan\",\"orientation\":\"v\",\"showlegend\":true,\"x\":{\"dtype\":\"i2\",\"bdata\":\"ZgBzAG4AbgCMAGUAZQB5AHkAeQC2ALYAtgBGAEQARABmAEwAVgBWAGUAZABOAEYARgCwALAABgFEAEQAVABUAEAAeABIAHsAewCbALgAWABYAHQAdABFADcARQBFAEUARQBhAJgAmABhAF8AXwBfAGEAXwCOAEQARABuAG4AoABSAFIAXgBSAG8ARgA4AEYARgBGAHAAXABJAFwAnAA0AFUANABVAFUARABkAG4ARAByAHIAogByAKAAhgBqAHIA\"},\"xaxis\":\"x\",\"y\":{\"dtype\":\"f8\",\"bdata\":\"AAAAAAA\\u002fy0AAAAAAgArRQAAAAAAAyc1AAAAAAIBL0UAAAAAAwFDXQAAAAACAC9BAAAAAAECH0EAAAAAAgHrUQAAAAABAnNRAAAAAAED910AAAAAAAAreQAAAAABgLORAAAAAAAAC4kAAAAAAAK+5QAAAAAAAJLpAAAAAAAC5vUAAAAAAALfAQAAAAAAAf7xAAAAAAIBGwUAAAAAAgBvEQAAAAACASMlAAAAAAIA0xEAAAAAAAIG6QAAAAABAasFAAAAAAEBqwUAAAAAAgH7fQAAAAADAW+FAAAAAAACU4UAAAAAAACe6QAAAAAAA47xAAAAAAICXwEAAAAAAgALEQAAAAACAFcVAAAAAAADa0UAAAAAAAOrRQAAAAAAA9NhAAAAAAADc3kAAAAAAALHgQAAAAAAAAORAAAAAAABNu0AAAAAAAP2\\u002fQAAAAACAH8JAAAAAAIAfwkAAAAAAAHu1QAAAAAAAu7tAAAAAAAD5uUAAAAAAAMG6QAAAAAAAg7xAAAAAAABLvUAAAAAAgKbCQAAAAACAXcpAAAAAAIBdykAAAAAAAD7HQAAAAAAAyMlAAAAAAABuzkAAAAAAAIHQQAAAAACAPdBAAAAAAICH0UAAAAAAgLnRQAAAAAAAJLpAAAAAAAC5vUAAAAAAAMXHQAAAAAAAS85AAAAAAAAv0kAAAAAAANa7QAAAAAAAX75AAAAAAAB0w0AAAAAAgAjCQAAAAACA\\u002fcVAAAAAAAAau0AAAAAAANq+QAAAAAAAOr5AAAAAAAAVwkAAAAAAAHq\\u002fQAAAAAAAKcJAAAAAAAB6wUAAAAAAAOXEQAAAAAAAScVAAAAAAAClzkAAAAAAAF++QAAAAAAAJ79AAAAAAAA7v0AAAAAAgAHAQAAAAACAl8BAAAAAAICLwkAAAAAAgIXDQAAAAACA98lAAAAAAIAKy0AAAAAAAEbJQAAAAACAOM9AAAAAAAD90UAAAAAAQHPQQAAAAABAmdJAAAAAAED71EAAAAAAgPHVQAAAAABAGNZA\"},\"yaxis\":\"y\",\"type\":\"scatter\"},{\"hovertemplate\":\"\\u003cb\\u003e%{hovertext}\\u003c\\u002fb\\u003e\\u003cbr\\u003e\\u003cbr\\u003ecarbody=wagon\\u003cbr\\u003ehorsepower=%{x}\\u003cbr\\u003eprice=%{marker.size}\\u003cextra\\u003e\\u003c\\u002fextra\\u003e\",\"hovertext\":[\"gas\",\"gas\",\"gas\",\"diesel\",\"gas\",\"gas\",\"gas\",\"gas\",\"diesel\",\"gas\",\"diesel\",\"gas\",\"gas\",\"gas\",\"gas\",\"gas\",\"gas\",\"gas\",\"gas\",\"gas\",\"gas\",\"gas\",\"gas\",\"gas\",\"gas\"],\"legendgroup\":\"wagon\",\"marker\":{\"color\":\"#ab63fa\",\"size\":{\"dtype\":\"f8\",\"bdata\":\"AAAAAAB60kAAAAAAgGzBQAAAAAAAf7xAAAAAAACW20AAAAAAALW8QAAAAAAAP79AAAAAAIAfzEAAAAAAAEzIQAAAAAAAEstAAAAAAMBN0EAAAAAAwKzQQAAAAACAbMFAAAAAAIAnwkAAAAAAACe9QAAAAAAA68NAAAAAAABNv0AAAAAAANfGQAAAAAAABrtAAAAAAADavkAAAAAAACXBQAAAAAAAw85AAAAAAAAByEAAAAAAgDPKQAAAAADAINBAAAAAAICB0kA=\"},\"sizemode\":\"area\",\"sizeref\":454.0,\"symbol\":\"circle\"},\"mode\":\"markers\",\"name\":\"wagon\",\"orientation\":\"v\",\"showlegend\":true,\"x\":{\"dtype\":\"i2\",\"bdata\":\"bgBYAEwAewBFAEUAmABhAF8AXwBfAFgAWgBSAF4AUgBvAD4APgA+AJwAWAByAHIAogA=\"},\"xaxis\":\"x\",\"y\":{\"dtype\":\"f8\",\"bdata\":\"AAAAAAB60kAAAAAAgGzBQAAAAAAAf7xAAAAAAACW20AAAAAAALW8QAAAAAAAP79AAAAAAIAfzEAAAAAAAEzIQAAAAAAAEstAAAAAAMBN0EAAAAAAwKzQQAAAAACAbMFAAAAAAIAnwkAAAAAAACe9QAAAAAAA68NAAAAAAABNv0AAAAAAANfGQAAAAAAABrtAAAAAAADavkAAAAAAACXBQAAAAAAAw85AAAAAAAAByEAAAAAAgDPKQAAAAADAINBAAAAAAICB0kA=\"},\"yaxis\":\"y\",\"type\":\"scatter\"},{\"hovertemplate\":\"\\u003cb\\u003e%{hovertext}\\u003c\\u002fb\\u003e\\u003cbr\\u003e\\u003cbr\\u003ecarbody=hardtop\\u003cbr\\u003ehorsepower=%{x}\\u003cbr\\u003eprice=%{marker.size}\\u003cextra\\u003e\\u003c\\u002fextra\\u003e\",\"hovertext\":[\"diesel\",\"gas\",\"gas\",\"gas\",\"gas\",\"gas\",\"gas\",\"gas\"],\"legendgroup\":\"hardtop\",\"marker\":{\"color\":\"#FFA15A\",\"size\":{\"dtype\":\"f8\",\"bdata\":\"AAAAAACE20AAAAAAACvmQAAAAACAHMBAAAAAAADE30AAAAAAgJ3gQAAAAACAgMBAAAAAAIDTwkAAAAAAgN\\u002fFQA==\"},\"sizemode\":\"area\",\"sizeref\":454.0,\"symbol\":\"circle\"},\"mode\":\"markers\",\"name\":\"hardtop\",\"orientation\":\"v\",\"showlegend\":true,\"x\":{\"dtype\":\"i2\",\"bdata\":\"ewC4AEUAzwDPAHQAdAB0AA==\"},\"xaxis\":\"x\",\"y\":{\"dtype\":\"f8\",\"bdata\":\"AAAAAACE20AAAAAAACvmQAAAAACAHMBAAAAAAADE30AAAAAAgJ3gQAAAAACAgMBAAAAAAIDTwkAAAAAAgN\\u002fFQA==\"},\"yaxis\":\"y\",\"type\":\"scatter\"}],                        {\"template\":{\"data\":{\"histogram2dcontour\":[{\"type\":\"histogram2dcontour\",\"colorbar\":{\"outlinewidth\":0,\"ticks\":\"\"},\"colorscale\":[[0.0,\"#0d0887\"],[0.1111111111111111,\"#46039f\"],[0.2222222222222222,\"#7201a8\"],[0.3333333333333333,\"#9c179e\"],[0.4444444444444444,\"#bd3786\"],[0.5555555555555556,\"#d8576b\"],[0.6666666666666666,\"#ed7953\"],[0.7777777777777778,\"#fb9f3a\"],[0.8888888888888888,\"#fdca26\"],[1.0,\"#f0f921\"]]}],\"choropleth\":[{\"type\":\"choropleth\",\"colorbar\":{\"outlinewidth\":0,\"ticks\":\"\"}}],\"histogram2d\":[{\"type\":\"histogram2d\",\"colorbar\":{\"outlinewidth\":0,\"ticks\":\"\"},\"colorscale\":[[0.0,\"#0d0887\"],[0.1111111111111111,\"#46039f\"],[0.2222222222222222,\"#7201a8\"],[0.3333333333333333,\"#9c179e\"],[0.4444444444444444,\"#bd3786\"],[0.5555555555555556,\"#d8576b\"],[0.6666666666666666,\"#ed7953\"],[0.7777777777777778,\"#fb9f3a\"],[0.8888888888888888,\"#fdca26\"],[1.0,\"#f0f921\"]]}],\"heatmap\":[{\"type\":\"heatmap\",\"colorbar\":{\"outlinewidth\":0,\"ticks\":\"\"},\"colorscale\":[[0.0,\"#0d0887\"],[0.1111111111111111,\"#46039f\"],[0.2222222222222222,\"#7201a8\"],[0.3333333333333333,\"#9c179e\"],[0.4444444444444444,\"#bd3786\"],[0.5555555555555556,\"#d8576b\"],[0.6666666666666666,\"#ed7953\"],[0.7777777777777778,\"#fb9f3a\"],[0.8888888888888888,\"#fdca26\"],[1.0,\"#f0f921\"]]}],\"contourcarpet\":[{\"type\":\"contourcarpet\",\"colorbar\":{\"outlinewidth\":0,\"ticks\":\"\"}}],\"contour\":[{\"type\":\"contour\",\"colorbar\":{\"outlinewidth\":0,\"ticks\":\"\"},\"colorscale\":[[0.0,\"#0d0887\"],[0.1111111111111111,\"#46039f\"],[0.2222222222222222,\"#7201a8\"],[0.3333333333333333,\"#9c179e\"],[0.4444444444444444,\"#bd3786\"],[0.5555555555555556,\"#d8576b\"],[0.6666666666666666,\"#ed7953\"],[0.7777777777777778,\"#fb9f3a\"],[0.8888888888888888,\"#fdca26\"],[1.0,\"#f0f921\"]]}],\"surface\":[{\"type\":\"surface\",\"colorbar\":{\"outlinewidth\":0,\"ticks\":\"\"},\"colorscale\":[[0.0,\"#0d0887\"],[0.1111111111111111,\"#46039f\"],[0.2222222222222222,\"#7201a8\"],[0.3333333333333333,\"#9c179e\"],[0.4444444444444444,\"#bd3786\"],[0.5555555555555556,\"#d8576b\"],[0.6666666666666666,\"#ed7953\"],[0.7777777777777778,\"#fb9f3a\"],[0.8888888888888888,\"#fdca26\"],[1.0,\"#f0f921\"]]}],\"mesh3d\":[{\"type\":\"mesh3d\",\"colorbar\":{\"outlinewidth\":0,\"ticks\":\"\"}}],\"scatter\":[{\"fillpattern\":{\"fillmode\":\"overlay\",\"size\":10,\"solidity\":0.2},\"type\":\"scatter\"}],\"parcoords\":[{\"type\":\"parcoords\",\"line\":{\"colorbar\":{\"outlinewidth\":0,\"ticks\":\"\"}}}],\"scatterpolargl\":[{\"type\":\"scatterpolargl\",\"marker\":{\"colorbar\":{\"outlinewidth\":0,\"ticks\":\"\"}}}],\"bar\":[{\"error_x\":{\"color\":\"#2a3f5f\"},\"error_y\":{\"color\":\"#2a3f5f\"},\"marker\":{\"line\":{\"color\":\"#E5ECF6\",\"width\":0.5},\"pattern\":{\"fillmode\":\"overlay\",\"size\":10,\"solidity\":0.2}},\"type\":\"bar\"}],\"scattergeo\":[{\"type\":\"scattergeo\",\"marker\":{\"colorbar\":{\"outlinewidth\":0,\"ticks\":\"\"}}}],\"scatterpolar\":[{\"type\":\"scatterpolar\",\"marker\":{\"colorbar\":{\"outlinewidth\":0,\"ticks\":\"\"}}}],\"histogram\":[{\"marker\":{\"pattern\":{\"fillmode\":\"overlay\",\"size\":10,\"solidity\":0.2}},\"type\":\"histogram\"}],\"scattergl\":[{\"type\":\"scattergl\",\"marker\":{\"colorbar\":{\"outlinewidth\":0,\"ticks\":\"\"}}}],\"scatter3d\":[{\"type\":\"scatter3d\",\"line\":{\"colorbar\":{\"outlinewidth\":0,\"ticks\":\"\"}},\"marker\":{\"colorbar\":{\"outlinewidth\":0,\"ticks\":\"\"}}}],\"scattermap\":[{\"type\":\"scattermap\",\"marker\":{\"colorbar\":{\"outlinewidth\":0,\"ticks\":\"\"}}}],\"scattermapbox\":[{\"type\":\"scattermapbox\",\"marker\":{\"colorbar\":{\"outlinewidth\":0,\"ticks\":\"\"}}}],\"scatterternary\":[{\"type\":\"scatterternary\",\"marker\":{\"colorbar\":{\"outlinewidth\":0,\"ticks\":\"\"}}}],\"scattercarpet\":[{\"type\":\"scattercarpet\",\"marker\":{\"colorbar\":{\"outlinewidth\":0,\"ticks\":\"\"}}}],\"carpet\":[{\"aaxis\":{\"endlinecolor\":\"#2a3f5f\",\"gridcolor\":\"white\",\"linecolor\":\"white\",\"minorgridcolor\":\"white\",\"startlinecolor\":\"#2a3f5f\"},\"baxis\":{\"endlinecolor\":\"#2a3f5f\",\"gridcolor\":\"white\",\"linecolor\":\"white\",\"minorgridcolor\":\"white\",\"startlinecolor\":\"#2a3f5f\"},\"type\":\"carpet\"}],\"table\":[{\"cells\":{\"fill\":{\"color\":\"#EBF0F8\"},\"line\":{\"color\":\"white\"}},\"header\":{\"fill\":{\"color\":\"#C8D4E3\"},\"line\":{\"color\":\"white\"}},\"type\":\"table\"}],\"barpolar\":[{\"marker\":{\"line\":{\"color\":\"#E5ECF6\",\"width\":0.5},\"pattern\":{\"fillmode\":\"overlay\",\"size\":10,\"solidity\":0.2}},\"type\":\"barpolar\"}],\"pie\":[{\"automargin\":true,\"type\":\"pie\"}]},\"layout\":{\"autotypenumbers\":\"strict\",\"colorway\":[\"#636efa\",\"#EF553B\",\"#00cc96\",\"#ab63fa\",\"#FFA15A\",\"#19d3f3\",\"#FF6692\",\"#B6E880\",\"#FF97FF\",\"#FECB52\"],\"font\":{\"color\":\"#2a3f5f\"},\"hovermode\":\"closest\",\"hoverlabel\":{\"align\":\"left\"},\"paper_bgcolor\":\"white\",\"plot_bgcolor\":\"#E5ECF6\",\"polar\":{\"bgcolor\":\"#E5ECF6\",\"angularaxis\":{\"gridcolor\":\"white\",\"linecolor\":\"white\",\"ticks\":\"\"},\"radialaxis\":{\"gridcolor\":\"white\",\"linecolor\":\"white\",\"ticks\":\"\"}},\"ternary\":{\"bgcolor\":\"#E5ECF6\",\"aaxis\":{\"gridcolor\":\"white\",\"linecolor\":\"white\",\"ticks\":\"\"},\"baxis\":{\"gridcolor\":\"white\",\"linecolor\":\"white\",\"ticks\":\"\"},\"caxis\":{\"gridcolor\":\"white\",\"linecolor\":\"white\",\"ticks\":\"\"}},\"coloraxis\":{\"colorbar\":{\"outlinewidth\":0,\"ticks\":\"\"}},\"colorscale\":{\"sequential\":[[0.0,\"#0d0887\"],[0.1111111111111111,\"#46039f\"],[0.2222222222222222,\"#7201a8\"],[0.3333333333333333,\"#9c179e\"],[0.4444444444444444,\"#bd3786\"],[0.5555555555555556,\"#d8576b\"],[0.6666666666666666,\"#ed7953\"],[0.7777777777777778,\"#fb9f3a\"],[0.8888888888888888,\"#fdca26\"],[1.0,\"#f0f921\"]],\"sequentialminus\":[[0.0,\"#0d0887\"],[0.1111111111111111,\"#46039f\"],[0.2222222222222222,\"#7201a8\"],[0.3333333333333333,\"#9c179e\"],[0.4444444444444444,\"#bd3786\"],[0.5555555555555556,\"#d8576b\"],[0.6666666666666666,\"#ed7953\"],[0.7777777777777778,\"#fb9f3a\"],[0.8888888888888888,\"#fdca26\"],[1.0,\"#f0f921\"]],\"diverging\":[[0,\"#8e0152\"],[0.1,\"#c51b7d\"],[0.2,\"#de77ae\"],[0.3,\"#f1b6da\"],[0.4,\"#fde0ef\"],[0.5,\"#f7f7f7\"],[0.6,\"#e6f5d0\"],[0.7,\"#b8e186\"],[0.8,\"#7fbc41\"],[0.9,\"#4d9221\"],[1,\"#276419\"]]},\"xaxis\":{\"gridcolor\":\"white\",\"linecolor\":\"white\",\"ticks\":\"\",\"title\":{\"standoff\":15},\"zerolinecolor\":\"white\",\"automargin\":true,\"zerolinewidth\":2},\"yaxis\":{\"gridcolor\":\"white\",\"linecolor\":\"white\",\"ticks\":\"\",\"title\":{\"standoff\":15},\"zerolinecolor\":\"white\",\"automargin\":true,\"zerolinewidth\":2},\"scene\":{\"xaxis\":{\"backgroundcolor\":\"#E5ECF6\",\"gridcolor\":\"white\",\"linecolor\":\"white\",\"showbackground\":true,\"ticks\":\"\",\"zerolinecolor\":\"white\",\"gridwidth\":2},\"yaxis\":{\"backgroundcolor\":\"#E5ECF6\",\"gridcolor\":\"white\",\"linecolor\":\"white\",\"showbackground\":true,\"ticks\":\"\",\"zerolinecolor\":\"white\",\"gridwidth\":2},\"zaxis\":{\"backgroundcolor\":\"#E5ECF6\",\"gridcolor\":\"white\",\"linecolor\":\"white\",\"showbackground\":true,\"ticks\":\"\",\"zerolinecolor\":\"white\",\"gridwidth\":2}},\"shapedefaults\":{\"line\":{\"color\":\"#2a3f5f\"}},\"annotationdefaults\":{\"arrowcolor\":\"#2a3f5f\",\"arrowhead\":0,\"arrowwidth\":1},\"geo\":{\"bgcolor\":\"white\",\"landcolor\":\"#E5ECF6\",\"subunitcolor\":\"white\",\"showland\":true,\"showlakes\":true,\"lakecolor\":\"white\"},\"title\":{\"x\":0.05},\"mapbox\":{\"style\":\"light\"}}},\"xaxis\":{\"anchor\":\"y\",\"domain\":[0.0,1.0],\"title\":{\"text\":\"horsepower\"}},\"yaxis\":{\"anchor\":\"x\",\"domain\":[0.0,1.0],\"title\":{\"text\":\"price\"}},\"legend\":{\"title\":{\"text\":\"carbody\"},\"tracegroupgap\":0,\"itemsizing\":\"constant\"},\"margin\":{\"t\":60}},                        {\"responsive\": true}                    )                };            </script>        </div>"
      ],
      "text/plain": [
       "Figure({\n",
       "    'data': [{'hovertemplate': ('<b>%{hovertext}</b><br><br>car' ... '=%{marker.size}<extra></extra>'),\n",
       "              'hovertext': array(['gas', 'gas', 'gas', 'gas', 'gas', 'gas'], dtype=object),\n",
       "              'legendgroup': 'convertible',\n",
       "              'marker': {'color': '#636efa',\n",
       "                         'size': {'bdata': 'AAAAAIBbykAAAAAAAB3QQAAAAAAAHuFAAAAAAIAU4kAAAAAAQEHRQAAAAACApcZA',\n",
       "                                  'dtype': 'f8'},\n",
       "                         'sizemode': 'area',\n",
       "                         'sizeref': np.float64(454.0),\n",
       "                         'symbol': 'circle'},\n",
       "              'mode': 'markers',\n",
       "              'name': 'convertible',\n",
       "              'orientation': 'v',\n",
       "              'showlegend': True,\n",
       "              'type': 'scatter',\n",
       "              'x': {'bdata': 'bwBvAJsAzwB0AFoA', 'dtype': 'i2'},\n",
       "              'xaxis': 'x',\n",
       "              'y': {'bdata': 'AAAAAIBbykAAAAAAAB3QQAAAAAAAHuFAAAAAAIAU4kAAAAAAQEHRQAAAAACApcZA', 'dtype': 'f8'},\n",
       "              'yaxis': 'y'},\n",
       "             {'hovertemplate': ('<b>%{hovertext}</b><br><br>car' ... '=%{marker.size}<extra></extra>'),\n",
       "              'hovertext': array(['gas', 'gas', 'gas', 'gas', 'gas', 'gas', 'gas', 'gas', 'gas', 'gas',\n",
       "                                  'gas', 'gas', 'gas', 'gas', 'gas', 'gas', 'gas', 'gas', 'gas', 'gas',\n",
       "                                  'gas', 'gas', 'gas', 'gas', 'gas', 'gas', 'gas', 'gas', 'gas', 'gas',\n",
       "                                  'gas', 'gas', 'gas', 'gas', 'gas', 'gas', 'gas', 'gas', 'gas', 'gas',\n",
       "                                  'gas', 'gas', 'gas', 'gas', 'gas', 'gas', 'gas', 'gas', 'gas', 'gas',\n",
       "                                  'gas', 'gas', 'gas', 'gas', 'gas', 'gas', 'gas', 'gas', 'gas', 'diesel',\n",
       "                                  'gas', 'gas', 'gas', 'gas', 'gas', 'gas', 'gas', 'gas', 'gas', 'gas'],\n",
       "                                 dtype=object),\n",
       "              'legendgroup': 'hatchback',\n",
       "              'marker': {'color': '#EF553B',\n",
       "                         'size': {'bdata': ('AAAAAAAd0ECcxCCwynDRQAAAAAAAH7' ... 'AAgCvQQAAAAAAAP89AAAAAAAB+w0A='),\n",
       "                                  'dtype': 'f8'},\n",
       "                         'sizemode': 'area',\n",
       "                         'sizeref': np.float64(454.0),\n",
       "                         'symbol': 'circle'},\n",
       "              'mode': 'markers',\n",
       "              'name': 'hatchback',\n",
       "              'orientation': 'v',\n",
       "              'showlegend': True,\n",
       "              'type': 'scatter',\n",
       "              'x': {'bdata': ('mgCgADAARgBEAEQAZgBEAJEAOgBMAD' ... 'gARgBGAHAAdAB0AFwAXAChAKEAWgA='),\n",
       "                    'dtype': 'i2'},\n",
       "              'xaxis': 'x',\n",
       "              'y': {'bdata': ('AAAAAAAd0ECcxCCwynDRQAAAAAAAH7' ... 'AAgCvQQAAAAAAAP89AAAAAAAB+w0A='),\n",
       "                    'dtype': 'f8'},\n",
       "              'yaxis': 'y'},\n",
       "             {'hovertemplate': ('<b>%{hovertext}</b><br><br>car' ... '=%{marker.size}<extra></extra>'),\n",
       "              'hovertext': array(['gas', 'gas', 'gas', 'gas', 'gas', 'gas', 'gas', 'gas', 'gas', 'gas',\n",
       "                                  'gas', 'gas', 'gas', 'gas', 'gas', 'gas', 'gas', 'gas', 'gas', 'gas',\n",
       "                                  'gas', 'gas', 'gas', 'gas', 'gas', 'gas', 'gas', 'gas', 'gas', 'gas',\n",
       "                                  'gas', 'gas', 'diesel', 'gas', 'diesel', 'diesel', 'diesel', 'gas',\n",
       "                                  'gas', 'gas', 'gas', 'gas', 'gas', 'gas', 'diesel', 'gas', 'gas', 'gas',\n",
       "                                  'gas', 'gas', 'gas', 'gas', 'gas', 'diesel', 'gas', 'diesel', 'gas',\n",
       "                                  'diesel', 'gas', 'gas', 'gas', 'gas', 'gas', 'gas', 'gas', 'gas', 'gas',\n",
       "                                  'gas', 'gas', 'gas', 'diesel', 'gas', 'gas', 'gas', 'gas', 'gas',\n",
       "                                  'diesel', 'gas', 'gas', 'diesel', 'gas', 'diesel', 'gas', 'gas',\n",
       "                                  'diesel', 'gas', 'gas', 'diesel', 'gas', 'gas', 'gas', 'gas', 'gas',\n",
       "                                  'gas', 'diesel', 'gas'], dtype=object),\n",
       "              'legendgroup': 'sedan',\n",
       "              'marker': {'color': '#00cc96',\n",
       "                         'size': {'bdata': ('AAAAAAA/y0AAAAAAgArRQAAAAAAAyc' ... 'AAAED71EAAAAAAgPHVQAAAAABAGNZA'),\n",
       "                                  'dtype': 'f8'},\n",
       "                         'sizemode': 'area',\n",
       "                         'sizeref': np.float64(454.0),\n",
       "                         'symbol': 'circle'},\n",
       "              'mode': 'markers',\n",
       "              'name': 'sedan',\n",
       "              'orientation': 'v',\n",
       "              'showlegend': True,\n",
       "              'type': 'scatter',\n",
       "              'x': {'bdata': ('ZgBzAG4AbgCMAGUAZQB5AHkAeQC2AL' ... 'BkAG4ARAByAHIAogByAKAAhgBqAHIA'),\n",
       "                    'dtype': 'i2'},\n",
       "              'xaxis': 'x',\n",
       "              'y': {'bdata': ('AAAAAAA/y0AAAAAAgArRQAAAAAAAyc' ... 'AAAED71EAAAAAAgPHVQAAAAABAGNZA'),\n",
       "                    'dtype': 'f8'},\n",
       "              'yaxis': 'y'},\n",
       "             {'hovertemplate': ('<b>%{hovertext}</b><br><br>car' ... '=%{marker.size}<extra></extra>'),\n",
       "              'hovertext': array(['gas', 'gas', 'gas', 'diesel', 'gas', 'gas', 'gas', 'gas', 'diesel',\n",
       "                                  'gas', 'diesel', 'gas', 'gas', 'gas', 'gas', 'gas', 'gas', 'gas', 'gas',\n",
       "                                  'gas', 'gas', 'gas', 'gas', 'gas', 'gas'], dtype=object),\n",
       "              'legendgroup': 'wagon',\n",
       "              'marker': {'color': '#ab63fa',\n",
       "                         'size': {'bdata': ('AAAAAAB60kAAAAAAgGzBQAAAAAAAf7' ... 'AAgDPKQAAAAADAINBAAAAAAICB0kA='),\n",
       "                                  'dtype': 'f8'},\n",
       "                         'sizemode': 'area',\n",
       "                         'sizeref': np.float64(454.0),\n",
       "                         'symbol': 'circle'},\n",
       "              'mode': 'markers',\n",
       "              'name': 'wagon',\n",
       "              'orientation': 'v',\n",
       "              'showlegend': True,\n",
       "              'type': 'scatter',\n",
       "              'x': {'bdata': 'bgBYAEwAewBFAEUAmABhAF8AXwBfAFgAWgBSAF4AUgBvAD4APgA+AJwAWAByAHIAogA=', 'dtype': 'i2'},\n",
       "              'xaxis': 'x',\n",
       "              'y': {'bdata': ('AAAAAAB60kAAAAAAgGzBQAAAAAAAf7' ... 'AAgDPKQAAAAADAINBAAAAAAICB0kA='),\n",
       "                    'dtype': 'f8'},\n",
       "              'yaxis': 'y'},\n",
       "             {'hovertemplate': ('<b>%{hovertext}</b><br><br>car' ... '=%{marker.size}<extra></extra>'),\n",
       "              'hovertext': array(['diesel', 'gas', 'gas', 'gas', 'gas', 'gas', 'gas', 'gas'], dtype=object),\n",
       "              'legendgroup': 'hardtop',\n",
       "              'marker': {'color': '#FFA15A',\n",
       "                         'size': {'bdata': ('AAAAAACE20AAAAAAACvmQAAAAACAHM' ... 'CAgMBAAAAAAIDTwkAAAAAAgN/FQA=='),\n",
       "                                  'dtype': 'f8'},\n",
       "                         'sizemode': 'area',\n",
       "                         'sizeref': np.float64(454.0),\n",
       "                         'symbol': 'circle'},\n",
       "              'mode': 'markers',\n",
       "              'name': 'hardtop',\n",
       "              'orientation': 'v',\n",
       "              'showlegend': True,\n",
       "              'type': 'scatter',\n",
       "              'x': {'bdata': 'ewC4AEUAzwDPAHQAdAB0AA==', 'dtype': 'i2'},\n",
       "              'xaxis': 'x',\n",
       "              'y': {'bdata': ('AAAAAACE20AAAAAAACvmQAAAAACAHM' ... 'CAgMBAAAAAAIDTwkAAAAAAgN/FQA=='),\n",
       "                    'dtype': 'f8'},\n",
       "              'yaxis': 'y'}],\n",
       "    'layout': {'legend': {'itemsizing': 'constant', 'title': {'text': 'carbody'}, 'tracegroupgap': 0},\n",
       "               'margin': {'t': 60},\n",
       "               'template': '...',\n",
       "               'xaxis': {'anchor': 'y', 'domain': [0.0, 1.0], 'title': {'text': 'horsepower'}},\n",
       "               'yaxis': {'anchor': 'x', 'domain': [0.0, 1.0], 'title': {'text': 'price'}}}\n",
       "})"
      ]
     },
     "execution_count": 52,
     "metadata": {},
     "output_type": "execute_result"
    }
   ],
   "source": [
    "px.scatter(data_frame = df , x = \"horsepower\" , y = \"price\" , color = \"carbody\" ,\n",
    "           size=\"price\" , size_max=10 , hover_name = \"fueltype\")"
   ]
  },
  {
   "cell_type": "code",
   "execution_count": 53,
   "metadata": {},
   "outputs": [
    {
     "ename": "ValueError",
     "evalue": "Mime type rendering requires nbformat>=4.2.0 but it is not installed",
     "output_type": "error",
     "traceback": [
      "\u001b[1;31m---------------------------------------------------------------------------\u001b[0m",
      "\u001b[1;31mValueError\u001b[0m                                Traceback (most recent call last)",
      "File \u001b[1;32m~\\AppData\\Local\\Packages\\PythonSoftwareFoundation.Python.3.12_qbz5n2kfra8p0\\LocalCache\\local-packages\\Python312\\site-packages\\IPython\\core\\formatters.py:984\u001b[0m, in \u001b[0;36mIPythonDisplayFormatter.__call__\u001b[1;34m(self, obj)\u001b[0m\n\u001b[0;32m    982\u001b[0m method \u001b[38;5;241m=\u001b[39m get_real_method(obj, \u001b[38;5;28mself\u001b[39m\u001b[38;5;241m.\u001b[39mprint_method)\n\u001b[0;32m    983\u001b[0m \u001b[38;5;28;01mif\u001b[39;00m method \u001b[38;5;129;01mis\u001b[39;00m \u001b[38;5;129;01mnot\u001b[39;00m \u001b[38;5;28;01mNone\u001b[39;00m:\n\u001b[1;32m--> 984\u001b[0m     \u001b[43mmethod\u001b[49m\u001b[43m(\u001b[49m\u001b[43m)\u001b[49m\n\u001b[0;32m    985\u001b[0m     \u001b[38;5;28;01mreturn\u001b[39;00m \u001b[38;5;28;01mTrue\u001b[39;00m\n",
      "File \u001b[1;32m~\\AppData\\Local\\Packages\\PythonSoftwareFoundation.Python.3.12_qbz5n2kfra8p0\\LocalCache\\local-packages\\Python312\\site-packages\\plotly\\basedatatypes.py:833\u001b[0m, in \u001b[0;36mBaseFigure._ipython_display_\u001b[1;34m(self)\u001b[0m\n\u001b[0;32m    830\u001b[0m \u001b[38;5;28;01mimport\u001b[39;00m\u001b[38;5;250m \u001b[39m\u001b[38;5;21;01mplotly\u001b[39;00m\u001b[38;5;21;01m.\u001b[39;00m\u001b[38;5;21;01mio\u001b[39;00m\u001b[38;5;250m \u001b[39m\u001b[38;5;28;01mas\u001b[39;00m\u001b[38;5;250m \u001b[39m\u001b[38;5;21;01mpio\u001b[39;00m\n\u001b[0;32m    832\u001b[0m \u001b[38;5;28;01mif\u001b[39;00m pio\u001b[38;5;241m.\u001b[39mrenderers\u001b[38;5;241m.\u001b[39mrender_on_display \u001b[38;5;129;01mand\u001b[39;00m pio\u001b[38;5;241m.\u001b[39mrenderers\u001b[38;5;241m.\u001b[39mdefault:\n\u001b[1;32m--> 833\u001b[0m     \u001b[43mpio\u001b[49m\u001b[38;5;241;43m.\u001b[39;49m\u001b[43mshow\u001b[49m\u001b[43m(\u001b[49m\u001b[38;5;28;43mself\u001b[39;49m\u001b[43m)\u001b[49m\n\u001b[0;32m    834\u001b[0m \u001b[38;5;28;01melse\u001b[39;00m:\n\u001b[0;32m    835\u001b[0m     \u001b[38;5;28mprint\u001b[39m(\u001b[38;5;28mrepr\u001b[39m(\u001b[38;5;28mself\u001b[39m))\n",
      "File \u001b[1;32m~\\AppData\\Local\\Packages\\PythonSoftwareFoundation.Python.3.12_qbz5n2kfra8p0\\LocalCache\\local-packages\\Python312\\site-packages\\plotly\\io\\_renderers.py:425\u001b[0m, in \u001b[0;36mshow\u001b[1;34m(fig, renderer, validate, **kwargs)\u001b[0m\n\u001b[0;32m    420\u001b[0m     \u001b[38;5;28;01mraise\u001b[39;00m \u001b[38;5;167;01mValueError\u001b[39;00m(\n\u001b[0;32m    421\u001b[0m         \u001b[38;5;124m\"\u001b[39m\u001b[38;5;124mMime type rendering requires ipython but it is not installed\u001b[39m\u001b[38;5;124m\"\u001b[39m\n\u001b[0;32m    422\u001b[0m     )\n\u001b[0;32m    424\u001b[0m \u001b[38;5;28;01mif\u001b[39;00m \u001b[38;5;129;01mnot\u001b[39;00m nbformat \u001b[38;5;129;01mor\u001b[39;00m Version(nbformat\u001b[38;5;241m.\u001b[39m__version__) \u001b[38;5;241m<\u001b[39m Version(\u001b[38;5;124m\"\u001b[39m\u001b[38;5;124m4.2.0\u001b[39m\u001b[38;5;124m\"\u001b[39m):\n\u001b[1;32m--> 425\u001b[0m     \u001b[38;5;28;01mraise\u001b[39;00m \u001b[38;5;167;01mValueError\u001b[39;00m(\n\u001b[0;32m    426\u001b[0m         \u001b[38;5;124m\"\u001b[39m\u001b[38;5;124mMime type rendering requires nbformat>=4.2.0 but it is not installed\u001b[39m\u001b[38;5;124m\"\u001b[39m\n\u001b[0;32m    427\u001b[0m     )\n\u001b[0;32m    429\u001b[0m display_jupyter_version_warnings()\n\u001b[0;32m    431\u001b[0m ipython_display\u001b[38;5;241m.\u001b[39mdisplay(bundle, raw\u001b[38;5;241m=\u001b[39m\u001b[38;5;28;01mTrue\u001b[39;00m)\n",
      "\u001b[1;31mValueError\u001b[0m: Mime type rendering requires nbformat>=4.2.0 but it is not installed"
     ]
    },
    {
     "data": {
      "application/vnd.plotly.v1+json": {
       "config": {
        "plotlyServerURL": "https://plot.ly"
       },
       "data": [
        {
         "hovertemplate": "<b>%{hovertext}</b><br><br>carbody=convertible<br>horsepower=%{x}<br>price=%{marker.size}<extra></extra>",
         "hovertext": [
          "gas",
          "gas",
          "gas",
          "gas",
          "gas",
          "gas"
         ],
         "legendgroup": "convertible",
         "marker": {
          "color": "#636efa",
          "size": {
           "bdata": "AAAAAIBbykAAAAAAAB3QQAAAAAAAHuFAAAAAAIAU4kAAAAAAQEHRQAAAAACApcZA",
           "dtype": "f8"
          },
          "sizemode": "area",
          "sizeref": 454,
          "symbol": "circle"
         },
         "mode": "markers",
         "name": "convertible",
         "orientation": "v",
         "showlegend": true,
         "type": "scatter",
         "x": {
          "bdata": "bwBvAJsAzwB0AFoA",
          "dtype": "i2"
         },
         "xaxis": "x",
         "y": {
          "bdata": "AAAAAIBbykAAAAAAAB3QQAAAAAAAHuFAAAAAAIAU4kAAAAAAQEHRQAAAAACApcZA",
          "dtype": "f8"
         },
         "yaxis": "y"
        },
        {
         "hovertemplate": "<b>%{hovertext}</b><br><br>carbody=hatchback<br>horsepower=%{x}<br>price=%{marker.size}<extra></extra>",
         "hovertext": [
          "gas",
          "gas",
          "gas",
          "gas",
          "gas",
          "gas",
          "gas",
          "gas",
          "gas",
          "gas",
          "gas",
          "gas",
          "gas",
          "gas",
          "gas",
          "gas",
          "gas",
          "gas",
          "gas",
          "gas",
          "gas",
          "gas",
          "gas",
          "gas",
          "gas",
          "gas",
          "gas",
          "gas",
          "gas",
          "gas",
          "gas",
          "gas",
          "gas",
          "gas",
          "gas",
          "gas",
          "gas",
          "gas",
          "gas",
          "gas",
          "gas",
          "gas",
          "gas",
          "gas",
          "gas",
          "gas",
          "gas",
          "gas",
          "gas",
          "gas",
          "gas",
          "gas",
          "gas",
          "gas",
          "gas",
          "gas",
          "gas",
          "gas",
          "gas",
          "diesel",
          "gas",
          "gas",
          "gas",
          "gas",
          "gas",
          "gas",
          "gas",
          "gas",
          "gas",
          "gas"
         ],
         "legendgroup": "hatchback",
         "marker": {
          "color": "#EF553B",
          "size": {
           "bdata": "AAAAAAAd0ECcxCCwynDRQAAAAAAAH7RAAAAAAACXuEAAAAAAAMS1QAAAAAAA6bhAAAAAAAAVv0AAAAAAAFW4QAAAAAAAUslAAAAAAABPuUAAAAAAAMe6QAAAAAAAF7VAAAAAAACBuUAAAAAAANm7QAAAAAAA175AAAAAAIDDwUAAAAAAAJTFQAAAAAAAS7RAAAAAAADPt0AAAAAAAIu6QAAAAACAYMVAAAAAAIAix0AAAAAAgKbKQAAAAACAjs5AAAAAAIBGwUAAAAAAgLHEQAAAAACA9sVAAAAAAMAd0EAAAAAAAA21QAAAAAAALbhAAAAAAAANukAAAAAAAAm+QAAAAACAc8NAAAAAAICZwEAAAAAAgKrIQAAAAACACs1AAAAAAIBMzEAAAAAAAHe+QAAAAACAesFAAAAAAMDL0EAAAAAAwDzTQAAAAADA99FAAAAAAADEtUAAAAAAABW/QAAAAAAAVbhAAAAAAADuyEAAAAAAgIDVQAAAAAAgqt5AAAAAAIBTw0AAAAAAACXHQAAAAAAAYM1AAAAAAIC50UAAAAAAAP6zQAAAAAAAjbtAAAAAAACzvUAAAAAAAOS0QAAAAAAAwrhAAAAAAABYuUAAAAAAAB68QAAAAAAAbL5AAAAAAABTwEAAAAAAABfAQAAAAAAAocJAAAAAAICCw0AAAAAAgI7GQAAAAAAAgsNAAAAAAAD4xUAAAAAAgCvQQAAAAAAAP89AAAAAAAB+w0A=",
           "dtype": "f8"
          },
          "sizemode": "area",
          "sizeref": 454,
          "symbol": "circle"
         },
         "mode": "markers",
         "name": "hatchback",
         "orientation": "v",
         "showlegend": true,
         "type": "scatter",
         "x": {
          "bdata": "mgCgADAARgBEAEQAZgBEAJEAOgBMADwATABMAFYAVgBaAEQARABEAGUAZQBlAIcAVABUAFQArwBEAEQARABmAHQAWACRAJEAkQBFAGEAoADIAKAARABmAEQAkQCPACABWgBuAG4AoABFAEkASQA+AD4APgBGADgARgBGAHAAdAB0AFwAXAChAKEAWgA=",
          "dtype": "i2"
         },
         "xaxis": "x",
         "y": {
          "bdata": "AAAAAAAd0ECcxCCwynDRQAAAAAAAH7RAAAAAAACXuEAAAAAAAMS1QAAAAAAA6bhAAAAAAAAVv0AAAAAAAFW4QAAAAAAAUslAAAAAAABPuUAAAAAAAMe6QAAAAAAAF7VAAAAAAACBuUAAAAAAANm7QAAAAAAA175AAAAAAIDDwUAAAAAAAJTFQAAAAAAAS7RAAAAAAADPt0AAAAAAAIu6QAAAAACAYMVAAAAAAIAix0AAAAAAgKbKQAAAAACAjs5AAAAAAIBGwUAAAAAAgLHEQAAAAACA9sVAAAAAAMAd0EAAAAAAAA21QAAAAAAALbhAAAAAAAANukAAAAAAAAm+QAAAAACAc8NAAAAAAICZwEAAAAAAgKrIQAAAAACACs1AAAAAAIBMzEAAAAAAAHe+QAAAAACAesFAAAAAAMDL0EAAAAAAwDzTQAAAAADA99FAAAAAAADEtUAAAAAAABW/QAAAAAAAVbhAAAAAAADuyEAAAAAAgIDVQAAAAAAgqt5AAAAAAIBTw0AAAAAAACXHQAAAAAAAYM1AAAAAAIC50UAAAAAAAP6zQAAAAAAAjbtAAAAAAACzvUAAAAAAAOS0QAAAAAAAwrhAAAAAAABYuUAAAAAAAB68QAAAAAAAbL5AAAAAAABTwEAAAAAAABfAQAAAAAAAocJAAAAAAICCw0AAAAAAgI7GQAAAAAAAgsNAAAAAAAD4xUAAAAAAgCvQQAAAAAAAP89AAAAAAAB+w0A=",
          "dtype": "f8"
         },
         "yaxis": "y"
        },
        {
         "hovertemplate": "<b>%{hovertext}</b><br><br>carbody=sedan<br>horsepower=%{x}<br>price=%{marker.size}<extra></extra>",
         "hovertext": [
          "gas",
          "gas",
          "gas",
          "gas",
          "gas",
          "gas",
          "gas",
          "gas",
          "gas",
          "gas",
          "gas",
          "gas",
          "gas",
          "gas",
          "gas",
          "gas",
          "gas",
          "gas",
          "gas",
          "gas",
          "gas",
          "gas",
          "gas",
          "gas",
          "gas",
          "gas",
          "gas",
          "gas",
          "gas",
          "gas",
          "gas",
          "gas",
          "diesel",
          "gas",
          "diesel",
          "diesel",
          "diesel",
          "gas",
          "gas",
          "gas",
          "gas",
          "gas",
          "gas",
          "gas",
          "diesel",
          "gas",
          "gas",
          "gas",
          "gas",
          "gas",
          "gas",
          "gas",
          "gas",
          "diesel",
          "gas",
          "diesel",
          "gas",
          "diesel",
          "gas",
          "gas",
          "gas",
          "gas",
          "gas",
          "gas",
          "gas",
          "gas",
          "gas",
          "gas",
          "gas",
          "gas",
          "diesel",
          "gas",
          "gas",
          "gas",
          "gas",
          "gas",
          "diesel",
          "gas",
          "gas",
          "diesel",
          "gas",
          "diesel",
          "gas",
          "gas",
          "diesel",
          "gas",
          "gas",
          "diesel",
          "gas",
          "gas",
          "gas",
          "gas",
          "gas",
          "gas",
          "diesel",
          "gas"
         ],
         "legendgroup": "sedan",
         "marker": {
          "color": "#00cc96",
          "size": {
           "bdata": "AAAAAAA/y0AAAAAAgArRQAAAAAAAyc1AAAAAAIBL0UAAAAAAwFDXQAAAAACAC9BAAAAAAECH0EAAAAAAgHrUQAAAAABAnNRAAAAAAED910AAAAAAAAreQAAAAABgLORAAAAAAAAC4kAAAAAAAK+5QAAAAAAAJLpAAAAAAAC5vUAAAAAAALfAQAAAAAAAf7xAAAAAAIBGwUAAAAAAgBvEQAAAAACASMlAAAAAAIA0xEAAAAAAAIG6QAAAAABAasFAAAAAAEBqwUAAAAAAgH7fQAAAAADAW+FAAAAAAACU4UAAAAAAACe6QAAAAAAA47xAAAAAAICXwEAAAAAAgALEQAAAAACAFcVAAAAAAADa0UAAAAAAAOrRQAAAAAAA9NhAAAAAAADc3kAAAAAAALHgQAAAAAAAAORAAAAAAABNu0AAAAAAAP2/QAAAAACAH8JAAAAAAIAfwkAAAAAAAHu1QAAAAAAAu7tAAAAAAAD5uUAAAAAAAMG6QAAAAAAAg7xAAAAAAABLvUAAAAAAgKbCQAAAAACAXcpAAAAAAIBdykAAAAAAAD7HQAAAAAAAyMlAAAAAAABuzkAAAAAAAIHQQAAAAACAPdBAAAAAAICH0UAAAAAAgLnRQAAAAAAAJLpAAAAAAAC5vUAAAAAAAMXHQAAAAAAAS85AAAAAAAAv0kAAAAAAANa7QAAAAAAAX75AAAAAAAB0w0AAAAAAgAjCQAAAAACA/cVAAAAAAAAau0AAAAAAANq+QAAAAAAAOr5AAAAAAAAVwkAAAAAAAHq/QAAAAAAAKcJAAAAAAAB6wUAAAAAAAOXEQAAAAAAAScVAAAAAAAClzkAAAAAAAF++QAAAAAAAJ79AAAAAAAA7v0AAAAAAgAHAQAAAAACAl8BAAAAAAICLwkAAAAAAgIXDQAAAAACA98lAAAAAAIAKy0AAAAAAAEbJQAAAAACAOM9AAAAAAAD90UAAAAAAQHPQQAAAAABAmdJAAAAAAED71EAAAAAAgPHVQAAAAABAGNZA",
           "dtype": "f8"
          },
          "sizemode": "area",
          "sizeref": 454,
          "symbol": "circle"
         },
         "mode": "markers",
         "name": "sedan",
         "orientation": "v",
         "showlegend": true,
         "type": "scatter",
         "x": {
          "bdata": "ZgBzAG4AbgCMAGUAZQB5AHkAeQC2ALYAtgBGAEQARABmAEwAVgBWAGUAZABOAEYARgCwALAABgFEAEQAVABUAEAAeABIAHsAewCbALgAWABYAHQAdABFADcARQBFAEUARQBhAJgAmABhAF8AXwBfAGEAXwCOAEQARABuAG4AoABSAFIAXgBSAG8ARgA4AEYARgBGAHAAXABJAFwAnAA0AFUANABVAFUARABkAG4ARAByAHIAogByAKAAhgBqAHIA",
          "dtype": "i2"
         },
         "xaxis": "x",
         "y": {
          "bdata": "AAAAAAA/y0AAAAAAgArRQAAAAAAAyc1AAAAAAIBL0UAAAAAAwFDXQAAAAACAC9BAAAAAAECH0EAAAAAAgHrUQAAAAABAnNRAAAAAAED910AAAAAAAAreQAAAAABgLORAAAAAAAAC4kAAAAAAAK+5QAAAAAAAJLpAAAAAAAC5vUAAAAAAALfAQAAAAAAAf7xAAAAAAIBGwUAAAAAAgBvEQAAAAACASMlAAAAAAIA0xEAAAAAAAIG6QAAAAABAasFAAAAAAEBqwUAAAAAAgH7fQAAAAADAW+FAAAAAAACU4UAAAAAAACe6QAAAAAAA47xAAAAAAICXwEAAAAAAgALEQAAAAACAFcVAAAAAAADa0UAAAAAAAOrRQAAAAAAA9NhAAAAAAADc3kAAAAAAALHgQAAAAAAAAORAAAAAAABNu0AAAAAAAP2/QAAAAACAH8JAAAAAAIAfwkAAAAAAAHu1QAAAAAAAu7tAAAAAAAD5uUAAAAAAAMG6QAAAAAAAg7xAAAAAAABLvUAAAAAAgKbCQAAAAACAXcpAAAAAAIBdykAAAAAAAD7HQAAAAAAAyMlAAAAAAABuzkAAAAAAAIHQQAAAAACAPdBAAAAAAICH0UAAAAAAgLnRQAAAAAAAJLpAAAAAAAC5vUAAAAAAAMXHQAAAAAAAS85AAAAAAAAv0kAAAAAAANa7QAAAAAAAX75AAAAAAAB0w0AAAAAAgAjCQAAAAACA/cVAAAAAAAAau0AAAAAAANq+QAAAAAAAOr5AAAAAAAAVwkAAAAAAAHq/QAAAAAAAKcJAAAAAAAB6wUAAAAAAAOXEQAAAAAAAScVAAAAAAAClzkAAAAAAAF++QAAAAAAAJ79AAAAAAAA7v0AAAAAAgAHAQAAAAACAl8BAAAAAAICLwkAAAAAAgIXDQAAAAACA98lAAAAAAIAKy0AAAAAAAEbJQAAAAACAOM9AAAAAAAD90UAAAAAAQHPQQAAAAABAmdJAAAAAAED71EAAAAAAgPHVQAAAAABAGNZA",
          "dtype": "f8"
         },
         "yaxis": "y"
        },
        {
         "hovertemplate": "<b>%{hovertext}</b><br><br>carbody=wagon<br>horsepower=%{x}<br>price=%{marker.size}<extra></extra>",
         "hovertext": [
          "gas",
          "gas",
          "gas",
          "diesel",
          "gas",
          "gas",
          "gas",
          "gas",
          "diesel",
          "gas",
          "diesel",
          "gas",
          "gas",
          "gas",
          "gas",
          "gas",
          "gas",
          "gas",
          "gas",
          "gas",
          "gas",
          "gas",
          "gas",
          "gas",
          "gas"
         ],
         "legendgroup": "wagon",
         "marker": {
          "color": "#ab63fa",
          "size": {
           "bdata": "AAAAAAB60kAAAAAAgGzBQAAAAAAAf7xAAAAAAACW20AAAAAAALW8QAAAAAAAP79AAAAAAIAfzEAAAAAAAEzIQAAAAAAAEstAAAAAAMBN0EAAAAAAwKzQQAAAAACAbMFAAAAAAIAnwkAAAAAAACe9QAAAAAAA68NAAAAAAABNv0AAAAAAANfGQAAAAAAABrtAAAAAAADavkAAAAAAACXBQAAAAAAAw85AAAAAAAAByEAAAAAAgDPKQAAAAADAINBAAAAAAICB0kA=",
           "dtype": "f8"
          },
          "sizemode": "area",
          "sizeref": 454,
          "symbol": "circle"
         },
         "mode": "markers",
         "name": "wagon",
         "orientation": "v",
         "showlegend": true,
         "type": "scatter",
         "x": {
          "bdata": "bgBYAEwAewBFAEUAmABhAF8AXwBfAFgAWgBSAF4AUgBvAD4APgA+AJwAWAByAHIAogA=",
          "dtype": "i2"
         },
         "xaxis": "x",
         "y": {
          "bdata": "AAAAAAB60kAAAAAAgGzBQAAAAAAAf7xAAAAAAACW20AAAAAAALW8QAAAAAAAP79AAAAAAIAfzEAAAAAAAEzIQAAAAAAAEstAAAAAAMBN0EAAAAAAwKzQQAAAAACAbMFAAAAAAIAnwkAAAAAAACe9QAAAAAAA68NAAAAAAABNv0AAAAAAANfGQAAAAAAABrtAAAAAAADavkAAAAAAACXBQAAAAAAAw85AAAAAAAAByEAAAAAAgDPKQAAAAADAINBAAAAAAICB0kA=",
          "dtype": "f8"
         },
         "yaxis": "y"
        },
        {
         "hovertemplate": "<b>%{hovertext}</b><br><br>carbody=hardtop<br>horsepower=%{x}<br>price=%{marker.size}<extra></extra>",
         "hovertext": [
          "diesel",
          "gas",
          "gas",
          "gas",
          "gas",
          "gas",
          "gas",
          "gas"
         ],
         "legendgroup": "hardtop",
         "marker": {
          "color": "#FFA15A",
          "size": {
           "bdata": "AAAAAACE20AAAAAAACvmQAAAAACAHMBAAAAAAADE30AAAAAAgJ3gQAAAAACAgMBAAAAAAIDTwkAAAAAAgN/FQA==",
           "dtype": "f8"
          },
          "sizemode": "area",
          "sizeref": 454,
          "symbol": "circle"
         },
         "mode": "markers",
         "name": "hardtop",
         "orientation": "v",
         "showlegend": true,
         "type": "scatter",
         "x": {
          "bdata": "ewC4AEUAzwDPAHQAdAB0AA==",
          "dtype": "i2"
         },
         "xaxis": "x",
         "y": {
          "bdata": "AAAAAACE20AAAAAAACvmQAAAAACAHMBAAAAAAADE30AAAAAAgJ3gQAAAAACAgMBAAAAAAIDTwkAAAAAAgN/FQA==",
          "dtype": "f8"
         },
         "yaxis": "y"
        }
       ],
       "layout": {
        "legend": {
         "itemsizing": "constant",
         "title": {
          "text": "carbody"
         },
         "tracegroupgap": 0
        },
        "margin": {
         "t": 60
        },
        "template": {
         "data": {
          "bar": [
           {
            "error_x": {
             "color": "#2a3f5f"
            },
            "error_y": {
             "color": "#2a3f5f"
            },
            "marker": {
             "line": {
              "color": "#E5ECF6",
              "width": 0.5
             },
             "pattern": {
              "fillmode": "overlay",
              "size": 10,
              "solidity": 0.2
             }
            },
            "type": "bar"
           }
          ],
          "barpolar": [
           {
            "marker": {
             "line": {
              "color": "#E5ECF6",
              "width": 0.5
             },
             "pattern": {
              "fillmode": "overlay",
              "size": 10,
              "solidity": 0.2
             }
            },
            "type": "barpolar"
           }
          ],
          "carpet": [
           {
            "aaxis": {
             "endlinecolor": "#2a3f5f",
             "gridcolor": "white",
             "linecolor": "white",
             "minorgridcolor": "white",
             "startlinecolor": "#2a3f5f"
            },
            "baxis": {
             "endlinecolor": "#2a3f5f",
             "gridcolor": "white",
             "linecolor": "white",
             "minorgridcolor": "white",
             "startlinecolor": "#2a3f5f"
            },
            "type": "carpet"
           }
          ],
          "choropleth": [
           {
            "colorbar": {
             "outlinewidth": 0,
             "ticks": ""
            },
            "type": "choropleth"
           }
          ],
          "contour": [
           {
            "colorbar": {
             "outlinewidth": 0,
             "ticks": ""
            },
            "colorscale": [
             [
              0,
              "#0d0887"
             ],
             [
              0.1111111111111111,
              "#46039f"
             ],
             [
              0.2222222222222222,
              "#7201a8"
             ],
             [
              0.3333333333333333,
              "#9c179e"
             ],
             [
              0.4444444444444444,
              "#bd3786"
             ],
             [
              0.5555555555555556,
              "#d8576b"
             ],
             [
              0.6666666666666666,
              "#ed7953"
             ],
             [
              0.7777777777777778,
              "#fb9f3a"
             ],
             [
              0.8888888888888888,
              "#fdca26"
             ],
             [
              1,
              "#f0f921"
             ]
            ],
            "type": "contour"
           }
          ],
          "contourcarpet": [
           {
            "colorbar": {
             "outlinewidth": 0,
             "ticks": ""
            },
            "type": "contourcarpet"
           }
          ],
          "heatmap": [
           {
            "colorbar": {
             "outlinewidth": 0,
             "ticks": ""
            },
            "colorscale": [
             [
              0,
              "#0d0887"
             ],
             [
              0.1111111111111111,
              "#46039f"
             ],
             [
              0.2222222222222222,
              "#7201a8"
             ],
             [
              0.3333333333333333,
              "#9c179e"
             ],
             [
              0.4444444444444444,
              "#bd3786"
             ],
             [
              0.5555555555555556,
              "#d8576b"
             ],
             [
              0.6666666666666666,
              "#ed7953"
             ],
             [
              0.7777777777777778,
              "#fb9f3a"
             ],
             [
              0.8888888888888888,
              "#fdca26"
             ],
             [
              1,
              "#f0f921"
             ]
            ],
            "type": "heatmap"
           }
          ],
          "histogram": [
           {
            "marker": {
             "pattern": {
              "fillmode": "overlay",
              "size": 10,
              "solidity": 0.2
             }
            },
            "type": "histogram"
           }
          ],
          "histogram2d": [
           {
            "colorbar": {
             "outlinewidth": 0,
             "ticks": ""
            },
            "colorscale": [
             [
              0,
              "#0d0887"
             ],
             [
              0.1111111111111111,
              "#46039f"
             ],
             [
              0.2222222222222222,
              "#7201a8"
             ],
             [
              0.3333333333333333,
              "#9c179e"
             ],
             [
              0.4444444444444444,
              "#bd3786"
             ],
             [
              0.5555555555555556,
              "#d8576b"
             ],
             [
              0.6666666666666666,
              "#ed7953"
             ],
             [
              0.7777777777777778,
              "#fb9f3a"
             ],
             [
              0.8888888888888888,
              "#fdca26"
             ],
             [
              1,
              "#f0f921"
             ]
            ],
            "type": "histogram2d"
           }
          ],
          "histogram2dcontour": [
           {
            "colorbar": {
             "outlinewidth": 0,
             "ticks": ""
            },
            "colorscale": [
             [
              0,
              "#0d0887"
             ],
             [
              0.1111111111111111,
              "#46039f"
             ],
             [
              0.2222222222222222,
              "#7201a8"
             ],
             [
              0.3333333333333333,
              "#9c179e"
             ],
             [
              0.4444444444444444,
              "#bd3786"
             ],
             [
              0.5555555555555556,
              "#d8576b"
             ],
             [
              0.6666666666666666,
              "#ed7953"
             ],
             [
              0.7777777777777778,
              "#fb9f3a"
             ],
             [
              0.8888888888888888,
              "#fdca26"
             ],
             [
              1,
              "#f0f921"
             ]
            ],
            "type": "histogram2dcontour"
           }
          ],
          "mesh3d": [
           {
            "colorbar": {
             "outlinewidth": 0,
             "ticks": ""
            },
            "type": "mesh3d"
           }
          ],
          "parcoords": [
           {
            "line": {
             "colorbar": {
              "outlinewidth": 0,
              "ticks": ""
             }
            },
            "type": "parcoords"
           }
          ],
          "pie": [
           {
            "automargin": true,
            "type": "pie"
           }
          ],
          "scatter": [
           {
            "fillpattern": {
             "fillmode": "overlay",
             "size": 10,
             "solidity": 0.2
            },
            "type": "scatter"
           }
          ],
          "scatter3d": [
           {
            "line": {
             "colorbar": {
              "outlinewidth": 0,
              "ticks": ""
             }
            },
            "marker": {
             "colorbar": {
              "outlinewidth": 0,
              "ticks": ""
             }
            },
            "type": "scatter3d"
           }
          ],
          "scattercarpet": [
           {
            "marker": {
             "colorbar": {
              "outlinewidth": 0,
              "ticks": ""
             }
            },
            "type": "scattercarpet"
           }
          ],
          "scattergeo": [
           {
            "marker": {
             "colorbar": {
              "outlinewidth": 0,
              "ticks": ""
             }
            },
            "type": "scattergeo"
           }
          ],
          "scattergl": [
           {
            "marker": {
             "colorbar": {
              "outlinewidth": 0,
              "ticks": ""
             }
            },
            "type": "scattergl"
           }
          ],
          "scattermap": [
           {
            "marker": {
             "colorbar": {
              "outlinewidth": 0,
              "ticks": ""
             }
            },
            "type": "scattermap"
           }
          ],
          "scattermapbox": [
           {
            "marker": {
             "colorbar": {
              "outlinewidth": 0,
              "ticks": ""
             }
            },
            "type": "scattermapbox"
           }
          ],
          "scatterpolar": [
           {
            "marker": {
             "colorbar": {
              "outlinewidth": 0,
              "ticks": ""
             }
            },
            "type": "scatterpolar"
           }
          ],
          "scatterpolargl": [
           {
            "marker": {
             "colorbar": {
              "outlinewidth": 0,
              "ticks": ""
             }
            },
            "type": "scatterpolargl"
           }
          ],
          "scatterternary": [
           {
            "marker": {
             "colorbar": {
              "outlinewidth": 0,
              "ticks": ""
             }
            },
            "type": "scatterternary"
           }
          ],
          "surface": [
           {
            "colorbar": {
             "outlinewidth": 0,
             "ticks": ""
            },
            "colorscale": [
             [
              0,
              "#0d0887"
             ],
             [
              0.1111111111111111,
              "#46039f"
             ],
             [
              0.2222222222222222,
              "#7201a8"
             ],
             [
              0.3333333333333333,
              "#9c179e"
             ],
             [
              0.4444444444444444,
              "#bd3786"
             ],
             [
              0.5555555555555556,
              "#d8576b"
             ],
             [
              0.6666666666666666,
              "#ed7953"
             ],
             [
              0.7777777777777778,
              "#fb9f3a"
             ],
             [
              0.8888888888888888,
              "#fdca26"
             ],
             [
              1,
              "#f0f921"
             ]
            ],
            "type": "surface"
           }
          ],
          "table": [
           {
            "cells": {
             "fill": {
              "color": "#EBF0F8"
             },
             "line": {
              "color": "white"
             }
            },
            "header": {
             "fill": {
              "color": "#C8D4E3"
             },
             "line": {
              "color": "white"
             }
            },
            "type": "table"
           }
          ]
         },
         "layout": {
          "annotationdefaults": {
           "arrowcolor": "#2a3f5f",
           "arrowhead": 0,
           "arrowwidth": 1
          },
          "autotypenumbers": "strict",
          "coloraxis": {
           "colorbar": {
            "outlinewidth": 0,
            "ticks": ""
           }
          },
          "colorscale": {
           "diverging": [
            [
             0,
             "#8e0152"
            ],
            [
             0.1,
             "#c51b7d"
            ],
            [
             0.2,
             "#de77ae"
            ],
            [
             0.3,
             "#f1b6da"
            ],
            [
             0.4,
             "#fde0ef"
            ],
            [
             0.5,
             "#f7f7f7"
            ],
            [
             0.6,
             "#e6f5d0"
            ],
            [
             0.7,
             "#b8e186"
            ],
            [
             0.8,
             "#7fbc41"
            ],
            [
             0.9,
             "#4d9221"
            ],
            [
             1,
             "#276419"
            ]
           ],
           "sequential": [
            [
             0,
             "#0d0887"
            ],
            [
             0.1111111111111111,
             "#46039f"
            ],
            [
             0.2222222222222222,
             "#7201a8"
            ],
            [
             0.3333333333333333,
             "#9c179e"
            ],
            [
             0.4444444444444444,
             "#bd3786"
            ],
            [
             0.5555555555555556,
             "#d8576b"
            ],
            [
             0.6666666666666666,
             "#ed7953"
            ],
            [
             0.7777777777777778,
             "#fb9f3a"
            ],
            [
             0.8888888888888888,
             "#fdca26"
            ],
            [
             1,
             "#f0f921"
            ]
           ],
           "sequentialminus": [
            [
             0,
             "#0d0887"
            ],
            [
             0.1111111111111111,
             "#46039f"
            ],
            [
             0.2222222222222222,
             "#7201a8"
            ],
            [
             0.3333333333333333,
             "#9c179e"
            ],
            [
             0.4444444444444444,
             "#bd3786"
            ],
            [
             0.5555555555555556,
             "#d8576b"
            ],
            [
             0.6666666666666666,
             "#ed7953"
            ],
            [
             0.7777777777777778,
             "#fb9f3a"
            ],
            [
             0.8888888888888888,
             "#fdca26"
            ],
            [
             1,
             "#f0f921"
            ]
           ]
          },
          "colorway": [
           "#636efa",
           "#EF553B",
           "#00cc96",
           "#ab63fa",
           "#FFA15A",
           "#19d3f3",
           "#FF6692",
           "#B6E880",
           "#FF97FF",
           "#FECB52"
          ],
          "font": {
           "color": "#2a3f5f"
          },
          "geo": {
           "bgcolor": "white",
           "lakecolor": "white",
           "landcolor": "#E5ECF6",
           "showlakes": true,
           "showland": true,
           "subunitcolor": "white"
          },
          "hoverlabel": {
           "align": "left"
          },
          "hovermode": "closest",
          "mapbox": {
           "style": "light"
          },
          "paper_bgcolor": "white",
          "plot_bgcolor": "#E5ECF6",
          "polar": {
           "angularaxis": {
            "gridcolor": "white",
            "linecolor": "white",
            "ticks": ""
           },
           "bgcolor": "#E5ECF6",
           "radialaxis": {
            "gridcolor": "white",
            "linecolor": "white",
            "ticks": ""
           }
          },
          "scene": {
           "xaxis": {
            "backgroundcolor": "#E5ECF6",
            "gridcolor": "white",
            "gridwidth": 2,
            "linecolor": "white",
            "showbackground": true,
            "ticks": "",
            "zerolinecolor": "white"
           },
           "yaxis": {
            "backgroundcolor": "#E5ECF6",
            "gridcolor": "white",
            "gridwidth": 2,
            "linecolor": "white",
            "showbackground": true,
            "ticks": "",
            "zerolinecolor": "white"
           },
           "zaxis": {
            "backgroundcolor": "#E5ECF6",
            "gridcolor": "white",
            "gridwidth": 2,
            "linecolor": "white",
            "showbackground": true,
            "ticks": "",
            "zerolinecolor": "white"
           }
          },
          "shapedefaults": {
           "line": {
            "color": "#2a3f5f"
           }
          },
          "ternary": {
           "aaxis": {
            "gridcolor": "white",
            "linecolor": "white",
            "ticks": ""
           },
           "baxis": {
            "gridcolor": "white",
            "linecolor": "white",
            "ticks": ""
           },
           "bgcolor": "#E5ECF6",
           "caxis": {
            "gridcolor": "white",
            "linecolor": "white",
            "ticks": ""
           }
          },
          "title": {
           "x": 0.05
          },
          "xaxis": {
           "automargin": true,
           "gridcolor": "white",
           "linecolor": "white",
           "ticks": "",
           "title": {
            "standoff": 15
           },
           "zerolinecolor": "white",
           "zerolinewidth": 2
          },
          "yaxis": {
           "automargin": true,
           "gridcolor": "white",
           "linecolor": "white",
           "ticks": "",
           "title": {
            "standoff": 15
           },
           "zerolinecolor": "white",
           "zerolinewidth": 2
          }
         }
        },
        "xaxis": {
         "anchor": "y",
         "domain": [
          0,
          1
         ],
         "title": {
          "text": "horsepower"
         }
        },
        "yaxis": {
         "anchor": "x",
         "domain": [
          0,
          1
         ],
         "title": {
          "text": "price"
         }
        }
       }
      },
      "text/html": [
       "<div>                        <script type=\"text/javascript\">window.PlotlyConfig = {MathJaxConfig: 'local'};</script>\n",
       "        <script charset=\"utf-8\" src=\"https://cdn.plot.ly/plotly-3.0.0.min.js\"></script>                <div id=\"89e9d6f6-8759-418c-9516-b2b0167435cc\" class=\"plotly-graph-div\" style=\"height:100%; width:100%;\"></div>            <script type=\"text/javascript\">                window.PLOTLYENV=window.PLOTLYENV || {};                                if (document.getElementById(\"89e9d6f6-8759-418c-9516-b2b0167435cc\")) {                    Plotly.newPlot(                        \"89e9d6f6-8759-418c-9516-b2b0167435cc\",                        [{\"hovertemplate\":\"\\u003cb\\u003e%{hovertext}\\u003c\\u002fb\\u003e\\u003cbr\\u003e\\u003cbr\\u003ecarbody=convertible\\u003cbr\\u003ehorsepower=%{x}\\u003cbr\\u003eprice=%{marker.size}\\u003cextra\\u003e\\u003c\\u002fextra\\u003e\",\"hovertext\":[\"gas\",\"gas\",\"gas\",\"gas\",\"gas\",\"gas\"],\"legendgroup\":\"convertible\",\"marker\":{\"color\":\"#636efa\",\"size\":{\"dtype\":\"f8\",\"bdata\":\"AAAAAIBbykAAAAAAAB3QQAAAAAAAHuFAAAAAAIAU4kAAAAAAQEHRQAAAAACApcZA\"},\"sizemode\":\"area\",\"sizeref\":454.0,\"symbol\":\"circle\"},\"mode\":\"markers\",\"name\":\"convertible\",\"orientation\":\"v\",\"showlegend\":true,\"x\":{\"dtype\":\"i2\",\"bdata\":\"bwBvAJsAzwB0AFoA\"},\"xaxis\":\"x\",\"y\":{\"dtype\":\"f8\",\"bdata\":\"AAAAAIBbykAAAAAAAB3QQAAAAAAAHuFAAAAAAIAU4kAAAAAAQEHRQAAAAACApcZA\"},\"yaxis\":\"y\",\"type\":\"scatter\"},{\"hovertemplate\":\"\\u003cb\\u003e%{hovertext}\\u003c\\u002fb\\u003e\\u003cbr\\u003e\\u003cbr\\u003ecarbody=hatchback\\u003cbr\\u003ehorsepower=%{x}\\u003cbr\\u003eprice=%{marker.size}\\u003cextra\\u003e\\u003c\\u002fextra\\u003e\",\"hovertext\":[\"gas\",\"gas\",\"gas\",\"gas\",\"gas\",\"gas\",\"gas\",\"gas\",\"gas\",\"gas\",\"gas\",\"gas\",\"gas\",\"gas\",\"gas\",\"gas\",\"gas\",\"gas\",\"gas\",\"gas\",\"gas\",\"gas\",\"gas\",\"gas\",\"gas\",\"gas\",\"gas\",\"gas\",\"gas\",\"gas\",\"gas\",\"gas\",\"gas\",\"gas\",\"gas\",\"gas\",\"gas\",\"gas\",\"gas\",\"gas\",\"gas\",\"gas\",\"gas\",\"gas\",\"gas\",\"gas\",\"gas\",\"gas\",\"gas\",\"gas\",\"gas\",\"gas\",\"gas\",\"gas\",\"gas\",\"gas\",\"gas\",\"gas\",\"gas\",\"diesel\",\"gas\",\"gas\",\"gas\",\"gas\",\"gas\",\"gas\",\"gas\",\"gas\",\"gas\",\"gas\"],\"legendgroup\":\"hatchback\",\"marker\":{\"color\":\"#EF553B\",\"size\":{\"dtype\":\"f8\",\"bdata\":\"AAAAAAAd0ECcxCCwynDRQAAAAAAAH7RAAAAAAACXuEAAAAAAAMS1QAAAAAAA6bhAAAAAAAAVv0AAAAAAAFW4QAAAAAAAUslAAAAAAABPuUAAAAAAAMe6QAAAAAAAF7VAAAAAAACBuUAAAAAAANm7QAAAAAAA175AAAAAAIDDwUAAAAAAAJTFQAAAAAAAS7RAAAAAAADPt0AAAAAAAIu6QAAAAACAYMVAAAAAAIAix0AAAAAAgKbKQAAAAACAjs5AAAAAAIBGwUAAAAAAgLHEQAAAAACA9sVAAAAAAMAd0EAAAAAAAA21QAAAAAAALbhAAAAAAAANukAAAAAAAAm+QAAAAACAc8NAAAAAAICZwEAAAAAAgKrIQAAAAACACs1AAAAAAIBMzEAAAAAAAHe+QAAAAACAesFAAAAAAMDL0EAAAAAAwDzTQAAAAADA99FAAAAAAADEtUAAAAAAABW\\u002fQAAAAAAAVbhAAAAAAADuyEAAAAAAgIDVQAAAAAAgqt5AAAAAAIBTw0AAAAAAACXHQAAAAAAAYM1AAAAAAIC50UAAAAAAAP6zQAAAAAAAjbtAAAAAAACzvUAAAAAAAOS0QAAAAAAAwrhAAAAAAABYuUAAAAAAAB68QAAAAAAAbL5AAAAAAABTwEAAAAAAABfAQAAAAAAAocJAAAAAAICCw0AAAAAAgI7GQAAAAAAAgsNAAAAAAAD4xUAAAAAAgCvQQAAAAAAAP89AAAAAAAB+w0A=\"},\"sizemode\":\"area\",\"sizeref\":454.0,\"symbol\":\"circle\"},\"mode\":\"markers\",\"name\":\"hatchback\",\"orientation\":\"v\",\"showlegend\":true,\"x\":{\"dtype\":\"i2\",\"bdata\":\"mgCgADAARgBEAEQAZgBEAJEAOgBMADwATABMAFYAVgBaAEQARABEAGUAZQBlAIcAVABUAFQArwBEAEQARABmAHQAWACRAJEAkQBFAGEAoADIAKAARABmAEQAkQCPACABWgBuAG4AoABFAEkASQA+AD4APgBGADgARgBGAHAAdAB0AFwAXAChAKEAWgA=\"},\"xaxis\":\"x\",\"y\":{\"dtype\":\"f8\",\"bdata\":\"AAAAAAAd0ECcxCCwynDRQAAAAAAAH7RAAAAAAACXuEAAAAAAAMS1QAAAAAAA6bhAAAAAAAAVv0AAAAAAAFW4QAAAAAAAUslAAAAAAABPuUAAAAAAAMe6QAAAAAAAF7VAAAAAAACBuUAAAAAAANm7QAAAAAAA175AAAAAAIDDwUAAAAAAAJTFQAAAAAAAS7RAAAAAAADPt0AAAAAAAIu6QAAAAACAYMVAAAAAAIAix0AAAAAAgKbKQAAAAACAjs5AAAAAAIBGwUAAAAAAgLHEQAAAAACA9sVAAAAAAMAd0EAAAAAAAA21QAAAAAAALbhAAAAAAAANukAAAAAAAAm+QAAAAACAc8NAAAAAAICZwEAAAAAAgKrIQAAAAACACs1AAAAAAIBMzEAAAAAAAHe+QAAAAACAesFAAAAAAMDL0EAAAAAAwDzTQAAAAADA99FAAAAAAADEtUAAAAAAABW\\u002fQAAAAAAAVbhAAAAAAADuyEAAAAAAgIDVQAAAAAAgqt5AAAAAAIBTw0AAAAAAACXHQAAAAAAAYM1AAAAAAIC50UAAAAAAAP6zQAAAAAAAjbtAAAAAAACzvUAAAAAAAOS0QAAAAAAAwrhAAAAAAABYuUAAAAAAAB68QAAAAAAAbL5AAAAAAABTwEAAAAAAABfAQAAAAAAAocJAAAAAAICCw0AAAAAAgI7GQAAAAAAAgsNAAAAAAAD4xUAAAAAAgCvQQAAAAAAAP89AAAAAAAB+w0A=\"},\"yaxis\":\"y\",\"type\":\"scatter\"},{\"hovertemplate\":\"\\u003cb\\u003e%{hovertext}\\u003c\\u002fb\\u003e\\u003cbr\\u003e\\u003cbr\\u003ecarbody=sedan\\u003cbr\\u003ehorsepower=%{x}\\u003cbr\\u003eprice=%{marker.size}\\u003cextra\\u003e\\u003c\\u002fextra\\u003e\",\"hovertext\":[\"gas\",\"gas\",\"gas\",\"gas\",\"gas\",\"gas\",\"gas\",\"gas\",\"gas\",\"gas\",\"gas\",\"gas\",\"gas\",\"gas\",\"gas\",\"gas\",\"gas\",\"gas\",\"gas\",\"gas\",\"gas\",\"gas\",\"gas\",\"gas\",\"gas\",\"gas\",\"gas\",\"gas\",\"gas\",\"gas\",\"gas\",\"gas\",\"diesel\",\"gas\",\"diesel\",\"diesel\",\"diesel\",\"gas\",\"gas\",\"gas\",\"gas\",\"gas\",\"gas\",\"gas\",\"diesel\",\"gas\",\"gas\",\"gas\",\"gas\",\"gas\",\"gas\",\"gas\",\"gas\",\"diesel\",\"gas\",\"diesel\",\"gas\",\"diesel\",\"gas\",\"gas\",\"gas\",\"gas\",\"gas\",\"gas\",\"gas\",\"gas\",\"gas\",\"gas\",\"gas\",\"gas\",\"diesel\",\"gas\",\"gas\",\"gas\",\"gas\",\"gas\",\"diesel\",\"gas\",\"gas\",\"diesel\",\"gas\",\"diesel\",\"gas\",\"gas\",\"diesel\",\"gas\",\"gas\",\"diesel\",\"gas\",\"gas\",\"gas\",\"gas\",\"gas\",\"gas\",\"diesel\",\"gas\"],\"legendgroup\":\"sedan\",\"marker\":{\"color\":\"#00cc96\",\"size\":{\"dtype\":\"f8\",\"bdata\":\"AAAAAAA\\u002fy0AAAAAAgArRQAAAAAAAyc1AAAAAAIBL0UAAAAAAwFDXQAAAAACAC9BAAAAAAECH0EAAAAAAgHrUQAAAAABAnNRAAAAAAED910AAAAAAAAreQAAAAABgLORAAAAAAAAC4kAAAAAAAK+5QAAAAAAAJLpAAAAAAAC5vUAAAAAAALfAQAAAAAAAf7xAAAAAAIBGwUAAAAAAgBvEQAAAAACASMlAAAAAAIA0xEAAAAAAAIG6QAAAAABAasFAAAAAAEBqwUAAAAAAgH7fQAAAAADAW+FAAAAAAACU4UAAAAAAACe6QAAAAAAA47xAAAAAAICXwEAAAAAAgALEQAAAAACAFcVAAAAAAADa0UAAAAAAAOrRQAAAAAAA9NhAAAAAAADc3kAAAAAAALHgQAAAAAAAAORAAAAAAABNu0AAAAAAAP2\\u002fQAAAAACAH8JAAAAAAIAfwkAAAAAAAHu1QAAAAAAAu7tAAAAAAAD5uUAAAAAAAMG6QAAAAAAAg7xAAAAAAABLvUAAAAAAgKbCQAAAAACAXcpAAAAAAIBdykAAAAAAAD7HQAAAAAAAyMlAAAAAAABuzkAAAAAAAIHQQAAAAACAPdBAAAAAAICH0UAAAAAAgLnRQAAAAAAAJLpAAAAAAAC5vUAAAAAAAMXHQAAAAAAAS85AAAAAAAAv0kAAAAAAANa7QAAAAAAAX75AAAAAAAB0w0AAAAAAgAjCQAAAAACA\\u002fcVAAAAAAAAau0AAAAAAANq+QAAAAAAAOr5AAAAAAAAVwkAAAAAAAHq\\u002fQAAAAAAAKcJAAAAAAAB6wUAAAAAAAOXEQAAAAAAAScVAAAAAAAClzkAAAAAAAF++QAAAAAAAJ79AAAAAAAA7v0AAAAAAgAHAQAAAAACAl8BAAAAAAICLwkAAAAAAgIXDQAAAAACA98lAAAAAAIAKy0AAAAAAAEbJQAAAAACAOM9AAAAAAAD90UAAAAAAQHPQQAAAAABAmdJAAAAAAED71EAAAAAAgPHVQAAAAABAGNZA\"},\"sizemode\":\"area\",\"sizeref\":454.0,\"symbol\":\"circle\"},\"mode\":\"markers\",\"name\":\"sedan\",\"orientation\":\"v\",\"showlegend\":true,\"x\":{\"dtype\":\"i2\",\"bdata\":\"ZgBzAG4AbgCMAGUAZQB5AHkAeQC2ALYAtgBGAEQARABmAEwAVgBWAGUAZABOAEYARgCwALAABgFEAEQAVABUAEAAeABIAHsAewCbALgAWABYAHQAdABFADcARQBFAEUARQBhAJgAmABhAF8AXwBfAGEAXwCOAEQARABuAG4AoABSAFIAXgBSAG8ARgA4AEYARgBGAHAAXABJAFwAnAA0AFUANABVAFUARABkAG4ARAByAHIAogByAKAAhgBqAHIA\"},\"xaxis\":\"x\",\"y\":{\"dtype\":\"f8\",\"bdata\":\"AAAAAAA\\u002fy0AAAAAAgArRQAAAAAAAyc1AAAAAAIBL0UAAAAAAwFDXQAAAAACAC9BAAAAAAECH0EAAAAAAgHrUQAAAAABAnNRAAAAAAED910AAAAAAAAreQAAAAABgLORAAAAAAAAC4kAAAAAAAK+5QAAAAAAAJLpAAAAAAAC5vUAAAAAAALfAQAAAAAAAf7xAAAAAAIBGwUAAAAAAgBvEQAAAAACASMlAAAAAAIA0xEAAAAAAAIG6QAAAAABAasFAAAAAAEBqwUAAAAAAgH7fQAAAAADAW+FAAAAAAACU4UAAAAAAACe6QAAAAAAA47xAAAAAAICXwEAAAAAAgALEQAAAAACAFcVAAAAAAADa0UAAAAAAAOrRQAAAAAAA9NhAAAAAAADc3kAAAAAAALHgQAAAAAAAAORAAAAAAABNu0AAAAAAAP2\\u002fQAAAAACAH8JAAAAAAIAfwkAAAAAAAHu1QAAAAAAAu7tAAAAAAAD5uUAAAAAAAMG6QAAAAAAAg7xAAAAAAABLvUAAAAAAgKbCQAAAAACAXcpAAAAAAIBdykAAAAAAAD7HQAAAAAAAyMlAAAAAAABuzkAAAAAAAIHQQAAAAACAPdBAAAAAAICH0UAAAAAAgLnRQAAAAAAAJLpAAAAAAAC5vUAAAAAAAMXHQAAAAAAAS85AAAAAAAAv0kAAAAAAANa7QAAAAAAAX75AAAAAAAB0w0AAAAAAgAjCQAAAAACA\\u002fcVAAAAAAAAau0AAAAAAANq+QAAAAAAAOr5AAAAAAAAVwkAAAAAAAHq\\u002fQAAAAAAAKcJAAAAAAAB6wUAAAAAAAOXEQAAAAAAAScVAAAAAAAClzkAAAAAAAF++QAAAAAAAJ79AAAAAAAA7v0AAAAAAgAHAQAAAAACAl8BAAAAAAICLwkAAAAAAgIXDQAAAAACA98lAAAAAAIAKy0AAAAAAAEbJQAAAAACAOM9AAAAAAAD90UAAAAAAQHPQQAAAAABAmdJAAAAAAED71EAAAAAAgPHVQAAAAABAGNZA\"},\"yaxis\":\"y\",\"type\":\"scatter\"},{\"hovertemplate\":\"\\u003cb\\u003e%{hovertext}\\u003c\\u002fb\\u003e\\u003cbr\\u003e\\u003cbr\\u003ecarbody=wagon\\u003cbr\\u003ehorsepower=%{x}\\u003cbr\\u003eprice=%{marker.size}\\u003cextra\\u003e\\u003c\\u002fextra\\u003e\",\"hovertext\":[\"gas\",\"gas\",\"gas\",\"diesel\",\"gas\",\"gas\",\"gas\",\"gas\",\"diesel\",\"gas\",\"diesel\",\"gas\",\"gas\",\"gas\",\"gas\",\"gas\",\"gas\",\"gas\",\"gas\",\"gas\",\"gas\",\"gas\",\"gas\",\"gas\",\"gas\"],\"legendgroup\":\"wagon\",\"marker\":{\"color\":\"#ab63fa\",\"size\":{\"dtype\":\"f8\",\"bdata\":\"AAAAAAB60kAAAAAAgGzBQAAAAAAAf7xAAAAAAACW20AAAAAAALW8QAAAAAAAP79AAAAAAIAfzEAAAAAAAEzIQAAAAAAAEstAAAAAAMBN0EAAAAAAwKzQQAAAAACAbMFAAAAAAIAnwkAAAAAAACe9QAAAAAAA68NAAAAAAABNv0AAAAAAANfGQAAAAAAABrtAAAAAAADavkAAAAAAACXBQAAAAAAAw85AAAAAAAAByEAAAAAAgDPKQAAAAADAINBAAAAAAICB0kA=\"},\"sizemode\":\"area\",\"sizeref\":454.0,\"symbol\":\"circle\"},\"mode\":\"markers\",\"name\":\"wagon\",\"orientation\":\"v\",\"showlegend\":true,\"x\":{\"dtype\":\"i2\",\"bdata\":\"bgBYAEwAewBFAEUAmABhAF8AXwBfAFgAWgBSAF4AUgBvAD4APgA+AJwAWAByAHIAogA=\"},\"xaxis\":\"x\",\"y\":{\"dtype\":\"f8\",\"bdata\":\"AAAAAAB60kAAAAAAgGzBQAAAAAAAf7xAAAAAAACW20AAAAAAALW8QAAAAAAAP79AAAAAAIAfzEAAAAAAAEzIQAAAAAAAEstAAAAAAMBN0EAAAAAAwKzQQAAAAACAbMFAAAAAAIAnwkAAAAAAACe9QAAAAAAA68NAAAAAAABNv0AAAAAAANfGQAAAAAAABrtAAAAAAADavkAAAAAAACXBQAAAAAAAw85AAAAAAAAByEAAAAAAgDPKQAAAAADAINBAAAAAAICB0kA=\"},\"yaxis\":\"y\",\"type\":\"scatter\"},{\"hovertemplate\":\"\\u003cb\\u003e%{hovertext}\\u003c\\u002fb\\u003e\\u003cbr\\u003e\\u003cbr\\u003ecarbody=hardtop\\u003cbr\\u003ehorsepower=%{x}\\u003cbr\\u003eprice=%{marker.size}\\u003cextra\\u003e\\u003c\\u002fextra\\u003e\",\"hovertext\":[\"diesel\",\"gas\",\"gas\",\"gas\",\"gas\",\"gas\",\"gas\",\"gas\"],\"legendgroup\":\"hardtop\",\"marker\":{\"color\":\"#FFA15A\",\"size\":{\"dtype\":\"f8\",\"bdata\":\"AAAAAACE20AAAAAAACvmQAAAAACAHMBAAAAAAADE30AAAAAAgJ3gQAAAAACAgMBAAAAAAIDTwkAAAAAAgN\\u002fFQA==\"},\"sizemode\":\"area\",\"sizeref\":454.0,\"symbol\":\"circle\"},\"mode\":\"markers\",\"name\":\"hardtop\",\"orientation\":\"v\",\"showlegend\":true,\"x\":{\"dtype\":\"i2\",\"bdata\":\"ewC4AEUAzwDPAHQAdAB0AA==\"},\"xaxis\":\"x\",\"y\":{\"dtype\":\"f8\",\"bdata\":\"AAAAAACE20AAAAAAACvmQAAAAACAHMBAAAAAAADE30AAAAAAgJ3gQAAAAACAgMBAAAAAAIDTwkAAAAAAgN\\u002fFQA==\"},\"yaxis\":\"y\",\"type\":\"scatter\"}],                        {\"template\":{\"data\":{\"histogram2dcontour\":[{\"type\":\"histogram2dcontour\",\"colorbar\":{\"outlinewidth\":0,\"ticks\":\"\"},\"colorscale\":[[0.0,\"#0d0887\"],[0.1111111111111111,\"#46039f\"],[0.2222222222222222,\"#7201a8\"],[0.3333333333333333,\"#9c179e\"],[0.4444444444444444,\"#bd3786\"],[0.5555555555555556,\"#d8576b\"],[0.6666666666666666,\"#ed7953\"],[0.7777777777777778,\"#fb9f3a\"],[0.8888888888888888,\"#fdca26\"],[1.0,\"#f0f921\"]]}],\"choropleth\":[{\"type\":\"choropleth\",\"colorbar\":{\"outlinewidth\":0,\"ticks\":\"\"}}],\"histogram2d\":[{\"type\":\"histogram2d\",\"colorbar\":{\"outlinewidth\":0,\"ticks\":\"\"},\"colorscale\":[[0.0,\"#0d0887\"],[0.1111111111111111,\"#46039f\"],[0.2222222222222222,\"#7201a8\"],[0.3333333333333333,\"#9c179e\"],[0.4444444444444444,\"#bd3786\"],[0.5555555555555556,\"#d8576b\"],[0.6666666666666666,\"#ed7953\"],[0.7777777777777778,\"#fb9f3a\"],[0.8888888888888888,\"#fdca26\"],[1.0,\"#f0f921\"]]}],\"heatmap\":[{\"type\":\"heatmap\",\"colorbar\":{\"outlinewidth\":0,\"ticks\":\"\"},\"colorscale\":[[0.0,\"#0d0887\"],[0.1111111111111111,\"#46039f\"],[0.2222222222222222,\"#7201a8\"],[0.3333333333333333,\"#9c179e\"],[0.4444444444444444,\"#bd3786\"],[0.5555555555555556,\"#d8576b\"],[0.6666666666666666,\"#ed7953\"],[0.7777777777777778,\"#fb9f3a\"],[0.8888888888888888,\"#fdca26\"],[1.0,\"#f0f921\"]]}],\"contourcarpet\":[{\"type\":\"contourcarpet\",\"colorbar\":{\"outlinewidth\":0,\"ticks\":\"\"}}],\"contour\":[{\"type\":\"contour\",\"colorbar\":{\"outlinewidth\":0,\"ticks\":\"\"},\"colorscale\":[[0.0,\"#0d0887\"],[0.1111111111111111,\"#46039f\"],[0.2222222222222222,\"#7201a8\"],[0.3333333333333333,\"#9c179e\"],[0.4444444444444444,\"#bd3786\"],[0.5555555555555556,\"#d8576b\"],[0.6666666666666666,\"#ed7953\"],[0.7777777777777778,\"#fb9f3a\"],[0.8888888888888888,\"#fdca26\"],[1.0,\"#f0f921\"]]}],\"surface\":[{\"type\":\"surface\",\"colorbar\":{\"outlinewidth\":0,\"ticks\":\"\"},\"colorscale\":[[0.0,\"#0d0887\"],[0.1111111111111111,\"#46039f\"],[0.2222222222222222,\"#7201a8\"],[0.3333333333333333,\"#9c179e\"],[0.4444444444444444,\"#bd3786\"],[0.5555555555555556,\"#d8576b\"],[0.6666666666666666,\"#ed7953\"],[0.7777777777777778,\"#fb9f3a\"],[0.8888888888888888,\"#fdca26\"],[1.0,\"#f0f921\"]]}],\"mesh3d\":[{\"type\":\"mesh3d\",\"colorbar\":{\"outlinewidth\":0,\"ticks\":\"\"}}],\"scatter\":[{\"fillpattern\":{\"fillmode\":\"overlay\",\"size\":10,\"solidity\":0.2},\"type\":\"scatter\"}],\"parcoords\":[{\"type\":\"parcoords\",\"line\":{\"colorbar\":{\"outlinewidth\":0,\"ticks\":\"\"}}}],\"scatterpolargl\":[{\"type\":\"scatterpolargl\",\"marker\":{\"colorbar\":{\"outlinewidth\":0,\"ticks\":\"\"}}}],\"bar\":[{\"error_x\":{\"color\":\"#2a3f5f\"},\"error_y\":{\"color\":\"#2a3f5f\"},\"marker\":{\"line\":{\"color\":\"#E5ECF6\",\"width\":0.5},\"pattern\":{\"fillmode\":\"overlay\",\"size\":10,\"solidity\":0.2}},\"type\":\"bar\"}],\"scattergeo\":[{\"type\":\"scattergeo\",\"marker\":{\"colorbar\":{\"outlinewidth\":0,\"ticks\":\"\"}}}],\"scatterpolar\":[{\"type\":\"scatterpolar\",\"marker\":{\"colorbar\":{\"outlinewidth\":0,\"ticks\":\"\"}}}],\"histogram\":[{\"marker\":{\"pattern\":{\"fillmode\":\"overlay\",\"size\":10,\"solidity\":0.2}},\"type\":\"histogram\"}],\"scattergl\":[{\"type\":\"scattergl\",\"marker\":{\"colorbar\":{\"outlinewidth\":0,\"ticks\":\"\"}}}],\"scatter3d\":[{\"type\":\"scatter3d\",\"line\":{\"colorbar\":{\"outlinewidth\":0,\"ticks\":\"\"}},\"marker\":{\"colorbar\":{\"outlinewidth\":0,\"ticks\":\"\"}}}],\"scattermap\":[{\"type\":\"scattermap\",\"marker\":{\"colorbar\":{\"outlinewidth\":0,\"ticks\":\"\"}}}],\"scattermapbox\":[{\"type\":\"scattermapbox\",\"marker\":{\"colorbar\":{\"outlinewidth\":0,\"ticks\":\"\"}}}],\"scatterternary\":[{\"type\":\"scatterternary\",\"marker\":{\"colorbar\":{\"outlinewidth\":0,\"ticks\":\"\"}}}],\"scattercarpet\":[{\"type\":\"scattercarpet\",\"marker\":{\"colorbar\":{\"outlinewidth\":0,\"ticks\":\"\"}}}],\"carpet\":[{\"aaxis\":{\"endlinecolor\":\"#2a3f5f\",\"gridcolor\":\"white\",\"linecolor\":\"white\",\"minorgridcolor\":\"white\",\"startlinecolor\":\"#2a3f5f\"},\"baxis\":{\"endlinecolor\":\"#2a3f5f\",\"gridcolor\":\"white\",\"linecolor\":\"white\",\"minorgridcolor\":\"white\",\"startlinecolor\":\"#2a3f5f\"},\"type\":\"carpet\"}],\"table\":[{\"cells\":{\"fill\":{\"color\":\"#EBF0F8\"},\"line\":{\"color\":\"white\"}},\"header\":{\"fill\":{\"color\":\"#C8D4E3\"},\"line\":{\"color\":\"white\"}},\"type\":\"table\"}],\"barpolar\":[{\"marker\":{\"line\":{\"color\":\"#E5ECF6\",\"width\":0.5},\"pattern\":{\"fillmode\":\"overlay\",\"size\":10,\"solidity\":0.2}},\"type\":\"barpolar\"}],\"pie\":[{\"automargin\":true,\"type\":\"pie\"}]},\"layout\":{\"autotypenumbers\":\"strict\",\"colorway\":[\"#636efa\",\"#EF553B\",\"#00cc96\",\"#ab63fa\",\"#FFA15A\",\"#19d3f3\",\"#FF6692\",\"#B6E880\",\"#FF97FF\",\"#FECB52\"],\"font\":{\"color\":\"#2a3f5f\"},\"hovermode\":\"closest\",\"hoverlabel\":{\"align\":\"left\"},\"paper_bgcolor\":\"white\",\"plot_bgcolor\":\"#E5ECF6\",\"polar\":{\"bgcolor\":\"#E5ECF6\",\"angularaxis\":{\"gridcolor\":\"white\",\"linecolor\":\"white\",\"ticks\":\"\"},\"radialaxis\":{\"gridcolor\":\"white\",\"linecolor\":\"white\",\"ticks\":\"\"}},\"ternary\":{\"bgcolor\":\"#E5ECF6\",\"aaxis\":{\"gridcolor\":\"white\",\"linecolor\":\"white\",\"ticks\":\"\"},\"baxis\":{\"gridcolor\":\"white\",\"linecolor\":\"white\",\"ticks\":\"\"},\"caxis\":{\"gridcolor\":\"white\",\"linecolor\":\"white\",\"ticks\":\"\"}},\"coloraxis\":{\"colorbar\":{\"outlinewidth\":0,\"ticks\":\"\"}},\"colorscale\":{\"sequential\":[[0.0,\"#0d0887\"],[0.1111111111111111,\"#46039f\"],[0.2222222222222222,\"#7201a8\"],[0.3333333333333333,\"#9c179e\"],[0.4444444444444444,\"#bd3786\"],[0.5555555555555556,\"#d8576b\"],[0.6666666666666666,\"#ed7953\"],[0.7777777777777778,\"#fb9f3a\"],[0.8888888888888888,\"#fdca26\"],[1.0,\"#f0f921\"]],\"sequentialminus\":[[0.0,\"#0d0887\"],[0.1111111111111111,\"#46039f\"],[0.2222222222222222,\"#7201a8\"],[0.3333333333333333,\"#9c179e\"],[0.4444444444444444,\"#bd3786\"],[0.5555555555555556,\"#d8576b\"],[0.6666666666666666,\"#ed7953\"],[0.7777777777777778,\"#fb9f3a\"],[0.8888888888888888,\"#fdca26\"],[1.0,\"#f0f921\"]],\"diverging\":[[0,\"#8e0152\"],[0.1,\"#c51b7d\"],[0.2,\"#de77ae\"],[0.3,\"#f1b6da\"],[0.4,\"#fde0ef\"],[0.5,\"#f7f7f7\"],[0.6,\"#e6f5d0\"],[0.7,\"#b8e186\"],[0.8,\"#7fbc41\"],[0.9,\"#4d9221\"],[1,\"#276419\"]]},\"xaxis\":{\"gridcolor\":\"white\",\"linecolor\":\"white\",\"ticks\":\"\",\"title\":{\"standoff\":15},\"zerolinecolor\":\"white\",\"automargin\":true,\"zerolinewidth\":2},\"yaxis\":{\"gridcolor\":\"white\",\"linecolor\":\"white\",\"ticks\":\"\",\"title\":{\"standoff\":15},\"zerolinecolor\":\"white\",\"automargin\":true,\"zerolinewidth\":2},\"scene\":{\"xaxis\":{\"backgroundcolor\":\"#E5ECF6\",\"gridcolor\":\"white\",\"linecolor\":\"white\",\"showbackground\":true,\"ticks\":\"\",\"zerolinecolor\":\"white\",\"gridwidth\":2},\"yaxis\":{\"backgroundcolor\":\"#E5ECF6\",\"gridcolor\":\"white\",\"linecolor\":\"white\",\"showbackground\":true,\"ticks\":\"\",\"zerolinecolor\":\"white\",\"gridwidth\":2},\"zaxis\":{\"backgroundcolor\":\"#E5ECF6\",\"gridcolor\":\"white\",\"linecolor\":\"white\",\"showbackground\":true,\"ticks\":\"\",\"zerolinecolor\":\"white\",\"gridwidth\":2}},\"shapedefaults\":{\"line\":{\"color\":\"#2a3f5f\"}},\"annotationdefaults\":{\"arrowcolor\":\"#2a3f5f\",\"arrowhead\":0,\"arrowwidth\":1},\"geo\":{\"bgcolor\":\"white\",\"landcolor\":\"#E5ECF6\",\"subunitcolor\":\"white\",\"showland\":true,\"showlakes\":true,\"lakecolor\":\"white\"},\"title\":{\"x\":0.05},\"mapbox\":{\"style\":\"light\"}}},\"xaxis\":{\"anchor\":\"y\",\"domain\":[0.0,1.0],\"title\":{\"text\":\"horsepower\"}},\"yaxis\":{\"anchor\":\"x\",\"domain\":[0.0,1.0],\"title\":{\"text\":\"price\"}},\"legend\":{\"title\":{\"text\":\"carbody\"},\"tracegroupgap\":0,\"itemsizing\":\"constant\"},\"margin\":{\"t\":60}},                        {\"responsive\": true}                    )                };            </script>        </div>"
      ],
      "text/plain": [
       "Figure({\n",
       "    'data': [{'hovertemplate': ('<b>%{hovertext}</b><br><br>car' ... '=%{marker.size}<extra></extra>'),\n",
       "              'hovertext': array(['gas', 'gas', 'gas', 'gas', 'gas', 'gas'], dtype=object),\n",
       "              'legendgroup': 'convertible',\n",
       "              'marker': {'color': '#636efa',\n",
       "                         'size': {'bdata': 'AAAAAIBbykAAAAAAAB3QQAAAAAAAHuFAAAAAAIAU4kAAAAAAQEHRQAAAAACApcZA',\n",
       "                                  'dtype': 'f8'},\n",
       "                         'sizemode': 'area',\n",
       "                         'sizeref': np.float64(454.0),\n",
       "                         'symbol': 'circle'},\n",
       "              'mode': 'markers',\n",
       "              'name': 'convertible',\n",
       "              'orientation': 'v',\n",
       "              'showlegend': True,\n",
       "              'type': 'scatter',\n",
       "              'x': {'bdata': 'bwBvAJsAzwB0AFoA', 'dtype': 'i2'},\n",
       "              'xaxis': 'x',\n",
       "              'y': {'bdata': 'AAAAAIBbykAAAAAAAB3QQAAAAAAAHuFAAAAAAIAU4kAAAAAAQEHRQAAAAACApcZA', 'dtype': 'f8'},\n",
       "              'yaxis': 'y'},\n",
       "             {'hovertemplate': ('<b>%{hovertext}</b><br><br>car' ... '=%{marker.size}<extra></extra>'),\n",
       "              'hovertext': array(['gas', 'gas', 'gas', 'gas', 'gas', 'gas', 'gas', 'gas', 'gas', 'gas',\n",
       "                                  'gas', 'gas', 'gas', 'gas', 'gas', 'gas', 'gas', 'gas', 'gas', 'gas',\n",
       "                                  'gas', 'gas', 'gas', 'gas', 'gas', 'gas', 'gas', 'gas', 'gas', 'gas',\n",
       "                                  'gas', 'gas', 'gas', 'gas', 'gas', 'gas', 'gas', 'gas', 'gas', 'gas',\n",
       "                                  'gas', 'gas', 'gas', 'gas', 'gas', 'gas', 'gas', 'gas', 'gas', 'gas',\n",
       "                                  'gas', 'gas', 'gas', 'gas', 'gas', 'gas', 'gas', 'gas', 'gas', 'diesel',\n",
       "                                  'gas', 'gas', 'gas', 'gas', 'gas', 'gas', 'gas', 'gas', 'gas', 'gas'],\n",
       "                                 dtype=object),\n",
       "              'legendgroup': 'hatchback',\n",
       "              'marker': {'color': '#EF553B',\n",
       "                         'size': {'bdata': ('AAAAAAAd0ECcxCCwynDRQAAAAAAAH7' ... 'AAgCvQQAAAAAAAP89AAAAAAAB+w0A='),\n",
       "                                  'dtype': 'f8'},\n",
       "                         'sizemode': 'area',\n",
       "                         'sizeref': np.float64(454.0),\n",
       "                         'symbol': 'circle'},\n",
       "              'mode': 'markers',\n",
       "              'name': 'hatchback',\n",
       "              'orientation': 'v',\n",
       "              'showlegend': True,\n",
       "              'type': 'scatter',\n",
       "              'x': {'bdata': ('mgCgADAARgBEAEQAZgBEAJEAOgBMAD' ... 'gARgBGAHAAdAB0AFwAXAChAKEAWgA='),\n",
       "                    'dtype': 'i2'},\n",
       "              'xaxis': 'x',\n",
       "              'y': {'bdata': ('AAAAAAAd0ECcxCCwynDRQAAAAAAAH7' ... 'AAgCvQQAAAAAAAP89AAAAAAAB+w0A='),\n",
       "                    'dtype': 'f8'},\n",
       "              'yaxis': 'y'},\n",
       "             {'hovertemplate': ('<b>%{hovertext}</b><br><br>car' ... '=%{marker.size}<extra></extra>'),\n",
       "              'hovertext': array(['gas', 'gas', 'gas', 'gas', 'gas', 'gas', 'gas', 'gas', 'gas', 'gas',\n",
       "                                  'gas', 'gas', 'gas', 'gas', 'gas', 'gas', 'gas', 'gas', 'gas', 'gas',\n",
       "                                  'gas', 'gas', 'gas', 'gas', 'gas', 'gas', 'gas', 'gas', 'gas', 'gas',\n",
       "                                  'gas', 'gas', 'diesel', 'gas', 'diesel', 'diesel', 'diesel', 'gas',\n",
       "                                  'gas', 'gas', 'gas', 'gas', 'gas', 'gas', 'diesel', 'gas', 'gas', 'gas',\n",
       "                                  'gas', 'gas', 'gas', 'gas', 'gas', 'diesel', 'gas', 'diesel', 'gas',\n",
       "                                  'diesel', 'gas', 'gas', 'gas', 'gas', 'gas', 'gas', 'gas', 'gas', 'gas',\n",
       "                                  'gas', 'gas', 'gas', 'diesel', 'gas', 'gas', 'gas', 'gas', 'gas',\n",
       "                                  'diesel', 'gas', 'gas', 'diesel', 'gas', 'diesel', 'gas', 'gas',\n",
       "                                  'diesel', 'gas', 'gas', 'diesel', 'gas', 'gas', 'gas', 'gas', 'gas',\n",
       "                                  'gas', 'diesel', 'gas'], dtype=object),\n",
       "              'legendgroup': 'sedan',\n",
       "              'marker': {'color': '#00cc96',\n",
       "                         'size': {'bdata': ('AAAAAAA/y0AAAAAAgArRQAAAAAAAyc' ... 'AAAED71EAAAAAAgPHVQAAAAABAGNZA'),\n",
       "                                  'dtype': 'f8'},\n",
       "                         'sizemode': 'area',\n",
       "                         'sizeref': np.float64(454.0),\n",
       "                         'symbol': 'circle'},\n",
       "              'mode': 'markers',\n",
       "              'name': 'sedan',\n",
       "              'orientation': 'v',\n",
       "              'showlegend': True,\n",
       "              'type': 'scatter',\n",
       "              'x': {'bdata': ('ZgBzAG4AbgCMAGUAZQB5AHkAeQC2AL' ... 'BkAG4ARAByAHIAogByAKAAhgBqAHIA'),\n",
       "                    'dtype': 'i2'},\n",
       "              'xaxis': 'x',\n",
       "              'y': {'bdata': ('AAAAAAA/y0AAAAAAgArRQAAAAAAAyc' ... 'AAAED71EAAAAAAgPHVQAAAAABAGNZA'),\n",
       "                    'dtype': 'f8'},\n",
       "              'yaxis': 'y'},\n",
       "             {'hovertemplate': ('<b>%{hovertext}</b><br><br>car' ... '=%{marker.size}<extra></extra>'),\n",
       "              'hovertext': array(['gas', 'gas', 'gas', 'diesel', 'gas', 'gas', 'gas', 'gas', 'diesel',\n",
       "                                  'gas', 'diesel', 'gas', 'gas', 'gas', 'gas', 'gas', 'gas', 'gas', 'gas',\n",
       "                                  'gas', 'gas', 'gas', 'gas', 'gas', 'gas'], dtype=object),\n",
       "              'legendgroup': 'wagon',\n",
       "              'marker': {'color': '#ab63fa',\n",
       "                         'size': {'bdata': ('AAAAAAB60kAAAAAAgGzBQAAAAAAAf7' ... 'AAgDPKQAAAAADAINBAAAAAAICB0kA='),\n",
       "                                  'dtype': 'f8'},\n",
       "                         'sizemode': 'area',\n",
       "                         'sizeref': np.float64(454.0),\n",
       "                         'symbol': 'circle'},\n",
       "              'mode': 'markers',\n",
       "              'name': 'wagon',\n",
       "              'orientation': 'v',\n",
       "              'showlegend': True,\n",
       "              'type': 'scatter',\n",
       "              'x': {'bdata': 'bgBYAEwAewBFAEUAmABhAF8AXwBfAFgAWgBSAF4AUgBvAD4APgA+AJwAWAByAHIAogA=', 'dtype': 'i2'},\n",
       "              'xaxis': 'x',\n",
       "              'y': {'bdata': ('AAAAAAB60kAAAAAAgGzBQAAAAAAAf7' ... 'AAgDPKQAAAAADAINBAAAAAAICB0kA='),\n",
       "                    'dtype': 'f8'},\n",
       "              'yaxis': 'y'},\n",
       "             {'hovertemplate': ('<b>%{hovertext}</b><br><br>car' ... '=%{marker.size}<extra></extra>'),\n",
       "              'hovertext': array(['diesel', 'gas', 'gas', 'gas', 'gas', 'gas', 'gas', 'gas'], dtype=object),\n",
       "              'legendgroup': 'hardtop',\n",
       "              'marker': {'color': '#FFA15A',\n",
       "                         'size': {'bdata': ('AAAAAACE20AAAAAAACvmQAAAAACAHM' ... 'CAgMBAAAAAAIDTwkAAAAAAgN/FQA=='),\n",
       "                                  'dtype': 'f8'},\n",
       "                         'sizemode': 'area',\n",
       "                         'sizeref': np.float64(454.0),\n",
       "                         'symbol': 'circle'},\n",
       "              'mode': 'markers',\n",
       "              'name': 'hardtop',\n",
       "              'orientation': 'v',\n",
       "              'showlegend': True,\n",
       "              'type': 'scatter',\n",
       "              'x': {'bdata': 'ewC4AEUAzwDPAHQAdAB0AA==', 'dtype': 'i2'},\n",
       "              'xaxis': 'x',\n",
       "              'y': {'bdata': ('AAAAAACE20AAAAAAACvmQAAAAACAHM' ... 'CAgMBAAAAAAIDTwkAAAAAAgN/FQA=='),\n",
       "                    'dtype': 'f8'},\n",
       "              'yaxis': 'y'}],\n",
       "    'layout': {'legend': {'itemsizing': 'constant', 'title': {'text': 'carbody'}, 'tracegroupgap': 0},\n",
       "               'margin': {'t': 60},\n",
       "               'template': '...',\n",
       "               'xaxis': {'anchor': 'y', 'domain': [0.0, 1.0], 'title': {'text': 'horsepower'}},\n",
       "               'yaxis': {'anchor': 'x', 'domain': [0.0, 1.0], 'title': {'text': 'price'}}}\n",
       "})"
      ]
     },
     "execution_count": 53,
     "metadata": {},
     "output_type": "execute_result"
    }
   ],
   "source": [
    "px.scatter(data_frame = df , x = \"horsepower\" , y = \"price\" , color = \"carbody\" ,\n",
    "           size=\"price\" , size_max=10 , hover_name = \"fueltype\")"
   ]
  },
  {
   "cell_type": "code",
   "execution_count": 54,
   "metadata": {},
   "outputs": [
    {
     "ename": "ValueError",
     "evalue": "Mime type rendering requires nbformat>=4.2.0 but it is not installed",
     "output_type": "error",
     "traceback": [
      "\u001b[1;31m---------------------------------------------------------------------------\u001b[0m",
      "\u001b[1;31mValueError\u001b[0m                                Traceback (most recent call last)",
      "File \u001b[1;32m~\\AppData\\Local\\Packages\\PythonSoftwareFoundation.Python.3.12_qbz5n2kfra8p0\\LocalCache\\local-packages\\Python312\\site-packages\\IPython\\core\\formatters.py:984\u001b[0m, in \u001b[0;36mIPythonDisplayFormatter.__call__\u001b[1;34m(self, obj)\u001b[0m\n\u001b[0;32m    982\u001b[0m method \u001b[38;5;241m=\u001b[39m get_real_method(obj, \u001b[38;5;28mself\u001b[39m\u001b[38;5;241m.\u001b[39mprint_method)\n\u001b[0;32m    983\u001b[0m \u001b[38;5;28;01mif\u001b[39;00m method \u001b[38;5;129;01mis\u001b[39;00m \u001b[38;5;129;01mnot\u001b[39;00m \u001b[38;5;28;01mNone\u001b[39;00m:\n\u001b[1;32m--> 984\u001b[0m     \u001b[43mmethod\u001b[49m\u001b[43m(\u001b[49m\u001b[43m)\u001b[49m\n\u001b[0;32m    985\u001b[0m     \u001b[38;5;28;01mreturn\u001b[39;00m \u001b[38;5;28;01mTrue\u001b[39;00m\n",
      "File \u001b[1;32m~\\AppData\\Local\\Packages\\PythonSoftwareFoundation.Python.3.12_qbz5n2kfra8p0\\LocalCache\\local-packages\\Python312\\site-packages\\plotly\\basedatatypes.py:833\u001b[0m, in \u001b[0;36mBaseFigure._ipython_display_\u001b[1;34m(self)\u001b[0m\n\u001b[0;32m    830\u001b[0m \u001b[38;5;28;01mimport\u001b[39;00m\u001b[38;5;250m \u001b[39m\u001b[38;5;21;01mplotly\u001b[39;00m\u001b[38;5;21;01m.\u001b[39;00m\u001b[38;5;21;01mio\u001b[39;00m\u001b[38;5;250m \u001b[39m\u001b[38;5;28;01mas\u001b[39;00m\u001b[38;5;250m \u001b[39m\u001b[38;5;21;01mpio\u001b[39;00m\n\u001b[0;32m    832\u001b[0m \u001b[38;5;28;01mif\u001b[39;00m pio\u001b[38;5;241m.\u001b[39mrenderers\u001b[38;5;241m.\u001b[39mrender_on_display \u001b[38;5;129;01mand\u001b[39;00m pio\u001b[38;5;241m.\u001b[39mrenderers\u001b[38;5;241m.\u001b[39mdefault:\n\u001b[1;32m--> 833\u001b[0m     \u001b[43mpio\u001b[49m\u001b[38;5;241;43m.\u001b[39;49m\u001b[43mshow\u001b[49m\u001b[43m(\u001b[49m\u001b[38;5;28;43mself\u001b[39;49m\u001b[43m)\u001b[49m\n\u001b[0;32m    834\u001b[0m \u001b[38;5;28;01melse\u001b[39;00m:\n\u001b[0;32m    835\u001b[0m     \u001b[38;5;28mprint\u001b[39m(\u001b[38;5;28mrepr\u001b[39m(\u001b[38;5;28mself\u001b[39m))\n",
      "File \u001b[1;32m~\\AppData\\Local\\Packages\\PythonSoftwareFoundation.Python.3.12_qbz5n2kfra8p0\\LocalCache\\local-packages\\Python312\\site-packages\\plotly\\io\\_renderers.py:425\u001b[0m, in \u001b[0;36mshow\u001b[1;34m(fig, renderer, validate, **kwargs)\u001b[0m\n\u001b[0;32m    420\u001b[0m     \u001b[38;5;28;01mraise\u001b[39;00m \u001b[38;5;167;01mValueError\u001b[39;00m(\n\u001b[0;32m    421\u001b[0m         \u001b[38;5;124m\"\u001b[39m\u001b[38;5;124mMime type rendering requires ipython but it is not installed\u001b[39m\u001b[38;5;124m\"\u001b[39m\n\u001b[0;32m    422\u001b[0m     )\n\u001b[0;32m    424\u001b[0m \u001b[38;5;28;01mif\u001b[39;00m \u001b[38;5;129;01mnot\u001b[39;00m nbformat \u001b[38;5;129;01mor\u001b[39;00m Version(nbformat\u001b[38;5;241m.\u001b[39m__version__) \u001b[38;5;241m<\u001b[39m Version(\u001b[38;5;124m\"\u001b[39m\u001b[38;5;124m4.2.0\u001b[39m\u001b[38;5;124m\"\u001b[39m):\n\u001b[1;32m--> 425\u001b[0m     \u001b[38;5;28;01mraise\u001b[39;00m \u001b[38;5;167;01mValueError\u001b[39;00m(\n\u001b[0;32m    426\u001b[0m         \u001b[38;5;124m\"\u001b[39m\u001b[38;5;124mMime type rendering requires nbformat>=4.2.0 but it is not installed\u001b[39m\u001b[38;5;124m\"\u001b[39m\n\u001b[0;32m    427\u001b[0m     )\n\u001b[0;32m    429\u001b[0m display_jupyter_version_warnings()\n\u001b[0;32m    431\u001b[0m ipython_display\u001b[38;5;241m.\u001b[39mdisplay(bundle, raw\u001b[38;5;241m=\u001b[39m\u001b[38;5;28;01mTrue\u001b[39;00m)\n",
      "\u001b[1;31mValueError\u001b[0m: Mime type rendering requires nbformat>=4.2.0 but it is not installed"
     ]
    },
    {
     "data": {
      "application/vnd.plotly.v1+json": {
       "config": {
        "plotlyServerURL": "https://plot.ly"
       },
       "data": [
        {
         "hovertemplate": "fueltype=gas<br>horsepower=%{x}<br>price=%{y}<br>carlength=%{z}<extra></extra>",
         "legendgroup": "gas",
         "marker": {
          "color": "#636efa",
          "symbol": "circle"
         },
         "mode": "markers",
         "name": "gas",
         "scene": "scene",
         "showlegend": true,
         "type": "scatter3d",
         "x": {
          "bdata": "bwBvAJoAZgBzAG4AbgBuAIwAoABlAGUAeQB5AHkAtgC2ALYAMABGAEYARABEAGYARABEAEQAZgBYAJEAOgBMADwATABMAEwATABWAFYAVgBWAGUAZABOAEYARgBaALAAsAAGAUQARABEAEQARABlAGUAZQCHAFQAVABUAFQAVAB4AJsAmwC4ALgArwBEAEQARABmAHQAWACRAJEAkQBYAFgAdAB0AEUARQBFAEUARQBFAEUARQBFAGEAYQCYAJgAmACgAMgAoABhAGEAXwBfAGEAjgBEAGYARABEAEQAWACRAI8AzwDPAM8AIAFaAFoAbgBuAG4AbgCgAKAARQBJAEkAUgBSAF4AUgBvAFIAXgBSAG8APgA+AD4APgA+AD4ARgBGAEYARgBGAEYARgBwAHAAdAB0AHQAdAB0AHQAXABcAFwAXAChAKEAnACcAFUAVQBVAGQAWgBaAG4AWAByAHIAcgByAKIAogByAKAAhgByAA==",
          "dtype": "i2"
         },
         "y": {
          "bdata": "AAAAAIBbykAAAAAAAB3QQAAAAAAAHdBAAAAAAAA/y0AAAAAAgArRQAAAAAAAyc1AAAAAAIBL0UAAAAAAAHrSQAAAAADAUNdAnMQgsMpw0UAAAAAAgAvQQAAAAABAh9BAAAAAAIB61EAAAAAAQJzUQAAAAABA/ddAAAAAAAAK3kAAAAAAYCzkQAAAAAAAAuJAAAAAAAAftEAAAAAAAJe4QAAAAAAAr7lAAAAAAADEtUAAAAAAAOm4QAAAAAAAFb9AAAAAAABVuEAAAAAAACS6QAAAAAAAub1AAAAAAAC3wEAAAAAAgGzBQAAAAAAAUslAAAAAAABPuUAAAAAAAMe6QAAAAAAAF7VAAAAAAACBuUAAAAAAANm7QAAAAAAAf7xAAAAAAAB/vEAAAAAAANe+QAAAAACAw8FAAAAAAIBGwUAAAAAAgBvEQAAAAACASMlAAAAAAIA0xEAAAAAAAIG6QAAAAABAasFAAAAAAEBqwUAAAAAAAJTFQAAAAACAft9AAAAAAMBb4UAAAAAAAJThQAAAAAAAS7RAAAAAAADPt0AAAAAAAIu6QAAAAAAAJ7pAAAAAAADjvEAAAAAAgGDFQAAAAACAIsdAAAAAAICmykAAAAAAgI7OQAAAAACARsFAAAAAAICXwEAAAAAAgLHEQAAAAACAAsRAAAAAAID2xUAAAAAAANrRQAAAAAAAseBAAAAAAAAe4UAAAAAAAADkQAAAAAAAK+ZAAAAAAMAd0EAAAAAAAA21QAAAAAAALbhAAAAAAAANukAAAAAAAAm+QAAAAACAc8NAAAAAAICZwEAAAAAAgKrIQAAAAACACs1AAAAAAIBMzEAAAAAAAE27QAAAAAAA/b9AAAAAAIAfwkAAAAAAgB/CQAAAAAAAe7VAAAAAAAD5uUAAAAAAAMG6QAAAAAAAtbxAAAAAAACDvEAAAAAAAHe+QAAAAAAAS71AAAAAAAA/v0AAAAAAgBzAQAAAAACAesFAAAAAAICmwkAAAAAAgF3KQAAAAACAH8xAAAAAAIBdykAAAAAAwMvQQAAAAADAPNNAAAAAAMD30UAAAAAAAD7HQAAAAAAATMhAAAAAAABuzkAAAAAAwE3QQAAAAACAPdBAAAAAAIC50UAAAAAAAMS1QAAAAAAAFb9AAAAAAABVuEAAAAAAACS6QAAAAAAAub1AAAAAAIBswUAAAAAAAO7IQAAAAACAgNVAAAAAAADE30AAAAAAgJ3gQAAAAACAFOJAAAAAACCq3kAAAAAAgCfCQAAAAACAU8NAAAAAAAAlx0AAAAAAAMXHQAAAAAAAYM1AAAAAAABLzkAAAAAAgLnRQAAAAAAAL9JAAAAAAAD+s0AAAAAAAI27QAAAAAAAs71AAAAAAADWu0AAAAAAAF++QAAAAAAAdMNAAAAAAIAIwkAAAAAAgP3FQAAAAAAAJ71AAAAAAADrw0AAAAAAAE2/QAAAAAAA18ZAAAAAAADktEAAAAAAAMK4QAAAAAAAWLlAAAAAAAAGu0AAAAAAANq+QAAAAAAAJcFAAAAAAAAau0AAAAAAAB68QAAAAAAAOr5AAAAAAABTwEAAAAAAABXCQAAAAAAAer9AAAAAAAAXwEAAAAAAACnCQAAAAAAAocJAAAAAAICAwEAAAAAAgNPCQAAAAACAgsNAAAAAAIDfxUAAAAAAgI7GQAAAAABAQdFAAAAAAAB6wUAAAAAAAILDQAAAAAAAScVAAAAAAAD4xUAAAAAAgCvQQAAAAAAAP89AAAAAAAClzkAAAAAAAMPOQAAAAAAAJ79AAAAAAIABwEAAAAAAgJfAQAAAAACAhcNAAAAAAIClxkAAAAAAAH7DQAAAAACA98lAAAAAAAAByEAAAAAAAEbJQAAAAACAM8pAAAAAAIA4z0AAAAAAwCDQQAAAAAAA/dFAAAAAAICB0kAAAAAAQHPQQAAAAABAmdJAAAAAAED71EAAAAAAQBjWQA==",
          "dtype": "f8"
         },
         "z": {
          "bdata": "mpmZmZkZZUCamZmZmRllQGZmZmZmZmVAMzMzMzMTZkAzMzMzMxNmQJqZmZmZKWZAZmZmZmYWaEBmZmZmZhZoQGZmZmZmFmhAZmZmZmZGZkCamZmZmRlmQJqZmZmZGWZAmpmZmZkZZkCamZmZmRlmQAAAAAAAoGdAAAAAAACgZ0CamZmZmTloQAAAAAAAoGhAMzMzMzOjYUDNzMzMzHxjQJqZmZmZ2WNAmpmZmZmpY0CamZmZmaljQJqZmZmZqWNAmpmZmZmpY0CamZmZmaljQJqZmZmZqWNAmpmZmZmpY0AzMzMzM9NlQGZmZmZmpmVAMzMzMzMTYkAzMzMzMxNiQAAAAAAAwGJAAAAAAADAYkAAAAAAAMBiQM3MzMzMbGRAMzMzMzOjY0AAAAAAAPBkQAAAAAAA8GRAzczMzMzsZUDNzMzMzOxlQM3MzMzM7GVAMzMzMzMjZUBmZmZmZlZlQM3MzMzMfGNAzczMzMx8Y0AzMzMzM5NlQDMzMzMz82hAMzMzMzPzaEBmZmZmZvZnQDMzMzMz42NAMzMzMzPjY0AzMzMzM+NjQJqZmZmZ2WRAmpmZmZnZZEAAAAAAACBlQAAAAAAAIGVAAAAAAAAgZUAAAAAAACBlQJqZmZmZOWZAmpmZmZk5ZkCamZmZmTlmQJqZmZmZOWZAmpmZmZk5ZkAAAAAAAOBlQDMzMzMzU2lAmpmZmZmJZkAzMzMzMwNqQGZmZmZm5mhAzczMzMxMZkCamZmZmaljQJqZmZmZqWNAmpmZmZmpY0CamZmZmaljQAAAAAAAoGVAAAAAAACgZUBmZmZmZqZlQGZmZmZmpmVAZmZmZmamZUDNzMzMzIxlQM3MzMzMjGVAzczMzMyMZUDNzMzMzIxlQJqZmZmZqWRAmpmZmZmpZECamZmZmalkQGZmZmZmRmVAmpmZmZmpZEAzMzMzM7NkQJqZmZmZqWRAZmZmZmZGZUDNzMzMzExkQM3MzMzMrGVAzczMzMysZUBmZmZmZrZmQDMzMzMzE2dAMzMzMzMTZ0BmZmZmZlZlQGZmZmZmVmVAAAAAAABQZkBmZmZmZlZnQM3MzMzM3GhAZmZmZmZWZ0DNzMzMzNxoQGZmZmZmVmdAZmZmZmZWZ0CamZmZmaljQJqZmZmZqWNAmpmZmZmpY0CamZmZmelkQJqZmZmZ6WRAMzMzMzPTZUBmZmZmZqZlQM3MzMzMHGVAzczMzMwcZUDNzMzMzBxlQM3MzMzMHGVAZmZmZmb2ZUAAAAAAALBmQJqZmZmZGWZAMzMzMzNTZ0AzMzMzM1NnQDMzMzMzU2dAMzMzMzNTZ0AzMzMzM1NnQDMzMzMzU2dAzczMzMycY0DNzMzMzLxjQJqZmZmZqWNAAAAAAACAZUAAAAAAAIBlQAAAAAAAgGVAAAAAAACAZUAAAAAAAIBlQAAAAAAAsGVAAAAAAACwZUAzMzMzM7NlQDMzMzMzs2VAZmZmZmbWY0BmZmZmZtZjQGZmZmZm1mNAZmZmZmY2ZUBmZmZmZjZlQGZmZmZmNmVAmpmZmZnJZECamZmZmclkQJqZmZmZyWRAmpmZmZnJZECamZmZmclkQGZmZmZmFmVAZmZmZmYWZUBmZmZmZhZlQGZmZmZmFmVAZmZmZmYGZkBmZmZmZgZmQGZmZmZmBmZAZmZmZmYGZkBmZmZmZgZmQGZmZmZmBmZAMzMzMzPzZUAzMzMzM/NlQDMzMzMz82VAMzMzMzPzZUAAAAAAAPBmQAAAAAAA8GZAmpmZmZl5Z0CamZmZmXlnQGZmZmZmdmVAZmZmZmZ2ZUBmZmZmZnZlQGZmZmZmdmVAmpmZmZnpY0BmZmZmZrZkQGZmZmZmhmZAMzMzMzPjZkCamZmZmZlnQJqZmZmZmWdAmpmZmZmZZ0CamZmZmZlnQJqZmZmZmWdAmpmZmZmZZ0CamZmZmZlnQJqZmZmZmWdAmpmZmZmZZ0CamZmZmZlnQA==",
          "dtype": "f8"
         }
        },
        {
         "hovertemplate": "fueltype=diesel<br>horsepower=%{x}<br>price=%{y}<br>carlength=%{z}<extra></extra>",
         "legendgroup": "diesel",
         "marker": {
          "color": "#EF553B",
          "symbol": "circle"
         },
         "mode": "markers",
         "name": "diesel",
         "scene": "scene",
         "showlegend": true,
         "type": "scatter3d",
         "x": {
          "bdata": "QEh7e3t7N19fX19fODhJNDRERGo=",
          "dtype": "i1"
         },
         "y": {
          "bdata": "AAAAAIAVxUAAAAAAAOrRQAAAAAAA9NhAAAAAAACW20AAAAAAAITbQAAAAAAA3N5AAAAAAAC7u0AAAAAAAMjJQAAAAAAAEstAAAAAAACB0EAAAAAAwKzQQAAAAACAh9FAAAAAAADavkAAAAAAAGy+QAAAAAAA5cRAAAAAAABfvkAAAAAAADu/QAAAAACAi8JAAAAAAIAKy0AAAAAAgPHVQA==",
          "dtype": "f8"
         },
         "z": {
          "bdata": "mpmZmZk5ZkAAAAAAAOBlQM3MzMzM3GdAzczMzMzcZ0AAAAAAAHBnQDMzMzMzU2lAmpmZmZmpZEBmZmZmZlZnQM3MzMzM3GhAZmZmZmZWZ0DNzMzMzNxoQGZmZmZmVmdAmpmZmZnJZECamZmZmclkQDMzMzMz82VAZmZmZmZ2ZUBmZmZmZnZlQGZmZmZmdmVAZmZmZmaGZkCamZmZmZlnQA==",
          "dtype": "f8"
         }
        }
       ],
       "layout": {
        "legend": {
         "title": {
          "text": "fueltype"
         },
         "tracegroupgap": 0
        },
        "margin": {
         "t": 60
        },
        "scene": {
         "domain": {
          "x": [
           0,
           1
          ],
          "y": [
           0,
           1
          ]
         },
         "xaxis": {
          "title": {
           "text": "horsepower"
          }
         },
         "yaxis": {
          "title": {
           "text": "price"
          }
         },
         "zaxis": {
          "title": {
           "text": "carlength"
          }
         }
        },
        "template": {
         "data": {
          "bar": [
           {
            "error_x": {
             "color": "#2a3f5f"
            },
            "error_y": {
             "color": "#2a3f5f"
            },
            "marker": {
             "line": {
              "color": "#E5ECF6",
              "width": 0.5
             },
             "pattern": {
              "fillmode": "overlay",
              "size": 10,
              "solidity": 0.2
             }
            },
            "type": "bar"
           }
          ],
          "barpolar": [
           {
            "marker": {
             "line": {
              "color": "#E5ECF6",
              "width": 0.5
             },
             "pattern": {
              "fillmode": "overlay",
              "size": 10,
              "solidity": 0.2
             }
            },
            "type": "barpolar"
           }
          ],
          "carpet": [
           {
            "aaxis": {
             "endlinecolor": "#2a3f5f",
             "gridcolor": "white",
             "linecolor": "white",
             "minorgridcolor": "white",
             "startlinecolor": "#2a3f5f"
            },
            "baxis": {
             "endlinecolor": "#2a3f5f",
             "gridcolor": "white",
             "linecolor": "white",
             "minorgridcolor": "white",
             "startlinecolor": "#2a3f5f"
            },
            "type": "carpet"
           }
          ],
          "choropleth": [
           {
            "colorbar": {
             "outlinewidth": 0,
             "ticks": ""
            },
            "type": "choropleth"
           }
          ],
          "contour": [
           {
            "colorbar": {
             "outlinewidth": 0,
             "ticks": ""
            },
            "colorscale": [
             [
              0,
              "#0d0887"
             ],
             [
              0.1111111111111111,
              "#46039f"
             ],
             [
              0.2222222222222222,
              "#7201a8"
             ],
             [
              0.3333333333333333,
              "#9c179e"
             ],
             [
              0.4444444444444444,
              "#bd3786"
             ],
             [
              0.5555555555555556,
              "#d8576b"
             ],
             [
              0.6666666666666666,
              "#ed7953"
             ],
             [
              0.7777777777777778,
              "#fb9f3a"
             ],
             [
              0.8888888888888888,
              "#fdca26"
             ],
             [
              1,
              "#f0f921"
             ]
            ],
            "type": "contour"
           }
          ],
          "contourcarpet": [
           {
            "colorbar": {
             "outlinewidth": 0,
             "ticks": ""
            },
            "type": "contourcarpet"
           }
          ],
          "heatmap": [
           {
            "colorbar": {
             "outlinewidth": 0,
             "ticks": ""
            },
            "colorscale": [
             [
              0,
              "#0d0887"
             ],
             [
              0.1111111111111111,
              "#46039f"
             ],
             [
              0.2222222222222222,
              "#7201a8"
             ],
             [
              0.3333333333333333,
              "#9c179e"
             ],
             [
              0.4444444444444444,
              "#bd3786"
             ],
             [
              0.5555555555555556,
              "#d8576b"
             ],
             [
              0.6666666666666666,
              "#ed7953"
             ],
             [
              0.7777777777777778,
              "#fb9f3a"
             ],
             [
              0.8888888888888888,
              "#fdca26"
             ],
             [
              1,
              "#f0f921"
             ]
            ],
            "type": "heatmap"
           }
          ],
          "histogram": [
           {
            "marker": {
             "pattern": {
              "fillmode": "overlay",
              "size": 10,
              "solidity": 0.2
             }
            },
            "type": "histogram"
           }
          ],
          "histogram2d": [
           {
            "colorbar": {
             "outlinewidth": 0,
             "ticks": ""
            },
            "colorscale": [
             [
              0,
              "#0d0887"
             ],
             [
              0.1111111111111111,
              "#46039f"
             ],
             [
              0.2222222222222222,
              "#7201a8"
             ],
             [
              0.3333333333333333,
              "#9c179e"
             ],
             [
              0.4444444444444444,
              "#bd3786"
             ],
             [
              0.5555555555555556,
              "#d8576b"
             ],
             [
              0.6666666666666666,
              "#ed7953"
             ],
             [
              0.7777777777777778,
              "#fb9f3a"
             ],
             [
              0.8888888888888888,
              "#fdca26"
             ],
             [
              1,
              "#f0f921"
             ]
            ],
            "type": "histogram2d"
           }
          ],
          "histogram2dcontour": [
           {
            "colorbar": {
             "outlinewidth": 0,
             "ticks": ""
            },
            "colorscale": [
             [
              0,
              "#0d0887"
             ],
             [
              0.1111111111111111,
              "#46039f"
             ],
             [
              0.2222222222222222,
              "#7201a8"
             ],
             [
              0.3333333333333333,
              "#9c179e"
             ],
             [
              0.4444444444444444,
              "#bd3786"
             ],
             [
              0.5555555555555556,
              "#d8576b"
             ],
             [
              0.6666666666666666,
              "#ed7953"
             ],
             [
              0.7777777777777778,
              "#fb9f3a"
             ],
             [
              0.8888888888888888,
              "#fdca26"
             ],
             [
              1,
              "#f0f921"
             ]
            ],
            "type": "histogram2dcontour"
           }
          ],
          "mesh3d": [
           {
            "colorbar": {
             "outlinewidth": 0,
             "ticks": ""
            },
            "type": "mesh3d"
           }
          ],
          "parcoords": [
           {
            "line": {
             "colorbar": {
              "outlinewidth": 0,
              "ticks": ""
             }
            },
            "type": "parcoords"
           }
          ],
          "pie": [
           {
            "automargin": true,
            "type": "pie"
           }
          ],
          "scatter": [
           {
            "fillpattern": {
             "fillmode": "overlay",
             "size": 10,
             "solidity": 0.2
            },
            "type": "scatter"
           }
          ],
          "scatter3d": [
           {
            "line": {
             "colorbar": {
              "outlinewidth": 0,
              "ticks": ""
             }
            },
            "marker": {
             "colorbar": {
              "outlinewidth": 0,
              "ticks": ""
             }
            },
            "type": "scatter3d"
           }
          ],
          "scattercarpet": [
           {
            "marker": {
             "colorbar": {
              "outlinewidth": 0,
              "ticks": ""
             }
            },
            "type": "scattercarpet"
           }
          ],
          "scattergeo": [
           {
            "marker": {
             "colorbar": {
              "outlinewidth": 0,
              "ticks": ""
             }
            },
            "type": "scattergeo"
           }
          ],
          "scattergl": [
           {
            "marker": {
             "colorbar": {
              "outlinewidth": 0,
              "ticks": ""
             }
            },
            "type": "scattergl"
           }
          ],
          "scattermap": [
           {
            "marker": {
             "colorbar": {
              "outlinewidth": 0,
              "ticks": ""
             }
            },
            "type": "scattermap"
           }
          ],
          "scattermapbox": [
           {
            "marker": {
             "colorbar": {
              "outlinewidth": 0,
              "ticks": ""
             }
            },
            "type": "scattermapbox"
           }
          ],
          "scatterpolar": [
           {
            "marker": {
             "colorbar": {
              "outlinewidth": 0,
              "ticks": ""
             }
            },
            "type": "scatterpolar"
           }
          ],
          "scatterpolargl": [
           {
            "marker": {
             "colorbar": {
              "outlinewidth": 0,
              "ticks": ""
             }
            },
            "type": "scatterpolargl"
           }
          ],
          "scatterternary": [
           {
            "marker": {
             "colorbar": {
              "outlinewidth": 0,
              "ticks": ""
             }
            },
            "type": "scatterternary"
           }
          ],
          "surface": [
           {
            "colorbar": {
             "outlinewidth": 0,
             "ticks": ""
            },
            "colorscale": [
             [
              0,
              "#0d0887"
             ],
             [
              0.1111111111111111,
              "#46039f"
             ],
             [
              0.2222222222222222,
              "#7201a8"
             ],
             [
              0.3333333333333333,
              "#9c179e"
             ],
             [
              0.4444444444444444,
              "#bd3786"
             ],
             [
              0.5555555555555556,
              "#d8576b"
             ],
             [
              0.6666666666666666,
              "#ed7953"
             ],
             [
              0.7777777777777778,
              "#fb9f3a"
             ],
             [
              0.8888888888888888,
              "#fdca26"
             ],
             [
              1,
              "#f0f921"
             ]
            ],
            "type": "surface"
           }
          ],
          "table": [
           {
            "cells": {
             "fill": {
              "color": "#EBF0F8"
             },
             "line": {
              "color": "white"
             }
            },
            "header": {
             "fill": {
              "color": "#C8D4E3"
             },
             "line": {
              "color": "white"
             }
            },
            "type": "table"
           }
          ]
         },
         "layout": {
          "annotationdefaults": {
           "arrowcolor": "#2a3f5f",
           "arrowhead": 0,
           "arrowwidth": 1
          },
          "autotypenumbers": "strict",
          "coloraxis": {
           "colorbar": {
            "outlinewidth": 0,
            "ticks": ""
           }
          },
          "colorscale": {
           "diverging": [
            [
             0,
             "#8e0152"
            ],
            [
             0.1,
             "#c51b7d"
            ],
            [
             0.2,
             "#de77ae"
            ],
            [
             0.3,
             "#f1b6da"
            ],
            [
             0.4,
             "#fde0ef"
            ],
            [
             0.5,
             "#f7f7f7"
            ],
            [
             0.6,
             "#e6f5d0"
            ],
            [
             0.7,
             "#b8e186"
            ],
            [
             0.8,
             "#7fbc41"
            ],
            [
             0.9,
             "#4d9221"
            ],
            [
             1,
             "#276419"
            ]
           ],
           "sequential": [
            [
             0,
             "#0d0887"
            ],
            [
             0.1111111111111111,
             "#46039f"
            ],
            [
             0.2222222222222222,
             "#7201a8"
            ],
            [
             0.3333333333333333,
             "#9c179e"
            ],
            [
             0.4444444444444444,
             "#bd3786"
            ],
            [
             0.5555555555555556,
             "#d8576b"
            ],
            [
             0.6666666666666666,
             "#ed7953"
            ],
            [
             0.7777777777777778,
             "#fb9f3a"
            ],
            [
             0.8888888888888888,
             "#fdca26"
            ],
            [
             1,
             "#f0f921"
            ]
           ],
           "sequentialminus": [
            [
             0,
             "#0d0887"
            ],
            [
             0.1111111111111111,
             "#46039f"
            ],
            [
             0.2222222222222222,
             "#7201a8"
            ],
            [
             0.3333333333333333,
             "#9c179e"
            ],
            [
             0.4444444444444444,
             "#bd3786"
            ],
            [
             0.5555555555555556,
             "#d8576b"
            ],
            [
             0.6666666666666666,
             "#ed7953"
            ],
            [
             0.7777777777777778,
             "#fb9f3a"
            ],
            [
             0.8888888888888888,
             "#fdca26"
            ],
            [
             1,
             "#f0f921"
            ]
           ]
          },
          "colorway": [
           "#636efa",
           "#EF553B",
           "#00cc96",
           "#ab63fa",
           "#FFA15A",
           "#19d3f3",
           "#FF6692",
           "#B6E880",
           "#FF97FF",
           "#FECB52"
          ],
          "font": {
           "color": "#2a3f5f"
          },
          "geo": {
           "bgcolor": "white",
           "lakecolor": "white",
           "landcolor": "#E5ECF6",
           "showlakes": true,
           "showland": true,
           "subunitcolor": "white"
          },
          "hoverlabel": {
           "align": "left"
          },
          "hovermode": "closest",
          "mapbox": {
           "style": "light"
          },
          "paper_bgcolor": "white",
          "plot_bgcolor": "#E5ECF6",
          "polar": {
           "angularaxis": {
            "gridcolor": "white",
            "linecolor": "white",
            "ticks": ""
           },
           "bgcolor": "#E5ECF6",
           "radialaxis": {
            "gridcolor": "white",
            "linecolor": "white",
            "ticks": ""
           }
          },
          "scene": {
           "xaxis": {
            "backgroundcolor": "#E5ECF6",
            "gridcolor": "white",
            "gridwidth": 2,
            "linecolor": "white",
            "showbackground": true,
            "ticks": "",
            "zerolinecolor": "white"
           },
           "yaxis": {
            "backgroundcolor": "#E5ECF6",
            "gridcolor": "white",
            "gridwidth": 2,
            "linecolor": "white",
            "showbackground": true,
            "ticks": "",
            "zerolinecolor": "white"
           },
           "zaxis": {
            "backgroundcolor": "#E5ECF6",
            "gridcolor": "white",
            "gridwidth": 2,
            "linecolor": "white",
            "showbackground": true,
            "ticks": "",
            "zerolinecolor": "white"
           }
          },
          "shapedefaults": {
           "line": {
            "color": "#2a3f5f"
           }
          },
          "ternary": {
           "aaxis": {
            "gridcolor": "white",
            "linecolor": "white",
            "ticks": ""
           },
           "baxis": {
            "gridcolor": "white",
            "linecolor": "white",
            "ticks": ""
           },
           "bgcolor": "#E5ECF6",
           "caxis": {
            "gridcolor": "white",
            "linecolor": "white",
            "ticks": ""
           }
          },
          "title": {
           "x": 0.05
          },
          "xaxis": {
           "automargin": true,
           "gridcolor": "white",
           "linecolor": "white",
           "ticks": "",
           "title": {
            "standoff": 15
           },
           "zerolinecolor": "white",
           "zerolinewidth": 2
          },
          "yaxis": {
           "automargin": true,
           "gridcolor": "white",
           "linecolor": "white",
           "ticks": "",
           "title": {
            "standoff": 15
           },
           "zerolinecolor": "white",
           "zerolinewidth": 2
          }
         }
        }
       }
      },
      "text/html": [
       "<div>                        <script type=\"text/javascript\">window.PlotlyConfig = {MathJaxConfig: 'local'};</script>\n",
       "        <script charset=\"utf-8\" src=\"https://cdn.plot.ly/plotly-3.0.0.min.js\"></script>                <div id=\"03ab446e-a43a-4691-8d54-d3cfb97f27b9\" class=\"plotly-graph-div\" style=\"height:100%; width:100%;\"></div>            <script type=\"text/javascript\">                window.PLOTLYENV=window.PLOTLYENV || {};                                if (document.getElementById(\"03ab446e-a43a-4691-8d54-d3cfb97f27b9\")) {                    Plotly.newPlot(                        \"03ab446e-a43a-4691-8d54-d3cfb97f27b9\",                        [{\"hovertemplate\":\"fueltype=gas\\u003cbr\\u003ehorsepower=%{x}\\u003cbr\\u003eprice=%{y}\\u003cbr\\u003ecarlength=%{z}\\u003cextra\\u003e\\u003c\\u002fextra\\u003e\",\"legendgroup\":\"gas\",\"marker\":{\"color\":\"#636efa\",\"symbol\":\"circle\"},\"mode\":\"markers\",\"name\":\"gas\",\"scene\":\"scene\",\"showlegend\":true,\"x\":{\"dtype\":\"i2\",\"bdata\":\"bwBvAJoAZgBzAG4AbgBuAIwAoABlAGUAeQB5AHkAtgC2ALYAMABGAEYARABEAGYARABEAEQAZgBYAJEAOgBMADwATABMAEwATABWAFYAVgBWAGUAZABOAEYARgBaALAAsAAGAUQARABEAEQARABlAGUAZQCHAFQAVABUAFQAVAB4AJsAmwC4ALgArwBEAEQARABmAHQAWACRAJEAkQBYAFgAdAB0AEUARQBFAEUARQBFAEUARQBFAGEAYQCYAJgAmACgAMgAoABhAGEAXwBfAGEAjgBEAGYARABEAEQAWACRAI8AzwDPAM8AIAFaAFoAbgBuAG4AbgCgAKAARQBJAEkAUgBSAF4AUgBvAFIAXgBSAG8APgA+AD4APgA+AD4ARgBGAEYARgBGAEYARgBwAHAAdAB0AHQAdAB0AHQAXABcAFwAXAChAKEAnACcAFUAVQBVAGQAWgBaAG4AWAByAHIAcgByAKIAogByAKAAhgByAA==\"},\"y\":{\"dtype\":\"f8\",\"bdata\":\"AAAAAIBbykAAAAAAAB3QQAAAAAAAHdBAAAAAAAA\\u002fy0AAAAAAgArRQAAAAAAAyc1AAAAAAIBL0UAAAAAAAHrSQAAAAADAUNdAnMQgsMpw0UAAAAAAgAvQQAAAAABAh9BAAAAAAIB61EAAAAAAQJzUQAAAAABA\\u002fddAAAAAAAAK3kAAAAAAYCzkQAAAAAAAAuJAAAAAAAAftEAAAAAAAJe4QAAAAAAAr7lAAAAAAADEtUAAAAAAAOm4QAAAAAAAFb9AAAAAAABVuEAAAAAAACS6QAAAAAAAub1AAAAAAAC3wEAAAAAAgGzBQAAAAAAAUslAAAAAAABPuUAAAAAAAMe6QAAAAAAAF7VAAAAAAACBuUAAAAAAANm7QAAAAAAAf7xAAAAAAAB\\u002fvEAAAAAAANe+QAAAAACAw8FAAAAAAIBGwUAAAAAAgBvEQAAAAACASMlAAAAAAIA0xEAAAAAAAIG6QAAAAABAasFAAAAAAEBqwUAAAAAAAJTFQAAAAACAft9AAAAAAMBb4UAAAAAAAJThQAAAAAAAS7RAAAAAAADPt0AAAAAAAIu6QAAAAAAAJ7pAAAAAAADjvEAAAAAAgGDFQAAAAACAIsdAAAAAAICmykAAAAAAgI7OQAAAAACARsFAAAAAAICXwEAAAAAAgLHEQAAAAACAAsRAAAAAAID2xUAAAAAAANrRQAAAAAAAseBAAAAAAAAe4UAAAAAAAADkQAAAAAAAK+ZAAAAAAMAd0EAAAAAAAA21QAAAAAAALbhAAAAAAAANukAAAAAAAAm+QAAAAACAc8NAAAAAAICZwEAAAAAAgKrIQAAAAACACs1AAAAAAIBMzEAAAAAAAE27QAAAAAAA\\u002fb9AAAAAAIAfwkAAAAAAgB\\u002fCQAAAAAAAe7VAAAAAAAD5uUAAAAAAAMG6QAAAAAAAtbxAAAAAAACDvEAAAAAAAHe+QAAAAAAAS71AAAAAAAA\\u002fv0AAAAAAgBzAQAAAAACAesFAAAAAAICmwkAAAAAAgF3KQAAAAACAH8xAAAAAAIBdykAAAAAAwMvQQAAAAADAPNNAAAAAAMD30UAAAAAAAD7HQAAAAAAATMhAAAAAAABuzkAAAAAAwE3QQAAAAACAPdBAAAAAAIC50UAAAAAAAMS1QAAAAAAAFb9AAAAAAABVuEAAAAAAACS6QAAAAAAAub1AAAAAAIBswUAAAAAAAO7IQAAAAACAgNVAAAAAAADE30AAAAAAgJ3gQAAAAACAFOJAAAAAACCq3kAAAAAAgCfCQAAAAACAU8NAAAAAAAAlx0AAAAAAAMXHQAAAAAAAYM1AAAAAAABLzkAAAAAAgLnRQAAAAAAAL9JAAAAAAAD+s0AAAAAAAI27QAAAAAAAs71AAAAAAADWu0AAAAAAAF++QAAAAAAAdMNAAAAAAIAIwkAAAAAAgP3FQAAAAAAAJ71AAAAAAADrw0AAAAAAAE2\\u002fQAAAAAAA18ZAAAAAAADktEAAAAAAAMK4QAAAAAAAWLlAAAAAAAAGu0AAAAAAANq+QAAAAAAAJcFAAAAAAAAau0AAAAAAAB68QAAAAAAAOr5AAAAAAABTwEAAAAAAABXCQAAAAAAAer9AAAAAAAAXwEAAAAAAACnCQAAAAAAAocJAAAAAAICAwEAAAAAAgNPCQAAAAACAgsNAAAAAAIDfxUAAAAAAgI7GQAAAAABAQdFAAAAAAAB6wUAAAAAAAILDQAAAAAAAScVAAAAAAAD4xUAAAAAAgCvQQAAAAAAAP89AAAAAAAClzkAAAAAAAMPOQAAAAAAAJ79AAAAAAIABwEAAAAAAgJfAQAAAAACAhcNAAAAAAIClxkAAAAAAAH7DQAAAAACA98lAAAAAAAAByEAAAAAAAEbJQAAAAACAM8pAAAAAAIA4z0AAAAAAwCDQQAAAAAAA\\u002fdFAAAAAAICB0kAAAAAAQHPQQAAAAABAmdJAAAAAAED71EAAAAAAQBjWQA==\"},\"z\":{\"dtype\":\"f8\",\"bdata\":\"mpmZmZkZZUCamZmZmRllQGZmZmZmZmVAMzMzMzMTZkAzMzMzMxNmQJqZmZmZKWZAZmZmZmYWaEBmZmZmZhZoQGZmZmZmFmhAZmZmZmZGZkCamZmZmRlmQJqZmZmZGWZAmpmZmZkZZkCamZmZmRlmQAAAAAAAoGdAAAAAAACgZ0CamZmZmTloQAAAAAAAoGhAMzMzMzOjYUDNzMzMzHxjQJqZmZmZ2WNAmpmZmZmpY0CamZmZmaljQJqZmZmZqWNAmpmZmZmpY0CamZmZmaljQJqZmZmZqWNAmpmZmZmpY0AzMzMzM9NlQGZmZmZmpmVAMzMzMzMTYkAzMzMzMxNiQAAAAAAAwGJAAAAAAADAYkAAAAAAAMBiQM3MzMzMbGRAMzMzMzOjY0AAAAAAAPBkQAAAAAAA8GRAzczMzMzsZUDNzMzMzOxlQM3MzMzM7GVAMzMzMzMjZUBmZmZmZlZlQM3MzMzMfGNAzczMzMx8Y0AzMzMzM5NlQDMzMzMz82hAMzMzMzPzaEBmZmZmZvZnQDMzMzMz42NAMzMzMzPjY0AzMzMzM+NjQJqZmZmZ2WRAmpmZmZnZZEAAAAAAACBlQAAAAAAAIGVAAAAAAAAgZUAAAAAAACBlQJqZmZmZOWZAmpmZmZk5ZkCamZmZmTlmQJqZmZmZOWZAmpmZmZk5ZkAAAAAAAOBlQDMzMzMzU2lAmpmZmZmJZkAzMzMzMwNqQGZmZmZm5mhAzczMzMxMZkCamZmZmaljQJqZmZmZqWNAmpmZmZmpY0CamZmZmaljQAAAAAAAoGVAAAAAAACgZUBmZmZmZqZlQGZmZmZmpmVAZmZmZmamZUDNzMzMzIxlQM3MzMzMjGVAzczMzMyMZUDNzMzMzIxlQJqZmZmZqWRAmpmZmZmpZECamZmZmalkQGZmZmZmRmVAmpmZmZmpZEAzMzMzM7NkQJqZmZmZqWRAZmZmZmZGZUDNzMzMzExkQM3MzMzMrGVAzczMzMysZUBmZmZmZrZmQDMzMzMzE2dAMzMzMzMTZ0BmZmZmZlZlQGZmZmZmVmVAAAAAAABQZkBmZmZmZlZnQM3MzMzM3GhAZmZmZmZWZ0DNzMzMzNxoQGZmZmZmVmdAZmZmZmZWZ0CamZmZmaljQJqZmZmZqWNAmpmZmZmpY0CamZmZmelkQJqZmZmZ6WRAMzMzMzPTZUBmZmZmZqZlQM3MzMzMHGVAzczMzMwcZUDNzMzMzBxlQM3MzMzMHGVAZmZmZmb2ZUAAAAAAALBmQJqZmZmZGWZAMzMzMzNTZ0AzMzMzM1NnQDMzMzMzU2dAMzMzMzNTZ0AzMzMzM1NnQDMzMzMzU2dAzczMzMycY0DNzMzMzLxjQJqZmZmZqWNAAAAAAACAZUAAAAAAAIBlQAAAAAAAgGVAAAAAAACAZUAAAAAAAIBlQAAAAAAAsGVAAAAAAACwZUAzMzMzM7NlQDMzMzMzs2VAZmZmZmbWY0BmZmZmZtZjQGZmZmZm1mNAZmZmZmY2ZUBmZmZmZjZlQGZmZmZmNmVAmpmZmZnJZECamZmZmclkQJqZmZmZyWRAmpmZmZnJZECamZmZmclkQGZmZmZmFmVAZmZmZmYWZUBmZmZmZhZlQGZmZmZmFmVAZmZmZmYGZkBmZmZmZgZmQGZmZmZmBmZAZmZmZmYGZkBmZmZmZgZmQGZmZmZmBmZAMzMzMzPzZUAzMzMzM\\u002fNlQDMzMzMz82VAMzMzMzPzZUAAAAAAAPBmQAAAAAAA8GZAmpmZmZl5Z0CamZmZmXlnQGZmZmZmdmVAZmZmZmZ2ZUBmZmZmZnZlQGZmZmZmdmVAmpmZmZnpY0BmZmZmZrZkQGZmZmZmhmZAMzMzMzPjZkCamZmZmZlnQJqZmZmZmWdAmpmZmZmZZ0CamZmZmZlnQJqZmZmZmWdAmpmZmZmZZ0CamZmZmZlnQJqZmZmZmWdAmpmZmZmZZ0CamZmZmZlnQA==\"},\"type\":\"scatter3d\"},{\"hovertemplate\":\"fueltype=diesel\\u003cbr\\u003ehorsepower=%{x}\\u003cbr\\u003eprice=%{y}\\u003cbr\\u003ecarlength=%{z}\\u003cextra\\u003e\\u003c\\u002fextra\\u003e\",\"legendgroup\":\"diesel\",\"marker\":{\"color\":\"#EF553B\",\"symbol\":\"circle\"},\"mode\":\"markers\",\"name\":\"diesel\",\"scene\":\"scene\",\"showlegend\":true,\"x\":{\"dtype\":\"i1\",\"bdata\":\"QEh7e3t7N19fX19fODhJNDRERGo=\"},\"y\":{\"dtype\":\"f8\",\"bdata\":\"AAAAAIAVxUAAAAAAAOrRQAAAAAAA9NhAAAAAAACW20AAAAAAAITbQAAAAAAA3N5AAAAAAAC7u0AAAAAAAMjJQAAAAAAAEstAAAAAAACB0EAAAAAAwKzQQAAAAACAh9FAAAAAAADavkAAAAAAAGy+QAAAAAAA5cRAAAAAAABfvkAAAAAAADu\\u002fQAAAAACAi8JAAAAAAIAKy0AAAAAAgPHVQA==\"},\"z\":{\"dtype\":\"f8\",\"bdata\":\"mpmZmZk5ZkAAAAAAAOBlQM3MzMzM3GdAzczMzMzcZ0AAAAAAAHBnQDMzMzMzU2lAmpmZmZmpZEBmZmZmZlZnQM3MzMzM3GhAZmZmZmZWZ0DNzMzMzNxoQGZmZmZmVmdAmpmZmZnJZECamZmZmclkQDMzMzMz82VAZmZmZmZ2ZUBmZmZmZnZlQGZmZmZmdmVAZmZmZmaGZkCamZmZmZlnQA==\"},\"type\":\"scatter3d\"}],                        {\"template\":{\"data\":{\"histogram2dcontour\":[{\"type\":\"histogram2dcontour\",\"colorbar\":{\"outlinewidth\":0,\"ticks\":\"\"},\"colorscale\":[[0.0,\"#0d0887\"],[0.1111111111111111,\"#46039f\"],[0.2222222222222222,\"#7201a8\"],[0.3333333333333333,\"#9c179e\"],[0.4444444444444444,\"#bd3786\"],[0.5555555555555556,\"#d8576b\"],[0.6666666666666666,\"#ed7953\"],[0.7777777777777778,\"#fb9f3a\"],[0.8888888888888888,\"#fdca26\"],[1.0,\"#f0f921\"]]}],\"choropleth\":[{\"type\":\"choropleth\",\"colorbar\":{\"outlinewidth\":0,\"ticks\":\"\"}}],\"histogram2d\":[{\"type\":\"histogram2d\",\"colorbar\":{\"outlinewidth\":0,\"ticks\":\"\"},\"colorscale\":[[0.0,\"#0d0887\"],[0.1111111111111111,\"#46039f\"],[0.2222222222222222,\"#7201a8\"],[0.3333333333333333,\"#9c179e\"],[0.4444444444444444,\"#bd3786\"],[0.5555555555555556,\"#d8576b\"],[0.6666666666666666,\"#ed7953\"],[0.7777777777777778,\"#fb9f3a\"],[0.8888888888888888,\"#fdca26\"],[1.0,\"#f0f921\"]]}],\"heatmap\":[{\"type\":\"heatmap\",\"colorbar\":{\"outlinewidth\":0,\"ticks\":\"\"},\"colorscale\":[[0.0,\"#0d0887\"],[0.1111111111111111,\"#46039f\"],[0.2222222222222222,\"#7201a8\"],[0.3333333333333333,\"#9c179e\"],[0.4444444444444444,\"#bd3786\"],[0.5555555555555556,\"#d8576b\"],[0.6666666666666666,\"#ed7953\"],[0.7777777777777778,\"#fb9f3a\"],[0.8888888888888888,\"#fdca26\"],[1.0,\"#f0f921\"]]}],\"contourcarpet\":[{\"type\":\"contourcarpet\",\"colorbar\":{\"outlinewidth\":0,\"ticks\":\"\"}}],\"contour\":[{\"type\":\"contour\",\"colorbar\":{\"outlinewidth\":0,\"ticks\":\"\"},\"colorscale\":[[0.0,\"#0d0887\"],[0.1111111111111111,\"#46039f\"],[0.2222222222222222,\"#7201a8\"],[0.3333333333333333,\"#9c179e\"],[0.4444444444444444,\"#bd3786\"],[0.5555555555555556,\"#d8576b\"],[0.6666666666666666,\"#ed7953\"],[0.7777777777777778,\"#fb9f3a\"],[0.8888888888888888,\"#fdca26\"],[1.0,\"#f0f921\"]]}],\"surface\":[{\"type\":\"surface\",\"colorbar\":{\"outlinewidth\":0,\"ticks\":\"\"},\"colorscale\":[[0.0,\"#0d0887\"],[0.1111111111111111,\"#46039f\"],[0.2222222222222222,\"#7201a8\"],[0.3333333333333333,\"#9c179e\"],[0.4444444444444444,\"#bd3786\"],[0.5555555555555556,\"#d8576b\"],[0.6666666666666666,\"#ed7953\"],[0.7777777777777778,\"#fb9f3a\"],[0.8888888888888888,\"#fdca26\"],[1.0,\"#f0f921\"]]}],\"mesh3d\":[{\"type\":\"mesh3d\",\"colorbar\":{\"outlinewidth\":0,\"ticks\":\"\"}}],\"scatter\":[{\"fillpattern\":{\"fillmode\":\"overlay\",\"size\":10,\"solidity\":0.2},\"type\":\"scatter\"}],\"parcoords\":[{\"type\":\"parcoords\",\"line\":{\"colorbar\":{\"outlinewidth\":0,\"ticks\":\"\"}}}],\"scatterpolargl\":[{\"type\":\"scatterpolargl\",\"marker\":{\"colorbar\":{\"outlinewidth\":0,\"ticks\":\"\"}}}],\"bar\":[{\"error_x\":{\"color\":\"#2a3f5f\"},\"error_y\":{\"color\":\"#2a3f5f\"},\"marker\":{\"line\":{\"color\":\"#E5ECF6\",\"width\":0.5},\"pattern\":{\"fillmode\":\"overlay\",\"size\":10,\"solidity\":0.2}},\"type\":\"bar\"}],\"scattergeo\":[{\"type\":\"scattergeo\",\"marker\":{\"colorbar\":{\"outlinewidth\":0,\"ticks\":\"\"}}}],\"scatterpolar\":[{\"type\":\"scatterpolar\",\"marker\":{\"colorbar\":{\"outlinewidth\":0,\"ticks\":\"\"}}}],\"histogram\":[{\"marker\":{\"pattern\":{\"fillmode\":\"overlay\",\"size\":10,\"solidity\":0.2}},\"type\":\"histogram\"}],\"scattergl\":[{\"type\":\"scattergl\",\"marker\":{\"colorbar\":{\"outlinewidth\":0,\"ticks\":\"\"}}}],\"scatter3d\":[{\"type\":\"scatter3d\",\"line\":{\"colorbar\":{\"outlinewidth\":0,\"ticks\":\"\"}},\"marker\":{\"colorbar\":{\"outlinewidth\":0,\"ticks\":\"\"}}}],\"scattermap\":[{\"type\":\"scattermap\",\"marker\":{\"colorbar\":{\"outlinewidth\":0,\"ticks\":\"\"}}}],\"scattermapbox\":[{\"type\":\"scattermapbox\",\"marker\":{\"colorbar\":{\"outlinewidth\":0,\"ticks\":\"\"}}}],\"scatterternary\":[{\"type\":\"scatterternary\",\"marker\":{\"colorbar\":{\"outlinewidth\":0,\"ticks\":\"\"}}}],\"scattercarpet\":[{\"type\":\"scattercarpet\",\"marker\":{\"colorbar\":{\"outlinewidth\":0,\"ticks\":\"\"}}}],\"carpet\":[{\"aaxis\":{\"endlinecolor\":\"#2a3f5f\",\"gridcolor\":\"white\",\"linecolor\":\"white\",\"minorgridcolor\":\"white\",\"startlinecolor\":\"#2a3f5f\"},\"baxis\":{\"endlinecolor\":\"#2a3f5f\",\"gridcolor\":\"white\",\"linecolor\":\"white\",\"minorgridcolor\":\"white\",\"startlinecolor\":\"#2a3f5f\"},\"type\":\"carpet\"}],\"table\":[{\"cells\":{\"fill\":{\"color\":\"#EBF0F8\"},\"line\":{\"color\":\"white\"}},\"header\":{\"fill\":{\"color\":\"#C8D4E3\"},\"line\":{\"color\":\"white\"}},\"type\":\"table\"}],\"barpolar\":[{\"marker\":{\"line\":{\"color\":\"#E5ECF6\",\"width\":0.5},\"pattern\":{\"fillmode\":\"overlay\",\"size\":10,\"solidity\":0.2}},\"type\":\"barpolar\"}],\"pie\":[{\"automargin\":true,\"type\":\"pie\"}]},\"layout\":{\"autotypenumbers\":\"strict\",\"colorway\":[\"#636efa\",\"#EF553B\",\"#00cc96\",\"#ab63fa\",\"#FFA15A\",\"#19d3f3\",\"#FF6692\",\"#B6E880\",\"#FF97FF\",\"#FECB52\"],\"font\":{\"color\":\"#2a3f5f\"},\"hovermode\":\"closest\",\"hoverlabel\":{\"align\":\"left\"},\"paper_bgcolor\":\"white\",\"plot_bgcolor\":\"#E5ECF6\",\"polar\":{\"bgcolor\":\"#E5ECF6\",\"angularaxis\":{\"gridcolor\":\"white\",\"linecolor\":\"white\",\"ticks\":\"\"},\"radialaxis\":{\"gridcolor\":\"white\",\"linecolor\":\"white\",\"ticks\":\"\"}},\"ternary\":{\"bgcolor\":\"#E5ECF6\",\"aaxis\":{\"gridcolor\":\"white\",\"linecolor\":\"white\",\"ticks\":\"\"},\"baxis\":{\"gridcolor\":\"white\",\"linecolor\":\"white\",\"ticks\":\"\"},\"caxis\":{\"gridcolor\":\"white\",\"linecolor\":\"white\",\"ticks\":\"\"}},\"coloraxis\":{\"colorbar\":{\"outlinewidth\":0,\"ticks\":\"\"}},\"colorscale\":{\"sequential\":[[0.0,\"#0d0887\"],[0.1111111111111111,\"#46039f\"],[0.2222222222222222,\"#7201a8\"],[0.3333333333333333,\"#9c179e\"],[0.4444444444444444,\"#bd3786\"],[0.5555555555555556,\"#d8576b\"],[0.6666666666666666,\"#ed7953\"],[0.7777777777777778,\"#fb9f3a\"],[0.8888888888888888,\"#fdca26\"],[1.0,\"#f0f921\"]],\"sequentialminus\":[[0.0,\"#0d0887\"],[0.1111111111111111,\"#46039f\"],[0.2222222222222222,\"#7201a8\"],[0.3333333333333333,\"#9c179e\"],[0.4444444444444444,\"#bd3786\"],[0.5555555555555556,\"#d8576b\"],[0.6666666666666666,\"#ed7953\"],[0.7777777777777778,\"#fb9f3a\"],[0.8888888888888888,\"#fdca26\"],[1.0,\"#f0f921\"]],\"diverging\":[[0,\"#8e0152\"],[0.1,\"#c51b7d\"],[0.2,\"#de77ae\"],[0.3,\"#f1b6da\"],[0.4,\"#fde0ef\"],[0.5,\"#f7f7f7\"],[0.6,\"#e6f5d0\"],[0.7,\"#b8e186\"],[0.8,\"#7fbc41\"],[0.9,\"#4d9221\"],[1,\"#276419\"]]},\"xaxis\":{\"gridcolor\":\"white\",\"linecolor\":\"white\",\"ticks\":\"\",\"title\":{\"standoff\":15},\"zerolinecolor\":\"white\",\"automargin\":true,\"zerolinewidth\":2},\"yaxis\":{\"gridcolor\":\"white\",\"linecolor\":\"white\",\"ticks\":\"\",\"title\":{\"standoff\":15},\"zerolinecolor\":\"white\",\"automargin\":true,\"zerolinewidth\":2},\"scene\":{\"xaxis\":{\"backgroundcolor\":\"#E5ECF6\",\"gridcolor\":\"white\",\"linecolor\":\"white\",\"showbackground\":true,\"ticks\":\"\",\"zerolinecolor\":\"white\",\"gridwidth\":2},\"yaxis\":{\"backgroundcolor\":\"#E5ECF6\",\"gridcolor\":\"white\",\"linecolor\":\"white\",\"showbackground\":true,\"ticks\":\"\",\"zerolinecolor\":\"white\",\"gridwidth\":2},\"zaxis\":{\"backgroundcolor\":\"#E5ECF6\",\"gridcolor\":\"white\",\"linecolor\":\"white\",\"showbackground\":true,\"ticks\":\"\",\"zerolinecolor\":\"white\",\"gridwidth\":2}},\"shapedefaults\":{\"line\":{\"color\":\"#2a3f5f\"}},\"annotationdefaults\":{\"arrowcolor\":\"#2a3f5f\",\"arrowhead\":0,\"arrowwidth\":1},\"geo\":{\"bgcolor\":\"white\",\"landcolor\":\"#E5ECF6\",\"subunitcolor\":\"white\",\"showland\":true,\"showlakes\":true,\"lakecolor\":\"white\"},\"title\":{\"x\":0.05},\"mapbox\":{\"style\":\"light\"}}},\"scene\":{\"domain\":{\"x\":[0.0,1.0],\"y\":[0.0,1.0]},\"xaxis\":{\"title\":{\"text\":\"horsepower\"}},\"yaxis\":{\"title\":{\"text\":\"price\"}},\"zaxis\":{\"title\":{\"text\":\"carlength\"}}},\"legend\":{\"title\":{\"text\":\"fueltype\"},\"tracegroupgap\":0},\"margin\":{\"t\":60}},                        {\"responsive\": true}                    )                };            </script>        </div>"
      ],
      "text/plain": [
       "Figure({\n",
       "    'data': [{'hovertemplate': 'fueltype=gas<br>horsepower=%{x}<br>price=%{y}<br>carlength=%{z}<extra></extra>',\n",
       "              'legendgroup': 'gas',\n",
       "              'marker': {'color': '#636efa', 'symbol': 'circle'},\n",
       "              'mode': 'markers',\n",
       "              'name': 'gas',\n",
       "              'scene': 'scene',\n",
       "              'showlegend': True,\n",
       "              'type': 'scatter3d',\n",
       "              'x': {'bdata': ('bwBvAJoAZgBzAG4AbgBuAIwAoABlAG' ... 'ByAHIAcgByAKIAogByAKAAhgByAA=='),\n",
       "                    'dtype': 'i2'},\n",
       "              'y': {'bdata': ('AAAAAIBbykAAAAAAAB3QQAAAAAAAHd' ... 'BAmdJAAAAAAED71EAAAAAAQBjWQA=='),\n",
       "                    'dtype': 'f8'},\n",
       "              'z': {'bdata': ('mpmZmZkZZUCamZmZmRllQGZmZmZmZm' ... 'mZmWdAmpmZmZmZZ0CamZmZmZlnQA=='),\n",
       "                    'dtype': 'f8'}},\n",
       "             {'hovertemplate': ('fueltype=diesel<br>horsepower=' ... '>carlength=%{z}<extra></extra>'),\n",
       "              'legendgroup': 'diesel',\n",
       "              'marker': {'color': '#EF553B', 'symbol': 'circle'},\n",
       "              'mode': 'markers',\n",
       "              'name': 'diesel',\n",
       "              'scene': 'scene',\n",
       "              'showlegend': True,\n",
       "              'type': 'scatter3d',\n",
       "              'x': {'bdata': 'QEh7e3t7N19fX19fODhJNDRERGo=', 'dtype': 'i1'},\n",
       "              'y': {'bdata': ('AAAAAIAVxUAAAAAAAOrRQAAAAAAA9N' ... 'CAi8JAAAAAAIAKy0AAAAAAgPHVQA=='),\n",
       "                    'dtype': 'f8'},\n",
       "              'z': {'bdata': ('mpmZmZk5ZkAAAAAAAOBlQM3MzMzM3G' ... 'ZmdmVAZmZmZmaGZkCamZmZmZlnQA=='),\n",
       "                    'dtype': 'f8'}}],\n",
       "    'layout': {'legend': {'title': {'text': 'fueltype'}, 'tracegroupgap': 0},\n",
       "               'margin': {'t': 60},\n",
       "               'scene': {'domain': {'x': [0.0, 1.0], 'y': [0.0, 1.0]},\n",
       "                         'xaxis': {'title': {'text': 'horsepower'}},\n",
       "                         'yaxis': {'title': {'text': 'price'}},\n",
       "                         'zaxis': {'title': {'text': 'carlength'}}},\n",
       "               'template': '...'}\n",
       "})"
      ]
     },
     "execution_count": 54,
     "metadata": {},
     "output_type": "execute_result"
    }
   ],
   "source": [
    "px.scatter_3d(data_frame = df , x = \"horsepower\" , y = \"price\" , z = \"carlength\" , color = \"fueltype\")"
   ]
  },
  {
   "cell_type": "code",
   "execution_count": 55,
   "metadata": {},
   "outputs": [
    {
     "ename": "ModuleNotFoundError",
     "evalue": "No module named 'pkg_resources'",
     "output_type": "error",
     "traceback": [
      "\u001b[1;31m---------------------------------------------------------------------------\u001b[0m",
      "\u001b[1;31mModuleNotFoundError\u001b[0m                       Traceback (most recent call last)",
      "Cell \u001b[1;32mIn[55], line 1\u001b[0m\n\u001b[1;32m----> 1\u001b[0m \u001b[38;5;28;01mfrom\u001b[39;00m\u001b[38;5;250m \u001b[39m\u001b[38;5;21;01mydata_profiling\u001b[39;00m\u001b[38;5;250m \u001b[39m\u001b[38;5;28;01mimport\u001b[39;00m profile\n",
      "File \u001b[1;32m~\\AppData\\Local\\Packages\\PythonSoftwareFoundation.Python.3.12_qbz5n2kfra8p0\\LocalCache\\local-packages\\Python312\\site-packages\\ydata_profiling\\__init__.py:10\u001b[0m\n\u001b[0;32m      6\u001b[0m \u001b[38;5;28;01mimport\u001b[39;00m\u001b[38;5;250m \u001b[39m\u001b[38;5;21;01mwarnings\u001b[39;00m  \u001b[38;5;66;03m# isort:skip # noqa\u001b[39;00m\n\u001b[0;32m      8\u001b[0m \u001b[38;5;28;01mimport\u001b[39;00m\u001b[38;5;250m \u001b[39m\u001b[38;5;21;01mimportlib\u001b[39;00m\u001b[38;5;21;01m.\u001b[39;00m\u001b[38;5;21;01mutil\u001b[39;00m  \u001b[38;5;66;03m# isort:skip # noqa\u001b[39;00m\n\u001b[1;32m---> 10\u001b[0m \u001b[38;5;28;01mfrom\u001b[39;00m\u001b[38;5;250m \u001b[39m\u001b[38;5;21;01mydata_profiling\u001b[39;00m\u001b[38;5;21;01m.\u001b[39;00m\u001b[38;5;21;01mcompare_reports\u001b[39;00m\u001b[38;5;250m \u001b[39m\u001b[38;5;28;01mimport\u001b[39;00m compare  \u001b[38;5;66;03m# isort:skip # noqa\u001b[39;00m\n\u001b[0;32m     11\u001b[0m \u001b[38;5;28;01mfrom\u001b[39;00m\u001b[38;5;250m \u001b[39m\u001b[38;5;21;01mydata_profiling\u001b[39;00m\u001b[38;5;21;01m.\u001b[39;00m\u001b[38;5;21;01mcontroller\u001b[39;00m\u001b[38;5;250m \u001b[39m\u001b[38;5;28;01mimport\u001b[39;00m pandas_decorator  \u001b[38;5;66;03m# isort:skip # noqa\u001b[39;00m\n\u001b[0;32m     12\u001b[0m \u001b[38;5;28;01mfrom\u001b[39;00m\u001b[38;5;250m \u001b[39m\u001b[38;5;21;01mydata_profiling\u001b[39;00m\u001b[38;5;21;01m.\u001b[39;00m\u001b[38;5;21;01mprofile_report\u001b[39;00m\u001b[38;5;250m \u001b[39m\u001b[38;5;28;01mimport\u001b[39;00m ProfileReport  \u001b[38;5;66;03m# isort:skip # noqa\u001b[39;00m\n",
      "File \u001b[1;32m~\\AppData\\Local\\Packages\\PythonSoftwareFoundation.Python.3.12_qbz5n2kfra8p0\\LocalCache\\local-packages\\Python312\\site-packages\\ydata_profiling\\compare_reports.py:12\u001b[0m\n\u001b[0;32m     10\u001b[0m \u001b[38;5;28;01mfrom\u001b[39;00m\u001b[38;5;250m \u001b[39m\u001b[38;5;21;01mydata_profiling\u001b[39;00m\u001b[38;5;21;01m.\u001b[39;00m\u001b[38;5;21;01mmodel\u001b[39;00m\u001b[38;5;250m \u001b[39m\u001b[38;5;28;01mimport\u001b[39;00m BaseDescription\n\u001b[0;32m     11\u001b[0m \u001b[38;5;28;01mfrom\u001b[39;00m\u001b[38;5;250m \u001b[39m\u001b[38;5;21;01mydata_profiling\u001b[39;00m\u001b[38;5;21;01m.\u001b[39;00m\u001b[38;5;21;01mmodel\u001b[39;00m\u001b[38;5;21;01m.\u001b[39;00m\u001b[38;5;21;01malerts\u001b[39;00m\u001b[38;5;250m \u001b[39m\u001b[38;5;28;01mimport\u001b[39;00m Alert\n\u001b[1;32m---> 12\u001b[0m \u001b[38;5;28;01mfrom\u001b[39;00m\u001b[38;5;250m \u001b[39m\u001b[38;5;21;01mydata_profiling\u001b[39;00m\u001b[38;5;21;01m.\u001b[39;00m\u001b[38;5;21;01mprofile_report\u001b[39;00m\u001b[38;5;250m \u001b[39m\u001b[38;5;28;01mimport\u001b[39;00m ProfileReport\n\u001b[0;32m     15\u001b[0m \u001b[38;5;28;01mdef\u001b[39;00m\u001b[38;5;250m \u001b[39m\u001b[38;5;21m_should_wrap\u001b[39m(v1: Any, v2: Any) \u001b[38;5;241m-\u001b[39m\u001b[38;5;241m>\u001b[39m \u001b[38;5;28mbool\u001b[39m:\n\u001b[0;32m     16\u001b[0m     \u001b[38;5;28;01mif\u001b[39;00m \u001b[38;5;28misinstance\u001b[39m(v1, (\u001b[38;5;28mlist\u001b[39m, \u001b[38;5;28mdict\u001b[39m)):\n",
      "File \u001b[1;32m~\\AppData\\Local\\Packages\\PythonSoftwareFoundation.Python.3.12_qbz5n2kfra8p0\\LocalCache\\local-packages\\Python312\\site-packages\\ydata_profiling\\profile_report.py:9\u001b[0m\n\u001b[0;32m      7\u001b[0m \u001b[38;5;28;01mwith\u001b[39;00m warnings\u001b[38;5;241m.\u001b[39mcatch_warnings():\n\u001b[0;32m      8\u001b[0m     warnings\u001b[38;5;241m.\u001b[39msimplefilter(\u001b[38;5;124m\"\u001b[39m\u001b[38;5;124mignore\u001b[39m\u001b[38;5;124m\"\u001b[39m)\n\u001b[1;32m----> 9\u001b[0m     \u001b[38;5;28;01mimport\u001b[39;00m\u001b[38;5;250m \u001b[39m\u001b[38;5;21;01mpkg_resources\u001b[39;00m\n\u001b[0;32m     11\u001b[0m \u001b[38;5;28;01mtry\u001b[39;00m:\n\u001b[0;32m     12\u001b[0m     \u001b[38;5;28;01mfrom\u001b[39;00m\u001b[38;5;250m \u001b[39m\u001b[38;5;21;01mpyspark\u001b[39;00m\u001b[38;5;21;01m.\u001b[39;00m\u001b[38;5;21;01msql\u001b[39;00m\u001b[38;5;250m \u001b[39m\u001b[38;5;28;01mimport\u001b[39;00m DataFrame \u001b[38;5;28;01mas\u001b[39;00m sDataFrame\n",
      "\u001b[1;31mModuleNotFoundError\u001b[0m: No module named 'pkg_resources'"
     ]
    }
   ],
   "source": [
    "from ydata_profiling import profile"
   ]
  },
  {
   "cell_type": "code",
   "execution_count": null,
   "metadata": {},
   "outputs": [
    {
     "ename": "NameError",
     "evalue": "name 'ProfileReport' is not defined",
     "output_type": "error",
     "traceback": [
      "\u001b[1;31m---------------------------------------------------------------------------\u001b[0m",
      "\u001b[1;31mNameError\u001b[0m                                 Traceback (most recent call last)",
      "Cell \u001b[1;32mIn[119], line 1\u001b[0m\n\u001b[1;32m----> 1\u001b[0m profile \u001b[38;5;241m=\u001b[39m \u001b[43mProfileReport\u001b[49m(df, title\u001b[38;5;241m=\u001b[39m\u001b[38;5;124m\"\u001b[39m\u001b[38;5;124mProfiling Report\u001b[39m\u001b[38;5;124m\"\u001b[39m)\n",
      "\u001b[1;31mNameError\u001b[0m: name 'ProfileReport' is not defined"
     ]
    }
   ],
   "source": [
    "profile = ProfileReport(df, title=\"Profiling Report\")"
   ]
  },
  {
   "cell_type": "code",
   "execution_count": null,
   "metadata": {},
   "outputs": [],
   "source": [
    "profile"
   ]
  },
  {
   "cell_type": "code",
   "execution_count": null,
   "metadata": {},
   "outputs": [],
   "source": [
    "profile.to_file(\"test_repo.html\")"
   ]
  }
 ],
 "metadata": {
  "kernelspec": {
   "display_name": "Python 3",
   "language": "python",
   "name": "python3"
  },
  "language_info": {
   "codemirror_mode": {
    "name": "ipython",
    "version": 3
   },
   "file_extension": ".py",
   "mimetype": "text/x-python",
   "name": "python",
   "nbconvert_exporter": "python",
   "pygments_lexer": "ipython3",
   "version": "3.12.9"
  }
 },
 "nbformat": 4,
 "nbformat_minor": 2
}
